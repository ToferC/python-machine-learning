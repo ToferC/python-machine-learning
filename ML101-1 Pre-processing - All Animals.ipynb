{
 "cells": [
  {
   "cell_type": "markdown",
   "metadata": {},
   "source": [
    "Random Forest using Kaggle Animal Shelter Dataset\n",
    "https://www.kaggle.com/c/shelter-animal-outcomes"
   ]
  },
  {
   "cell_type": "markdown",
   "metadata": {},
   "source": [
    "# Pre-processing the animal shelter dataset"
   ]
  },
  {
   "cell_type": "code",
   "execution_count": 1,
   "metadata": {
    "collapsed": false
   },
   "outputs": [],
   "source": [
    "import pandas as pd\n",
    "import os\n",
    "import numpy as np\n",
    "import matplotlib.pyplot as plt\n",
    "import seaborn as sns\n",
    "import csv as csv\n",
    "from sklearn.ensemble import RandomForestClassifier\n",
    "from sklearn.cross_validation import train_test_split\n",
    "from sklearn import metrics\n",
    "from sklearn.metrics import accuracy_score\n",
    "from sklearn.metrics import classification_report, log_loss, average_precision_score\n",
    "\n",
    "from textblob import TextBlob\n",
    "from gensim import corpora, models, similarities\n",
    "\n",
    "import logging\n",
    "\n",
    "%matplotlib inline"
   ]
  },
  {
   "cell_type": "code",
   "execution_count": 2,
   "metadata": {
    "collapsed": true
   },
   "outputs": [],
   "source": [
    "# Display progress logs on stdout\n",
    "logging.basicConfig(level=logging.INFO,\n",
    "                    format='%(asctime)s %(levelname)s %(message)s')"
   ]
  },
  {
   "cell_type": "code",
   "execution_count": 3,
   "metadata": {
    "collapsed": false
   },
   "outputs": [],
   "source": [
    "# Set up my data directories from different machines\n",
    "\n",
    "mac_data_dir = '/Users/christopherallison/Documents/Coding/Data'\n",
    "linux_data_dir = '/home/chris/data'\n",
    "win_data_dir = u'C:\\\\Users\\\\Owner\\\\Documents\\\\Data'"
   ]
  },
  {
   "cell_type": "code",
   "execution_count": 4,
   "metadata": {
    "collapsed": false
   },
   "outputs": [],
   "source": [
    "# Set data directory for example\n",
    "\n",
    "data_dir = mac_data_dir"
   ]
  },
  {
   "cell_type": "code",
   "execution_count": 5,
   "metadata": {
    "collapsed": true
   },
   "outputs": [],
   "source": [
    "# Then we'll create a dictionary through which we can transform and revert the values to strings.\n",
    "# We can also use the LabelEncoder() function - but this seems easier.\n",
    "\n",
    "def transform_string_label_to_integer(dictionary, dataframe_column):\n",
    "    # takes dictionary and dataframe column and returns translation dict\n",
    "    for i, label in enumerate(dataframe_column.unique()):\n",
    "        dictionary[label] = i"
   ]
  },
  {
   "cell_type": "code",
   "execution_count": 6,
   "metadata": {
    "collapsed": false
   },
   "outputs": [],
   "source": [
    "# Load TRAINING DATA\n",
    "\n",
    "train_df = pd.read_csv(os.path.join(data_dir, 'shelter_train.csv'), header=0)        # Load the train file into a dataframe"
   ]
  },
  {
   "cell_type": "code",
   "execution_count": 7,
   "metadata": {
    "collapsed": false
   },
   "outputs": [
    {
     "data": {
      "text/plain": [
       "Index(['AnimalID', 'Name', 'DateTime', 'OutcomeType', 'OutcomeSubtype',\n",
       "       'AnimalType', 'SexuponOutcome', 'AgeuponOutcome', 'Breed', 'Color'],\n",
       "      dtype='object')"
      ]
     },
     "execution_count": 7,
     "metadata": {},
     "output_type": "execute_result"
    }
   ],
   "source": [
    "# Data exploration - what headers do we have?\n",
    "\n",
    "train_df.columns"
   ]
  },
  {
   "cell_type": "code",
   "execution_count": null,
   "metadata": {
    "collapsed": false
   },
   "outputs": [],
   "source": []
  },
  {
   "cell_type": "code",
   "execution_count": 8,
   "metadata": {
    "collapsed": false
   },
   "outputs": [
    {
     "data": {
      "text/html": [
       "<div>\n",
       "<table border=\"1\" class=\"dataframe\">\n",
       "  <thead>\n",
       "    <tr style=\"text-align: right;\">\n",
       "      <th></th>\n",
       "      <th>AnimalID</th>\n",
       "      <th>Name</th>\n",
       "      <th>DateTime</th>\n",
       "      <th>OutcomeType</th>\n",
       "      <th>OutcomeSubtype</th>\n",
       "      <th>AnimalType</th>\n",
       "      <th>SexuponOutcome</th>\n",
       "      <th>AgeuponOutcome</th>\n",
       "      <th>Breed</th>\n",
       "      <th>Color</th>\n",
       "    </tr>\n",
       "  </thead>\n",
       "  <tbody>\n",
       "    <tr>\n",
       "      <th>0</th>\n",
       "      <td>A671945</td>\n",
       "      <td>Hambone</td>\n",
       "      <td>2014-02-12 18:22:00</td>\n",
       "      <td>Return_to_owner</td>\n",
       "      <td>NaN</td>\n",
       "      <td>Dog</td>\n",
       "      <td>Neutered Male</td>\n",
       "      <td>1 year</td>\n",
       "      <td>Shetland Sheepdog Mix</td>\n",
       "      <td>Brown/White</td>\n",
       "    </tr>\n",
       "    <tr>\n",
       "      <th>1</th>\n",
       "      <td>A656520</td>\n",
       "      <td>Emily</td>\n",
       "      <td>2013-10-13 12:44:00</td>\n",
       "      <td>Euthanasia</td>\n",
       "      <td>Suffering</td>\n",
       "      <td>Cat</td>\n",
       "      <td>Spayed Female</td>\n",
       "      <td>1 year</td>\n",
       "      <td>Domestic Shorthair Mix</td>\n",
       "      <td>Cream Tabby</td>\n",
       "    </tr>\n",
       "    <tr>\n",
       "      <th>2</th>\n",
       "      <td>A686464</td>\n",
       "      <td>Pearce</td>\n",
       "      <td>2015-01-31 12:28:00</td>\n",
       "      <td>Adoption</td>\n",
       "      <td>Foster</td>\n",
       "      <td>Dog</td>\n",
       "      <td>Neutered Male</td>\n",
       "      <td>2 years</td>\n",
       "      <td>Pit Bull Mix</td>\n",
       "      <td>Blue/White</td>\n",
       "    </tr>\n",
       "    <tr>\n",
       "      <th>3</th>\n",
       "      <td>A683430</td>\n",
       "      <td>NaN</td>\n",
       "      <td>2014-07-11 19:09:00</td>\n",
       "      <td>Transfer</td>\n",
       "      <td>Partner</td>\n",
       "      <td>Cat</td>\n",
       "      <td>Intact Male</td>\n",
       "      <td>3 weeks</td>\n",
       "      <td>Domestic Shorthair Mix</td>\n",
       "      <td>Blue Cream</td>\n",
       "    </tr>\n",
       "    <tr>\n",
       "      <th>4</th>\n",
       "      <td>A667013</td>\n",
       "      <td>NaN</td>\n",
       "      <td>2013-11-15 12:52:00</td>\n",
       "      <td>Transfer</td>\n",
       "      <td>Partner</td>\n",
       "      <td>Dog</td>\n",
       "      <td>Neutered Male</td>\n",
       "      <td>2 years</td>\n",
       "      <td>Lhasa Apso/Miniature Poodle</td>\n",
       "      <td>Tan</td>\n",
       "    </tr>\n",
       "  </tbody>\n",
       "</table>\n",
       "</div>"
      ],
      "text/plain": [
       "  AnimalID     Name             DateTime      OutcomeType OutcomeSubtype  \\\n",
       "0  A671945  Hambone  2014-02-12 18:22:00  Return_to_owner            NaN   \n",
       "1  A656520    Emily  2013-10-13 12:44:00       Euthanasia      Suffering   \n",
       "2  A686464   Pearce  2015-01-31 12:28:00         Adoption         Foster   \n",
       "3  A683430      NaN  2014-07-11 19:09:00         Transfer        Partner   \n",
       "4  A667013      NaN  2013-11-15 12:52:00         Transfer        Partner   \n",
       "\n",
       "  AnimalType SexuponOutcome AgeuponOutcome                        Breed  \\\n",
       "0        Dog  Neutered Male         1 year        Shetland Sheepdog Mix   \n",
       "1        Cat  Spayed Female         1 year       Domestic Shorthair Mix   \n",
       "2        Dog  Neutered Male        2 years                 Pit Bull Mix   \n",
       "3        Cat    Intact Male        3 weeks       Domestic Shorthair Mix   \n",
       "4        Dog  Neutered Male        2 years  Lhasa Apso/Miniature Poodle   \n",
       "\n",
       "         Color  \n",
       "0  Brown/White  \n",
       "1  Cream Tabby  \n",
       "2   Blue/White  \n",
       "3   Blue Cream  \n",
       "4          Tan  "
      ]
     },
     "execution_count": 8,
     "metadata": {},
     "output_type": "execute_result"
    }
   ],
   "source": [
    "# Let's look at our data\n",
    "\n",
    "train_df.head()"
   ]
  },
  {
   "cell_type": "code",
   "execution_count": 9,
   "metadata": {
    "collapsed": false
   },
   "outputs": [
    {
     "data": {
      "text/html": [
       "<div>\n",
       "<table border=\"1\" class=\"dataframe\">\n",
       "  <thead>\n",
       "    <tr style=\"text-align: right;\">\n",
       "      <th></th>\n",
       "      <th>AnimalID</th>\n",
       "      <th>Name</th>\n",
       "      <th>DateTime</th>\n",
       "      <th>OutcomeType</th>\n",
       "      <th>OutcomeSubtype</th>\n",
       "      <th>AnimalType</th>\n",
       "      <th>SexuponOutcome</th>\n",
       "      <th>AgeuponOutcome</th>\n",
       "      <th>Breed</th>\n",
       "      <th>Color</th>\n",
       "    </tr>\n",
       "  </thead>\n",
       "  <tbody>\n",
       "    <tr>\n",
       "      <th>count</th>\n",
       "      <td>26729</td>\n",
       "      <td>19038</td>\n",
       "      <td>26729</td>\n",
       "      <td>26729</td>\n",
       "      <td>13117</td>\n",
       "      <td>26729</td>\n",
       "      <td>26728</td>\n",
       "      <td>26711</td>\n",
       "      <td>26729</td>\n",
       "      <td>26729</td>\n",
       "    </tr>\n",
       "    <tr>\n",
       "      <th>unique</th>\n",
       "      <td>26729</td>\n",
       "      <td>6374</td>\n",
       "      <td>22918</td>\n",
       "      <td>5</td>\n",
       "      <td>16</td>\n",
       "      <td>2</td>\n",
       "      <td>5</td>\n",
       "      <td>44</td>\n",
       "      <td>1380</td>\n",
       "      <td>366</td>\n",
       "    </tr>\n",
       "    <tr>\n",
       "      <th>top</th>\n",
       "      <td>A690194</td>\n",
       "      <td>Max</td>\n",
       "      <td>2015-08-11 00:00:00</td>\n",
       "      <td>Adoption</td>\n",
       "      <td>Partner</td>\n",
       "      <td>Dog</td>\n",
       "      <td>Neutered Male</td>\n",
       "      <td>1 year</td>\n",
       "      <td>Domestic Shorthair Mix</td>\n",
       "      <td>Black/White</td>\n",
       "    </tr>\n",
       "    <tr>\n",
       "      <th>freq</th>\n",
       "      <td>1</td>\n",
       "      <td>136</td>\n",
       "      <td>19</td>\n",
       "      <td>10769</td>\n",
       "      <td>7816</td>\n",
       "      <td>15595</td>\n",
       "      <td>9779</td>\n",
       "      <td>3969</td>\n",
       "      <td>8810</td>\n",
       "      <td>2824</td>\n",
       "    </tr>\n",
       "  </tbody>\n",
       "</table>\n",
       "</div>"
      ],
      "text/plain": [
       "       AnimalID   Name             DateTime OutcomeType OutcomeSubtype  \\\n",
       "count     26729  19038                26729       26729          13117   \n",
       "unique    26729   6374                22918           5             16   \n",
       "top     A690194    Max  2015-08-11 00:00:00    Adoption        Partner   \n",
       "freq          1    136                   19       10769           7816   \n",
       "\n",
       "       AnimalType SexuponOutcome AgeuponOutcome                   Breed  \\\n",
       "count       26729          26728          26711                   26729   \n",
       "unique          2              5             44                    1380   \n",
       "top           Dog  Neutered Male         1 year  Domestic Shorthair Mix   \n",
       "freq        15595           9779           3969                    8810   \n",
       "\n",
       "              Color  \n",
       "count         26729  \n",
       "unique          366  \n",
       "top     Black/White  \n",
       "freq           2824  "
      ]
     },
     "execution_count": 9,
     "metadata": {},
     "output_type": "execute_result"
    }
   ],
   "source": [
    "# And get a better overall feel for it.\n",
    "\n",
    "train_df.describe()"
   ]
  },
  {
   "cell_type": "markdown",
   "metadata": {},
   "source": [
    "Of interest - our original dataset was 27,600 animals - only 3950 are dogs"
   ]
  },
  {
   "cell_type": "markdown",
   "metadata": {
    "collapsed": false
   },
   "source": [
    "Let's transform the cats and dogs AnimalType into an integer."
   ]
  },
  {
   "cell_type": "code",
   "execution_count": 10,
   "metadata": {
    "collapsed": true
   },
   "outputs": [],
   "source": [
    "animaltype = {\"Cat\": 0, \"Dog\": 1}"
   ]
  },
  {
   "cell_type": "code",
   "execution_count": 11,
   "metadata": {
    "collapsed": false
   },
   "outputs": [],
   "source": [
    "train_df.AnimalType = train_df.AnimalType.map(animaltype)"
   ]
  },
  {
   "cell_type": "markdown",
   "metadata": {},
   "source": [
    "So, now let's plot our outcomes against the animal type."
   ]
  },
  {
   "cell_type": "code",
   "execution_count": 12,
   "metadata": {
    "collapsed": false
   },
   "outputs": [
    {
     "data": {
      "text/plain": [
       "<matplotlib.axes._subplots.AxesSubplot at 0x112a487f0>"
      ]
     },
     "execution_count": 12,
     "metadata": {},
     "output_type": "execute_result"
    },
    {
     "data": {
      "image/png": "[encoded data removed]",
      "text/plain": [
       "<matplotlib.figure.Figure at 0x112a48710>"
      ]
     },
     "metadata": {},
     "output_type": "display_data"
    }
   ],
   "source": [
    "pd.crosstab(train_df.AnimalType, train_df.OutcomeType).plot.bar()"
   ]
  },
  {
   "cell_type": "code",
   "execution_count": 13,
   "metadata": {
    "collapsed": false
   },
   "outputs": [
    {
     "data": {
      "text/plain": [
       "array(['Return_to_owner', 'Euthanasia', 'Adoption', 'Transfer', 'Died'], dtype=object)"
      ]
     },
     "execution_count": 13,
     "metadata": {},
     "output_type": "execute_result"
    }
   ],
   "source": [
    "# So let's see what outcomes we're mapping against.\n",
    "\n",
    "outcomes = train_df.OutcomeType.unique()\n",
    "outcomes"
   ]
  },
  {
   "cell_type": "markdown",
   "metadata": {},
   "source": []
  },
  {
   "cell_type": "code",
   "execution_count": 14,
   "metadata": {
    "collapsed": false
   },
   "outputs": [
    {
     "data": {
      "text/plain": [
       "<matplotlib.axes._subplots.AxesSubplot at 0x113edbf28>"
      ]
     },
     "execution_count": 14,
     "metadata": {},
     "output_type": "execute_result"
    },
    {
     "data": {
      "image/png": "[encoded data removed]",
      "text/plain": [
       "<matplotlib.figure.Figure at 0x112b29198>"
      ]
     },
     "metadata": {},
     "output_type": "display_data"
    }
   ],
   "source": [
    "# Let's explore the data a bit more.  How do these outcomes map to our data?\n",
    "\n",
    "counts = train_df.groupby('OutcomeType').count()\n",
    "counts.plot.line(title=\"Outcome Counts\")"
   ]
  },
  {
   "cell_type": "markdown",
   "metadata": {
    "collapsed": true
   },
   "source": [
    "Next we'll look at the outcome subtype. This isn't an element of our test data, so we shouldn't build it directly into our classifier, but we can use it to help us understand our data.\n",
    "\n",
    "As an aside, this seems like very useful data to have on intake (and it bumps our accuracy up to 80+% when we use it)."
   ]
  },
  {
   "cell_type": "code",
   "execution_count": 15,
   "metadata": {
    "collapsed": false
   },
   "outputs": [
    {
     "data": {
      "text/plain": [
       "<matplotlib.axes._subplots.AxesSubplot at 0x112b5cef0>"
      ]
     },
     "execution_count": 15,
     "metadata": {},
     "output_type": "execute_result"
    },
    {
     "data": {
      "image/png": "[encoded data removed]",
      "text/plain": [
       "<matplotlib.figure.Figure at 0x112b29be0>"
      ]
     },
     "metadata": {},
     "output_type": "display_data"
    }
   ],
   "source": [
    "dates_cross = pd.crosstab(train_df.OutcomeSubtype, train_df.OutcomeType)\n",
    "dates_cross.plot.bar()"
   ]
  },
  {
   "cell_type": "markdown",
   "metadata": {
    "collapsed": false
   },
   "source": [
    "Interesting. The outcome types are fairly siloed depending on the subtype.  Some questions:\n",
    "* Where do transferred animals go?  Is shuffling them around an issue?  What are the outcomes after the transfer?\n",
    "* At what point do the behavior, agression and suffering subtype outcomes come into play?"
   ]
  },
  {
   "cell_type": "markdown",
   "metadata": {},
   "source": [
    "We need to transform the string categories into integers to work with the machine learning models.\n",
    "\n",
    "Let's start by doing this for the animal sex feature."
   ]
  },
  {
   "cell_type": "code",
   "execution_count": 16,
   "metadata": {
    "collapsed": false
   },
   "outputs": [
    {
     "data": {
      "text/plain": [
       "array(['Neutered Male', 'Spayed Female', 'Intact Male', 'Intact Female',\n",
       "       'Unknown', nan], dtype=object)"
      ]
     },
     "execution_count": 16,
     "metadata": {},
     "output_type": "execute_result"
    }
   ],
   "source": [
    "# First, let's check out the different values\n",
    "\n",
    "train_df.SexuponOutcome.unique()"
   ]
  },
  {
   "cell_type": "markdown",
   "metadata": {},
   "source": [
    "There are actually two variables in SexuponOutcome - whether or not the animal is neutered/spayed or not and then male and female.\n",
    "\n",
    "Let's break this down."
   ]
  },
  {
   "cell_type": "code",
   "execution_count": 17,
   "metadata": {
    "collapsed": false
   },
   "outputs": [],
   "source": [
    "intact_list = []\n",
    "gender_list = []\n",
    "\n",
    "def sort_sexuponoutcome(sex_string):\n",
    "    try:\n",
    "        intact, gender = sex_string.split()\n",
    "    except (AttributeError, ValueError) as e:\n",
    "        intact, gender = \"Neutered Male\".split()\n",
    "    \n",
    "    if intact == \"Intact\":\n",
    "        intact_list.append(1)\n",
    "    else:\n",
    "        intact_list.append(0)\n",
    "        \n",
    "    if gender == \"Male\":\n",
    "        gender_list.append(1)\n",
    "    else:\n",
    "        gender_list.append(0)\n"
   ]
  },
  {
   "cell_type": "code",
   "execution_count": 18,
   "metadata": {
    "collapsed": false
   },
   "outputs": [
    {
     "data": {
      "text/plain": [
       "26729"
      ]
     },
     "execution_count": 18,
     "metadata": {},
     "output_type": "execute_result"
    }
   ],
   "source": [
    "train_df.SexuponOutcome.apply(sort_sexuponoutcome)\n",
    "len(intact_list)"
   ]
  },
  {
   "cell_type": "code",
   "execution_count": 19,
   "metadata": {
    "collapsed": false
   },
   "outputs": [
    {
     "name": "stdout",
     "output_type": "stream",
     "text": [
      "0    Neutered Male\n",
      "1    Spayed Female\n",
      "2    Neutered Male\n",
      "3      Intact Male\n",
      "4    Neutered Male\n",
      "Name: SexuponOutcome, dtype: object [0, 0, 0, 1, 0] [1, 0, 1, 1, 1]\n"
     ]
    }
   ],
   "source": [
    "print(train_df.SexuponOutcome[:5], intact_list[:5], gender_list[:5])"
   ]
  },
  {
   "cell_type": "code",
   "execution_count": 20,
   "metadata": {
    "collapsed": true
   },
   "outputs": [],
   "source": [
    "train_df['Intact'] = intact_list\n",
    "train_df['Gender'] = gender_list"
   ]
  },
  {
   "cell_type": "code",
   "execution_count": 21,
   "metadata": {
    "collapsed": false
   },
   "outputs": [
    {
     "data": {
      "text/html": [
       "<div>\n",
       "<table border=\"1\" class=\"dataframe\">\n",
       "  <thead>\n",
       "    <tr style=\"text-align: right;\">\n",
       "      <th></th>\n",
       "      <th>AnimalID</th>\n",
       "      <th>Name</th>\n",
       "      <th>DateTime</th>\n",
       "      <th>OutcomeType</th>\n",
       "      <th>OutcomeSubtype</th>\n",
       "      <th>AnimalType</th>\n",
       "      <th>SexuponOutcome</th>\n",
       "      <th>AgeuponOutcome</th>\n",
       "      <th>Breed</th>\n",
       "      <th>Color</th>\n",
       "      <th>Intact</th>\n",
       "      <th>Gender</th>\n",
       "    </tr>\n",
       "  </thead>\n",
       "  <tbody>\n",
       "    <tr>\n",
       "      <th>0</th>\n",
       "      <td>A671945</td>\n",
       "      <td>Hambone</td>\n",
       "      <td>2014-02-12 18:22:00</td>\n",
       "      <td>Return_to_owner</td>\n",
       "      <td>NaN</td>\n",
       "      <td>1</td>\n",
       "      <td>Neutered Male</td>\n",
       "      <td>1 year</td>\n",
       "      <td>Shetland Sheepdog Mix</td>\n",
       "      <td>Brown/White</td>\n",
       "      <td>0</td>\n",
       "      <td>1</td>\n",
       "    </tr>\n",
       "    <tr>\n",
       "      <th>1</th>\n",
       "      <td>A656520</td>\n",
       "      <td>Emily</td>\n",
       "      <td>2013-10-13 12:44:00</td>\n",
       "      <td>Euthanasia</td>\n",
       "      <td>Suffering</td>\n",
       "      <td>0</td>\n",
       "      <td>Spayed Female</td>\n",
       "      <td>1 year</td>\n",
       "      <td>Domestic Shorthair Mix</td>\n",
       "      <td>Cream Tabby</td>\n",
       "      <td>0</td>\n",
       "      <td>0</td>\n",
       "    </tr>\n",
       "    <tr>\n",
       "      <th>2</th>\n",
       "      <td>A686464</td>\n",
       "      <td>Pearce</td>\n",
       "      <td>2015-01-31 12:28:00</td>\n",
       "      <td>Adoption</td>\n",
       "      <td>Foster</td>\n",
       "      <td>1</td>\n",
       "      <td>Neutered Male</td>\n",
       "      <td>2 years</td>\n",
       "      <td>Pit Bull Mix</td>\n",
       "      <td>Blue/White</td>\n",
       "      <td>0</td>\n",
       "      <td>1</td>\n",
       "    </tr>\n",
       "    <tr>\n",
       "      <th>3</th>\n",
       "      <td>A683430</td>\n",
       "      <td>NaN</td>\n",
       "      <td>2014-07-11 19:09:00</td>\n",
       "      <td>Transfer</td>\n",
       "      <td>Partner</td>\n",
       "      <td>0</td>\n",
       "      <td>Intact Male</td>\n",
       "      <td>3 weeks</td>\n",
       "      <td>Domestic Shorthair Mix</td>\n",
       "      <td>Blue Cream</td>\n",
       "      <td>1</td>\n",
       "      <td>1</td>\n",
       "    </tr>\n",
       "    <tr>\n",
       "      <th>4</th>\n",
       "      <td>A667013</td>\n",
       "      <td>NaN</td>\n",
       "      <td>2013-11-15 12:52:00</td>\n",
       "      <td>Transfer</td>\n",
       "      <td>Partner</td>\n",
       "      <td>1</td>\n",
       "      <td>Neutered Male</td>\n",
       "      <td>2 years</td>\n",
       "      <td>Lhasa Apso/Miniature Poodle</td>\n",
       "      <td>Tan</td>\n",
       "      <td>0</td>\n",
       "      <td>1</td>\n",
       "    </tr>\n",
       "  </tbody>\n",
       "</table>\n",
       "</div>"
      ],
      "text/plain": [
       "  AnimalID     Name             DateTime      OutcomeType OutcomeSubtype  \\\n",
       "0  A671945  Hambone  2014-02-12 18:22:00  Return_to_owner            NaN   \n",
       "1  A656520    Emily  2013-10-13 12:44:00       Euthanasia      Suffering   \n",
       "2  A686464   Pearce  2015-01-31 12:28:00         Adoption         Foster   \n",
       "3  A683430      NaN  2014-07-11 19:09:00         Transfer        Partner   \n",
       "4  A667013      NaN  2013-11-15 12:52:00         Transfer        Partner   \n",
       "\n",
       "   AnimalType SexuponOutcome AgeuponOutcome                        Breed  \\\n",
       "0           1  Neutered Male         1 year        Shetland Sheepdog Mix   \n",
       "1           0  Spayed Female         1 year       Domestic Shorthair Mix   \n",
       "2           1  Neutered Male        2 years                 Pit Bull Mix   \n",
       "3           0    Intact Male        3 weeks       Domestic Shorthair Mix   \n",
       "4           1  Neutered Male        2 years  Lhasa Apso/Miniature Poodle   \n",
       "\n",
       "         Color  Intact  Gender  \n",
       "0  Brown/White       0       1  \n",
       "1  Cream Tabby       0       0  \n",
       "2   Blue/White       0       1  \n",
       "3   Blue Cream       1       1  \n",
       "4          Tan       0       1  "
      ]
     },
     "execution_count": 21,
     "metadata": {},
     "output_type": "execute_result"
    }
   ],
   "source": [
    "train_df.head()"
   ]
  },
  {
   "cell_type": "markdown",
   "metadata": {
    "collapsed": false
   },
   "source": [
    "This seems like a good breakdown."
   ]
  },
  {
   "cell_type": "code",
   "execution_count": 22,
   "metadata": {
    "collapsed": false
   },
   "outputs": [
    {
     "data": {
      "text/plain": [
       "array(['1 year', '2 years', '3 weeks', '1 month', '5 months', '4 years',\n",
       "       '3 months', '2 weeks', '2 months', '10 months', '6 months',\n",
       "       '5 years', '7 years', '3 years', '4 months', '12 years', '9 years',\n",
       "       '6 years', '1 weeks', '11 years', '4 weeks', '7 months', '8 years',\n",
       "       '11 months', '4 days', '9 months', '8 months', '15 years',\n",
       "       '10 years', '1 week', '0 years', '14 years', '3 days', '6 days',\n",
       "       '5 days', '5 weeks', '2 days', '16 years', '1 day', '13 years', nan,\n",
       "       '17 years', '18 years', '19 years', '20 years'], dtype=object)"
      ]
     },
     "execution_count": 22,
     "metadata": {},
     "output_type": "execute_result"
    }
   ],
   "source": [
    "train_df.AgeuponOutcome.unique()"
   ]
  },
  {
   "cell_type": "markdown",
   "metadata": {},
   "source": [
    "And now we come to age.  This seems to be a text field, but pretty standard, so we'll just set up a quick function to group it into standard age groups (pulled from doggie websites). Possible issue: dogs of different sizes age differently. (Should we convert breed to size and modify the age feature?)"
   ]
  },
  {
   "cell_type": "code",
   "execution_count": 23,
   "metadata": {
    "collapsed": false
   },
   "outputs": [],
   "source": [
    "period_dict = {'year': 365, 'month': 30, 'week': 7, 'day': 1, 'day': 1}\n",
    "\n",
    "age_group = {0: \"infant\", 1: \"adolescent\", 2: \"adult\", 3: \"senior\"}\n",
    "\n",
    "def convert_age_to_group(age):\n",
    "    # Convert input age into age groupings\n",
    "    try:\n",
    "        number, period = str(age).split()\n",
    "        period = period.rstrip(\"s\")\n",
    "        days = int(number) * period_dict[period]\n",
    "        \n",
    "        if days < 365:\n",
    "            return 0\n",
    "        elif days < 730:\n",
    "            return 1\n",
    "        elif days < 2190:\n",
    "            return 2\n",
    "        else:\n",
    "            return 3\n",
    "        \n",
    "    except ValueError:\n",
    "        return 3\n",
    "    "
   ]
  },
  {
   "cell_type": "code",
   "execution_count": 24,
   "metadata": {
    "collapsed": false
   },
   "outputs": [
    {
     "data": {
      "text/plain": [
       "'infant'"
      ]
     },
     "execution_count": 24,
     "metadata": {},
     "output_type": "execute_result"
    }
   ],
   "source": [
    "# Test our script\n",
    "\n",
    "age_group[convert_age_to_group('8 weeks')]"
   ]
  },
  {
   "cell_type": "markdown",
   "metadata": {
    "collapsed": false
   },
   "source": [
    "And we transform the AgeuponOutcome column to our groups."
   ]
  },
  {
   "cell_type": "code",
   "execution_count": 25,
   "metadata": {
    "collapsed": false
   },
   "outputs": [],
   "source": [
    "train_df['AgeuponOutcome'] = train_df.AgeuponOutcome.apply(convert_age_to_group)"
   ]
  },
  {
   "cell_type": "code",
   "execution_count": 26,
   "metadata": {
    "collapsed": false
   },
   "outputs": [
    {
     "data": {
      "text/plain": [
       "array([1, 2, 0, 3])"
      ]
     },
     "execution_count": 26,
     "metadata": {},
     "output_type": "execute_result"
    }
   ],
   "source": [
    "train_df.AgeuponOutcome.unique()"
   ]
  },
  {
   "cell_type": "markdown",
   "metadata": {
    "collapsed": false
   },
   "source": [
    "Now that we've grouped our data, let's look at how age effects outcome."
   ]
  },
  {
   "cell_type": "code",
   "execution_count": 27,
   "metadata": {
    "collapsed": false
   },
   "outputs": [],
   "source": [
    "ages_n_outcomes = pd.crosstab(train_df.AgeuponOutcome, train_df.OutcomeType)"
   ]
  },
  {
   "cell_type": "code",
   "execution_count": 28,
   "metadata": {
    "collapsed": false
   },
   "outputs": [
    {
     "data": {
      "text/plain": [
       "<matplotlib.axes._subplots.AxesSubplot at 0x11367cb38>"
      ]
     },
     "execution_count": 28,
     "metadata": {},
     "output_type": "execute_result"
    },
    {
     "data": {
      "image/png": "[encoded data removed]",
      "text/plain": [
       "<matplotlib.figure.Figure at 0x1135f6e48>"
      ]
     },
     "metadata": {},
     "output_type": "display_data"
    }
   ],
   "source": [
    "ages_n_outcomes.plot.bar()"
   ]
  },
  {
   "cell_type": "markdown",
   "metadata": {},
   "source": [
    "Of interest here is the previous graph that showed that euthanized dogs were related to the OutcomeSubtypes for agression, etc."
   ]
  },
  {
   "cell_type": "markdown",
   "metadata": {},
   "source": [
    "So, we see that puppies are more likely to be adopted and adults are more likely to be euthanized, but looking at our counts again will help us interpret this data."
   ]
  },
  {
   "cell_type": "code",
   "execution_count": 29,
   "metadata": {
    "collapsed": false
   },
   "outputs": [
    {
     "data": {
      "image/png": "[encoded data removed]",
      "text/plain": [
       "<matplotlib.figure.Figure at 0x1135ebf60>"
      ]
     },
     "metadata": {},
     "output_type": "display_data"
    }
   ],
   "source": [
    "counts = train_df.groupby('AgeuponOutcome').count().plot.bar()"
   ]
  },
  {
   "cell_type": "markdown",
   "metadata": {},
   "source": [
    "We should really do the same thing with color... But we're short on time here."
   ]
  },
  {
   "cell_type": "code",
   "execution_count": 30,
   "metadata": {
    "collapsed": false
   },
   "outputs": [
    {
     "data": {
      "text/plain": [
       "array(['Brown/White', 'Cream Tabby', 'Blue/White', 'Blue Cream', 'Tan',\n",
       "       'Black/Tan', 'Blue Tabby', 'Brown Tabby', 'Red/White', 'White',\n",
       "       'Black', 'Silver', 'Brown', 'Black/Red', 'White/Cream',\n",
       "       'Orange Tabby/White', 'Black/White', 'Brown Brindle/White',\n",
       "       'Black/Brown', 'Orange Tabby', 'Chocolate/White', 'White/Tan',\n",
       "       'Cream Tabby/White', 'Blue', 'Calico', 'Torbie', 'Brown/Black',\n",
       "       'Yellow', 'Tricolor', 'White/Black', 'Tortie', 'Blue Tabby/White',\n",
       "       'Gray/White', 'Tan/Black', 'Tan/White', 'Buff', 'Brown Tabby/White',\n",
       "       'Red', 'Blue/Tan', 'Seal Point', 'Brown Brindle', 'White/Brown',\n",
       "       'Gray', 'Yellow Brindle/White', 'Fawn/White', 'Flame Point',\n",
       "       'Black Tabby/White', 'Tortie/Calico', 'Black/Brown Brindle',\n",
       "       'White/Gray', 'Tan/Silver', 'Red Tick/Black', 'White/Cream Tabby',\n",
       "       'Blue Merle', 'Chocolate/Tan', 'Sable', 'Brown Merle/White',\n",
       "       'Brown Tiger/White', 'Liver/White', 'White/Blue Tabby',\n",
       "       'Black/Gray', 'Cream', 'Chocolate', 'Blue Point', 'Apricot/White',\n",
       "       'Red Merle/Black', 'White/Brown Tabby', 'Blue Merle/White', 'Fawn',\n",
       "       'Lynx Point/White', 'Fawn/Black', 'Red Tick/White', 'Buff/Tan',\n",
       "       'Brown Brindle/Red Tick', 'White/Blue', 'Lilac Point', 'Buff/White',\n",
       "       'White/Orange Tabby', 'Tortie Point', 'Lynx Point', 'Tortie/White',\n",
       "       'Black/Tricolor', 'Apricot', 'Red/Tan', 'Tan/Brown',\n",
       "       'White/Tricolor', 'Brown/Tricolor', 'White/White', 'Gray Tabby',\n",
       "       'Sable/White', 'Blue Tiger/White', 'Yellow Brindle',\n",
       "       'White/Brown Brindle', 'Gold', 'Brown/Tan', 'Blue Tick',\n",
       "       'Torbie/White', 'Black Smoke/White', 'Blue Tabby/Orange',\n",
       "       'Red Merle', 'Tricolor/Blue', 'Yellow/White', 'Black Smoke',\n",
       "       'Calico Point', 'Blue Cream/Blue Tiger', 'Blue Merle/Gray',\n",
       "       'Brown/Silver', 'Tricolor/White', 'Sable/Black', 'Black Brindle',\n",
       "       'Tortie Point/Lynx Point', 'Brown Brindle/Black', 'Black/Buff',\n",
       "       'Calico/White', 'White/Orange', 'Black Tabby', 'Brown Merle',\n",
       "       'Black Brindle/White', 'Tan/Gray', 'Blue Merle/Brown',\n",
       "       'Red Merle/White', 'White/Chocolate Point', 'Silver/Black',\n",
       "       'White/Red', 'Cream/Red Tick', 'Cream/White', 'White/Liver',\n",
       "       'Chocolate/Gold', 'Calico Point/White', 'Brown/Brown',\n",
       "       'Seal Point/White', 'White/Black Brindle', 'Red/Black',\n",
       "       'Sable/Brown', 'Silver/Tan', 'White/Blue Merle',\n",
       "       'Calico/Brown Tabby', 'Silver Tabby', 'Tan/Blue', 'Blue Merle/Tan',\n",
       "       'Blue Tick/Black', 'Cream/Black', 'Chocolate/Tricolor',\n",
       "       'Gold/White', 'Silver/Brown', 'Cream/Gray', 'Black/Blue Tick',\n",
       "       'White/Chocolate', 'Black/Blue Merle', 'Red/Red Tick',\n",
       "       'Tricolor/Black', 'Orange', 'Black/Orange', 'Tan/Buff',\n",
       "       'Chocolate Point/White', 'Orange/White', 'Tortie/Blue Cream',\n",
       "       'White/Black Tabby', 'Brown/Red Tick', 'Blue/Brown Brindle',\n",
       "       'Black/Silver Tabby', 'Tan/Red', 'White/Lynx Point', 'Gray/Silver',\n",
       "       'Red/Gold', 'White/Buff', 'Tan/Gold', 'Blue Tabby/Blue Cream',\n",
       "       'Cream/Tan', 'Calico/Black', 'Sable/Tan', 'Blue/Black',\n",
       "       'Brown Tabby/Black', 'Red/Cream', 'Brown Tiger', 'Agouti',\n",
       "       'Gray/Tan', 'Calico/Tricolor', 'Black/Black', 'White/Blue Cream',\n",
       "       'Brown/Gray', 'Blue Point/White', 'Gray Tabby/White',\n",
       "       'White/Brown Tiger', 'Black/Cream', 'Red Tick/Tan',\n",
       "       'Orange Tabby/Apricot', 'Red Tick/Brown', 'White/Brown Merle',\n",
       "       'Fawn/Tricolor', 'Blue Smoke', 'Chocolate/Brown Brindle',\n",
       "       'Black Brindle/Black', 'Tan/Cream', 'Black Tabby/Orange',\n",
       "       'Apricot/Brown', 'Gray/Black', 'Buff/Red', 'Tan/Brown Brindle',\n",
       "       'Brown/Red', 'Black/Silver', 'Red Tick', 'Blue Tick/White',\n",
       "       'Silver Tabby/White', 'White/Apricot', 'White/Red Merle',\n",
       "       'Fawn/Brown Brindle', 'Orange/Tan', 'Black/Black Smoke',\n",
       "       'Brown/Chocolate', 'Liver Tick', 'Cream/Red',\n",
       "       'Black Smoke/Brown Tabby', 'Gray/Cream', 'Chocolate Point',\n",
       "       'Blue Merle/Tricolor', 'Red/Blue', 'Tricolor/Brown Merle',\n",
       "       'Blue/Tortie', 'Blue Smoke/Brown', 'Red/Brown', 'White/Silver',\n",
       "       'Tricolor/Brown', 'Chocolate/Brown', 'Blue Cream/White',\n",
       "       'Chocolate/Red', 'Cream/Brown', 'Blue Merle/Cream', 'Buff/Black',\n",
       "       'Tortie/Orange', 'Brown Merle/Black', 'Seal Point/Brown',\n",
       "       'Blue Tabby/Tan', 'Red/Red Merle', 'Tortie/Brown', 'Sable/Cream',\n",
       "       'Black/Black Tabby', 'Brown Tabby/Gray', 'Tan/Tan',\n",
       "       'Blue Tick/Brown', 'Chocolate/Black Smoke', 'Brown/Black Tabby',\n",
       "       'Brown/Buff', 'Yellow Brindle/Tan', 'Blue Tick/Tan',\n",
       "       'Red Tick/Brown Merle', 'White/Yellow', 'Lynx Point/Brown Tabby',\n",
       "       'Torbie/Brown', 'Liver/Buff', 'Tricolor/Tan', 'Chocolate/Black',\n",
       "       'Pink', 'Black/Blue', 'White/Gold', 'Red Tick/Red',\n",
       "       'Black/Yellow Brindle', 'Black/Chocolate', 'Silver Lynx Point',\n",
       "       'Brown/Brown Merle', 'Orange Tabby/Black', 'Tortie/Black',\n",
       "       'Brown Tabby/Brown', 'Brown Brindle/Tan', 'Torbie/Blue Cream',\n",
       "       'Black Brindle/Brown', 'Red/Tricolor', 'Blue/Yellow Brindle',\n",
       "       'White/Black Smoke', 'Ruddy/Cream', 'Blue Merle/Black',\n",
       "       'White/Yellow Brindle', 'Blue/Cream', 'Gold/Yellow', 'Blue Tiger',\n",
       "       'Tan/Brown Merle', 'White/Red Tick', 'Buff/Yellow',\n",
       "       'Tricolor/Chocolate', 'Silver/White', 'Gold/Tan', 'Gold/Gold',\n",
       "       'Tortie Point/White', 'Blue Tick/Red Tick', 'Brown Merle/Tan',\n",
       "       'Red Tick/Blue Tick', 'Brown/Blue Smoke', 'Liver/Tan',\n",
       "       'Red Merle/Tan', 'Black/Black Brindle', 'Blue Cream/Buff',\n",
       "       'Gray/Brown', 'Blue/Orange', 'Brown Merle/Blue Merle', 'White/Pink',\n",
       "       'Calico/Brown', 'Torbie/Calico', 'White/Gray Tabby',\n",
       "       'Brown Brindle/Blue', 'Brown/Blue', 'Blue Merle/Red',\n",
       "       'Brown Brindle/Brown Merle', 'Blue/Brown', 'Calico/Orange Tabby',\n",
       "       'White/Flame Point', 'Brown/Cream', 'Brown Brindle/Brown Brindle',\n",
       "       'Blue Merle/Blue Merle', 'White/Calico', 'Fawn/Brown', 'Gold/Black',\n",
       "       'Chocolate/Brown Merle', 'White/Blue Tick', 'Agouti/Brown Tabby',\n",
       "       'Brown Tabby/Tortie', 'Black/Yellow', 'Chocolate/Red Tick',\n",
       "       'Gray/Red', 'Brown Brindle/Blue Tick', 'Tan/Apricot',\n",
       "       'Blue Tick/Brown Brindle', 'Liver Tick/White', 'Cream/Seal Point',\n",
       "       'Lynx Point/Gray Tabby', 'Red/Buff', 'Tan/Tricolor',\n",
       "       'Blue Tabby/Cream', 'Black Tiger/White', 'Silver/Chocolate',\n",
       "       'Tricolor/Silver', 'Blue Merle/Red Merle', 'Silver Tabby/Black',\n",
       "       'Tortie/Black Smoke', 'Orange/Orange Tabby', 'Fawn/Blue',\n",
       "       'Black/Brown Merle', 'Tricolor/Blue Merle', 'Blue Cream/Tortie',\n",
       "       'Orange Tabby/Orange', 'Blue Tick/Red', 'Fawn/Tan',\n",
       "       'Brown Tabby/Orange', 'Yellow Brindle/Blue',\n",
       "       'Brown Brindle/Blue Cream', 'Yellow/Black', 'Calico/Blue Cream',\n",
       "       'Tan/Yellow Brindle', 'Black Brindle/Brown Brindle',\n",
       "       'Chocolate/Cream', 'Blue Cream/Blue Tabby', 'Calico/Blue Tabby',\n",
       "       'Orange Tiger', 'Cream/Orange', 'Sable/Red', 'Buff/Gray',\n",
       "       'Gold/Buff', 'Silver/Red', 'Tricolor/Calico', 'Brown/Black Brindle',\n",
       "       'Chocolate/Gray', 'Brown Tabby/Gray Tabby', 'Yellow/Yellow',\n",
       "       'Gray Tabby/Black', 'Red/Silver', 'Buff/Brown', 'Sable/Buff'], dtype=object)"
      ]
     },
     "execution_count": 30,
     "metadata": {},
     "output_type": "execute_result"
    }
   ],
   "source": [
    "train_df.Color.unique()"
   ]
  },
  {
   "cell_type": "markdown",
   "metadata": {},
   "source": [
    "Some people really like their animals...  That is a lot of colours."
   ]
  },
  {
   "cell_type": "code",
   "execution_count": 31,
   "metadata": {
    "collapsed": false
   },
   "outputs": [
    {
     "data": {
      "text/plain": [
       "366"
      ]
     },
     "execution_count": 31,
     "metadata": {},
     "output_type": "execute_result"
    }
   ],
   "source": [
    "len(train_df.Color.unique())"
   ]
  },
  {
   "cell_type": "markdown",
   "metadata": {},
   "source": [
    "We're still exploring here, so we will radically simplify the list."
   ]
  },
  {
   "cell_type": "code",
   "execution_count": 32,
   "metadata": {
    "collapsed": false
   },
   "outputs": [],
   "source": [
    "def simplify_colors(color):\n",
    "    sc = color.lower().replace(\"/\",\" \").split(\" \")\n",
    "    return sc[0]"
   ]
  },
  {
   "cell_type": "code",
   "execution_count": 33,
   "metadata": {
    "collapsed": false
   },
   "outputs": [
    {
     "data": {
      "text/plain": [
       "'black'"
      ]
     },
     "execution_count": 33,
     "metadata": {},
     "output_type": "execute_result"
    }
   ],
   "source": [
    "simplify_colors(\"Black Brindle/Brown\")"
   ]
  },
  {
   "cell_type": "code",
   "execution_count": 34,
   "metadata": {
    "collapsed": false
   },
   "outputs": [],
   "source": [
    "train_df.Color = train_df.Color.apply(simplify_colors)"
   ]
  },
  {
   "cell_type": "code",
   "execution_count": 35,
   "metadata": {
    "collapsed": false
   },
   "outputs": [
    {
     "data": {
      "text/plain": [
       "29"
      ]
     },
     "execution_count": 35,
     "metadata": {},
     "output_type": "execute_result"
    }
   ],
   "source": [
    "len(train_df.Color.unique())"
   ]
  },
  {
   "cell_type": "code",
   "execution_count": 36,
   "metadata": {
    "collapsed": false
   },
   "outputs": [],
   "source": [
    "color = {}\n",
    "\n",
    "transform_string_label_to_integer(color, train_df.Color)\n",
    "    \n",
    "train_df['Color'] = train_df.Color.map( color ).astype(int)"
   ]
  },
  {
   "cell_type": "code",
   "execution_count": 37,
   "metadata": {
    "collapsed": false
   },
   "outputs": [],
   "source": [
    "# We could also do something very cool with text analysis for names, but we'll keep it simple and go length\n",
    "\n",
    "train_df['NameLength'] = train_df.Name.apply(lambda x: len(str(x)))"
   ]
  },
  {
   "cell_type": "markdown",
   "metadata": {},
   "source": [
    "We've done a lot of pre-processing and have a good idea what our dataset looks like.  The Breed feature will be tricky, though, so let's save what we've done."
   ]
  },
  {
   "cell_type": "code",
   "execution_count": 38,
   "metadata": {
    "collapsed": false
   },
   "outputs": [
    {
     "data": {
      "text/html": [
       "<div>\n",
       "<table border=\"1\" class=\"dataframe\">\n",
       "  <thead>\n",
       "    <tr style=\"text-align: right;\">\n",
       "      <th></th>\n",
       "      <th>AnimalID</th>\n",
       "      <th>Name</th>\n",
       "      <th>DateTime</th>\n",
       "      <th>OutcomeType</th>\n",
       "      <th>OutcomeSubtype</th>\n",
       "      <th>AnimalType</th>\n",
       "      <th>SexuponOutcome</th>\n",
       "      <th>AgeuponOutcome</th>\n",
       "      <th>Breed</th>\n",
       "      <th>Color</th>\n",
       "      <th>Intact</th>\n",
       "      <th>Gender</th>\n",
       "      <th>NameLength</th>\n",
       "    </tr>\n",
       "  </thead>\n",
       "  <tbody>\n",
       "    <tr>\n",
       "      <th>0</th>\n",
       "      <td>A671945</td>\n",
       "      <td>Hambone</td>\n",
       "      <td>2014-02-12 18:22:00</td>\n",
       "      <td>Return_to_owner</td>\n",
       "      <td>NaN</td>\n",
       "      <td>1</td>\n",
       "      <td>Neutered Male</td>\n",
       "      <td>1</td>\n",
       "      <td>Shetland Sheepdog Mix</td>\n",
       "      <td>0</td>\n",
       "      <td>0</td>\n",
       "      <td>1</td>\n",
       "      <td>7</td>\n",
       "    </tr>\n",
       "    <tr>\n",
       "      <th>1</th>\n",
       "      <td>A656520</td>\n",
       "      <td>Emily</td>\n",
       "      <td>2013-10-13 12:44:00</td>\n",
       "      <td>Euthanasia</td>\n",
       "      <td>Suffering</td>\n",
       "      <td>0</td>\n",
       "      <td>Spayed Female</td>\n",
       "      <td>1</td>\n",
       "      <td>Domestic Shorthair Mix</td>\n",
       "      <td>1</td>\n",
       "      <td>0</td>\n",
       "      <td>0</td>\n",
       "      <td>5</td>\n",
       "    </tr>\n",
       "    <tr>\n",
       "      <th>2</th>\n",
       "      <td>A686464</td>\n",
       "      <td>Pearce</td>\n",
       "      <td>2015-01-31 12:28:00</td>\n",
       "      <td>Adoption</td>\n",
       "      <td>Foster</td>\n",
       "      <td>1</td>\n",
       "      <td>Neutered Male</td>\n",
       "      <td>2</td>\n",
       "      <td>Pit Bull Mix</td>\n",
       "      <td>2</td>\n",
       "      <td>0</td>\n",
       "      <td>1</td>\n",
       "      <td>6</td>\n",
       "    </tr>\n",
       "    <tr>\n",
       "      <th>3</th>\n",
       "      <td>A683430</td>\n",
       "      <td>NaN</td>\n",
       "      <td>2014-07-11 19:09:00</td>\n",
       "      <td>Transfer</td>\n",
       "      <td>Partner</td>\n",
       "      <td>0</td>\n",
       "      <td>Intact Male</td>\n",
       "      <td>0</td>\n",
       "      <td>Domestic Shorthair Mix</td>\n",
       "      <td>2</td>\n",
       "      <td>1</td>\n",
       "      <td>1</td>\n",
       "      <td>3</td>\n",
       "    </tr>\n",
       "    <tr>\n",
       "      <th>4</th>\n",
       "      <td>A667013</td>\n",
       "      <td>NaN</td>\n",
       "      <td>2013-11-15 12:52:00</td>\n",
       "      <td>Transfer</td>\n",
       "      <td>Partner</td>\n",
       "      <td>1</td>\n",
       "      <td>Neutered Male</td>\n",
       "      <td>2</td>\n",
       "      <td>Lhasa Apso/Miniature Poodle</td>\n",
       "      <td>3</td>\n",
       "      <td>0</td>\n",
       "      <td>1</td>\n",
       "      <td>3</td>\n",
       "    </tr>\n",
       "  </tbody>\n",
       "</table>\n",
       "</div>"
      ],
      "text/plain": [
       "  AnimalID     Name             DateTime      OutcomeType OutcomeSubtype  \\\n",
       "0  A671945  Hambone  2014-02-12 18:22:00  Return_to_owner            NaN   \n",
       "1  A656520    Emily  2013-10-13 12:44:00       Euthanasia      Suffering   \n",
       "2  A686464   Pearce  2015-01-31 12:28:00         Adoption         Foster   \n",
       "3  A683430      NaN  2014-07-11 19:09:00         Transfer        Partner   \n",
       "4  A667013      NaN  2013-11-15 12:52:00         Transfer        Partner   \n",
       "\n",
       "   AnimalType SexuponOutcome  AgeuponOutcome                        Breed  \\\n",
       "0           1  Neutered Male               1        Shetland Sheepdog Mix   \n",
       "1           0  Spayed Female               1       Domestic Shorthair Mix   \n",
       "2           1  Neutered Male               2                 Pit Bull Mix   \n",
       "3           0    Intact Male               0       Domestic Shorthair Mix   \n",
       "4           1  Neutered Male               2  Lhasa Apso/Miniature Poodle   \n",
       "\n",
       "   Color  Intact  Gender  NameLength  \n",
       "0      0       0       1           7  \n",
       "1      1       0       0           5  \n",
       "2      2       0       1           6  \n",
       "3      2       1       1           3  \n",
       "4      3       0       1           3  "
      ]
     },
     "execution_count": 38,
     "metadata": {},
     "output_type": "execute_result"
    }
   ],
   "source": [
    "train_df.interpolate(inplace=True) # could have used dropna().median()\n",
    "train_df.head()"
   ]
  },
  {
   "cell_type": "code",
   "execution_count": 39,
   "metadata": {
    "collapsed": false
   },
   "outputs": [],
   "source": [
    "# Save our clean dataframe to csv so we don't need to do this again.\n",
    "train_df.to_csv(os.path.join(data_dir, \"animals_clean_train.csv\"))"
   ]
  },
  {
   "cell_type": "markdown",
   "metadata": {},
   "source": [
    "### Gensim LSI for Breed types"
   ]
  },
  {
   "cell_type": "code",
   "execution_count": 40,
   "metadata": {
    "collapsed": false
   },
   "outputs": [],
   "source": [
    "# Let's reload our dataframe.\n",
    "\n",
    "train_df = pd.read_csv(os.path.join(data_dir, \"animals_clean_train.csv\"), index_col=0)"
   ]
  },
  {
   "cell_type": "code",
   "execution_count": 41,
   "metadata": {
    "collapsed": false
   },
   "outputs": [
    {
     "data": {
      "text/html": [
       "<div>\n",
       "<table border=\"1\" class=\"dataframe\">\n",
       "  <thead>\n",
       "    <tr style=\"text-align: right;\">\n",
       "      <th></th>\n",
       "      <th>AnimalID</th>\n",
       "      <th>Name</th>\n",
       "      <th>DateTime</th>\n",
       "      <th>OutcomeType</th>\n",
       "      <th>OutcomeSubtype</th>\n",
       "      <th>AnimalType</th>\n",
       "      <th>SexuponOutcome</th>\n",
       "      <th>AgeuponOutcome</th>\n",
       "      <th>Breed</th>\n",
       "      <th>Color</th>\n",
       "      <th>Intact</th>\n",
       "      <th>Gender</th>\n",
       "      <th>NameLength</th>\n",
       "    </tr>\n",
       "  </thead>\n",
       "  <tbody>\n",
       "    <tr>\n",
       "      <th>0</th>\n",
       "      <td>A671945</td>\n",
       "      <td>Hambone</td>\n",
       "      <td>2014-02-12 18:22:00</td>\n",
       "      <td>Return_to_owner</td>\n",
       "      <td>NaN</td>\n",
       "      <td>1</td>\n",
       "      <td>Neutered Male</td>\n",
       "      <td>1</td>\n",
       "      <td>Shetland Sheepdog Mix</td>\n",
       "      <td>0</td>\n",
       "      <td>0</td>\n",
       "      <td>1</td>\n",
       "      <td>7</td>\n",
       "    </tr>\n",
       "    <tr>\n",
       "      <th>1</th>\n",
       "      <td>A656520</td>\n",
       "      <td>Emily</td>\n",
       "      <td>2013-10-13 12:44:00</td>\n",
       "      <td>Euthanasia</td>\n",
       "      <td>Suffering</td>\n",
       "      <td>0</td>\n",
       "      <td>Spayed Female</td>\n",
       "      <td>1</td>\n",
       "      <td>Domestic Shorthair Mix</td>\n",
       "      <td>1</td>\n",
       "      <td>0</td>\n",
       "      <td>0</td>\n",
       "      <td>5</td>\n",
       "    </tr>\n",
       "    <tr>\n",
       "      <th>2</th>\n",
       "      <td>A686464</td>\n",
       "      <td>Pearce</td>\n",
       "      <td>2015-01-31 12:28:00</td>\n",
       "      <td>Adoption</td>\n",
       "      <td>Foster</td>\n",
       "      <td>1</td>\n",
       "      <td>Neutered Male</td>\n",
       "      <td>2</td>\n",
       "      <td>Pit Bull Mix</td>\n",
       "      <td>2</td>\n",
       "      <td>0</td>\n",
       "      <td>1</td>\n",
       "      <td>6</td>\n",
       "    </tr>\n",
       "    <tr>\n",
       "      <th>3</th>\n",
       "      <td>A683430</td>\n",
       "      <td>NaN</td>\n",
       "      <td>2014-07-11 19:09:00</td>\n",
       "      <td>Transfer</td>\n",
       "      <td>Partner</td>\n",
       "      <td>0</td>\n",
       "      <td>Intact Male</td>\n",
       "      <td>0</td>\n",
       "      <td>Domestic Shorthair Mix</td>\n",
       "      <td>2</td>\n",
       "      <td>1</td>\n",
       "      <td>1</td>\n",
       "      <td>3</td>\n",
       "    </tr>\n",
       "    <tr>\n",
       "      <th>4</th>\n",
       "      <td>A667013</td>\n",
       "      <td>NaN</td>\n",
       "      <td>2013-11-15 12:52:00</td>\n",
       "      <td>Transfer</td>\n",
       "      <td>Partner</td>\n",
       "      <td>1</td>\n",
       "      <td>Neutered Male</td>\n",
       "      <td>2</td>\n",
       "      <td>Lhasa Apso/Miniature Poodle</td>\n",
       "      <td>3</td>\n",
       "      <td>0</td>\n",
       "      <td>1</td>\n",
       "      <td>3</td>\n",
       "    </tr>\n",
       "  </tbody>\n",
       "</table>\n",
       "</div>"
      ],
      "text/plain": [
       "  AnimalID     Name             DateTime      OutcomeType OutcomeSubtype  \\\n",
       "0  A671945  Hambone  2014-02-12 18:22:00  Return_to_owner            NaN   \n",
       "1  A656520    Emily  2013-10-13 12:44:00       Euthanasia      Suffering   \n",
       "2  A686464   Pearce  2015-01-31 12:28:00         Adoption         Foster   \n",
       "3  A683430      NaN  2014-07-11 19:09:00         Transfer        Partner   \n",
       "4  A667013      NaN  2013-11-15 12:52:00         Transfer        Partner   \n",
       "\n",
       "   AnimalType SexuponOutcome  AgeuponOutcome                        Breed  \\\n",
       "0           1  Neutered Male               1        Shetland Sheepdog Mix   \n",
       "1           0  Spayed Female               1       Domestic Shorthair Mix   \n",
       "2           1  Neutered Male               2                 Pit Bull Mix   \n",
       "3           0    Intact Male               0       Domestic Shorthair Mix   \n",
       "4           1  Neutered Male               2  Lhasa Apso/Miniature Poodle   \n",
       "\n",
       "   Color  Intact  Gender  NameLength  \n",
       "0      0       0       1           7  \n",
       "1      1       0       0           5  \n",
       "2      2       0       1           6  \n",
       "3      2       1       1           3  \n",
       "4      3       0       1           3  "
      ]
     },
     "execution_count": 41,
     "metadata": {},
     "output_type": "execute_result"
    }
   ],
   "source": [
    "train_df.head()"
   ]
  },
  {
   "cell_type": "markdown",
   "metadata": {},
   "source": [
    "And look at the Breed feature."
   ]
  },
  {
   "cell_type": "code",
   "execution_count": 42,
   "metadata": {
    "collapsed": false
   },
   "outputs": [
    {
     "data": {
      "text/plain": [
       "1380"
      ]
     },
     "execution_count": 42,
     "metadata": {},
     "output_type": "execute_result"
    }
   ],
   "source": [
    "len(train_df.Breed.unique())"
   ]
  },
  {
   "cell_type": "markdown",
   "metadata": {},
   "source": [
    "That is a lot of breeds..."
   ]
  },
  {
   "cell_type": "markdown",
   "metadata": {
    "collapsed": true
   },
   "source": [
    "### Document tokenization"
   ]
  },
  {
   "cell_type": "code",
   "execution_count": 43,
   "metadata": {
    "collapsed": true
   },
   "outputs": [],
   "source": [
    "def split_into_lemmas(message):\n",
    "    # transform texts into tokens and preprocess\n",
    "    words = TextBlob(message.replace(\"/\", \" \").lower()).words\n",
    "    # for each word, take its \"base form\" = lemma \n",
    "    return [word.lemma for word in words]"
   ]
  },
  {
   "cell_type": "code",
   "execution_count": 44,
   "metadata": {
    "collapsed": false
   },
   "outputs": [],
   "source": [
    "breed_dict = train_df.Breed.apply(split_into_lemmas)"
   ]
  },
  {
   "cell_type": "code",
   "execution_count": 45,
   "metadata": {
    "collapsed": false
   },
   "outputs": [
    {
     "data": {
      "text/plain": [
       "0           [shetland, sheepdog, mix]\n",
       "1          [domestic, shorthair, mix]\n",
       "2                    [pit, bull, mix]\n",
       "3          [domestic, shorthair, mix]\n",
       "4    [lhasa, apso, miniature, poodle]\n",
       "Name: Breed, dtype: object"
      ]
     },
     "execution_count": 45,
     "metadata": {},
     "output_type": "execute_result"
    }
   ],
   "source": [
    "breed_dict[:5]"
   ]
  },
  {
   "cell_type": "code",
   "execution_count": 46,
   "metadata": {
    "collapsed": false
   },
   "outputs": [
    {
     "name": "stdout",
     "output_type": "stream",
     "text": [
      "{'mouth': 39, 'flat': 20, 'afghan': 116, 'dane': 55, 'devon': 107, 'scottish': 106, 'corso': 216, 'labrador': 33, 'jack': 63, 'skye': 167, 'chinese': 91, 'treeing': 57, 'irish': 178, 'tibetan': 64, 'pit': 5, 'finnish': 198, 'landseer': 180, 'bichon': 140, 'tolling': 227, 'presa': 221, 'brindle': 212, 'belgian': 175, 'italian': 101, 'turkish': 244, 'cardigan': 49, 'cocker': 85, 'beagle': 37, 'mountain': 99, 'rex': 108, 'tervuren': 255, 'sharpei': 92, 'setter': 142, 'highland': 121, 'russian': 31, 'chin': 242, 'shorthair': 4, 'javanese': 200, 'walker': 58, 'canaan': 194, 'elkhound': 247, 'manx': 83, 'persian': 185, 'basset': 81, 'collie': 34, 'rat': 66, 'medium': 53, 'neapolitan': 224, 'whippet': 77, 'russell': 62, 'basenji': 159, 'foxhound': 46, 'bull': 6, 'maltese': 43, 'great': 18, 'keeshond': 202, 'british': 207, 'pug': 136, 'cattle': 72, 'bengal': 139, 'pinscher': 65, 'hound': 26, 'welsh': 50, 'field': 201, 'picardy': 203, 'cornish': 193, 'chesa': 79, 'akita': 93, 'cane': 215, 'tonkinese': 234, 'japanese': 213, 'silky': 133, 'pomeranian': 131, 'pinsch': 76, 'pharaoh': 209, 'inu': 123, 'apso': 8, 'frise': 141, 'port': 252, 'cat': 249, 'sealyham': 239, 'manchester': 68, 'fox': 148, 'ragdoll': 164, 'swiss': 144, 'snowshoe': 110, 'sheepdog': 1, 'havanese': 186, 'unknown': 208, 'glen': 217, 'siberian': 70, 'yorkshire': 16, 'italiano': 261, 'mastiff': 155, 'pekinese': 126, 'spitz': 197, 'shetland': 0, 'rough': 109, 'springer': 182, 'wolfhound': 177, 'maine': 127, 'swedish': 117, 'angora': 19, 'cymric': 251, 'bruss': 134, 'bordeaux': 96, 'exotic': 103, 'soft': 169, 'husky': 69, 'dogo': 61, 'wirehaired': 206, 'podengo': 190, 'mix': 2, 'van': 245, 'retriever': 22, 'cur': 40, 'pointer': 44, 'australian': 71, 'dutch': 195, 'coon': 128, 'canario': 222, 'shiba': 124, 'black': 41, 'bernese': 98, 'tan': 104, 'lowchen': 256, 'terrier': 13, 'chow': 51, 'sphynx': 236, 'longhair': 36, 'kuvasz': 189, 'terr': 204, 'queensland': 23, 'lhasa': 9, 'toy': 146, 'bearded': 210, 'norwegian': 248, 'havana': 257, 'retr': 80, 'bobtail': 214, 'greater': 143, 'parson': 154, 'heeler': 24, 'blue': 32, 'boykin': 166, 'pixiebob': 220, 'norwich': 163, 'dog': 73, 'papillon': 119, 'hovawart': 246, 'french': 184, 'domestic': 3, 'tzu': 87, 'hairless': 114, 'rottweiler': 67, 'affenpinscher': 161, 'dachshund': 42, 'brittany': 152, 'munchkin': 241, 'eskimo': 176, 'wire': 179, 'burmese': 132, 'vallhund': 118, 'chihuahua': 11, 'german': 28, 'redbone': 115, 'bay': 78, 'old': 149, 'doberman': 75, 'pembroke': 145, 'bernard': 157, 'jindo': 199, 'weimaraner': 120, 'miniature': 10, 'siamese': 52, 'plott': 25, 'borzoi': 259, 'bloodhound': 160, 'boxer': 27, 'of': 218, 'cavalier': 187, 'pequeno': 191, 'entlebucher': 235, 'forest': 250, 'cairn': 12, 'pbgv': 188, 'malinois': 174, 'argentino': 60, 'ibizan': 150, 'staffordshire': 30, 'duck': 228, 'poodle': 7, 'abyssinian': 240, 'norfolk': 105, 'coonhound': 56, 'american': 14, 'feist': 231, 'patterdale': 205, 'catahoula': 74, 'st': 158, 'harrier': 111, 'bullmastiff': 147, 'beauceron': 125, 'carolina': 156, 'west': 122, 'saluki': 243, 'ridgeback': 88, 'leonberger': 192, 'nova': 229, 'rhod': 89, 'pyrenees': 17, 'vizsla': 47, 'imaal': 219, 'bulldog': 94, 'shih': 86, 'corgi': 48, 'standard': 130, 'lacy': 38, 'griffon': 135, 'malamute': 183, 'bombay': 181, 'coat': 21, 'anatol': 90, 'wirehair': 102, 'alaskan': 172, 'spinone': 260, 'tennesse': 211, 'bedlington': 225, 'hair': 54, 'spaniel': 84, 'scotia': 226, 'boston': 151, 'giant': 171, 'wheaten': 170, 'brown': 258, 'dogue': 97, 'spanish': 254, 'kelpie': 112, 'shepherd': 29, 'bluetick': 237, 'balinese': 196, 'border': 59, 'water': 253, 'newfoundland': 153, 'schipperke': 129, 'samoyed': 232, 'mexican': 113, 'boerboel': 137, 'otterhound': 233, 'dalmatian': 173, 'crested': 223, 'span': 165, 'pointing': 230, 'smooth': 35, 'english': 45, 'ocicat': 238, 'golden': 138, 'himalayan': 162, 'greyhound': 100, 'de': 95, 'schnauzer': 15, 'coated': 168, 'airedale': 82}\n"
     ]
    }
   ],
   "source": [
    "dictionary = corpora.Dictionary(breed_dict)\n",
    "dictionary.save(os.path.join(data_dir, \"breeds.dict\"))\n",
    "print(dictionary.token2id)"
   ]
  },
  {
   "cell_type": "markdown",
   "metadata": {},
   "source": [
    "Now we set up to pre-process the breed tokens and get them ready for analysis."
   ]
  },
  {
   "cell_type": "code",
   "execution_count": 47,
   "metadata": {
    "collapsed": false
   },
   "outputs": [
    {
     "name": "stdout",
     "output_type": "stream",
     "text": [
      "Dictionary(228 unique tokens: ['shih', 'mouth', 'tibetan', 'dane', 'bulldog']...)\n"
     ]
    }
   ],
   "source": [
    "stoplist = '''\n",
    "mix blend mutt black blue red white brown orange st terr de tan smooth\n",
    "soft dog long short hair\n",
    "'''.split()\n",
    "\n",
    "stop_ids = [dictionary.token2id[stopword] for stopword in stoplist \n",
    "            if stopword in dictionary.token2id]\n",
    "once_ids = [tokenid for tokenid, docfreq in dictionary.dfs.items() if docfreq == 1]\n",
    "dictionary.filter_tokens(stop_ids + once_ids) # remove stop words and words that appear only once\n",
    "dictionary.compactify() # remove gaps in id sequence after words that were removed\n",
    "print(dictionary)"
   ]
  },
  {
   "cell_type": "markdown",
   "metadata": {},
   "source": [
    "Some of the issues here:\n",
    "\n",
    "* Some of the breeds have colours including (which double counts the feature)\n",
    "* There are a lot of generic terms, like mix & medium that don't add very much value."
   ]
  },
  {
   "cell_type": "code",
   "execution_count": 48,
   "metadata": {
    "collapsed": true
   },
   "outputs": [],
   "source": [
    "corpus = [dictionary.doc2bow(text) for text in breed_dict]"
   ]
  },
  {
   "cell_type": "code",
   "execution_count": 49,
   "metadata": {
    "collapsed": false
   },
   "outputs": [
    {
     "name": "stdout",
     "output_type": "stream",
     "text": [
      "26729\n"
     ]
    }
   ],
   "source": [
    "corpora.MmCorpus.serialize(os.path.join(data_dir, \"breed_corpus.mm\"), corpus)\n",
    "print(len(corpus))"
   ]
  },
  {
   "cell_type": "markdown",
   "metadata": {},
   "source": [
    "Okay, so we have our corpus, but we still don't know the right number of topics.  For this we'll use Latent Semantic Indexing (LSI) via Sklearn.  The code here is pulled from a great \"Topic Modelling with Gensim\" in the Salmon Run page.\n",
    "\n",
    "http://sujitpal.blogspot.ca/2014/08/topic-modeling-with-gensim-over-past.html"
   ]
  },
  {
   "cell_type": "markdown",
   "metadata": {},
   "source": [
    "Next we need to set up a Term-frequency, inverse document frequency transformer. This is a statistical way of determining which words are most important out of a corpus.\n",
    "\n",
    "You can learn more about feature extraction here: http://scikit-learn.org/stable/modules/feature_extraction.html"
   ]
  },
  {
   "cell_type": "code",
   "execution_count": 50,
   "metadata": {
    "collapsed": false
   },
   "outputs": [
    {
     "name": "stdout",
     "output_type": "stream",
     "text": [
      "26729 26729\n"
     ]
    }
   ],
   "source": [
    "tfidf = models.TfidfModel(corpus, normalize=True)\n",
    "corpus_tfidf = tfidf[corpus]\n",
    "print(len(corpus_tfidf), len(train_df))"
   ]
  },
  {
   "cell_type": "code",
   "execution_count": 51,
   "metadata": {
    "collapsed": true
   },
   "outputs": [],
   "source": [
    "def split_into_lemmas(message):\n",
    "    # transform texts into tokens and preprocess\n",
    "    words = TextBlob(message.replace(\"/\", \" \").lower()).words\n",
    "    # for each word, take its \"base form\" = lemma \n",
    "    return [word.lemma for word in words]"
   ]
  },
  {
   "cell_type": "code",
   "execution_count": 52,
   "metadata": {
    "collapsed": false
   },
   "outputs": [],
   "source": [
    "# Project to 2 dimensions for visualization\n",
    "lsi = models.lsimodel.LsiModel(corpus_tfidf, id2word=dictionary, \n",
    "                               num_topics=2)"
   ]
  },
  {
   "cell_type": "code",
   "execution_count": null,
   "metadata": {
    "collapsed": false
   },
   "outputs": [],
   "source": []
  },
  {
   "cell_type": "code",
   "execution_count": 54,
   "metadata": {
    "collapsed": false
   },
   "outputs": [
    {
     "data": {
      "text/plain": [
       "26729"
      ]
     },
     "execution_count": 54,
     "metadata": {},
     "output_type": "execute_result"
    }
   ],
   "source": [
    "len(lsi[corpus])"
   ]
  },
  {
   "cell_type": "code",
   "execution_count": 55,
   "metadata": {
    "collapsed": false
   },
   "outputs": [],
   "source": [
    "# write out coordinates to file\n",
    "fcoords = open(os.path.join(data_dir, \"coords.csv\"), 'w')\n",
    "for vector in lsi[corpus]:\n",
    "    if len(vector) != 2:\n",
    "        continue\n",
    "    fcoords.write(\"%6.4f\\t%6.4f\\n\" % (vector[0][1], vector[1][1]))\n",
    "fcoords.close()"
   ]
  },
  {
   "cell_type": "code",
   "execution_count": 58,
   "metadata": {
    "collapsed": true
   },
   "outputs": [],
   "source": [
    "from sklearn.cluster import KMeans"
   ]
  },
  {
   "cell_type": "markdown",
   "metadata": {},
   "source": [
    "The following graph runs a KMeans analysis against different K values and graphs the inertia.  When we start hitting diminishing returns, we know we're close to our optimal number of clusters."
   ]
  },
  {
   "cell_type": "code",
   "execution_count": 57,
   "metadata": {
    "collapsed": false
   },
   "outputs": [
    {
     "data": {
      "image/png": "[encoded data removed]",
      "text/plain": [
       "<matplotlib.figure.Figure at 0x11845f3c8>"
      ]
     },
     "metadata": {},
     "output_type": "display_data"
    }
   ],
   "source": [
    "MAX_K = 20\n",
    "\n",
    "X = X = np.loadtxt(os.path.join(data_dir, \"coords.csv\"), delimiter=\"\\t\")\n",
    "ks = range(1, MAX_K + 1)\n",
    "\n",
    "inertias = np.zeros(MAX_K)\n",
    "diff = np.zeros(MAX_K)\n",
    "diff2 = np.zeros(MAX_K)\n",
    "diff3 = np.zeros(MAX_K)\n",
    "for k in ks:\n",
    "    kmeans = KMeans(k).fit(X)\n",
    "    inertias[k - 1] = kmeans.inertia_\n",
    "    # first difference    \n",
    "    if k > 1:\n",
    "        diff[k - 1] = inertias[k - 1] - inertias[k - 2]\n",
    "    # second difference\n",
    "    if k > 2:\n",
    "        diff2[k - 1] = diff[k - 1] - diff[k - 2]\n",
    "    # third difference\n",
    "    if k > 3:\n",
    "        diff3[k - 1] = diff2[k - 1] - diff2[k - 2]\n",
    "\n",
    "elbow = np.argmin(diff3[3:]) + 3\n",
    "\n",
    "plt.plot(ks, inertias, \"b*-\")\n",
    "plt.plot(ks[elbow], inertias[elbow], marker='o', markersize=12,\n",
    "         markeredgewidth=2, markeredgecolor='r', markerfacecolor=None)\n",
    "plt.ylabel(\"Inertia\")\n",
    "plt.xlabel(\"K\")\n",
    "plt.show()"
   ]
  },
  {
   "cell_type": "markdown",
   "metadata": {},
   "source": [
    "From the graph above, we can see that 4 clusters seems to be optimal for our analysis of breeds. Let's graph the 4 clusters now."
   ]
  },
  {
   "cell_type": "code",
   "execution_count": 59,
   "metadata": {
    "collapsed": false
   },
   "outputs": [
    {
     "name": "stderr",
     "output_type": "stream",
     "text": [
      "/Users/christopherallison/.virtualenvs/py_twi/lib/python3.4/site-packages/matplotlib/collections.py:590: FutureWarning: elementwise comparison failed; returning scalar instead, but in the future will perform elementwise comparison\n",
      "  if self._edgecolors == str('face'):\n"
     ]
    },
    {
     "data": {
      "image/png": "[encoded data removed]",
      "text/plain": [
       "<matplotlib.figure.Figure at 0x10ca88358>"
      ]
     },
     "metadata": {},
     "output_type": "display_data"
    }
   ],
   "source": [
    "# Rerun Kmeans with num_topics = 4\n",
    "NUM_TOPICS = 4\n",
    "\n",
    "X = np.loadtxt(os.path.join(data_dir, \"coords.csv\"), delimiter=\"\\t\")\n",
    "kmeans = KMeans(NUM_TOPICS).fit(X)\n",
    "y = kmeans.labels_\n",
    "\n",
    "colors = [\"b\", \"g\", \"r\", \"m\"]\n",
    "for i in range(X.shape[0]):\n",
    "    plt.scatter(X[i][0], X[i][1], c=colors[y[i]], s=10)    \n",
    "plt.show()"
   ]
  },
  {
   "cell_type": "markdown",
   "metadata": {},
   "source": [
    "Okay, so we're now reasonably solid that we should have four topics, so let's run the LDA and look at our top topics."
   ]
  },
  {
   "cell_type": "code",
   "execution_count": 61,
   "metadata": {
    "collapsed": false
   },
   "outputs": [
    {
     "data": {
      "text/plain": [
       "[([(0.350747876553335, 'domestic'),\n",
       "   (0.3408810656770499, 'shorthair'),\n",
       "   (0.090857499177837503, 'bull'),\n",
       "   (0.089010779519540409, 'pit'),\n",
       "   (0.054565861273571423, 'terrier'),\n",
       "   (0.011263139901806895, 'russell'),\n",
       "   (0.01010105210861687, 'jack'),\n",
       "   (0.0097555979382260155, 'rat'),\n",
       "   (0.0096284285158921533, 'yorkshire'),\n",
       "   (0.0066368673307000995, 'cairn'),\n",
       "   (0.0029006770138118284, 'snowshoe'),\n",
       "   (0.0024189587611232652, 'american'),\n",
       "   (0.0019984445962260063, 'rhod'),\n",
       "   (0.001998114849142728, 'ridgeback'),\n",
       "   (0.0012163340795225738, 'norfolk'),\n",
       "   (0.001171762087865863, 'parson'),\n",
       "   (0.00086112154738827106, 'harrier'),\n",
       "   (0.0007401517243946933, 'frise'),\n",
       "   (0.00074009481256164444, 'bichon'),\n",
       "   (0.00068592847705521449, 'norwich')],\n",
       "  -1538.7758801028381),\n",
       " ([(0.19254709885967733, 'chihuahua'),\n",
       "   (0.18291004919538836, 'retriever'),\n",
       "   (0.16980259795742245, 'labrador'),\n",
       "   (0.16493651463526335, 'shorthair'),\n",
       "   (0.022887284391509687, 'hound'),\n",
       "   (0.022502853562933738, 'beagle'),\n",
       "   (0.019267453881846391, 'catahoula'),\n",
       "   (0.01717360883832791, 'great'),\n",
       "   (0.014162767872147848, 'shih'),\n",
       "   (0.014162272432091378, 'tzu'),\n",
       "   (0.012769600829783649, 'pyrenees'),\n",
       "   (0.010907259760637113, 'pug'),\n",
       "   (0.0090985464589009683, 'plott'),\n",
       "   (0.008135429369739473, 'golden'),\n",
       "   (0.0078931450408240983, 'cur'),\n",
       "   (0.007546852793963825, 'mouth'),\n",
       "   (0.0070684719946400099, 'basset'),\n",
       "   (0.0063948269210527178, 'boston'),\n",
       "   (0.0059434349648844528, 'lhasa'),\n",
       "   (0.0059429428483281114, 'apso')],\n",
       "  -1712.5234943585117),\n",
       " ([(0.097697908866413483, 'miniature'),\n",
       "   (0.093744904208072188, 'dachshund'),\n",
       "   (0.093300763019971963, 'longhair'),\n",
       "   (0.062020847602894731, 'poodle'),\n",
       "   (0.060093737135164596, 'collie'),\n",
       "   (0.059513064958754996, 'border'),\n",
       "   (0.052101558721263479, 'siamese'),\n",
       "   (0.035907241166012661, 'chow'),\n",
       "   (0.03505222596010972, 'schnauzer'),\n",
       "   (0.029743533859561307, 'husky'),\n",
       "   (0.02750731114996165, 'pointer'),\n",
       "   (0.026640137652883929, 'siberian'),\n",
       "   (0.024747932626115562, 'rottweiler'),\n",
       "   (0.02191610869405166, 'welsh'),\n",
       "   (0.020706489210260345, 'corgi'),\n",
       "   (0.01989318355796622, 'terrier'),\n",
       "   (0.015756104858849932, 'cardigan'),\n",
       "   (0.015696780349358591, 'domestic'),\n",
       "   (0.013639170616789379, 'pinscher'),\n",
       "   (0.012161612296239075, 'chinese')],\n",
       "  -1775.0376417667487),\n",
       " ([(0.16781671631046227, 'shepherd'),\n",
       "   (0.12514317438620171, 'australian'),\n",
       "   (0.11950558679462428, 'german'),\n",
       "   (0.10606286916921659, 'domestic'),\n",
       "   (0.10577150567523108, 'medium'),\n",
       "   (0.076555202162935515, 'cattle'),\n",
       "   (0.050633273808778724, 'boxer'),\n",
       "   (0.038432551548854658, 'american'),\n",
       "   (0.029438553344114028, 'staffordshire'),\n",
       "   (0.02746508343203851, 'bulldog'),\n",
       "   (0.018237306563883678, 'anatol'),\n",
       "   (0.015351963112315892, 'kelpie'),\n",
       "   (0.014083731949073596, 'spaniel'),\n",
       "   (0.012236518344418341, 'cocker'),\n",
       "   (0.011929016653921751, 'english'),\n",
       "   (0.0099240844850025829, 'maltese'),\n",
       "   (0.0088425850180566361, 'lacy'),\n",
       "   (0.00591991910532794, 'manx'),\n",
       "   (0.004973350031954921, 'pekinese'),\n",
       "   (0.0047688503026942636, 'shorthair')],\n",
       "  -1818.8433160709119)]"
      ]
     },
     "execution_count": 61,
     "metadata": {},
     "output_type": "execute_result"
    }
   ],
   "source": [
    "lda = models.ldamulticore.LdaMulticore(corpus=corpus, id2word=dictionary,\n",
    "                         num_topics=4, passes=10)\n",
    "\n",
    "lda.top_topics(corpus)"
   ]
  },
  {
   "cell_type": "markdown",
   "metadata": {},
   "source": [
    "This actually looks pretty good... except I can't find the cats and, at minimum, they've been grouped together with the dogs.  Because we are predicting based on animaltype as well, this might not be as serious an issue as it appears."
   ]
  },
  {
   "cell_type": "markdown",
   "metadata": {},
   "source": [
    "Now we create a bag of words transformer based on the full texts in the Breed feature."
   ]
  },
  {
   "cell_type": "code",
   "execution_count": 62,
   "metadata": {
    "collapsed": false
   },
   "outputs": [
    {
     "name": "stdout",
     "output_type": "stream",
     "text": [
      "sparse matrix shape: (26729, 262)\n",
      "number of non-zeros: 80537\n",
      "sparsity: 1.15%\n",
      "  (0, 237)\t0.470921349262\n",
      "  (0, 214)\t0.22922693304\n",
      "  (0, 58)\t0.41279380185\n",
      "  (0, 47)\t0.745177410509\n"
     ]
    }
   ],
   "source": [
    "from sklearn.feature_extraction.text import CountVectorizer, TfidfTransformer\n",
    "count_vect = CountVectorizer()\n",
    "\n",
    "bow_transformer = CountVectorizer(analyzer=split_into_lemmas).fit(train_df.Breed)\n",
    "len(bow_transformer.vocabulary_)\n",
    "\n",
    "bow_transformer.get_feature_names()[3]\n",
    "\n",
    "breed_bow = bow_transformer.transform(train_df.Breed)\n",
    "print( 'sparse matrix shape:', breed_bow.shape)\n",
    "print( 'number of non-zeros:', breed_bow.nnz)\n",
    "print ('sparsity: %.2f%%' % (100.0 * breed_bow.nnz / (breed_bow.shape[0] * breed_bow.shape[1])))\n",
    "\n",
    "# First, we fit the transformer to our BoW\n",
    "\n",
    "tfidf_transformer = TfidfTransformer().fit(breed_bow)\n",
    "\n",
    "breed_tfidf = tfidf_transformer.transform(breed_bow)\n",
    "\n",
    "for e in breed_tfidf[5]:\n",
    "    print(e)"
   ]
  },
  {
   "cell_type": "markdown",
   "metadata": {},
   "source": [
    "From here, we can cluster the breed data using several options."
   ]
  },
  {
   "cell_type": "markdown",
   "metadata": {},
   "source": [
    "## KMeans Clustering"
   ]
  },
  {
   "cell_type": "markdown",
   "metadata": {},
   "source": [
    "Let's do this again using our previous code, just for kicks."
   ]
  },
  {
   "cell_type": "code",
   "execution_count": 63,
   "metadata": {
    "collapsed": false
   },
   "outputs": [],
   "source": [
    "# Select number of clusters for KMeans clustering - now 4 clusters\n",
    "n_clusters = 4"
   ]
  },
  {
   "cell_type": "code",
   "execution_count": 64,
   "metadata": {
    "collapsed": false
   },
   "outputs": [],
   "source": [
    "# Import and set up our classifier\n",
    "\n",
    "from sklearn.cluster import KMeans\n",
    "\n",
    "km = KMeans(n_clusters=n_clusters, init='k-means++', n_init=1, verbose=1)"
   ]
  },
  {
   "cell_type": "code",
   "execution_count": 65,
   "metadata": {
    "collapsed": false
   },
   "outputs": [
    {
     "name": "stdout",
     "output_type": "stream",
     "text": [
      "Initialization complete\n",
      "Iteration  0, inertia 23354.038\n",
      "Iteration  1, inertia 15349.388\n",
      "Iteration  2, inertia 13188.561\n",
      "Iteration  3, inertia 12909.218\n",
      "Iteration  4, inertia 12908.782\n",
      "Iteration  5, inertia 12908.529\n",
      "Iteration  6, inertia 12908.524\n",
      "Converged at iteration 6\n"
     ]
    }
   ],
   "source": [
    "# Fit the KM classifier on our TFIDF\n",
    "\n",
    "km_breeds = km.fit_predict(breed_tfidf)"
   ]
  },
  {
   "cell_type": "markdown",
   "metadata": {},
   "source": [
    "KMeans stops when it stops making progress on it's clustering.\n",
    "\n",
    "Now we have a working machine learning classifier on which we can predict our feature."
   ]
  },
  {
   "cell_type": "code",
   "execution_count": 66,
   "metadata": {
    "collapsed": false
   },
   "outputs": [
    {
     "data": {
      "text/plain": [
       "array([0], dtype=int32)"
      ]
     },
     "execution_count": 66,
     "metadata": {},
     "output_type": "execute_result"
    }
   ],
   "source": [
    "km.predict(breed_tfidf[4])"
   ]
  },
  {
   "cell_type": "code",
   "execution_count": 67,
   "metadata": {
    "collapsed": false
   },
   "outputs": [],
   "source": [
    "train_df['BreedKMeans'] = km_breeds"
   ]
  },
  {
   "cell_type": "code",
   "execution_count": 68,
   "metadata": {
    "collapsed": false
   },
   "outputs": [
    {
     "data": {
      "text/html": [
       "<div>\n",
       "<table border=\"1\" class=\"dataframe\">\n",
       "  <thead>\n",
       "    <tr style=\"text-align: right;\">\n",
       "      <th></th>\n",
       "      <th>AnimalID</th>\n",
       "      <th>Name</th>\n",
       "      <th>DateTime</th>\n",
       "      <th>OutcomeType</th>\n",
       "      <th>OutcomeSubtype</th>\n",
       "      <th>AnimalType</th>\n",
       "      <th>SexuponOutcome</th>\n",
       "      <th>AgeuponOutcome</th>\n",
       "      <th>Breed</th>\n",
       "      <th>Color</th>\n",
       "      <th>Intact</th>\n",
       "      <th>Gender</th>\n",
       "      <th>NameLength</th>\n",
       "      <th>BreedKMeans</th>\n",
       "    </tr>\n",
       "  </thead>\n",
       "  <tbody>\n",
       "    <tr>\n",
       "      <th>0</th>\n",
       "      <td>A671945</td>\n",
       "      <td>Hambone</td>\n",
       "      <td>2014-02-12 18:22:00</td>\n",
       "      <td>Return_to_owner</td>\n",
       "      <td>NaN</td>\n",
       "      <td>1</td>\n",
       "      <td>Neutered Male</td>\n",
       "      <td>1</td>\n",
       "      <td>Shetland Sheepdog Mix</td>\n",
       "      <td>0</td>\n",
       "      <td>0</td>\n",
       "      <td>1</td>\n",
       "      <td>7</td>\n",
       "      <td>0</td>\n",
       "    </tr>\n",
       "  </tbody>\n",
       "</table>\n",
       "</div>"
      ],
      "text/plain": [
       "  AnimalID     Name             DateTime      OutcomeType OutcomeSubtype  \\\n",
       "0  A671945  Hambone  2014-02-12 18:22:00  Return_to_owner            NaN   \n",
       "\n",
       "   AnimalType SexuponOutcome  AgeuponOutcome                  Breed  Color  \\\n",
       "0           1  Neutered Male               1  Shetland Sheepdog Mix      0   \n",
       "\n",
       "   Intact  Gender  NameLength  BreedKMeans  \n",
       "0       0       1           7            0  "
      ]
     },
     "execution_count": 68,
     "metadata": {},
     "output_type": "execute_result"
    }
   ],
   "source": [
    "train_df.head(1)"
   ]
  },
  {
   "cell_type": "code",
   "execution_count": 69,
   "metadata": {
    "collapsed": false
   },
   "outputs": [
    {
     "data": {
      "text/plain": [
       "Index(['AnimalID', 'Name', 'DateTime', 'OutcomeType', 'OutcomeSubtype',\n",
       "       'AnimalType', 'SexuponOutcome', 'AgeuponOutcome', 'Breed', 'Color',\n",
       "       'Intact', 'Gender', 'NameLength', 'BreedKMeans'],\n",
       "      dtype='object')"
      ]
     },
     "execution_count": 69,
     "metadata": {},
     "output_type": "execute_result"
    }
   ],
   "source": [
    "train_df.columns"
   ]
  },
  {
   "cell_type": "code",
   "execution_count": 70,
   "metadata": {
    "collapsed": false
   },
   "outputs": [
    {
     "data": {
      "text/plain": [
       "OutcomeType       object\n",
       "AnimalType         int64\n",
       "AgeuponOutcome     int64\n",
       "Color              int64\n",
       "Intact             int64\n",
       "Gender             int64\n",
       "NameLength         int64\n",
       "BreedKMeans        int32\n",
       "dtype: object"
      ]
     },
     "execution_count": 70,
     "metadata": {},
     "output_type": "execute_result"
    }
   ],
   "source": [
    "X = train_df.drop(['AnimalID', 'Name', \"DateTime\", \"OutcomeSubtype\",\n",
    "                  \"SexuponOutcome\", 'Breed', ], axis=1)\n",
    "\n",
    "X.dtypes"
   ]
  },
  {
   "cell_type": "code",
   "execution_count": 71,
   "metadata": {
    "collapsed": false
   },
   "outputs": [
    {
     "data": {
      "text/html": [
       "<div>\n",
       "<table border=\"1\" class=\"dataframe\">\n",
       "  <thead>\n",
       "    <tr style=\"text-align: right;\">\n",
       "      <th></th>\n",
       "      <th>OutcomeType</th>\n",
       "      <th>AnimalType</th>\n",
       "      <th>AgeuponOutcome</th>\n",
       "      <th>Color</th>\n",
       "      <th>Intact</th>\n",
       "      <th>Gender</th>\n",
       "      <th>NameLength</th>\n",
       "      <th>BreedKMeans</th>\n",
       "    </tr>\n",
       "  </thead>\n",
       "  <tbody>\n",
       "    <tr>\n",
       "      <th>0</th>\n",
       "      <td>Return_to_owner</td>\n",
       "      <td>1</td>\n",
       "      <td>1</td>\n",
       "      <td>0</td>\n",
       "      <td>0</td>\n",
       "      <td>1</td>\n",
       "      <td>7</td>\n",
       "      <td>0</td>\n",
       "    </tr>\n",
       "    <tr>\n",
       "      <th>1</th>\n",
       "      <td>Euthanasia</td>\n",
       "      <td>0</td>\n",
       "      <td>1</td>\n",
       "      <td>1</td>\n",
       "      <td>0</td>\n",
       "      <td>0</td>\n",
       "      <td>5</td>\n",
       "      <td>1</td>\n",
       "    </tr>\n",
       "    <tr>\n",
       "      <th>2</th>\n",
       "      <td>Adoption</td>\n",
       "      <td>1</td>\n",
       "      <td>2</td>\n",
       "      <td>2</td>\n",
       "      <td>0</td>\n",
       "      <td>1</td>\n",
       "      <td>6</td>\n",
       "      <td>3</td>\n",
       "    </tr>\n",
       "    <tr>\n",
       "      <th>3</th>\n",
       "      <td>Transfer</td>\n",
       "      <td>0</td>\n",
       "      <td>0</td>\n",
       "      <td>2</td>\n",
       "      <td>1</td>\n",
       "      <td>1</td>\n",
       "      <td>3</td>\n",
       "      <td>1</td>\n",
       "    </tr>\n",
       "    <tr>\n",
       "      <th>4</th>\n",
       "      <td>Transfer</td>\n",
       "      <td>1</td>\n",
       "      <td>2</td>\n",
       "      <td>3</td>\n",
       "      <td>0</td>\n",
       "      <td>1</td>\n",
       "      <td>3</td>\n",
       "      <td>0</td>\n",
       "    </tr>\n",
       "  </tbody>\n",
       "</table>\n",
       "</div>"
      ],
      "text/plain": [
       "       OutcomeType  AnimalType  AgeuponOutcome  Color  Intact  Gender  \\\n",
       "0  Return_to_owner           1               1      0       0       1   \n",
       "1       Euthanasia           0               1      1       0       0   \n",
       "2         Adoption           1               2      2       0       1   \n",
       "3         Transfer           0               0      2       1       1   \n",
       "4         Transfer           1               2      3       0       1   \n",
       "\n",
       "   NameLength  BreedKMeans  \n",
       "0           7            0  \n",
       "1           5            1  \n",
       "2           6            3  \n",
       "3           3            1  \n",
       "4           3            0  "
      ]
     },
     "execution_count": 71,
     "metadata": {},
     "output_type": "execute_result"
    }
   ],
   "source": [
    "X.head()"
   ]
  },
  {
   "cell_type": "code",
   "execution_count": 72,
   "metadata": {
    "collapsed": true
   },
   "outputs": [],
   "source": [
    "X.to_csv(os.path.join(data_dir, \"prepared_animals_df.csv\"))"
   ]
  },
  {
   "cell_type": "code",
   "execution_count": 73,
   "metadata": {
    "collapsed": false
   },
   "outputs": [],
   "source": [
    "# Visualizing the K-Means clusters via TSNE\n",
    "# t-distributed Stochastic Neighbor Embedding.\n",
    "\n",
    "from sklearn.manifold import TSNE"
   ]
  },
  {
   "cell_type": "markdown",
   "metadata": {
    "collapsed": false
   },
   "source": [
    "http://scikit-learn.org/stable/modules/generated/sklearn.manifold.TSNE.html"
   ]
  },
  {
   "cell_type": "code",
   "execution_count": 74,
   "metadata": {
    "collapsed": false
   },
   "outputs": [],
   "source": [
    "# First we use the TruncatedSVD to perform linear dimensionality reduction (truncated singular value decomposition (SVD)).\n",
    "\n",
    "from sklearn.decomposition import TruncatedSVD\n",
    "\n",
    "X_reduced = TruncatedSVD(n_components=50, random_state=0).fit_transform(breed_tfidf)"
   ]
  },
  {
   "cell_type": "code",
   "execution_count": 75,
   "metadata": {
    "collapsed": false
   },
   "outputs": [
    {
     "name": "stdout",
     "output_type": "stream",
     "text": [
      "[t-SNE] Computing pairwise distances...\n",
      "[t-SNE] Computing 121 nearest neighbors...\n",
      "[t-SNE] Computed conditional probabilities for sample 1000 / 26729\n",
      "[t-SNE] Computed conditional probabilities for sample 2000 / 26729\n",
      "[t-SNE] Computed conditional probabilities for sample 3000 / 26729\n",
      "[t-SNE] Computed conditional probabilities for sample 4000 / 26729\n",
      "[t-SNE] Computed conditional probabilities for sample 5000 / 26729\n",
      "[t-SNE] Computed conditional probabilities for sample 6000 / 26729\n",
      "[t-SNE] Computed conditional probabilities for sample 7000 / 26729\n",
      "[t-SNE] Computed conditional probabilities for sample 8000 / 26729\n",
      "[t-SNE] Computed conditional probabilities for sample 9000 / 26729\n",
      "[t-SNE] Computed conditional probabilities for sample 10000 / 26729\n",
      "[t-SNE] Computed conditional probabilities for sample 11000 / 26729\n",
      "[t-SNE] Computed conditional probabilities for sample 12000 / 26729\n",
      "[t-SNE] Computed conditional probabilities for sample 13000 / 26729\n",
      "[t-SNE] Computed conditional probabilities for sample 14000 / 26729\n",
      "[t-SNE] Computed conditional probabilities for sample 15000 / 26729\n",
      "[t-SNE] Computed conditional probabilities for sample 16000 / 26729\n",
      "[t-SNE] Computed conditional probabilities for sample 17000 / 26729\n",
      "[t-SNE] Computed conditional probabilities for sample 18000 / 26729\n",
      "[t-SNE] Computed conditional probabilities for sample 19000 / 26729\n",
      "[t-SNE] Computed conditional probabilities for sample 20000 / 26729\n",
      "[t-SNE] Computed conditional probabilities for sample 21000 / 26729\n",
      "[t-SNE] Computed conditional probabilities for sample 22000 / 26729\n",
      "[t-SNE] Computed conditional probabilities for sample 23000 / 26729\n",
      "[t-SNE] Computed conditional probabilities for sample 24000 / 26729\n",
      "[t-SNE] Computed conditional probabilities for sample 25000 / 26729\n",
      "[t-SNE] Computed conditional probabilities for sample 26000 / 26729\n",
      "[t-SNE] Computed conditional probabilities for sample 26729 / 26729\n",
      "[t-SNE] Mean sigma: 0.000000\n",
      "[t-SNE] Iteration 25: error = 0.2438515, gradient norm = 0.0014431\n",
      "[t-SNE] Iteration 50: error = 0.2438569, gradient norm = 0.0015299\n",
      "[t-SNE] Iteration 75: error = 0.2437416, gradient norm = 0.0056637\n",
      "[t-SNE] Iteration 100: error = 0.2425170, gradient norm = 0.0044335\n",
      "[t-SNE] Error after 100 iterations with early exaggeration: 0.242517\n",
      "[t-SNE] Iteration 125: error = 0.2408960, gradient norm = 0.0034108\n",
      "[t-SNE] Iteration 150: error = 0.2386415, gradient norm = 0.0032651\n",
      "[t-SNE] Iteration 175: error = 0.2385317, gradient norm = 0.0031456\n",
      "[t-SNE] Iteration 200: error = 0.2385182, gradient norm = 0.0032251\n",
      "[t-SNE] Iteration 225: error = 0.2385108, gradient norm = 0.0031572\n",
      "[t-SNE] Iteration 250: error = 0.2385126, gradient norm = 0.0032182\n",
      "[t-SNE] Iteration 275: error = 0.2385090, gradient norm = 0.0031266\n",
      "[t-SNE] Iteration 300: error = 0.2385123, gradient norm = 0.0032223\n",
      "[t-SNE] Iteration 325: error = 0.2385090, gradient norm = 0.0031577\n",
      "[t-SNE] Iteration 325: did not make any progress during the last 30 episodes. Finished.\n",
      "[t-SNE] Error after 325 iterations: 0.238509\n"
     ]
    }
   ],
   "source": [
    "# Note - you need a fairly high-powered system to run the TSNE with this dataset. An i7 with 16gb ram works fine.\n",
    "# N_components refers to bringing the multi-dimensional space down to 2 dimensions, which lets us graph it.\n",
    "\n",
    "X_embedded = TSNE(n_components=2, perplexity=40, verbose=2).fit_transform(X_reduced)"
   ]
  },
  {
   "cell_type": "code",
   "execution_count": null,
   "metadata": {
    "collapsed": false
   },
   "outputs": [],
   "source": []
  },
  {
   "cell_type": "code",
   "execution_count": 82,
   "metadata": {
    "collapsed": false
   },
   "outputs": [
    {
     "data": {
      "text/plain": [
       "<matplotlib.collections.PathCollection at 0x12b2a4be0>"
      ]
     },
     "execution_count": 82,
     "metadata": {},
     "output_type": "execute_result"
    },
    {
     "data": {
      "image/png": "[encoded data removed]",
      "text/plain": [
       "<matplotlib.figure.Figure at 0x12b271710>"
      ]
     },
     "metadata": {},
     "output_type": "display_data"
    }
   ],
   "source": [
    "fig = plt.figure(figsize=(10, 10))\n",
    "ax = plt.axes(frameon=False)\n",
    "plt.setp(ax, xticks=(), yticks=())\n",
    "plt.subplots_adjust(left=0.0, bottom=0.0, right=1.0, top=0.9,\n",
    "                wspace=0.0, hspace=0.0)\n",
    "plt.scatter(X_embedded[:, 0], X_embedded[:, 1],\n",
    "            c=['g', 'b', 'r', 'c'], marker=\"x\")"
   ]
  },
  {
   "cell_type": "markdown",
   "metadata": {
    "collapsed": true
   },
   "source": [
    "This plot looks significantly different from our previous plot with only dog breeds. We've also done a deeper analysis, so the difference makes sense, but I would have expected to see greater differentiation in the clusters."
   ]
  },
  {
   "cell_type": "markdown",
   "metadata": {
    "collapsed": true
   },
   "source": [
    "### Frome here, go to the Random Forest Classifier to try out your machine learning model."
   ]
  }
 ],
 "metadata": {
  "kernelspec": {
   "display_name": "Python 3",
   "language": "python",
   "name": "python3"
  },
  "language_info": {
   "codemirror_mode": {
    "name": "ipython",
    "version": 3
   },
   "file_extension": ".py",
   "mimetype": "text/x-python",
   "name": "python",
   "nbconvert_exporter": "python",
   "pygments_lexer": "ipython3",
   "version": "3.4.2"
  }
 },
 "nbformat": 4,
 "nbformat_minor": 0
}
