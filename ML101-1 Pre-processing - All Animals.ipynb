{
 "cells": [
  {
   "cell_type": "markdown",
   "metadata": {},
   "source": [
    "Random Forest using Kaggle Animal Shelter Dataset\n",
    "https://www.kaggle.com/c/shelter-animal-outcomes"
   ]
  },
  {
   "cell_type": "markdown",
   "metadata": {},
   "source": [
    "# Pre-processing the animal shelter dataset"
   ]
  },
  {
   "cell_type": "code",
   "execution_count": 1,
   "metadata": {
    "collapsed": false
   },
   "outputs": [],
   "source": [
    "import pandas as pd\n",
    "import os\n",
    "import numpy as np\n",
    "import matplotlib.pyplot as plt\n",
    "import seaborn as sns\n",
    "import csv as csv\n",
    "from sklearn.ensemble import RandomForestClassifier\n",
    "from sklearn.cross_validation import train_test_split\n",
    "from sklearn import metrics\n",
    "from sklearn.metrics import accuracy_score\n",
    "from sklearn.metrics import classification_report, log_loss, average_precision_score\n",
    "\n",
    "from textblob import TextBlob\n",
    "from gensim import corpora, models, similarities\n",
    "\n",
    "import logging\n",
    "\n",
    "%matplotlib inline"
   ]
  },
  {
   "cell_type": "code",
   "execution_count": 2,
   "metadata": {
    "collapsed": true
   },
   "outputs": [],
   "source": [
    "# Display progress logs on stdout\n",
    "logging.basicConfig(level=logging.INFO,\n",
    "                    format='%(asctime)s %(levelname)s %(message)s')"
   ]
  },
  {
   "cell_type": "code",
   "execution_count": 3,
   "metadata": {
    "collapsed": false
   },
   "outputs": [],
   "source": [
    "# Set up my data directories from different machines\n",
    "\n",
    "mac_data_dir = '/Users/christopherallison/Documents/Coding/Data'\n",
    "linux_data_dir = '/home/chris/data'\n",
    "win_data_dir = u'C:\\\\Users\\\\Owner\\\\Documents\\\\Data'"
   ]
  },
  {
   "cell_type": "code",
   "execution_count": 4,
   "metadata": {
    "collapsed": false
   },
   "outputs": [],
   "source": [
    "# Set data directory for example\n",
    "\n",
    "data_dir = linux_data_dir"
   ]
  },
  {
   "cell_type": "code",
   "execution_count": 5,
   "metadata": {
    "collapsed": true
   },
   "outputs": [],
   "source": [
    "# Then we'll create a dictionary through which we can transform and revert the values to strings.\n",
    "# We can also use the LabelEncoder() function - but this seems easier.\n",
    "\n",
    "def transform_string_label_to_integer(dictionary, dataframe_column):\n",
    "    # takes dictionary and dataframe column and returns translation dict\n",
    "    for i, label in enumerate(dataframe_column.unique()):\n",
    "        dictionary[label] = i"
   ]
  },
  {
   "cell_type": "code",
   "execution_count": 6,
   "metadata": {
    "collapsed": false
   },
   "outputs": [],
   "source": [
    "# Load TRAINING DATA\n",
    "\n",
    "train_df = pd.read_csv(os.path.join(data_dir, 'shelter_train.csv'), header=0)        # Load the train file into a dataframe"
   ]
  },
  {
   "cell_type": "code",
   "execution_count": 7,
   "metadata": {
    "collapsed": false
   },
   "outputs": [
    {
     "data": {
      "text/plain": [
       "Index(['AnimalID', 'Name', 'DateTime', 'OutcomeType', 'OutcomeSubtype',\n",
       "       'AnimalType', 'SexuponOutcome', 'AgeuponOutcome', 'Breed', 'Color'],\n",
       "      dtype='object')"
      ]
     },
     "execution_count": 7,
     "metadata": {},
     "output_type": "execute_result"
    }
   ],
   "source": [
    "# Data exploration - what headers do we have?\n",
    "\n",
    "train_df.columns"
   ]
  },
  {
   "cell_type": "code",
   "execution_count": null,
   "metadata": {
    "collapsed": false
   },
   "outputs": [],
   "source": []
  },
  {
   "cell_type": "code",
   "execution_count": 8,
   "metadata": {
    "collapsed": false
   },
   "outputs": [
    {
     "data": {
      "text/html": [
       "<div>\n",
       "<table border=\"1\" class=\"dataframe\">\n",
       "  <thead>\n",
       "    <tr style=\"text-align: right;\">\n",
       "      <th></th>\n",
       "      <th>AnimalID</th>\n",
       "      <th>Name</th>\n",
       "      <th>DateTime</th>\n",
       "      <th>OutcomeType</th>\n",
       "      <th>OutcomeSubtype</th>\n",
       "      <th>AnimalType</th>\n",
       "      <th>SexuponOutcome</th>\n",
       "      <th>AgeuponOutcome</th>\n",
       "      <th>Breed</th>\n",
       "      <th>Color</th>\n",
       "    </tr>\n",
       "  </thead>\n",
       "  <tbody>\n",
       "    <tr>\n",
       "      <th>0</th>\n",
       "      <td>A671945</td>\n",
       "      <td>Hambone</td>\n",
       "      <td>2014-02-12 18:22:00</td>\n",
       "      <td>Return_to_owner</td>\n",
       "      <td>NaN</td>\n",
       "      <td>Dog</td>\n",
       "      <td>Neutered Male</td>\n",
       "      <td>1 year</td>\n",
       "      <td>Shetland Sheepdog Mix</td>\n",
       "      <td>Brown/White</td>\n",
       "    </tr>\n",
       "    <tr>\n",
       "      <th>1</th>\n",
       "      <td>A656520</td>\n",
       "      <td>Emily</td>\n",
       "      <td>2013-10-13 12:44:00</td>\n",
       "      <td>Euthanasia</td>\n",
       "      <td>Suffering</td>\n",
       "      <td>Cat</td>\n",
       "      <td>Spayed Female</td>\n",
       "      <td>1 year</td>\n",
       "      <td>Domestic Shorthair Mix</td>\n",
       "      <td>Cream Tabby</td>\n",
       "    </tr>\n",
       "    <tr>\n",
       "      <th>2</th>\n",
       "      <td>A686464</td>\n",
       "      <td>Pearce</td>\n",
       "      <td>2015-01-31 12:28:00</td>\n",
       "      <td>Adoption</td>\n",
       "      <td>Foster</td>\n",
       "      <td>Dog</td>\n",
       "      <td>Neutered Male</td>\n",
       "      <td>2 years</td>\n",
       "      <td>Pit Bull Mix</td>\n",
       "      <td>Blue/White</td>\n",
       "    </tr>\n",
       "    <tr>\n",
       "      <th>3</th>\n",
       "      <td>A683430</td>\n",
       "      <td>NaN</td>\n",
       "      <td>2014-07-11 19:09:00</td>\n",
       "      <td>Transfer</td>\n",
       "      <td>Partner</td>\n",
       "      <td>Cat</td>\n",
       "      <td>Intact Male</td>\n",
       "      <td>3 weeks</td>\n",
       "      <td>Domestic Shorthair Mix</td>\n",
       "      <td>Blue Cream</td>\n",
       "    </tr>\n",
       "    <tr>\n",
       "      <th>4</th>\n",
       "      <td>A667013</td>\n",
       "      <td>NaN</td>\n",
       "      <td>2013-11-15 12:52:00</td>\n",
       "      <td>Transfer</td>\n",
       "      <td>Partner</td>\n",
       "      <td>Dog</td>\n",
       "      <td>Neutered Male</td>\n",
       "      <td>2 years</td>\n",
       "      <td>Lhasa Apso/Miniature Poodle</td>\n",
       "      <td>Tan</td>\n",
       "    </tr>\n",
       "  </tbody>\n",
       "</table>\n",
       "</div>"
      ],
      "text/plain": [
       "  AnimalID     Name             DateTime      OutcomeType OutcomeSubtype  \\\n",
       "0  A671945  Hambone  2014-02-12 18:22:00  Return_to_owner            NaN   \n",
       "1  A656520    Emily  2013-10-13 12:44:00       Euthanasia      Suffering   \n",
       "2  A686464   Pearce  2015-01-31 12:28:00         Adoption         Foster   \n",
       "3  A683430      NaN  2014-07-11 19:09:00         Transfer        Partner   \n",
       "4  A667013      NaN  2013-11-15 12:52:00         Transfer        Partner   \n",
       "\n",
       "  AnimalType SexuponOutcome AgeuponOutcome                        Breed  \\\n",
       "0        Dog  Neutered Male         1 year        Shetland Sheepdog Mix   \n",
       "1        Cat  Spayed Female         1 year       Domestic Shorthair Mix   \n",
       "2        Dog  Neutered Male        2 years                 Pit Bull Mix   \n",
       "3        Cat    Intact Male        3 weeks       Domestic Shorthair Mix   \n",
       "4        Dog  Neutered Male        2 years  Lhasa Apso/Miniature Poodle   \n",
       "\n",
       "         Color  \n",
       "0  Brown/White  \n",
       "1  Cream Tabby  \n",
       "2   Blue/White  \n",
       "3   Blue Cream  \n",
       "4          Tan  "
      ]
     },
     "execution_count": 8,
     "metadata": {},
     "output_type": "execute_result"
    }
   ],
   "source": [
    "# Let's look at our data\n",
    "\n",
    "train_df.head()"
   ]
  },
  {
   "cell_type": "code",
   "execution_count": 9,
   "metadata": {
    "collapsed": false
   },
   "outputs": [
    {
     "data": {
      "text/html": [
       "<div>\n",
       "<table border=\"1\" class=\"dataframe\">\n",
       "  <thead>\n",
       "    <tr style=\"text-align: right;\">\n",
       "      <th></th>\n",
       "      <th>AnimalID</th>\n",
       "      <th>Name</th>\n",
       "      <th>DateTime</th>\n",
       "      <th>OutcomeType</th>\n",
       "      <th>OutcomeSubtype</th>\n",
       "      <th>AnimalType</th>\n",
       "      <th>SexuponOutcome</th>\n",
       "      <th>AgeuponOutcome</th>\n",
       "      <th>Breed</th>\n",
       "      <th>Color</th>\n",
       "    </tr>\n",
       "  </thead>\n",
       "  <tbody>\n",
       "    <tr>\n",
       "      <th>count</th>\n",
       "      <td>26729</td>\n",
       "      <td>19038</td>\n",
       "      <td>26729</td>\n",
       "      <td>26729</td>\n",
       "      <td>13117</td>\n",
       "      <td>26729</td>\n",
       "      <td>26728</td>\n",
       "      <td>26711</td>\n",
       "      <td>26729</td>\n",
       "      <td>26729</td>\n",
       "    </tr>\n",
       "    <tr>\n",
       "      <th>unique</th>\n",
       "      <td>26729</td>\n",
       "      <td>6374</td>\n",
       "      <td>22918</td>\n",
       "      <td>5</td>\n",
       "      <td>16</td>\n",
       "      <td>2</td>\n",
       "      <td>5</td>\n",
       "      <td>44</td>\n",
       "      <td>1380</td>\n",
       "      <td>366</td>\n",
       "    </tr>\n",
       "    <tr>\n",
       "      <th>top</th>\n",
       "      <td>A704679</td>\n",
       "      <td>Max</td>\n",
       "      <td>2015-08-11 00:00:00</td>\n",
       "      <td>Adoption</td>\n",
       "      <td>Partner</td>\n",
       "      <td>Dog</td>\n",
       "      <td>Neutered Male</td>\n",
       "      <td>1 year</td>\n",
       "      <td>Domestic Shorthair Mix</td>\n",
       "      <td>Black/White</td>\n",
       "    </tr>\n",
       "    <tr>\n",
       "      <th>freq</th>\n",
       "      <td>1</td>\n",
       "      <td>136</td>\n",
       "      <td>19</td>\n",
       "      <td>10769</td>\n",
       "      <td>7816</td>\n",
       "      <td>15595</td>\n",
       "      <td>9779</td>\n",
       "      <td>3969</td>\n",
       "      <td>8810</td>\n",
       "      <td>2824</td>\n",
       "    </tr>\n",
       "  </tbody>\n",
       "</table>\n",
       "</div>"
      ],
      "text/plain": [
       "       AnimalID   Name             DateTime OutcomeType OutcomeSubtype  \\\n",
       "count     26729  19038                26729       26729          13117   \n",
       "unique    26729   6374                22918           5             16   \n",
       "top     A704679    Max  2015-08-11 00:00:00    Adoption        Partner   \n",
       "freq          1    136                   19       10769           7816   \n",
       "\n",
       "       AnimalType SexuponOutcome AgeuponOutcome                   Breed  \\\n",
       "count       26729          26728          26711                   26729   \n",
       "unique          2              5             44                    1380   \n",
       "top           Dog  Neutered Male         1 year  Domestic Shorthair Mix   \n",
       "freq        15595           9779           3969                    8810   \n",
       "\n",
       "              Color  \n",
       "count         26729  \n",
       "unique          366  \n",
       "top     Black/White  \n",
       "freq           2824  "
      ]
     },
     "execution_count": 9,
     "metadata": {},
     "output_type": "execute_result"
    }
   ],
   "source": [
    "# And get a better overall feel for it.\n",
    "\n",
    "train_df.describe()"
   ]
  },
  {
   "cell_type": "markdown",
   "metadata": {},
   "source": [
    "Of interest - our original dataset was 27,600 animals - only 3950 are dogs"
   ]
  },
  {
   "cell_type": "markdown",
   "metadata": {
    "collapsed": false
   },
   "source": [
    "Let's transform the cats and dogs AnimalType into an integer."
   ]
  },
  {
   "cell_type": "code",
   "execution_count": 10,
   "metadata": {
    "collapsed": true
   },
   "outputs": [],
   "source": [
    "animaltype = {\"Cat\": 0, \"Dog\": 1}"
   ]
  },
  {
   "cell_type": "code",
   "execution_count": 11,
   "metadata": {
    "collapsed": false
   },
   "outputs": [],
   "source": [
    "train_df.AnimalType = train_df.AnimalType.map(animaltype)"
   ]
  },
  {
   "cell_type": "markdown",
   "metadata": {},
   "source": [
    "So, now let's plot our outcomes against the animal type."
   ]
  },
  {
   "cell_type": "code",
   "execution_count": 12,
   "metadata": {
    "collapsed": false
   },
   "outputs": [
    {
     "data": {
      "text/plain": [
       "<matplotlib.axes._subplots.AxesSubplot at 0x7f48f03f9780>"
      ]
     },
     "execution_count": 12,
     "metadata": {},
     "output_type": "execute_result"
    },
    {
     "data": {
      "image/png": "[encoded data removed]",
      "text/plain": [
       "<matplotlib.figure.Figure at 0x7f48ef5e1b38>"
      ]
     },
     "metadata": {},
     "output_type": "display_data"
    }
   ],
   "source": [
    "pd.crosstab(train_df.AnimalType, train_df.OutcomeType).plot.bar()"
   ]
  },
  {
   "cell_type": "code",
   "execution_count": 13,
   "metadata": {
    "collapsed": false
   },
   "outputs": [
    {
     "data": {
      "text/plain": [
       "array(['Return_to_owner', 'Euthanasia', 'Adoption', 'Transfer', 'Died'], dtype=object)"
      ]
     },
     "execution_count": 13,
     "metadata": {},
     "output_type": "execute_result"
    }
   ],
   "source": [
    "# So let's see what outcomes we're mapping against.\n",
    "\n",
    "outcomes = train_df.OutcomeType.unique()\n",
    "outcomes"
   ]
  },
  {
   "cell_type": "markdown",
   "metadata": {},
   "source": []
  },
  {
   "cell_type": "code",
   "execution_count": 14,
   "metadata": {
    "collapsed": false
   },
   "outputs": [
    {
     "data": {
      "text/plain": [
       "<matplotlib.axes._subplots.AxesSubplot at 0x7f48eff17828>"
      ]
     },
     "execution_count": 14,
     "metadata": {},
     "output_type": "execute_result"
    },
    {
     "data": {
      "image/png": "[encoded data removed]",
      "text/plain": [
       "<matplotlib.figure.Figure at 0x7f48eff10f98>"
      ]
     },
     "metadata": {},
     "output_type": "display_data"
    }
   ],
   "source": [
    "# Let's explore the data a bit more.  How do these outcomes map to our data?\n",
    "\n",
    "counts = train_df.groupby('OutcomeType').count()\n",
    "counts.plot.line(title=\"Outcome Counts\")"
   ]
  },
  {
   "cell_type": "markdown",
   "metadata": {
    "collapsed": true
   },
   "source": [
    "Next we'll look at the outcome subtype. This isn't an element of our test data, so we shouldn't build it directly into our classifier, but we can use it to help us understand our data.\n",
    "\n",
    "As an aside, this seems like very useful data to have on intake (and it bumps our accuracy up to 80+% when we use it)."
   ]
  },
  {
   "cell_type": "code",
   "execution_count": 15,
   "metadata": {
    "collapsed": false
   },
   "outputs": [
    {
     "data": {
      "text/plain": [
       "<matplotlib.axes._subplots.AxesSubplot at 0x7f48f03afc50>"
      ]
     },
     "execution_count": 15,
     "metadata": {},
     "output_type": "execute_result"
    },
    {
     "data": {
      "image/png": "[encoded data removed]",
      "text/plain": [
       "<matplotlib.figure.Figure at 0x7f48f03a7f28>"
      ]
     },
     "metadata": {},
     "output_type": "display_data"
    }
   ],
   "source": [
    "dates_cross = pd.crosstab(train_df.OutcomeSubtype, train_df.OutcomeType)\n",
    "dates_cross.plot.bar()"
   ]
  },
  {
   "cell_type": "markdown",
   "metadata": {
    "collapsed": false
   },
   "source": [
    "Interesting. The outcome types are fairly siloed depending on the subtype.  Some questions:\n",
    "* Where do transferred animals go?  Is shuffling them around an issue?  What are the outcomes after the transfer?\n",
    "* At what point do the behavior, agression and suffering subtype outcomes come into play?"
   ]
  },
  {
   "cell_type": "markdown",
   "metadata": {},
   "source": [
    "We need to transform the string categories into integers to work with the machine learning models.\n",
    "\n",
    "Let's start by doing this for the animal sex feature."
   ]
  },
  {
   "cell_type": "code",
   "execution_count": 16,
   "metadata": {
    "collapsed": false
   },
   "outputs": [
    {
     "data": {
      "text/plain": [
       "array(['Neutered Male', 'Spayed Female', 'Intact Male', 'Intact Female',\n",
       "       'Unknown', nan], dtype=object)"
      ]
     },
     "execution_count": 16,
     "metadata": {},
     "output_type": "execute_result"
    }
   ],
   "source": [
    "# First, let's check out the different values\n",
    "\n",
    "train_df.SexuponOutcome.unique()"
   ]
  },
  {
   "cell_type": "markdown",
   "metadata": {},
   "source": [
    "There are actually two variables in SexuponOutcome - whether or not the animal is neutered/spayed or not and then male and female.\n",
    "\n",
    "Let's break this down."
   ]
  },
  {
   "cell_type": "code",
   "execution_count": 17,
   "metadata": {
    "collapsed": false
   },
   "outputs": [],
   "source": [
    "intact_list = []\n",
    "gender_list = []\n",
    "\n",
    "def sort_sexuponoutcome(sex_string):\n",
    "    try:\n",
    "        intact, gender = sex_string.split()\n",
    "    except (AttributeError, ValueError) as e:\n",
    "        intact, gender = \"Neutered Male\".split()\n",
    "    \n",
    "    if intact == \"Intact\":\n",
    "        intact_list.append(1)\n",
    "    else:\n",
    "        intact_list.append(0)\n",
    "        \n",
    "    if gender == \"Male\":\n",
    "        gender_list.append(1)\n",
    "    else:\n",
    "        gender_list.append(0)\n"
   ]
  },
  {
   "cell_type": "code",
   "execution_count": 18,
   "metadata": {
    "collapsed": false
   },
   "outputs": [
    {
     "data": {
      "text/plain": [
       "26729"
      ]
     },
     "execution_count": 18,
     "metadata": {},
     "output_type": "execute_result"
    }
   ],
   "source": [
    "train_df.SexuponOutcome.apply(sort_sexuponoutcome)\n",
    "len(intact_list)"
   ]
  },
  {
   "cell_type": "code",
   "execution_count": 19,
   "metadata": {
    "collapsed": false
   },
   "outputs": [
    {
     "name": "stdout",
     "output_type": "stream",
     "text": [
      "0    Neutered Male\n",
      "1    Spayed Female\n",
      "2    Neutered Male\n",
      "3      Intact Male\n",
      "4    Neutered Male\n",
      "Name: SexuponOutcome, dtype: object [0, 0, 0, 1, 0] [1, 0, 1, 1, 1]\n"
     ]
    }
   ],
   "source": [
    "print(train_df.SexuponOutcome[:5], intact_list[:5], gender_list[:5])"
   ]
  },
  {
   "cell_type": "code",
   "execution_count": 20,
   "metadata": {
    "collapsed": true
   },
   "outputs": [],
   "source": [
    "train_df['Intact'] = intact_list\n",
    "train_df['Gender'] = gender_list"
   ]
  },
  {
   "cell_type": "code",
   "execution_count": 21,
   "metadata": {
    "collapsed": false
   },
   "outputs": [
    {
     "data": {
      "text/html": [
       "<div>\n",
       "<table border=\"1\" class=\"dataframe\">\n",
       "  <thead>\n",
       "    <tr style=\"text-align: right;\">\n",
       "      <th></th>\n",
       "      <th>AnimalID</th>\n",
       "      <th>Name</th>\n",
       "      <th>DateTime</th>\n",
       "      <th>OutcomeType</th>\n",
       "      <th>OutcomeSubtype</th>\n",
       "      <th>AnimalType</th>\n",
       "      <th>SexuponOutcome</th>\n",
       "      <th>AgeuponOutcome</th>\n",
       "      <th>Breed</th>\n",
       "      <th>Color</th>\n",
       "      <th>Intact</th>\n",
       "      <th>Gender</th>\n",
       "    </tr>\n",
       "  </thead>\n",
       "  <tbody>\n",
       "    <tr>\n",
       "      <th>0</th>\n",
       "      <td>A671945</td>\n",
       "      <td>Hambone</td>\n",
       "      <td>2014-02-12 18:22:00</td>\n",
       "      <td>Return_to_owner</td>\n",
       "      <td>NaN</td>\n",
       "      <td>1</td>\n",
       "      <td>Neutered Male</td>\n",
       "      <td>1 year</td>\n",
       "      <td>Shetland Sheepdog Mix</td>\n",
       "      <td>Brown/White</td>\n",
       "      <td>0</td>\n",
       "      <td>1</td>\n",
       "    </tr>\n",
       "    <tr>\n",
       "      <th>1</th>\n",
       "      <td>A656520</td>\n",
       "      <td>Emily</td>\n",
       "      <td>2013-10-13 12:44:00</td>\n",
       "      <td>Euthanasia</td>\n",
       "      <td>Suffering</td>\n",
       "      <td>0</td>\n",
       "      <td>Spayed Female</td>\n",
       "      <td>1 year</td>\n",
       "      <td>Domestic Shorthair Mix</td>\n",
       "      <td>Cream Tabby</td>\n",
       "      <td>0</td>\n",
       "      <td>0</td>\n",
       "    </tr>\n",
       "    <tr>\n",
       "      <th>2</th>\n",
       "      <td>A686464</td>\n",
       "      <td>Pearce</td>\n",
       "      <td>2015-01-31 12:28:00</td>\n",
       "      <td>Adoption</td>\n",
       "      <td>Foster</td>\n",
       "      <td>1</td>\n",
       "      <td>Neutered Male</td>\n",
       "      <td>2 years</td>\n",
       "      <td>Pit Bull Mix</td>\n",
       "      <td>Blue/White</td>\n",
       "      <td>0</td>\n",
       "      <td>1</td>\n",
       "    </tr>\n",
       "    <tr>\n",
       "      <th>3</th>\n",
       "      <td>A683430</td>\n",
       "      <td>NaN</td>\n",
       "      <td>2014-07-11 19:09:00</td>\n",
       "      <td>Transfer</td>\n",
       "      <td>Partner</td>\n",
       "      <td>0</td>\n",
       "      <td>Intact Male</td>\n",
       "      <td>3 weeks</td>\n",
       "      <td>Domestic Shorthair Mix</td>\n",
       "      <td>Blue Cream</td>\n",
       "      <td>1</td>\n",
       "      <td>1</td>\n",
       "    </tr>\n",
       "    <tr>\n",
       "      <th>4</th>\n",
       "      <td>A667013</td>\n",
       "      <td>NaN</td>\n",
       "      <td>2013-11-15 12:52:00</td>\n",
       "      <td>Transfer</td>\n",
       "      <td>Partner</td>\n",
       "      <td>1</td>\n",
       "      <td>Neutered Male</td>\n",
       "      <td>2 years</td>\n",
       "      <td>Lhasa Apso/Miniature Poodle</td>\n",
       "      <td>Tan</td>\n",
       "      <td>0</td>\n",
       "      <td>1</td>\n",
       "    </tr>\n",
       "  </tbody>\n",
       "</table>\n",
       "</div>"
      ],
      "text/plain": [
       "  AnimalID     Name             DateTime      OutcomeType OutcomeSubtype  \\\n",
       "0  A671945  Hambone  2014-02-12 18:22:00  Return_to_owner            NaN   \n",
       "1  A656520    Emily  2013-10-13 12:44:00       Euthanasia      Suffering   \n",
       "2  A686464   Pearce  2015-01-31 12:28:00         Adoption         Foster   \n",
       "3  A683430      NaN  2014-07-11 19:09:00         Transfer        Partner   \n",
       "4  A667013      NaN  2013-11-15 12:52:00         Transfer        Partner   \n",
       "\n",
       "   AnimalType SexuponOutcome AgeuponOutcome                        Breed  \\\n",
       "0           1  Neutered Male         1 year        Shetland Sheepdog Mix   \n",
       "1           0  Spayed Female         1 year       Domestic Shorthair Mix   \n",
       "2           1  Neutered Male        2 years                 Pit Bull Mix   \n",
       "3           0    Intact Male        3 weeks       Domestic Shorthair Mix   \n",
       "4           1  Neutered Male        2 years  Lhasa Apso/Miniature Poodle   \n",
       "\n",
       "         Color  Intact  Gender  \n",
       "0  Brown/White       0       1  \n",
       "1  Cream Tabby       0       0  \n",
       "2   Blue/White       0       1  \n",
       "3   Blue Cream       1       1  \n",
       "4          Tan       0       1  "
      ]
     },
     "execution_count": 21,
     "metadata": {},
     "output_type": "execute_result"
    }
   ],
   "source": [
    "train_df.head()"
   ]
  },
  {
   "cell_type": "markdown",
   "metadata": {
    "collapsed": false
   },
   "source": [
    "This seems like a good breakdown."
   ]
  },
  {
   "cell_type": "code",
   "execution_count": 22,
   "metadata": {
    "collapsed": false
   },
   "outputs": [
    {
     "data": {
      "text/plain": [
       "array(['1 year', '2 years', '3 weeks', '1 month', '5 months', '4 years',\n",
       "       '3 months', '2 weeks', '2 months', '10 months', '6 months',\n",
       "       '5 years', '7 years', '3 years', '4 months', '12 years', '9 years',\n",
       "       '6 years', '1 weeks', '11 years', '4 weeks', '7 months', '8 years',\n",
       "       '11 months', '4 days', '9 months', '8 months', '15 years',\n",
       "       '10 years', '1 week', '0 years', '14 years', '3 days', '6 days',\n",
       "       '5 days', '5 weeks', '2 days', '16 years', '1 day', '13 years', nan,\n",
       "       '17 years', '18 years', '19 years', '20 years'], dtype=object)"
      ]
     },
     "execution_count": 22,
     "metadata": {},
     "output_type": "execute_result"
    }
   ],
   "source": [
    "train_df.AgeuponOutcome.unique()"
   ]
  },
  {
   "cell_type": "markdown",
   "metadata": {},
   "source": [
    "And now we come to age.  This seems to be a text field, but pretty standard, so we'll just set up a quick function to group it into standard age groups (pulled from doggie websites). Possible issue: dogs of different sizes age differently. (Should we convert breed to size and modify the age feature?)"
   ]
  },
  {
   "cell_type": "code",
   "execution_count": 23,
   "metadata": {
    "collapsed": false
   },
   "outputs": [],
   "source": [
    "period_dict = {'year': 365, 'month': 30, 'week': 7, 'day': 1, 'day': 1}\n",
    "\n",
    "age_group = {0: \"infant\", 1: \"adolescent\", 2: \"adult\", 3: \"senior\"}\n",
    "\n",
    "def convert_age_to_group(age):\n",
    "    # Convert input age into age groupings\n",
    "    try:\n",
    "        number, period = str(age).split()\n",
    "        period = period.rstrip(\"s\")\n",
    "        days = int(number) * period_dict[period]\n",
    "        \n",
    "        if days < 365:\n",
    "            return 0\n",
    "        elif days < 730:\n",
    "            return 1\n",
    "        elif days < 2190:\n",
    "            return 2\n",
    "        else:\n",
    "            return 3\n",
    "        \n",
    "    except ValueError:\n",
    "        return 3\n",
    "    "
   ]
  },
  {
   "cell_type": "code",
   "execution_count": 24,
   "metadata": {
    "collapsed": false
   },
   "outputs": [
    {
     "data": {
      "text/plain": [
       "'infant'"
      ]
     },
     "execution_count": 24,
     "metadata": {},
     "output_type": "execute_result"
    }
   ],
   "source": [
    "# Test our script\n",
    "\n",
    "age_group[convert_age_to_group('8 weeks')]"
   ]
  },
  {
   "cell_type": "markdown",
   "metadata": {
    "collapsed": false
   },
   "source": [
    "And we transform the AgeuponOutcome column to our groups."
   ]
  },
  {
   "cell_type": "code",
   "execution_count": 25,
   "metadata": {
    "collapsed": false
   },
   "outputs": [],
   "source": [
    "train_df['AgeuponOutcome'] = train_df.AgeuponOutcome.apply(convert_age_to_group)"
   ]
  },
  {
   "cell_type": "code",
   "execution_count": 26,
   "metadata": {
    "collapsed": false
   },
   "outputs": [
    {
     "data": {
      "text/plain": [
       "array([1, 2, 0, 3])"
      ]
     },
     "execution_count": 26,
     "metadata": {},
     "output_type": "execute_result"
    }
   ],
   "source": [
    "train_df.AgeuponOutcome.unique()"
   ]
  },
  {
   "cell_type": "markdown",
   "metadata": {
    "collapsed": false
   },
   "source": [
    "Now that we've grouped our data, let's look at how age effects outcome."
   ]
  },
  {
   "cell_type": "code",
   "execution_count": 27,
   "metadata": {
    "collapsed": false
   },
   "outputs": [],
   "source": [
    "ages_n_outcomes = pd.crosstab(train_df.AgeuponOutcome, train_df.OutcomeType)"
   ]
  },
  {
   "cell_type": "code",
   "execution_count": 28,
   "metadata": {
    "collapsed": false
   },
   "outputs": [
    {
     "data": {
      "text/plain": [
       "<matplotlib.axes._subplots.AxesSubplot at 0x7f48eff0ce48>"
      ]
     },
     "execution_count": 28,
     "metadata": {},
     "output_type": "execute_result"
    },
    {
     "data": {
      "image/png": "[encoded data removed]",
      "text/plain": [
       "<matplotlib.figure.Figure at 0x7f48ef9b0e10>"
      ]
     },
     "metadata": {},
     "output_type": "display_data"
    }
   ],
   "source": [
    "ages_n_outcomes.plot.bar()"
   ]
  },
  {
   "cell_type": "markdown",
   "metadata": {},
   "source": [
    "Of interest here is the previous graph that showed that euthanized dogs were related to the OutcomeSubtypes for agression, etc."
   ]
  },
  {
   "cell_type": "markdown",
   "metadata": {},
   "source": [
    "So, we see that puppies are more likely to be adopted and adults are more likely to be euthanized, but looking at our counts again will help us interpret this data."
   ]
  },
  {
   "cell_type": "code",
   "execution_count": 29,
   "metadata": {
    "collapsed": false
   },
   "outputs": [
    {
     "data": {
      "image/png": "[encoded data removed]",
      "text/plain": [
       "<matplotlib.figure.Figure at 0x7f48ef7a97f0>"
      ]
     },
     "metadata": {},
     "output_type": "display_data"
    }
   ],
   "source": [
    "counts = train_df.groupby('AgeuponOutcome').count().plot.bar()"
   ]
  },
  {
   "cell_type": "markdown",
   "metadata": {},
   "source": [
    "We should really do the same thing with color... But we're short on time here."
   ]
  },
  {
   "cell_type": "code",
   "execution_count": 30,
   "metadata": {
    "collapsed": false
   },
   "outputs": [
    {
     "data": {
      "text/plain": [
       "array(['Brown/White', 'Cream Tabby', 'Blue/White', 'Blue Cream', 'Tan',\n",
       "       'Black/Tan', 'Blue Tabby', 'Brown Tabby', 'Red/White', 'White',\n",
       "       'Black', 'Silver', 'Brown', 'Black/Red', 'White/Cream',\n",
       "       'Orange Tabby/White', 'Black/White', 'Brown Brindle/White',\n",
       "       'Black/Brown', 'Orange Tabby', 'Chocolate/White', 'White/Tan',\n",
       "       'Cream Tabby/White', 'Blue', 'Calico', 'Torbie', 'Brown/Black',\n",
       "       'Yellow', 'Tricolor', 'White/Black', 'Tortie', 'Blue Tabby/White',\n",
       "       'Gray/White', 'Tan/Black', 'Tan/White', 'Buff', 'Brown Tabby/White',\n",
       "       'Red', 'Blue/Tan', 'Seal Point', 'Brown Brindle', 'White/Brown',\n",
       "       'Gray', 'Yellow Brindle/White', 'Fawn/White', 'Flame Point',\n",
       "       'Black Tabby/White', 'Tortie/Calico', 'Black/Brown Brindle',\n",
       "       'White/Gray', 'Tan/Silver', 'Red Tick/Black', 'White/Cream Tabby',\n",
       "       'Blue Merle', 'Chocolate/Tan', 'Sable', 'Brown Merle/White',\n",
       "       'Brown Tiger/White', 'Liver/White', 'White/Blue Tabby',\n",
       "       'Black/Gray', 'Cream', 'Chocolate', 'Blue Point', 'Apricot/White',\n",
       "       'Red Merle/Black', 'White/Brown Tabby', 'Blue Merle/White', 'Fawn',\n",
       "       'Lynx Point/White', 'Fawn/Black', 'Red Tick/White', 'Buff/Tan',\n",
       "       'Brown Brindle/Red Tick', 'White/Blue', 'Lilac Point', 'Buff/White',\n",
       "       'White/Orange Tabby', 'Tortie Point', 'Lynx Point', 'Tortie/White',\n",
       "       'Black/Tricolor', 'Apricot', 'Red/Tan', 'Tan/Brown',\n",
       "       'White/Tricolor', 'Brown/Tricolor', 'White/White', 'Gray Tabby',\n",
       "       'Sable/White', 'Blue Tiger/White', 'Yellow Brindle',\n",
       "       'White/Brown Brindle', 'Gold', 'Brown/Tan', 'Blue Tick',\n",
       "       'Torbie/White', 'Black Smoke/White', 'Blue Tabby/Orange',\n",
       "       'Red Merle', 'Tricolor/Blue', 'Yellow/White', 'Black Smoke',\n",
       "       'Calico Point', 'Blue Cream/Blue Tiger', 'Blue Merle/Gray',\n",
       "       'Brown/Silver', 'Tricolor/White', 'Sable/Black', 'Black Brindle',\n",
       "       'Tortie Point/Lynx Point', 'Brown Brindle/Black', 'Black/Buff',\n",
       "       'Calico/White', 'White/Orange', 'Black Tabby', 'Brown Merle',\n",
       "       'Black Brindle/White', 'Tan/Gray', 'Blue Merle/Brown',\n",
       "       'Red Merle/White', 'White/Chocolate Point', 'Silver/Black',\n",
       "       'White/Red', 'Cream/Red Tick', 'Cream/White', 'White/Liver',\n",
       "       'Chocolate/Gold', 'Calico Point/White', 'Brown/Brown',\n",
       "       'Seal Point/White', 'White/Black Brindle', 'Red/Black',\n",
       "       'Sable/Brown', 'Silver/Tan', 'White/Blue Merle',\n",
       "       'Calico/Brown Tabby', 'Silver Tabby', 'Tan/Blue', 'Blue Merle/Tan',\n",
       "       'Blue Tick/Black', 'Cream/Black', 'Chocolate/Tricolor',\n",
       "       'Gold/White', 'Silver/Brown', 'Cream/Gray', 'Black/Blue Tick',\n",
       "       'White/Chocolate', 'Black/Blue Merle', 'Red/Red Tick',\n",
       "       'Tricolor/Black', 'Orange', 'Black/Orange', 'Tan/Buff',\n",
       "       'Chocolate Point/White', 'Orange/White', 'Tortie/Blue Cream',\n",
       "       'White/Black Tabby', 'Brown/Red Tick', 'Blue/Brown Brindle',\n",
       "       'Black/Silver Tabby', 'Tan/Red', 'White/Lynx Point', 'Gray/Silver',\n",
       "       'Red/Gold', 'White/Buff', 'Tan/Gold', 'Blue Tabby/Blue Cream',\n",
       "       'Cream/Tan', 'Calico/Black', 'Sable/Tan', 'Blue/Black',\n",
       "       'Brown Tabby/Black', 'Red/Cream', 'Brown Tiger', 'Agouti',\n",
       "       'Gray/Tan', 'Calico/Tricolor', 'Black/Black', 'White/Blue Cream',\n",
       "       'Brown/Gray', 'Blue Point/White', 'Gray Tabby/White',\n",
       "       'White/Brown Tiger', 'Black/Cream', 'Red Tick/Tan',\n",
       "       'Orange Tabby/Apricot', 'Red Tick/Brown', 'White/Brown Merle',\n",
       "       'Fawn/Tricolor', 'Blue Smoke', 'Chocolate/Brown Brindle',\n",
       "       'Black Brindle/Black', 'Tan/Cream', 'Black Tabby/Orange',\n",
       "       'Apricot/Brown', 'Gray/Black', 'Buff/Red', 'Tan/Brown Brindle',\n",
       "       'Brown/Red', 'Black/Silver', 'Red Tick', 'Blue Tick/White',\n",
       "       'Silver Tabby/White', 'White/Apricot', 'White/Red Merle',\n",
       "       'Fawn/Brown Brindle', 'Orange/Tan', 'Black/Black Smoke',\n",
       "       'Brown/Chocolate', 'Liver Tick', 'Cream/Red',\n",
       "       'Black Smoke/Brown Tabby', 'Gray/Cream', 'Chocolate Point',\n",
       "       'Blue Merle/Tricolor', 'Red/Blue', 'Tricolor/Brown Merle',\n",
       "       'Blue/Tortie', 'Blue Smoke/Brown', 'Red/Brown', 'White/Silver',\n",
       "       'Tricolor/Brown', 'Chocolate/Brown', 'Blue Cream/White',\n",
       "       'Chocolate/Red', 'Cream/Brown', 'Blue Merle/Cream', 'Buff/Black',\n",
       "       'Tortie/Orange', 'Brown Merle/Black', 'Seal Point/Brown',\n",
       "       'Blue Tabby/Tan', 'Red/Red Merle', 'Tortie/Brown', 'Sable/Cream',\n",
       "       'Black/Black Tabby', 'Brown Tabby/Gray', 'Tan/Tan',\n",
       "       'Blue Tick/Brown', 'Chocolate/Black Smoke', 'Brown/Black Tabby',\n",
       "       'Brown/Buff', 'Yellow Brindle/Tan', 'Blue Tick/Tan',\n",
       "       'Red Tick/Brown Merle', 'White/Yellow', 'Lynx Point/Brown Tabby',\n",
       "       'Torbie/Brown', 'Liver/Buff', 'Tricolor/Tan', 'Chocolate/Black',\n",
       "       'Pink', 'Black/Blue', 'White/Gold', 'Red Tick/Red',\n",
       "       'Black/Yellow Brindle', 'Black/Chocolate', 'Silver Lynx Point',\n",
       "       'Brown/Brown Merle', 'Orange Tabby/Black', 'Tortie/Black',\n",
       "       'Brown Tabby/Brown', 'Brown Brindle/Tan', 'Torbie/Blue Cream',\n",
       "       'Black Brindle/Brown', 'Red/Tricolor', 'Blue/Yellow Brindle',\n",
       "       'White/Black Smoke', 'Ruddy/Cream', 'Blue Merle/Black',\n",
       "       'White/Yellow Brindle', 'Blue/Cream', 'Gold/Yellow', 'Blue Tiger',\n",
       "       'Tan/Brown Merle', 'White/Red Tick', 'Buff/Yellow',\n",
       "       'Tricolor/Chocolate', 'Silver/White', 'Gold/Tan', 'Gold/Gold',\n",
       "       'Tortie Point/White', 'Blue Tick/Red Tick', 'Brown Merle/Tan',\n",
       "       'Red Tick/Blue Tick', 'Brown/Blue Smoke', 'Liver/Tan',\n",
       "       'Red Merle/Tan', 'Black/Black Brindle', 'Blue Cream/Buff',\n",
       "       'Gray/Brown', 'Blue/Orange', 'Brown Merle/Blue Merle', 'White/Pink',\n",
       "       'Calico/Brown', 'Torbie/Calico', 'White/Gray Tabby',\n",
       "       'Brown Brindle/Blue', 'Brown/Blue', 'Blue Merle/Red',\n",
       "       'Brown Brindle/Brown Merle', 'Blue/Brown', 'Calico/Orange Tabby',\n",
       "       'White/Flame Point', 'Brown/Cream', 'Brown Brindle/Brown Brindle',\n",
       "       'Blue Merle/Blue Merle', 'White/Calico', 'Fawn/Brown', 'Gold/Black',\n",
       "       'Chocolate/Brown Merle', 'White/Blue Tick', 'Agouti/Brown Tabby',\n",
       "       'Brown Tabby/Tortie', 'Black/Yellow', 'Chocolate/Red Tick',\n",
       "       'Gray/Red', 'Brown Brindle/Blue Tick', 'Tan/Apricot',\n",
       "       'Blue Tick/Brown Brindle', 'Liver Tick/White', 'Cream/Seal Point',\n",
       "       'Lynx Point/Gray Tabby', 'Red/Buff', 'Tan/Tricolor',\n",
       "       'Blue Tabby/Cream', 'Black Tiger/White', 'Silver/Chocolate',\n",
       "       'Tricolor/Silver', 'Blue Merle/Red Merle', 'Silver Tabby/Black',\n",
       "       'Tortie/Black Smoke', 'Orange/Orange Tabby', 'Fawn/Blue',\n",
       "       'Black/Brown Merle', 'Tricolor/Blue Merle', 'Blue Cream/Tortie',\n",
       "       'Orange Tabby/Orange', 'Blue Tick/Red', 'Fawn/Tan',\n",
       "       'Brown Tabby/Orange', 'Yellow Brindle/Blue',\n",
       "       'Brown Brindle/Blue Cream', 'Yellow/Black', 'Calico/Blue Cream',\n",
       "       'Tan/Yellow Brindle', 'Black Brindle/Brown Brindle',\n",
       "       'Chocolate/Cream', 'Blue Cream/Blue Tabby', 'Calico/Blue Tabby',\n",
       "       'Orange Tiger', 'Cream/Orange', 'Sable/Red', 'Buff/Gray',\n",
       "       'Gold/Buff', 'Silver/Red', 'Tricolor/Calico', 'Brown/Black Brindle',\n",
       "       'Chocolate/Gray', 'Brown Tabby/Gray Tabby', 'Yellow/Yellow',\n",
       "       'Gray Tabby/Black', 'Red/Silver', 'Buff/Brown', 'Sable/Buff'], dtype=object)"
      ]
     },
     "execution_count": 30,
     "metadata": {},
     "output_type": "execute_result"
    }
   ],
   "source": [
    "train_df.Color.unique()"
   ]
  },
  {
   "cell_type": "markdown",
   "metadata": {},
   "source": [
    "Some people really like their animals...  That is a lot of colours."
   ]
  },
  {
   "cell_type": "code",
   "execution_count": 31,
   "metadata": {
    "collapsed": false
   },
   "outputs": [
    {
     "data": {
      "text/plain": [
       "366"
      ]
     },
     "execution_count": 31,
     "metadata": {},
     "output_type": "execute_result"
    }
   ],
   "source": [
    "len(train_df.Color.unique())"
   ]
  },
  {
   "cell_type": "markdown",
   "metadata": {},
   "source": [
    "We're still exploring here, so we will radically simplify the list."
   ]
  },
  {
   "cell_type": "code",
   "execution_count": 32,
   "metadata": {
    "collapsed": false
   },
   "outputs": [],
   "source": [
    "def simplify_colors(color):\n",
    "    sc = color.lower().replace(\"/\",\" \").split(\" \")\n",
    "    return sc[0]"
   ]
  },
  {
   "cell_type": "code",
   "execution_count": 33,
   "metadata": {
    "collapsed": false
   },
   "outputs": [
    {
     "data": {
      "text/plain": [
       "'black'"
      ]
     },
     "execution_count": 33,
     "metadata": {},
     "output_type": "execute_result"
    }
   ],
   "source": [
    "simplify_colors(\"Black Brindle/Brown\")"
   ]
  },
  {
   "cell_type": "code",
   "execution_count": 34,
   "metadata": {
    "collapsed": false
   },
   "outputs": [],
   "source": [
    "train_df.Color = train_df.Color.apply(simplify_colors)"
   ]
  },
  {
   "cell_type": "code",
   "execution_count": 35,
   "metadata": {
    "collapsed": false
   },
   "outputs": [
    {
     "data": {
      "text/plain": [
       "29"
      ]
     },
     "execution_count": 35,
     "metadata": {},
     "output_type": "execute_result"
    }
   ],
   "source": [
    "len(train_df.Color.unique())"
   ]
  },
  {
   "cell_type": "code",
   "execution_count": 36,
   "metadata": {
    "collapsed": false
   },
   "outputs": [],
   "source": [
    "color = {}\n",
    "\n",
    "transform_string_label_to_integer(color, train_df.Color)\n",
    "    \n",
    "train_df['Color'] = train_df.Color.map( color ).astype(int)"
   ]
  },
  {
   "cell_type": "code",
   "execution_count": 37,
   "metadata": {
    "collapsed": false
   },
   "outputs": [],
   "source": [
    "# We could also do something very cool with text analysis for names, but we'll keep it simple and go length\n",
    "\n",
    "train_df['NameLength'] = train_df.Name.apply(lambda x: len(str(x)))"
   ]
  },
  {
   "cell_type": "markdown",
   "metadata": {},
   "source": [
    "We've done a lot of pre-processing and have a good idea what our dataset looks like.  The Breed feature will be tricky, though, so let's save what we've done."
   ]
  },
  {
   "cell_type": "code",
   "execution_count": 38,
   "metadata": {
    "collapsed": false
   },
   "outputs": [
    {
     "data": {
      "text/html": [
       "<div>\n",
       "<table border=\"1\" class=\"dataframe\">\n",
       "  <thead>\n",
       "    <tr style=\"text-align: right;\">\n",
       "      <th></th>\n",
       "      <th>AnimalID</th>\n",
       "      <th>Name</th>\n",
       "      <th>DateTime</th>\n",
       "      <th>OutcomeType</th>\n",
       "      <th>OutcomeSubtype</th>\n",
       "      <th>AnimalType</th>\n",
       "      <th>SexuponOutcome</th>\n",
       "      <th>AgeuponOutcome</th>\n",
       "      <th>Breed</th>\n",
       "      <th>Color</th>\n",
       "      <th>Intact</th>\n",
       "      <th>Gender</th>\n",
       "      <th>NameLength</th>\n",
       "    </tr>\n",
       "  </thead>\n",
       "  <tbody>\n",
       "    <tr>\n",
       "      <th>0</th>\n",
       "      <td>A671945</td>\n",
       "      <td>Hambone</td>\n",
       "      <td>2014-02-12 18:22:00</td>\n",
       "      <td>Return_to_owner</td>\n",
       "      <td>NaN</td>\n",
       "      <td>1</td>\n",
       "      <td>Neutered Male</td>\n",
       "      <td>1</td>\n",
       "      <td>Shetland Sheepdog Mix</td>\n",
       "      <td>0</td>\n",
       "      <td>0</td>\n",
       "      <td>1</td>\n",
       "      <td>7</td>\n",
       "    </tr>\n",
       "    <tr>\n",
       "      <th>1</th>\n",
       "      <td>A656520</td>\n",
       "      <td>Emily</td>\n",
       "      <td>2013-10-13 12:44:00</td>\n",
       "      <td>Euthanasia</td>\n",
       "      <td>Suffering</td>\n",
       "      <td>0</td>\n",
       "      <td>Spayed Female</td>\n",
       "      <td>1</td>\n",
       "      <td>Domestic Shorthair Mix</td>\n",
       "      <td>1</td>\n",
       "      <td>0</td>\n",
       "      <td>0</td>\n",
       "      <td>5</td>\n",
       "    </tr>\n",
       "    <tr>\n",
       "      <th>2</th>\n",
       "      <td>A686464</td>\n",
       "      <td>Pearce</td>\n",
       "      <td>2015-01-31 12:28:00</td>\n",
       "      <td>Adoption</td>\n",
       "      <td>Foster</td>\n",
       "      <td>1</td>\n",
       "      <td>Neutered Male</td>\n",
       "      <td>2</td>\n",
       "      <td>Pit Bull Mix</td>\n",
       "      <td>2</td>\n",
       "      <td>0</td>\n",
       "      <td>1</td>\n",
       "      <td>6</td>\n",
       "    </tr>\n",
       "    <tr>\n",
       "      <th>3</th>\n",
       "      <td>A683430</td>\n",
       "      <td>NaN</td>\n",
       "      <td>2014-07-11 19:09:00</td>\n",
       "      <td>Transfer</td>\n",
       "      <td>Partner</td>\n",
       "      <td>0</td>\n",
       "      <td>Intact Male</td>\n",
       "      <td>0</td>\n",
       "      <td>Domestic Shorthair Mix</td>\n",
       "      <td>2</td>\n",
       "      <td>1</td>\n",
       "      <td>1</td>\n",
       "      <td>3</td>\n",
       "    </tr>\n",
       "    <tr>\n",
       "      <th>4</th>\n",
       "      <td>A667013</td>\n",
       "      <td>NaN</td>\n",
       "      <td>2013-11-15 12:52:00</td>\n",
       "      <td>Transfer</td>\n",
       "      <td>Partner</td>\n",
       "      <td>1</td>\n",
       "      <td>Neutered Male</td>\n",
       "      <td>2</td>\n",
       "      <td>Lhasa Apso/Miniature Poodle</td>\n",
       "      <td>3</td>\n",
       "      <td>0</td>\n",
       "      <td>1</td>\n",
       "      <td>3</td>\n",
       "    </tr>\n",
       "  </tbody>\n",
       "</table>\n",
       "</div>"
      ],
      "text/plain": [
       "  AnimalID     Name             DateTime      OutcomeType OutcomeSubtype  \\\n",
       "0  A671945  Hambone  2014-02-12 18:22:00  Return_to_owner            NaN   \n",
       "1  A656520    Emily  2013-10-13 12:44:00       Euthanasia      Suffering   \n",
       "2  A686464   Pearce  2015-01-31 12:28:00         Adoption         Foster   \n",
       "3  A683430      NaN  2014-07-11 19:09:00         Transfer        Partner   \n",
       "4  A667013      NaN  2013-11-15 12:52:00         Transfer        Partner   \n",
       "\n",
       "   AnimalType SexuponOutcome  AgeuponOutcome                        Breed  \\\n",
       "0           1  Neutered Male               1        Shetland Sheepdog Mix   \n",
       "1           0  Spayed Female               1       Domestic Shorthair Mix   \n",
       "2           1  Neutered Male               2                 Pit Bull Mix   \n",
       "3           0    Intact Male               0       Domestic Shorthair Mix   \n",
       "4           1  Neutered Male               2  Lhasa Apso/Miniature Poodle   \n",
       "\n",
       "   Color  Intact  Gender  NameLength  \n",
       "0      0       0       1           7  \n",
       "1      1       0       0           5  \n",
       "2      2       0       1           6  \n",
       "3      2       1       1           3  \n",
       "4      3       0       1           3  "
      ]
     },
     "execution_count": 38,
     "metadata": {},
     "output_type": "execute_result"
    }
   ],
   "source": [
    "train_df.interpolate(inplace=True) # could have used dropna().median()\n",
    "train_df.head()"
   ]
  },
  {
   "cell_type": "code",
   "execution_count": 39,
   "metadata": {
    "collapsed": false
   },
   "outputs": [],
   "source": [
    "# Save our clean dataframe to csv so we don't need to do this again.\n",
    "train_df.to_csv(os.path.join(data_dir, \"animals_clean_train.csv\"))"
   ]
  },
  {
   "cell_type": "markdown",
   "metadata": {},
   "source": [
    "### Gensim LSI for Breed types"
   ]
  },
  {
   "cell_type": "code",
   "execution_count": 40,
   "metadata": {
    "collapsed": false
   },
   "outputs": [],
   "source": [
    "# Let's reload our dataframe.\n",
    "\n",
    "train_df = pd.read_csv(os.path.join(data_dir, \"animals_clean_train.csv\"), index_col=0)"
   ]
  },
  {
   "cell_type": "code",
   "execution_count": 41,
   "metadata": {
    "collapsed": false
   },
   "outputs": [
    {
     "data": {
      "text/html": [
       "<div>\n",
       "<table border=\"1\" class=\"dataframe\">\n",
       "  <thead>\n",
       "    <tr style=\"text-align: right;\">\n",
       "      <th></th>\n",
       "      <th>AnimalID</th>\n",
       "      <th>Name</th>\n",
       "      <th>DateTime</th>\n",
       "      <th>OutcomeType</th>\n",
       "      <th>OutcomeSubtype</th>\n",
       "      <th>AnimalType</th>\n",
       "      <th>SexuponOutcome</th>\n",
       "      <th>AgeuponOutcome</th>\n",
       "      <th>Breed</th>\n",
       "      <th>Color</th>\n",
       "      <th>Intact</th>\n",
       "      <th>Gender</th>\n",
       "      <th>NameLength</th>\n",
       "    </tr>\n",
       "  </thead>\n",
       "  <tbody>\n",
       "    <tr>\n",
       "      <th>0</th>\n",
       "      <td>A671945</td>\n",
       "      <td>Hambone</td>\n",
       "      <td>2014-02-12 18:22:00</td>\n",
       "      <td>Return_to_owner</td>\n",
       "      <td>NaN</td>\n",
       "      <td>1</td>\n",
       "      <td>Neutered Male</td>\n",
       "      <td>1</td>\n",
       "      <td>Shetland Sheepdog Mix</td>\n",
       "      <td>0</td>\n",
       "      <td>0</td>\n",
       "      <td>1</td>\n",
       "      <td>7</td>\n",
       "    </tr>\n",
       "    <tr>\n",
       "      <th>1</th>\n",
       "      <td>A656520</td>\n",
       "      <td>Emily</td>\n",
       "      <td>2013-10-13 12:44:00</td>\n",
       "      <td>Euthanasia</td>\n",
       "      <td>Suffering</td>\n",
       "      <td>0</td>\n",
       "      <td>Spayed Female</td>\n",
       "      <td>1</td>\n",
       "      <td>Domestic Shorthair Mix</td>\n",
       "      <td>1</td>\n",
       "      <td>0</td>\n",
       "      <td>0</td>\n",
       "      <td>5</td>\n",
       "    </tr>\n",
       "    <tr>\n",
       "      <th>2</th>\n",
       "      <td>A686464</td>\n",
       "      <td>Pearce</td>\n",
       "      <td>2015-01-31 12:28:00</td>\n",
       "      <td>Adoption</td>\n",
       "      <td>Foster</td>\n",
       "      <td>1</td>\n",
       "      <td>Neutered Male</td>\n",
       "      <td>2</td>\n",
       "      <td>Pit Bull Mix</td>\n",
       "      <td>2</td>\n",
       "      <td>0</td>\n",
       "      <td>1</td>\n",
       "      <td>6</td>\n",
       "    </tr>\n",
       "    <tr>\n",
       "      <th>3</th>\n",
       "      <td>A683430</td>\n",
       "      <td>NaN</td>\n",
       "      <td>2014-07-11 19:09:00</td>\n",
       "      <td>Transfer</td>\n",
       "      <td>Partner</td>\n",
       "      <td>0</td>\n",
       "      <td>Intact Male</td>\n",
       "      <td>0</td>\n",
       "      <td>Domestic Shorthair Mix</td>\n",
       "      <td>2</td>\n",
       "      <td>1</td>\n",
       "      <td>1</td>\n",
       "      <td>3</td>\n",
       "    </tr>\n",
       "    <tr>\n",
       "      <th>4</th>\n",
       "      <td>A667013</td>\n",
       "      <td>NaN</td>\n",
       "      <td>2013-11-15 12:52:00</td>\n",
       "      <td>Transfer</td>\n",
       "      <td>Partner</td>\n",
       "      <td>1</td>\n",
       "      <td>Neutered Male</td>\n",
       "      <td>2</td>\n",
       "      <td>Lhasa Apso/Miniature Poodle</td>\n",
       "      <td>3</td>\n",
       "      <td>0</td>\n",
       "      <td>1</td>\n",
       "      <td>3</td>\n",
       "    </tr>\n",
       "  </tbody>\n",
       "</table>\n",
       "</div>"
      ],
      "text/plain": [
       "  AnimalID     Name             DateTime      OutcomeType OutcomeSubtype  \\\n",
       "0  A671945  Hambone  2014-02-12 18:22:00  Return_to_owner            NaN   \n",
       "1  A656520    Emily  2013-10-13 12:44:00       Euthanasia      Suffering   \n",
       "2  A686464   Pearce  2015-01-31 12:28:00         Adoption         Foster   \n",
       "3  A683430      NaN  2014-07-11 19:09:00         Transfer        Partner   \n",
       "4  A667013      NaN  2013-11-15 12:52:00         Transfer        Partner   \n",
       "\n",
       "   AnimalType SexuponOutcome  AgeuponOutcome                        Breed  \\\n",
       "0           1  Neutered Male               1        Shetland Sheepdog Mix   \n",
       "1           0  Spayed Female               1       Domestic Shorthair Mix   \n",
       "2           1  Neutered Male               2                 Pit Bull Mix   \n",
       "3           0    Intact Male               0       Domestic Shorthair Mix   \n",
       "4           1  Neutered Male               2  Lhasa Apso/Miniature Poodle   \n",
       "\n",
       "   Color  Intact  Gender  NameLength  \n",
       "0      0       0       1           7  \n",
       "1      1       0       0           5  \n",
       "2      2       0       1           6  \n",
       "3      2       1       1           3  \n",
       "4      3       0       1           3  "
      ]
     },
     "execution_count": 41,
     "metadata": {},
     "output_type": "execute_result"
    }
   ],
   "source": [
    "train_df.head()"
   ]
  },
  {
   "cell_type": "markdown",
   "metadata": {},
   "source": [
    "And look at the Breed feature."
   ]
  },
  {
   "cell_type": "code",
   "execution_count": 42,
   "metadata": {
    "collapsed": false
   },
   "outputs": [
    {
     "data": {
      "text/plain": [
       "1380"
      ]
     },
     "execution_count": 42,
     "metadata": {},
     "output_type": "execute_result"
    }
   ],
   "source": [
    "len(train_df.Breed.unique())"
   ]
  },
  {
   "cell_type": "markdown",
   "metadata": {},
   "source": [
    "That is a lot of breeds..."
   ]
  },
  {
   "cell_type": "code",
   "execution_count": null,
   "metadata": {
    "collapsed": false
   },
   "outputs": [],
   "source": []
  },
  {
   "cell_type": "code",
   "execution_count": null,
   "metadata": {
    "collapsed": false
   },
   "outputs": [],
   "source": []
  },
  {
   "cell_type": "markdown",
   "metadata": {
    "collapsed": true
   },
   "source": [
    "### Document tokenization"
   ]
  },
  {
   "cell_type": "code",
   "execution_count": 43,
   "metadata": {
    "collapsed": true
   },
   "outputs": [],
   "source": [
    "def split_into_lemmas(message):\n",
    "    # transform texts into tokens and preprocess\n",
    "    words = TextBlob(message.replace(\"/\", \" \").lower()).words\n",
    "    # for each word, take its \"base form\" = lemma \n",
    "    return [word.lemma for word in words]"
   ]
  },
  {
   "cell_type": "code",
   "execution_count": 44,
   "metadata": {
    "collapsed": false
   },
   "outputs": [],
   "source": [
    "breed_dict = train_df.Breed.apply(split_into_lemmas)"
   ]
  },
  {
   "cell_type": "code",
   "execution_count": 45,
   "metadata": {
    "collapsed": false
   },
   "outputs": [
    {
     "data": {
      "text/plain": [
       "0           [shetland, sheepdog, mix]\n",
       "1          [domestic, shorthair, mix]\n",
       "2                    [pit, bull, mix]\n",
       "3          [domestic, shorthair, mix]\n",
       "4    [lhasa, apso, miniature, poodle]\n",
       "Name: Breed, dtype: object"
      ]
     },
     "execution_count": 45,
     "metadata": {},
     "output_type": "execute_result"
    }
   ],
   "source": [
    "breed_dict[:5]"
   ]
  },
  {
   "cell_type": "code",
   "execution_count": 46,
   "metadata": {
    "collapsed": false
   },
   "outputs": [
    {
     "name": "stdout",
     "output_type": "stream",
     "text": [
      "{'pembroke': 145, 'affenpinscher': 161, 'greater': 144, 'border': 59, 'van': 244, 'manchester': 68, 'keeshond': 202, 'spanish': 254, 'bichon': 140, 'span': 166, 'foxhound': 45, 'staffordshire': 30, 'wirehaired': 206, 'elkhound': 247, 'toy': 146, 'jindo': 199, 'french': 184, 'pyrenees': 17, 'chihuahua': 11, 'mexican': 113, 'himalayan': 162, 'terrier': 13, 'smooth': 35, 'hairless': 114, 'crested': 223, 'otterhound': 233, 'miniature': 8, 'old': 149, 'sphynx': 236, 'great': 18, 'cocker': 84, 'scottish': 106, 'akita': 93, 'rough': 109, 'boston': 151, 'retriever': 21, 'tervuren': 255, 'bedlington': 225, 'poodle': 7, 'pug': 136, 'spaniel': 85, 'west': 122, 'chow': 51, 'treeing': 58, 'wheaten': 168, 'collie': 34, 'airedale': 82, 'medium': 54, 'siberian': 70, 'skye': 167, 'labrador': 33, 'english': 46, 'norfolk': 105, 'pharaoh': 209, 'doberman': 75, 'tolling': 227, 'bengal': 139, 'cymric': 251, 'swiss': 143, 'newfoundland': 153, 'cat': 249, 'russell': 62, 'chinese': 92, 'canario': 222, 'brown': 258, 'imaal': 219, 'basenji': 159, 'pointing': 230, 'bluetick': 237, 'shepherd': 29, 'pinsch': 76, 'scotia': 226, 'vallhund': 118, 'rex': 108, 'coated': 169, 'lacy': 38, 'tzu': 86, 'beauceron': 125, 'pomeranian': 131, 'corgi': 49, 'pequeno': 191, 'silky': 133, 'wire': 179, 'alaskan': 172, 'queensland': 23, 'brindle': 212, 'forest': 250, 'pit': 6, 'podengo': 190, 'bearded': 210, 'cornish': 193, 'weimaraner': 120, 'entlebucher': 235, 'cattle': 71, 'pbgv': 188, 'ridgeback': 89, 'japanese': 214, 'springer': 182, 'canaan': 194, 'bulldog': 94, 'field': 201, 'plott': 26, 'griffon': 135, 'swedish': 117, 'spinone': 260, 'longhair': 36, 'unknown': 208, 'tennesse': 211, 'afghan': 116, 'cairn': 12, 'tan': 104, 'setter': 142, 'bruss': 134, 'de': 95, 'mountain': 99, 'black': 40, 'dachshund': 42, 'finnish': 197, 'welsh': 50, 'siamese': 52, 'angora': 19, 'saluki': 243, 'husky': 69, 'sheepdog': 2, 'hound': 27, 'vizsla': 47, 'bloodhound': 160, 'landseer': 180, 'kuvasz': 189, 'mastiff': 155, 'turkish': 245, 'apso': 9, 'ibizan': 150, 'whippet': 77, 'german': 28, 'bay': 79, 'redbone': 115, 'frise': 141, 'american': 14, 'patterdale': 205, 'norwich': 163, 'mix': 1, 'malamute': 183, 'wolfhound': 178, 'argentino': 60, 'anatol': 90, 'water': 253, 'golden': 138, 'greyhound': 101, 'shetland': 0, 'lhasa': 10, 'shorthair': 4, 'havanese': 186, 'soft': 170, 'basset': 81, 'yorkshire': 16, 'maine': 127, 'australian': 73, 'eskimo': 176, 'retr': 78, 'presa': 221, 'snowshoe': 110, 'chin': 242, 'irish': 177, 'cane': 215, 'nova': 229, 'carolina': 156, 'papillon': 119, 'coonhound': 57, 'cavalier': 187, 'glen': 218, 'sharpei': 91, 'cur': 39, 'dane': 55, 'boxer': 25, 'manx': 83, 'bombay': 181, 'neapolitan': 224, 'pekinese': 126, 'fox': 148, 'exotic': 103, 'bobtail': 213, 'bernese': 98, 'terr': 204, 'russian': 31, 'devon': 107, 'mouth': 41, 'schipperke': 129, 'cardigan': 48, 'italiano': 261, 'schnauzer': 15, 'catahoula': 74, 'kelpie': 112, 'lowchen': 256, 'belgian': 174, 'giant': 171, 'parson': 154, 'norwegian': 248, 'pixiebob': 220, 'rat': 66, 'blue': 32, 'bernard': 157, 'bordeaux': 96, 'shiba': 123, 'hovawart': 246, 'brittany': 152, 'feist': 231, 'chesa': 80, 'dogo': 61, 'highland': 121, 'dalmatian': 173, 'persian': 185, 'borzoi': 259, 'abyssinian': 240, 'tibetan': 64, 'british': 207, 'rhod': 88, 'of': 217, 'ocicat': 238, 'munchkin': 241, 'coon': 128, 'burmese': 132, 'picardy': 203, 'ragdoll': 164, 'bullmastiff': 147, 'standard': 130, 'inu': 124, 'corso': 216, 'st': 158, 'italian': 100, 'tonkinese': 234, 'duck': 228, 'wirehair': 102, 'havana': 257, 'boerboel': 137, 'shih': 87, 'port': 252, 'balinese': 196, 'samoyed': 232, 'javanese': 200, 'jack': 63, 'bull': 5, 'walker': 56, 'boykin': 165, 'beagle': 37, 'dutch': 195, 'rottweiler': 67, 'maltese': 43, 'flat': 22, 'dog': 72, 'pinscher': 65, 'leonberger': 192, 'heeler': 24, 'dogue': 97, 'domestic': 3, 'malinois': 175, 'sealyham': 239, 'hair': 53, 'coat': 20, 'pointer': 44, 'spitz': 198, 'harrier': 111}\n"
     ]
    }
   ],
   "source": [
    "dictionary = corpora.Dictionary(breed_dict)\n",
    "dictionary.save(os.path.join(data_dir, \"breeds.dict\"))\n",
    "print(dictionary.token2id)"
   ]
  },
  {
   "cell_type": "code",
   "execution_count": 47,
   "metadata": {
    "collapsed": false
   },
   "outputs": [
    {
     "data": {
      "text/plain": [
       "262"
      ]
     },
     "execution_count": 47,
     "metadata": {},
     "output_type": "execute_result"
    }
   ],
   "source": []
  },
  {
   "cell_type": "code",
   "execution_count": 48,
   "metadata": {
    "collapsed": false
   },
   "outputs": [
    {
     "name": "stdout",
     "output_type": "stream",
     "text": [
      "Dictionary(228 unique tokens: ['pembroke', 'mastiff', 'greater', 'border', 'van']...)\n"
     ]
    }
   ],
   "source": [
    "stoplist = '''\n",
    "mix blend mutt black blue red white brown orange st terr de tan smooth\n",
    "soft dog long short hair\n",
    "'''.split()\n",
    "stop_ids = [dictionary.token2id[stopword] for stopword in stoplist \n",
    "            if stopword in dictionary.token2id]\n",
    "once_ids = [tokenid for tokenid, docfreq in dictionary.dfs.items() if docfreq == 1]\n",
    "dictionary.filter_tokens(stop_ids + once_ids) # remove stop words and words that appear only once\n",
    "dictionary.compactify() # remove gaps in id sequence after words that were removed\n",
    "print(dictionary)"
   ]
  },
  {
   "cell_type": "markdown",
   "metadata": {},
   "source": [
    "Some of the issues here:\n",
    "\n",
    "* Some of the breeds have colours including (which double counts the feature)\n",
    "* There are a lot of generic terms, like mix & medium that don't add very much value."
   ]
  },
  {
   "cell_type": "code",
   "execution_count": 49,
   "metadata": {
    "collapsed": true
   },
   "outputs": [],
   "source": [
    "corpus = [dictionary.doc2bow(text) for text in breed_dict]"
   ]
  },
  {
   "cell_type": "code",
   "execution_count": 50,
   "metadata": {
    "collapsed": false
   },
   "outputs": [
    {
     "name": "stdout",
     "output_type": "stream",
     "text": [
      "26729\n"
     ]
    }
   ],
   "source": [
    "corpora.MmCorpus.serialize(os.path.join(data_dir, \"breed_corpus.mm\"), corpus)\n",
    "print(len(corpus))"
   ]
  },
  {
   "cell_type": "markdown",
   "metadata": {},
   "source": [
    "Okay, so we have our corpus, but we still don't know the right number of topics.  For this we'll use Latent Semantic Indexing (LSI) via Sklearn.  The code here is pulled from a great \"Topic Modelling with Gensim\" in the Salmon Run page.\n",
    "\n",
    "http://sujitpal.blogspot.ca/2014/08/topic-modeling-with-gensim-over-past.html"
   ]
  },
  {
   "cell_type": "markdown",
   "metadata": {},
   "source": [
    "Next we need to set up a Term-frequency, inverse document frequency transformer. This is a statistical way of determining which words are most important out of a corpus.\n",
    "\n",
    "You can learn more about feature extraction here: http://scikit-learn.org/stable/modules/feature_extraction.html"
   ]
  },
  {
   "cell_type": "code",
   "execution_count": 51,
   "metadata": {
    "collapsed": false
   },
   "outputs": [
    {
     "name": "stdout",
     "output_type": "stream",
     "text": [
      "26729 26729\n"
     ]
    }
   ],
   "source": [
    "tfidf = models.TfidfModel(corpus, normalize=True)\n",
    "corpus_tfidf = tfidf[corpus]\n",
    "print(len(corpus_tfidf), len(train_df))"
   ]
  },
  {
   "cell_type": "code",
   "execution_count": 66,
   "metadata": {
    "collapsed": true
   },
   "outputs": [],
   "source": [
    "def split_into_lemmas(message):\n",
    "    # transform texts into tokens and preprocess\n",
    "    words = TextBlob(message.replace(\"/\", \" \").lower()).words\n",
    "    # for each word, take its \"base form\" = lemma \n",
    "    return [word.lemma for word in words]"
   ]
  },
  {
   "cell_type": "code",
   "execution_count": null,
   "metadata": {
    "collapsed": true
   },
   "outputs": [],
   "source": []
  },
  {
   "cell_type": "code",
   "execution_count": null,
   "metadata": {
    "collapsed": true
   },
   "outputs": [],
   "source": []
  },
  {
   "cell_type": "code",
   "execution_count": null,
   "metadata": {
    "collapsed": true
   },
   "outputs": [],
   "source": []
  },
  {
   "cell_type": "code",
   "execution_count": 67,
   "metadata": {
    "collapsed": true
   },
   "outputs": [],
   "source": []
  },
  {
   "cell_type": "code",
   "execution_count": 52,
   "metadata": {
    "collapsed": false
   },
   "outputs": [],
   "source": [
    "# Project to 2 dimensions for visualization\n",
    "lsi = models.lsimodel.LsiModel(corpus_tfidf, id2word=dictionary, \n",
    "                               num_topics=2)"
   ]
  },
  {
   "cell_type": "code",
   "execution_count": 53,
   "metadata": {
    "collapsed": false
   },
   "outputs": [
    {
     "name": "stdout",
     "output_type": "stream",
     "text": [
      "[(0, 1.7480690604371326e-05), (1, 1.3914501018260041e-05)]\n",
      "[(0, 1.4101913282781924), (1, -0.0017615780537611316)]\n",
      "[(0, 0.00028605061475149004), (1, 1.3997618861202534)]\n",
      "[(0, 1.4101913282781924), (1, -0.0017615780537611316)]\n",
      "[(0, 0.00025970020824314465), (1, 0.0011243927637062815)]\n"
     ]
    }
   ],
   "source": [
    "for i in lsi[corpus][:5]:\n",
    "    print(i)"
   ]
  },
  {
   "cell_type": "code",
   "execution_count": 55,
   "metadata": {
    "collapsed": false
   },
   "outputs": [
    {
     "data": {
      "text/plain": [
       "26729"
      ]
     },
     "execution_count": 55,
     "metadata": {},
     "output_type": "execute_result"
    }
   ],
   "source": [
    "len(lsi[corpus])"
   ]
  },
  {
   "cell_type": "code",
   "execution_count": 65,
   "metadata": {
    "collapsed": false
   },
   "outputs": [
    {
     "ename": "IndexError",
     "evalue": "list index out of range",
     "output_type": "error",
     "traceback": [
      "\u001b[1;31m---------------------------------------------------------------------------\u001b[0m",
      "\u001b[1;31mIndexError\u001b[0m                                Traceback (most recent call last)",
      "\u001b[1;32m<ipython-input-65-8d0334b5f577>\u001b[0m in \u001b[0;36m<module>\u001b[1;34m()\u001b[0m\n\u001b[0;32m      2\u001b[0m \u001b[0mfcoords\u001b[0m \u001b[1;33m=\u001b[0m \u001b[0mopen\u001b[0m\u001b[1;33m(\u001b[0m\u001b[0mos\u001b[0m\u001b[1;33m.\u001b[0m\u001b[0mpath\u001b[0m\u001b[1;33m.\u001b[0m\u001b[0mjoin\u001b[0m\u001b[1;33m(\u001b[0m\u001b[0mdata_dir\u001b[0m\u001b[1;33m,\u001b[0m \u001b[1;34m\"coords.csv\"\u001b[0m\u001b[1;33m)\u001b[0m\u001b[1;33m,\u001b[0m \u001b[1;34m'w'\u001b[0m\u001b[1;33m)\u001b[0m\u001b[1;33m\u001b[0m\u001b[0m\n\u001b[0;32m      3\u001b[0m \u001b[1;32mfor\u001b[0m \u001b[0mvector\u001b[0m \u001b[1;32min\u001b[0m \u001b[0mlsi\u001b[0m\u001b[1;33m[\u001b[0m\u001b[0mcorpus\u001b[0m\u001b[1;33m]\u001b[0m\u001b[1;33m:\u001b[0m\u001b[1;33m\u001b[0m\u001b[0m\n\u001b[1;32m----> 4\u001b[1;33m     \u001b[0mfcoords\u001b[0m\u001b[1;33m.\u001b[0m\u001b[0mwrite\u001b[0m\u001b[1;33m(\u001b[0m\u001b[1;34m\"%6.4f\\t%6.4f\\n\"\u001b[0m \u001b[1;33m%\u001b[0m \u001b[1;33m(\u001b[0m\u001b[0mvector\u001b[0m\u001b[1;33m[\u001b[0m\u001b[1;36m0\u001b[0m\u001b[1;33m]\u001b[0m\u001b[1;33m[\u001b[0m\u001b[1;36m1\u001b[0m\u001b[1;33m]\u001b[0m\u001b[1;33m,\u001b[0m \u001b[0mvector\u001b[0m\u001b[1;33m[\u001b[0m\u001b[1;36m1\u001b[0m\u001b[1;33m]\u001b[0m\u001b[1;33m[\u001b[0m\u001b[1;36m1\u001b[0m\u001b[1;33m]\u001b[0m\u001b[1;33m)\u001b[0m\u001b[1;33m)\u001b[0m\u001b[1;33m\u001b[0m\u001b[0m\n\u001b[0m\u001b[0;32m      5\u001b[0m \u001b[0mfcoords\u001b[0m\u001b[1;33m.\u001b[0m\u001b[0mclose\u001b[0m\u001b[1;33m(\u001b[0m\u001b[1;33m)\u001b[0m\u001b[1;33m\u001b[0m\u001b[0m\n",
      "\u001b[1;31mIndexError\u001b[0m: list index out of range"
     ]
    }
   ],
   "source": [
    "# write out coordinates to file\n",
    "fcoords = open(os.path.join(data_dir, \"coords.csv\"), 'w')\n",
    "for vector in lsi[corpus]:\n",
    "    if len(vector) != 2:\n",
    "        continue\n",
    "    fcoords.write(\"%6.4f\\t%6.4f\\n\" % (vector[0][1], vector[1][1]))\n",
    "fcoords.close()"
   ]
  },
  {
   "cell_type": "code",
   "execution_count": 57,
   "metadata": {
    "collapsed": true
   },
   "outputs": [],
   "source": [
    "from sklearn.cluster import KMeans"
   ]
  },
  {
   "cell_type": "code",
   "execution_count": 89,
   "metadata": {
    "collapsed": false
   },
   "outputs": [
    {
     "data": {
      "image/png": "[encoded data removed]",
      "text/plain": [
       "<matplotlib.figure.Figure at 0x7f7989be3160>"
      ]
     },
     "metadata": {},
     "output_type": "display_data"
    }
   ],
   "source": [
    "MAX_K = 20\n",
    "\n",
    "X = X = np.loadtxt(os.path.join(data_dir, \"coords.csv\"), delimiter=\"\\t\")\n",
    "ks = range(1, MAX_K + 1)\n",
    "\n",
    "inertias = np.zeros(MAX_K)\n",
    "diff = np.zeros(MAX_K)\n",
    "diff2 = np.zeros(MAX_K)\n",
    "diff3 = np.zeros(MAX_K)\n",
    "for k in ks:\n",
    "    kmeans = KMeans(k).fit(X)\n",
    "    inertias[k - 1] = kmeans.inertia_\n",
    "    # first difference    \n",
    "    if k > 1:\n",
    "        diff[k - 1] = inertias[k - 1] - inertias[k - 2]\n",
    "    # second difference\n",
    "    if k > 2:\n",
    "        diff2[k - 1] = diff[k - 1] - diff[k - 2]\n",
    "    # third difference\n",
    "    if k > 3:\n",
    "        diff3[k - 1] = diff2[k - 1] - diff2[k - 2]\n",
    "\n",
    "elbow = np.argmin(diff3[3:]) + 3\n",
    "\n",
    "plt.plot(ks, inertias, \"b*-\")\n",
    "plt.plot(ks[elbow], inertias[elbow], marker='o', markersize=12,\n",
    "         markeredgewidth=2, markeredgecolor='r', markerfacecolor=None)\n",
    "plt.ylabel(\"Inertia\")\n",
    "plt.xlabel(\"K\")\n",
    "plt.show()"
   ]
  },
  {
   "cell_type": "code",
   "execution_count": 90,
   "metadata": {
    "collapsed": false
   },
   "outputs": [
    {
     "data": {
      "image/png": "[encoded data removed]",
      "text/plain": [
       "<matplotlib.figure.Figure at 0x7f798856efd0>"
      ]
     },
     "metadata": {},
     "output_type": "display_data"
    }
   ],
   "source": [
    "# Rerun Kmeans with num_topics = 4\n",
    "NUM_TOPICS = 4\n",
    "\n",
    "X = np.loadtxt(os.path.join(data_dir, \"coords.csv\"), delimiter=\"\\t\")\n",
    "kmeans = KMeans(NUM_TOPICS).fit(X)\n",
    "y = kmeans.labels_\n",
    "\n",
    "colors = [\"b\", \"g\", \"r\", \"m\"]\n",
    "for i in range(X.shape[0]):\n",
    "    plt.scatter(X[i][0], X[i][1], c=colors[y[i]], s=10)    \n",
    "plt.show()"
   ]
  },
  {
   "cell_type": "markdown",
   "metadata": {},
   "source": [
    "Okay, so we're now reasonably solid that we should have four topics, so let's run the LDA and look at our top topics."
   ]
  },
  {
   "cell_type": "code",
   "execution_count": 58,
   "metadata": {
    "collapsed": false
   },
   "outputs": [
    {
     "data": {
      "text/plain": [
       "[([(0.11495850614178707, 'terrier'),\n",
       "   (0.08946025333814199, 'dachshund'),\n",
       "   (0.071303534632316312, 'miniature'),\n",
       "   (0.066458366092513294, 'poodle'),\n",
       "   (0.059320675250471785, 'border'),\n",
       "   (0.055281516481402448, 'siamese'),\n",
       "   (0.053620785570813054, 'collie'),\n",
       "   (0.038276880366579016, 'hound'),\n",
       "   (0.03357892801915275, 'yorkshire'),\n",
       "   (0.032394023373449939, 'rat'),\n",
       "   (0.030472845390118835, 'beagle'),\n",
       "   (0.020862888033836204, 'maltese'),\n",
       "   (0.016384682685150444, 'plott'),\n",
       "   (0.012302606907940218, 'basset'),\n",
       "   (0.0098309968448958701, 'english'),\n",
       "   (0.0097854239222013601, 'boston'),\n",
       "   (0.0097383154126634858, 'snowshoe'),\n",
       "   (0.0094628952408826912, 'toy'),\n",
       "   (0.0093221223046855827, 'pomeranian'),\n",
       "   (0.0089461464911131938, 'apso')],\n",
       "  -896.99187925983415),\n",
       " ([(0.10585889952671532, 'shepherd'),\n",
       "   (0.094394630475863925, 'german'),\n",
       "   (0.091751175835214568, 'longhair'),\n",
       "   (0.08393946772071896, 'terrier'),\n",
       "   (0.067061678935924615, 'domestic'),\n",
       "   (0.049150340825048912, 'boxer'),\n",
       "   (0.040620723929946791, 'american'),\n",
       "   (0.035962982071288625, 'bull'),\n",
       "   (0.032620020977585255, 'pit'),\n",
       "   (0.031696668839954659, 'russell'),\n",
       "   (0.030436197834646461, 'jack'),\n",
       "   (0.028533044199545634, 'schnauzer'),\n",
       "   (0.028183430609375303, 'staffordshire'),\n",
       "   (0.027539804490144301, 'chihuahua'),\n",
       "   (0.026912015517071244, 'miniature'),\n",
       "   (0.024759581977538806, 'chow'),\n",
       "   (0.020238211018337667, 'bulldog'),\n",
       "   (0.019572310790213782, 'cairn'),\n",
       "   (0.01017611942619929, 'shorthair'),\n",
       "   (0.0099648270946486421, 'collie')],\n",
       "  -919.37342480058396),\n",
       " ([(0.1791470990886202, 'retriever'),\n",
       "   (0.16062315030190646, 'labrador'),\n",
       "   (0.15680338128167817, 'shorthair'),\n",
       "   (0.15628785921722929, 'domestic'),\n",
       "   (0.033888332878762625, 'shepherd'),\n",
       "   (0.023743682943012313, 'great'),\n",
       "   (0.020576008989176407, 'rottweiler'),\n",
       "   (0.019940895628410098, 'pointer'),\n",
       "   (0.019861662523195576, 'shih'),\n",
       "   (0.019829717910964273, 'tzu'),\n",
       "   (0.017692011255064245, 'pyrenees'),\n",
       "   (0.016238215169887271, 'german'),\n",
       "   (0.015307751973368831, 'anatol'),\n",
       "   (0.01210503545099847, 'golden'),\n",
       "   (0.012095488590211329, 'chow'),\n",
       "   (0.0066135466014719153, 'lacy'),\n",
       "   (0.0061450238210042866, 'coat'),\n",
       "   (0.0059865519769951346, 'dane'),\n",
       "   (0.0058749370477588856, 'flat'),\n",
       "   (0.0053739160554755394, 'manx')],\n",
       "  -973.25720104498907),\n",
       " ([(0.3073700136440633, 'shorthair'),\n",
       "   (0.26311299948191247, 'domestic'),\n",
       "   (0.071787872860527097, 'chihuahua'),\n",
       "   (0.065611048279423836, 'bull'),\n",
       "   (0.065225481868021615, 'pit'),\n",
       "   (0.030949969639360787, 'australian'),\n",
       "   (0.027778703135113263, 'medium'),\n",
       "   (0.024308257535163417, 'labrador'),\n",
       "   (0.024089520138556173, 'retriever'),\n",
       "   (0.019312060466862683, 'cattle'),\n",
       "   (0.0076627947980564349, 'husky'),\n",
       "   (0.007170533980445563, 'catahoula'),\n",
       "   (0.0068375788200786096, 'siberian'),\n",
       "   (0.005360812738876986, 'shepherd'),\n",
       "   (0.0040375001579296705, 'welsh'),\n",
       "   (0.0040361074802740269, 'kelpie'),\n",
       "   (0.0039334072058089435, 'corgi'),\n",
       "   (0.0038108458232495373, 'dachshund'),\n",
       "   (0.0034672807036967923, 'pug'),\n",
       "   (0.0032485056024623843, 'cardigan')],\n",
       "  -992.58274577981388)]"
      ]
     },
     "execution_count": 58,
     "metadata": {},
     "output_type": "execute_result"
    }
   ],
   "source": [
    "lda = models.ldamulticore.LdaMulticore(corpus=corpus, id2word=dictionary,\n",
    "                         num_topics=4)\n",
    "\n",
    "lda.top_topics(corpus)"
   ]
  },
  {
   "cell_type": "markdown",
   "metadata": {},
   "source": [
    "This actually looks pretty good... except I can't find the cats and, at minimum, they've been grouped together with the dogs.  Because we are predicting based on animaltype as well, this might not be as serious an issue as it appears."
   ]
  },
  {
   "cell_type": "markdown",
   "metadata": {},
   "source": [
    "Now we create a bag of words transformer based on the full texts in the Breed feature."
   ]
  },
  {
   "cell_type": "code",
   "execution_count": 79,
   "metadata": {
    "collapsed": true
   },
   "outputs": [],
   "source": [
    "from sklearn.feature_extraction.text import CountVectorizer, TfidfTransformer\n",
    "count_vect = CountVectorizer()\n",
    "\n",
    "bow_transformer = CountVectorizer(analyzer=split_into_lemmas).fit(train_df.Breed)\n",
    "len(bow_transformer.vocabulary_)\n",
    "\n",
    "bow_transformer.get_feature_names()[3]\n",
    "\n",
    "breed_bow = bow_transformer.transform(train_df.Breed)\n",
    "print( 'sparse matrix shape:', breed_bow.shape)\n",
    "print( 'number of non-zeros:', breed_bow.nnz)\n",
    "print ('sparsity: %.2f%%' % (100.0 * breed_bow.nnz / (breed_bow.shape[0] * breed_bow.shape[1])))\n",
    "\n",
    "# First, we fit the transformer to our BoW\n",
    "\n",
    "tfidf_transformer = TfidfTransformer().fit(breed_bow)\n",
    "\n",
    "breed_tfidf = tfidf_transformer.transform(breed_bow)\n",
    "\n",
    "for e in breed_tfidf[5]:\n",
    "    print(e)"
   ]
  },
  {
   "cell_type": "code",
   "execution_count": null,
   "metadata": {
    "collapsed": false
   },
   "outputs": [],
   "source": []
  },
  {
   "cell_type": "code",
   "execution_count": null,
   "metadata": {
    "collapsed": false
   },
   "outputs": [],
   "source": []
  },
  {
   "cell_type": "markdown",
   "metadata": {},
   "source": [
    "From here, we can cluster the breed data using several options."
   ]
  },
  {
   "cell_type": "markdown",
   "metadata": {},
   "source": [
    "## KMeans Clustering"
   ]
  },
  {
   "cell_type": "markdown",
   "metadata": {},
   "source": [
    "Let's do this again using our previous code, just for kicks."
   ]
  },
  {
   "cell_type": "code",
   "execution_count": 60,
   "metadata": {
    "collapsed": false
   },
   "outputs": [],
   "source": [
    "# Select number of clusters for KMeans clustering - now 4 clusters\n",
    "n_clusters = 4"
   ]
  },
  {
   "cell_type": "code",
   "execution_count": 64,
   "metadata": {
    "collapsed": false
   },
   "outputs": [],
   "source": [
    "# Import and set up our classifier\n",
    "\n",
    "from sklearn.cluster import KMeans\n",
    "\n",
    "km = KMeans(n_clusters=n_clusters, init='k-means++', n_init=1, verbose=1)"
   ]
  },
  {
   "cell_type": "code",
   "execution_count": 87,
   "metadata": {
    "collapsed": false
   },
   "outputs": [
    {
     "name": "stdout",
     "output_type": "stream",
     "text": [
      "Initialization complete\n",
      "Iteration  0, inertia 24165.014\n",
      "Iteration  1, inertia 15386.817\n",
      "Iteration  2, inertia 13588.344\n",
      "Iteration  3, inertia 13480.873\n",
      "Iteration  4, inertia 13479.483\n",
      "Converged at iteration 4\n"
     ]
    }
   ],
   "source": [
    "# Fit the KM classifier on our TFIDF\n",
    "\n",
    "km_breeds = km.fit_predict(breed_tfidf)"
   ]
  },
  {
   "cell_type": "markdown",
   "metadata": {},
   "source": [
    "KMeans stops when it stops making progress on it's clustering.\n",
    "\n",
    "Now we have a working machine learning classifier on which we can predict our feature."
   ]
  },
  {
   "cell_type": "code",
   "execution_count": 88,
   "metadata": {
    "collapsed": false
   },
   "outputs": [
    {
     "data": {
      "text/plain": [
       "array([2], dtype=int32)"
      ]
     },
     "execution_count": 88,
     "metadata": {},
     "output_type": "execute_result"
    }
   ],
   "source": [
    "km.predict(breed_tfidf[4])"
   ]
  },
  {
   "cell_type": "code",
   "execution_count": 89,
   "metadata": {
    "collapsed": false
   },
   "outputs": [],
   "source": [
    "train_df['BreedKMeans'] = km_breeds"
   ]
  },
  {
   "cell_type": "code",
   "execution_count": 90,
   "metadata": {
    "collapsed": false
   },
   "outputs": [
    {
     "data": {
      "text/html": [
       "<div>\n",
       "<table border=\"1\" class=\"dataframe\">\n",
       "  <thead>\n",
       "    <tr style=\"text-align: right;\">\n",
       "      <th></th>\n",
       "      <th>AnimalID</th>\n",
       "      <th>Name</th>\n",
       "      <th>DateTime</th>\n",
       "      <th>OutcomeType</th>\n",
       "      <th>OutcomeSubtype</th>\n",
       "      <th>AnimalType</th>\n",
       "      <th>SexuponOutcome</th>\n",
       "      <th>AgeuponOutcome</th>\n",
       "      <th>Breed</th>\n",
       "      <th>Color</th>\n",
       "      <th>Intact</th>\n",
       "      <th>Gender</th>\n",
       "      <th>NameLength</th>\n",
       "      <th>BreedKMeans</th>\n",
       "    </tr>\n",
       "  </thead>\n",
       "  <tbody>\n",
       "    <tr>\n",
       "      <th>0</th>\n",
       "      <td>A671945</td>\n",
       "      <td>Hambone</td>\n",
       "      <td>2014-02-12 18:22:00</td>\n",
       "      <td>Return_to_owner</td>\n",
       "      <td>NaN</td>\n",
       "      <td>1</td>\n",
       "      <td>Neutered Male</td>\n",
       "      <td>1</td>\n",
       "      <td>Shetland Sheepdog Mix</td>\n",
       "      <td>0</td>\n",
       "      <td>0</td>\n",
       "      <td>1</td>\n",
       "      <td>7</td>\n",
       "      <td>2</td>\n",
       "    </tr>\n",
       "  </tbody>\n",
       "</table>\n",
       "</div>"
      ],
      "text/plain": [
       "  AnimalID     Name             DateTime      OutcomeType OutcomeSubtype  \\\n",
       "0  A671945  Hambone  2014-02-12 18:22:00  Return_to_owner            NaN   \n",
       "\n",
       "   AnimalType SexuponOutcome  AgeuponOutcome                  Breed  Color  \\\n",
       "0           1  Neutered Male               1  Shetland Sheepdog Mix      0   \n",
       "\n",
       "   Intact  Gender  NameLength  BreedKMeans  \n",
       "0       0       1           7            2  "
      ]
     },
     "execution_count": 90,
     "metadata": {},
     "output_type": "execute_result"
    }
   ],
   "source": [
    "train_df.head(1)"
   ]
  },
  {
   "cell_type": "code",
   "execution_count": 91,
   "metadata": {
    "collapsed": false
   },
   "outputs": [
    {
     "data": {
      "text/plain": [
       "Index(['AnimalID', 'Name', 'DateTime', 'OutcomeType', 'OutcomeSubtype',\n",
       "       'AnimalType', 'SexuponOutcome', 'AgeuponOutcome', 'Breed', 'Color',\n",
       "       'Intact', 'Gender', 'NameLength', 'BreedKMeans'],\n",
       "      dtype='object')"
      ]
     },
     "execution_count": 91,
     "metadata": {},
     "output_type": "execute_result"
    }
   ],
   "source": [
    "train_df.columns"
   ]
  },
  {
   "cell_type": "code",
   "execution_count": 93,
   "metadata": {
    "collapsed": false
   },
   "outputs": [
    {
     "data": {
      "text/plain": [
       "OutcomeType       object\n",
       "AnimalType         int64\n",
       "AgeuponOutcome     int64\n",
       "Color              int64\n",
       "Intact             int64\n",
       "Gender             int64\n",
       "NameLength         int64\n",
       "BreedKMeans        int32\n",
       "dtype: object"
      ]
     },
     "execution_count": 93,
     "metadata": {},
     "output_type": "execute_result"
    }
   ],
   "source": [
    "X = train_df.drop(['AnimalID', 'Name', \"DateTime\", \"OutcomeSubtype\",\n",
    "                  \"SexuponOutcome\", 'Breed', ], axis=1)\n",
    "\n",
    "X.dtypes"
   ]
  },
  {
   "cell_type": "code",
   "execution_count": 100,
   "metadata": {
    "collapsed": false
   },
   "outputs": [
    {
     "data": {
      "text/html": [
       "<div>\n",
       "<table border=\"1\" class=\"dataframe\">\n",
       "  <thead>\n",
       "    <tr style=\"text-align: right;\">\n",
       "      <th></th>\n",
       "      <th>OutcomeType</th>\n",
       "      <th>AnimalType</th>\n",
       "      <th>AgeuponOutcome</th>\n",
       "      <th>Color</th>\n",
       "      <th>Intact</th>\n",
       "      <th>Gender</th>\n",
       "      <th>NameLength</th>\n",
       "      <th>BreedKMeans</th>\n",
       "    </tr>\n",
       "  </thead>\n",
       "  <tbody>\n",
       "    <tr>\n",
       "      <th>0</th>\n",
       "      <td>Return_to_owner</td>\n",
       "      <td>1</td>\n",
       "      <td>1</td>\n",
       "      <td>0</td>\n",
       "      <td>0</td>\n",
       "      <td>1</td>\n",
       "      <td>7</td>\n",
       "      <td>2</td>\n",
       "    </tr>\n",
       "    <tr>\n",
       "      <th>1</th>\n",
       "      <td>Euthanasia</td>\n",
       "      <td>0</td>\n",
       "      <td>1</td>\n",
       "      <td>1</td>\n",
       "      <td>0</td>\n",
       "      <td>0</td>\n",
       "      <td>5</td>\n",
       "      <td>0</td>\n",
       "    </tr>\n",
       "    <tr>\n",
       "      <th>2</th>\n",
       "      <td>Adoption</td>\n",
       "      <td>1</td>\n",
       "      <td>2</td>\n",
       "      <td>2</td>\n",
       "      <td>0</td>\n",
       "      <td>1</td>\n",
       "      <td>6</td>\n",
       "      <td>3</td>\n",
       "    </tr>\n",
       "    <tr>\n",
       "      <th>3</th>\n",
       "      <td>Transfer</td>\n",
       "      <td>0</td>\n",
       "      <td>0</td>\n",
       "      <td>2</td>\n",
       "      <td>1</td>\n",
       "      <td>1</td>\n",
       "      <td>3</td>\n",
       "      <td>0</td>\n",
       "    </tr>\n",
       "    <tr>\n",
       "      <th>4</th>\n",
       "      <td>Transfer</td>\n",
       "      <td>1</td>\n",
       "      <td>2</td>\n",
       "      <td>3</td>\n",
       "      <td>0</td>\n",
       "      <td>1</td>\n",
       "      <td>3</td>\n",
       "      <td>2</td>\n",
       "    </tr>\n",
       "  </tbody>\n",
       "</table>\n",
       "</div>"
      ],
      "text/plain": [
       "       OutcomeType  AnimalType  AgeuponOutcome  Color  Intact  Gender  \\\n",
       "0  Return_to_owner           1               1      0       0       1   \n",
       "1       Euthanasia           0               1      1       0       0   \n",
       "2         Adoption           1               2      2       0       1   \n",
       "3         Transfer           0               0      2       1       1   \n",
       "4         Transfer           1               2      3       0       1   \n",
       "\n",
       "   NameLength  BreedKMeans  \n",
       "0           7            2  \n",
       "1           5            0  \n",
       "2           6            3  \n",
       "3           3            0  \n",
       "4           3            2  "
      ]
     },
     "execution_count": 100,
     "metadata": {},
     "output_type": "execute_result"
    }
   ],
   "source": [
    "X.head()"
   ]
  },
  {
   "cell_type": "code",
   "execution_count": 101,
   "metadata": {
    "collapsed": true
   },
   "outputs": [],
   "source": [
    "X.to_csv(os.path.join(data_dir, \"prepared_animals_df.csv\"))"
   ]
  },
  {
   "cell_type": "code",
   "execution_count": 96,
   "metadata": {
    "collapsed": false
   },
   "outputs": [],
   "source": [
    "# Visualizing the K-Means clusters via TSNE\n",
    "# t-distributed Stochastic Neighbor Embedding.\n",
    "\n",
    "from sklearn.manifold import TSNE"
   ]
  },
  {
   "cell_type": "markdown",
   "metadata": {
    "collapsed": false
   },
   "source": [
    "http://scikit-learn.org/stable/modules/generated/sklearn.manifold.TSNE.html"
   ]
  },
  {
   "cell_type": "code",
   "execution_count": 97,
   "metadata": {
    "collapsed": false
   },
   "outputs": [],
   "source": [
    "# First we use the TruncatedSVD to perform linear dimensionality reduction (truncated singular value decomposition (SVD)).\n",
    "\n",
    "from sklearn.decomposition import TruncatedSVD\n",
    "\n",
    "X_reduced = TruncatedSVD(n_components=50, random_state=0).fit_transform(breed_tfidf)"
   ]
  },
  {
   "cell_type": "code",
   "execution_count": null,
   "metadata": {
    "collapsed": true
   },
   "outputs": [],
   "source": []
  },
  {
   "cell_type": "code",
   "execution_count": null,
   "metadata": {
    "collapsed": true
   },
   "outputs": [],
   "source": []
  },
  {
   "cell_type": "code",
   "execution_count": 99,
   "metadata": {
    "collapsed": false
   },
   "outputs": [
    {
     "name": "stdout",
     "output_type": "stream",
     "text": [
      "[t-SNE] Computing pairwise distances...\n",
      "[t-SNE] Computing 121 nearest neighbors...\n"
     ]
    },
    {
     "ename": "MemoryError",
     "evalue": "",
     "output_type": "error",
     "traceback": [
      "\u001b[1;31m---------------------------------------------------------------------------\u001b[0m",
      "\u001b[1;31mMemoryError\u001b[0m                               Traceback (most recent call last)",
      "\u001b[1;32m<ipython-input-99-c86efa81580d>\u001b[0m in \u001b[0;36m<module>\u001b[1;34m()\u001b[0m\n\u001b[1;32m----> 1\u001b[1;33m \u001b[0mX_embedded\u001b[0m \u001b[1;33m=\u001b[0m \u001b[0mTSNE\u001b[0m\u001b[1;33m(\u001b[0m\u001b[0mn_components\u001b[0m\u001b[1;33m=\u001b[0m\u001b[1;36m2\u001b[0m\u001b[1;33m,\u001b[0m \u001b[0mperplexity\u001b[0m\u001b[1;33m=\u001b[0m\u001b[1;36m40\u001b[0m\u001b[1;33m,\u001b[0m \u001b[0mverbose\u001b[0m\u001b[1;33m=\u001b[0m\u001b[1;36m2\u001b[0m\u001b[1;33m)\u001b[0m\u001b[1;33m.\u001b[0m\u001b[0mfit_transform\u001b[0m\u001b[1;33m(\u001b[0m\u001b[0mX_reduced\u001b[0m\u001b[1;33m)\u001b[0m\u001b[1;33m\u001b[0m\u001b[0m\n\u001b[0m",
      "\u001b[1;32m/home/chris/anaconda3/lib/python3.5/site-packages/sklearn/manifold/t_sne.py\u001b[0m in \u001b[0;36mfit_transform\u001b[1;34m(self, X, y)\u001b[0m\n\u001b[0;32m    864\u001b[0m             \u001b[0mEmbedding\u001b[0m \u001b[0mof\u001b[0m \u001b[0mthe\u001b[0m \u001b[0mtraining\u001b[0m \u001b[0mdata\u001b[0m \u001b[1;32min\u001b[0m \u001b[0mlow\u001b[0m\u001b[1;33m-\u001b[0m\u001b[0mdimensional\u001b[0m \u001b[0mspace\u001b[0m\u001b[1;33m.\u001b[0m\u001b[1;33m\u001b[0m\u001b[0m\n\u001b[0;32m    865\u001b[0m         \"\"\"\n\u001b[1;32m--> 866\u001b[1;33m         \u001b[0membedding\u001b[0m \u001b[1;33m=\u001b[0m \u001b[0mself\u001b[0m\u001b[1;33m.\u001b[0m\u001b[0m_fit\u001b[0m\u001b[1;33m(\u001b[0m\u001b[0mX\u001b[0m\u001b[1;33m)\u001b[0m\u001b[1;33m\u001b[0m\u001b[0m\n\u001b[0m\u001b[0;32m    867\u001b[0m         \u001b[0mself\u001b[0m\u001b[1;33m.\u001b[0m\u001b[0membedding_\u001b[0m \u001b[1;33m=\u001b[0m \u001b[0membedding\u001b[0m\u001b[1;33m\u001b[0m\u001b[0m\n\u001b[0;32m    868\u001b[0m         \u001b[1;32mreturn\u001b[0m \u001b[0mself\u001b[0m\u001b[1;33m.\u001b[0m\u001b[0membedding_\u001b[0m\u001b[1;33m\u001b[0m\u001b[0m\n",
      "\u001b[1;32m/home/chris/anaconda3/lib/python3.5/site-packages/sklearn/manifold/t_sne.py\u001b[0m in \u001b[0;36m_fit\u001b[1;34m(self, X, skip_num_points)\u001b[0m\n\u001b[0;32m    752\u001b[0m                 \u001b[0mneighbors_nn\u001b[0m \u001b[1;33m=\u001b[0m \u001b[0mneighbors_nn\u001b[0m\u001b[1;33m[\u001b[0m\u001b[1;33m:\u001b[0m\u001b[1;33m,\u001b[0m \u001b[1;36m1\u001b[0m\u001b[1;33m:\u001b[0m\u001b[1;33m]\u001b[0m\u001b[1;33m\u001b[0m\u001b[0m\n\u001b[0;32m    753\u001b[0m             P = _joint_probabilities_nn(distances, neighbors_nn,\n\u001b[1;32m--> 754\u001b[1;33m                                         self.perplexity, self.verbose)\n\u001b[0m\u001b[0;32m    755\u001b[0m         \u001b[1;32melse\u001b[0m\u001b[1;33m:\u001b[0m\u001b[1;33m\u001b[0m\u001b[0m\n\u001b[0;32m    756\u001b[0m             \u001b[0mP\u001b[0m \u001b[1;33m=\u001b[0m \u001b[0m_joint_probabilities\u001b[0m\u001b[1;33m(\u001b[0m\u001b[0mdistances\u001b[0m\u001b[1;33m,\u001b[0m \u001b[0mself\u001b[0m\u001b[1;33m.\u001b[0m\u001b[0mperplexity\u001b[0m\u001b[1;33m,\u001b[0m \u001b[0mself\u001b[0m\u001b[1;33m.\u001b[0m\u001b[0mverbose\u001b[0m\u001b[1;33m)\u001b[0m\u001b[1;33m\u001b[0m\u001b[0m\n",
      "\u001b[1;32m/home/chris/anaconda3/lib/python3.5/site-packages/sklearn/manifold/t_sne.py\u001b[0m in \u001b[0;36m_joint_probabilities_nn\u001b[1;34m(distances, neighbors, desired_perplexity, verbose)\u001b[0m\n\u001b[0;32m     92\u001b[0m     \u001b[0mneighbors\u001b[0m \u001b[1;33m=\u001b[0m \u001b[0mastype\u001b[0m\u001b[1;33m(\u001b[0m\u001b[0mneighbors\u001b[0m\u001b[1;33m,\u001b[0m \u001b[0mnp\u001b[0m\u001b[1;33m.\u001b[0m\u001b[0mint64\u001b[0m\u001b[1;33m,\u001b[0m \u001b[0mcopy\u001b[0m\u001b[1;33m=\u001b[0m\u001b[1;32mFalse\u001b[0m\u001b[1;33m)\u001b[0m\u001b[1;33m\u001b[0m\u001b[0m\n\u001b[0;32m     93\u001b[0m     conditional_P = _utils._binary_search_perplexity(\n\u001b[1;32m---> 94\u001b[1;33m         distances, neighbors, desired_perplexity, verbose)\n\u001b[0m\u001b[0;32m     95\u001b[0m     \u001b[0mm\u001b[0m \u001b[1;33m=\u001b[0m \u001b[1;34m\"All probabilities should be finite\"\u001b[0m\u001b[1;33m\u001b[0m\u001b[0m\n\u001b[0;32m     96\u001b[0m     \u001b[1;32massert\u001b[0m \u001b[0mnp\u001b[0m\u001b[1;33m.\u001b[0m\u001b[0mall\u001b[0m\u001b[1;33m(\u001b[0m\u001b[0mnp\u001b[0m\u001b[1;33m.\u001b[0m\u001b[0misfinite\u001b[0m\u001b[1;33m(\u001b[0m\u001b[0mconditional_P\u001b[0m\u001b[1;33m)\u001b[0m\u001b[1;33m)\u001b[0m\u001b[1;33m,\u001b[0m \u001b[0mm\u001b[0m\u001b[1;33m\u001b[0m\u001b[0m\n",
      "\u001b[1;32msklearn/manifold/_utils.pyx\u001b[0m in \u001b[0;36msklearn.manifold._utils._binary_search_perplexity (sklearn/manifold/_utils.c:2288)\u001b[1;34m()\u001b[0m\n",
      "\u001b[1;32msklearn/manifold/_utils.pyx\u001b[0m in \u001b[0;36msklearn.manifold._utils._binary_search_perplexity (sklearn/manifold/_utils.c:1392)\u001b[1;34m()\u001b[0m\n",
      "\u001b[1;31mMemoryError\u001b[0m: "
     ]
    }
   ],
   "source": [
    "# Note - you need more than 8GB ram for this.\n",
    "\n",
    "X_embedded = TSNE(n_components=2, perplexity=40, verbose=2).fit_transform(X_reduced)\n"
   ]
  },
  {
   "cell_type": "code",
   "execution_count": null,
   "metadata": {
    "collapsed": false
   },
   "outputs": [],
   "source": [
    "fig = plt.figure(figsize=(10, 10))\n",
    "ax = plt.axes(frameon=False)\n",
    "plt.setp(ax, xticks=(), yticks=())\n",
    "plt.subplots_adjust(left=0.0, bottom=0.0, right=1.0, top=0.9,\n",
    "                wspace=0.0, hspace=0.0)\n",
    "plt.scatter(X_embedded[:, 0], X_embedded[:, 1],\n",
    "            c=km.labels_, marker=\"x\")"
   ]
  },
  {
   "cell_type": "code",
   "execution_count": null,
   "metadata": {
    "collapsed": true
   },
   "outputs": [],
   "source": [
    "len(train)"
   ]
  },
  {
   "cell_type": "markdown",
   "metadata": {
    "collapsed": true
   },
   "source": [
    "From the plot, we can see there are three strong clusters and several weak clusters. We set up our KMeans classifier with 5, which seems to be about right, so we'll stick with this and add it to our dataframe."
   ]
  },
  {
   "cell_type": "code",
   "execution_count": null,
   "metadata": {
    "collapsed": false
   },
   "outputs": [],
   "source": []
  },
  {
   "cell_type": "code",
   "execution_count": null,
   "metadata": {
    "collapsed": false
   },
   "outputs": [],
   "source": []
  },
  {
   "cell_type": "code",
   "execution_count": null,
   "metadata": {
    "collapsed": false
   },
   "outputs": [],
   "source": []
  },
  {
   "cell_type": "code",
   "execution_count": null,
   "metadata": {
    "collapsed": false
   },
   "outputs": [],
   "source": []
  },
  {
   "cell_type": "markdown",
   "metadata": {
    "collapsed": true
   },
   "source": [
    "### Frome here, go to the Random Forest Classifier to try out your machine learning model."
   ]
  }
 ],
 "metadata": {
  "kernelspec": {
   "display_name": "Python 3",
   "language": "python",
   "name": "python3"
  },
  "language_info": {
   "codemirror_mode": {
    "name": "ipython",
    "version": 3
   },
   "file_extension": ".py",
   "mimetype": "text/x-python",
   "name": "python",
   "nbconvert_exporter": "python",
   "pygments_lexer": "ipython3",
   "version": "3.5.1"
  }
 },
 "nbformat": 4,
 "nbformat_minor": 0
}
