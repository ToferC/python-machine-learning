{
 "cells": [
  {
   "cell_type": "markdown",
   "metadata": {},
   "source": [
    "Random Forest using Kaggle Animal Shelter Dataset\n",
    "https://www.kaggle.com/c/shelter-animal-outcomes"
   ]
  },
  {
   "cell_type": "code",
   "execution_count": 1,
   "metadata": {
    "collapsed": true
   },
   "outputs": [],
   "source": [
    "import pandas as pd\n",
    "import os\n",
    "import numpy as np\n",
    "import csv as csv\n",
    "from sklearn.ensemble import RandomForestClassifier\n",
    "from sklearn.cross_validation import train_test_split"
   ]
  },
  {
   "cell_type": "code",
   "execution_count": 2,
   "metadata": {
    "collapsed": false
   },
   "outputs": [],
   "source": [
    "data_dir = '/Users/christopherallison/Documents/Coding/Data'\n",
    "\n",
    "win_data_dir = u'C:\\\\Users\\\\Owner\\\\Documents\\\\Data'"
   ]
  },
  {
   "cell_type": "code",
   "execution_count": 3,
   "metadata": {
    "collapsed": true
   },
   "outputs": [],
   "source": [
    "# Data cleanup\n",
    "# TRAIN DATA\n",
    "train_df = pd.read_csv(os.path.join(win_data_dir, 'shelter_train.csv'), header=0)        # Load the train file into a dataframe"
   ]
  },
  {
   "cell_type": "code",
   "execution_count": 4,
   "metadata": {
    "collapsed": false
   },
   "outputs": [
    {
     "data": {
      "text/plain": [
       "Index(['AnimalID', 'Name', 'DateTime', 'OutcomeType', 'OutcomeSubtype',\n",
       "       'AnimalType', 'SexuponOutcome', 'AgeuponOutcome', 'Breed', 'Color'],\n",
       "      dtype='object')"
      ]
     },
     "execution_count": 4,
     "metadata": {},
     "output_type": "execute_result"
    }
   ],
   "source": [
    "train_df.columns"
   ]
  },
  {
   "cell_type": "code",
   "execution_count": 5,
   "metadata": {
    "collapsed": false
   },
   "outputs": [],
   "source": [
    "outcomes = train_df.OutcomeType.unique()"
   ]
  },
  {
   "cell_type": "code",
   "execution_count": 6,
   "metadata": {
    "collapsed": true
   },
   "outputs": [],
   "source": [
    "from sklearn import preprocessing"
   ]
  },
  {
   "cell_type": "code",
   "execution_count": 7,
   "metadata": {
    "collapsed": true
   },
   "outputs": [],
   "source": [
    "encoder = preprocessing.LabelEncoder()"
   ]
  },
  {
   "cell_type": "code",
   "execution_count": 8,
   "metadata": {
    "collapsed": false
   },
   "outputs": [
    {
     "data": {
      "text/plain": [
       "LabelEncoder()"
      ]
     },
     "execution_count": 8,
     "metadata": {},
     "output_type": "execute_result"
    }
   ],
   "source": [
    "encoder.fit(outcomes)"
   ]
  },
  {
   "cell_type": "code",
   "execution_count": 9,
   "metadata": {
    "collapsed": false
   },
   "outputs": [],
   "source": [
    "encoded_y = encoder.transform(outcomes)"
   ]
  },
  {
   "cell_type": "code",
   "execution_count": 10,
   "metadata": {
    "collapsed": false
   },
   "outputs": [
    {
     "data": {
      "text/plain": [
       "array([3, 2, 0, 4, 1], dtype=int64)"
      ]
     },
     "execution_count": 10,
     "metadata": {},
     "output_type": "execute_result"
    }
   ],
   "source": [
    "encoded_y"
   ]
  },
  {
   "cell_type": "code",
   "execution_count": null,
   "metadata": {
    "collapsed": false
   },
   "outputs": [],
   "source": []
  },
  {
   "cell_type": "code",
   "execution_count": 11,
   "metadata": {
    "collapsed": false
   },
   "outputs": [
    {
     "data": {
      "text/plain": [
       "['Died', 'Euthanasia', 'Return_to_owner']"
      ]
     },
     "execution_count": 11,
     "metadata": {},
     "output_type": "execute_result"
    }
   ],
   "source": [
    "list(encoder.inverse_transform([1, 2, 3]))"
   ]
  },
  {
   "cell_type": "code",
   "execution_count": 12,
   "metadata": {
    "collapsed": false
   },
   "outputs": [
    {
     "name": "stderr",
     "output_type": "stream",
     "text": [
      "Using Theano backend.\n",
      "WARNING (theano.configdefaults): g++ not detected ! Theano will be unable to execute optimized C-implementations (for both CPU and GPU) and will default to Python implementations. Performance will be severely degraded. To remove this warning, set Theano flags cxx to an empty string.\n"
     ]
    }
   ],
   "source": [
    "# convert integers into dummy variables (one hot encoding)\n",
    "from keras.utils import np_utils\n",
    "\n",
    "dummy_y = np_utils.to_categorical(encoded_y)"
   ]
  },
  {
   "cell_type": "code",
   "execution_count": 13,
   "metadata": {
    "collapsed": false
   },
   "outputs": [
    {
     "data": {
      "text/plain": [
       "array([[ 0.,  0.,  0.,  1.,  0.],\n",
       "       [ 0.,  0.,  1.,  0.,  0.],\n",
       "       [ 1.,  0.,  0.,  0.,  0.],\n",
       "       [ 0.,  0.,  0.,  0.,  1.],\n",
       "       [ 0.,  1.,  0.,  0.,  0.]])"
      ]
     },
     "execution_count": 13,
     "metadata": {},
     "output_type": "execute_result"
    }
   ],
   "source": [
    "dummy_y"
   ]
  },
  {
   "cell_type": "code",
   "execution_count": 15,
   "metadata": {
    "collapsed": false
   },
   "outputs": [],
   "source": [
    "# Transform value in DF\n",
    "\n",
    "train_df.OutcomeType = encoder.transform(train_df.OutcomeType)"
   ]
  },
  {
   "cell_type": "code",
   "execution_count": null,
   "metadata": {
    "collapsed": false
   },
   "outputs": [],
   "source": []
  },
  {
   "cell_type": "code",
   "execution_count": 16,
   "metadata": {
    "collapsed": false
   },
   "outputs": [
    {
     "data": {
      "text/html": [
       "<div>\n",
       "<table border=\"1\" class=\"dataframe\">\n",
       "  <thead>\n",
       "    <tr style=\"text-align: right;\">\n",
       "      <th></th>\n",
       "      <th>AnimalID</th>\n",
       "      <th>Name</th>\n",
       "      <th>DateTime</th>\n",
       "      <th>OutcomeType</th>\n",
       "      <th>OutcomeSubtype</th>\n",
       "      <th>AnimalType</th>\n",
       "      <th>SexuponOutcome</th>\n",
       "      <th>AgeuponOutcome</th>\n",
       "      <th>Breed</th>\n",
       "      <th>Color</th>\n",
       "    </tr>\n",
       "  </thead>\n",
       "  <tbody>\n",
       "    <tr>\n",
       "      <th>0</th>\n",
       "      <td>A671945</td>\n",
       "      <td>Hambone</td>\n",
       "      <td>2014-02-12 18:22:00</td>\n",
       "      <td>3</td>\n",
       "      <td>NaN</td>\n",
       "      <td>Dog</td>\n",
       "      <td>Neutered Male</td>\n",
       "      <td>1 year</td>\n",
       "      <td>Shetland Sheepdog Mix</td>\n",
       "      <td>Brown/White</td>\n",
       "    </tr>\n",
       "    <tr>\n",
       "      <th>1</th>\n",
       "      <td>A656520</td>\n",
       "      <td>Emily</td>\n",
       "      <td>2013-10-13 12:44:00</td>\n",
       "      <td>2</td>\n",
       "      <td>Suffering</td>\n",
       "      <td>Cat</td>\n",
       "      <td>Spayed Female</td>\n",
       "      <td>1 year</td>\n",
       "      <td>Domestic Shorthair Mix</td>\n",
       "      <td>Cream Tabby</td>\n",
       "    </tr>\n",
       "    <tr>\n",
       "      <th>2</th>\n",
       "      <td>A686464</td>\n",
       "      <td>Pearce</td>\n",
       "      <td>2015-01-31 12:28:00</td>\n",
       "      <td>0</td>\n",
       "      <td>Foster</td>\n",
       "      <td>Dog</td>\n",
       "      <td>Neutered Male</td>\n",
       "      <td>2 years</td>\n",
       "      <td>Pit Bull Mix</td>\n",
       "      <td>Blue/White</td>\n",
       "    </tr>\n",
       "    <tr>\n",
       "      <th>3</th>\n",
       "      <td>A683430</td>\n",
       "      <td>NaN</td>\n",
       "      <td>2014-07-11 19:09:00</td>\n",
       "      <td>4</td>\n",
       "      <td>Partner</td>\n",
       "      <td>Cat</td>\n",
       "      <td>Intact Male</td>\n",
       "      <td>3 weeks</td>\n",
       "      <td>Domestic Shorthair Mix</td>\n",
       "      <td>Blue Cream</td>\n",
       "    </tr>\n",
       "    <tr>\n",
       "      <th>4</th>\n",
       "      <td>A667013</td>\n",
       "      <td>NaN</td>\n",
       "      <td>2013-11-15 12:52:00</td>\n",
       "      <td>4</td>\n",
       "      <td>Partner</td>\n",
       "      <td>Dog</td>\n",
       "      <td>Neutered Male</td>\n",
       "      <td>2 years</td>\n",
       "      <td>Lhasa Apso/Miniature Poodle</td>\n",
       "      <td>Tan</td>\n",
       "    </tr>\n",
       "    <tr>\n",
       "      <th>5</th>\n",
       "      <td>A677334</td>\n",
       "      <td>Elsa</td>\n",
       "      <td>2014-04-25 13:04:00</td>\n",
       "      <td>4</td>\n",
       "      <td>Partner</td>\n",
       "      <td>Dog</td>\n",
       "      <td>Intact Female</td>\n",
       "      <td>1 month</td>\n",
       "      <td>Cairn Terrier/Chihuahua Shorthair</td>\n",
       "      <td>Black/Tan</td>\n",
       "    </tr>\n",
       "    <tr>\n",
       "      <th>6</th>\n",
       "      <td>A699218</td>\n",
       "      <td>Jimmy</td>\n",
       "      <td>2015-03-28 13:11:00</td>\n",
       "      <td>4</td>\n",
       "      <td>Partner</td>\n",
       "      <td>Cat</td>\n",
       "      <td>Intact Male</td>\n",
       "      <td>3 weeks</td>\n",
       "      <td>Domestic Shorthair Mix</td>\n",
       "      <td>Blue Tabby</td>\n",
       "    </tr>\n",
       "    <tr>\n",
       "      <th>7</th>\n",
       "      <td>A701489</td>\n",
       "      <td>NaN</td>\n",
       "      <td>2015-04-30 17:02:00</td>\n",
       "      <td>4</td>\n",
       "      <td>Partner</td>\n",
       "      <td>Cat</td>\n",
       "      <td>Unknown</td>\n",
       "      <td>3 weeks</td>\n",
       "      <td>Domestic Shorthair Mix</td>\n",
       "      <td>Brown Tabby</td>\n",
       "    </tr>\n",
       "    <tr>\n",
       "      <th>8</th>\n",
       "      <td>A671784</td>\n",
       "      <td>Lucy</td>\n",
       "      <td>2014-02-04 17:17:00</td>\n",
       "      <td>0</td>\n",
       "      <td>NaN</td>\n",
       "      <td>Dog</td>\n",
       "      <td>Spayed Female</td>\n",
       "      <td>5 months</td>\n",
       "      <td>American Pit Bull Terrier Mix</td>\n",
       "      <td>Red/White</td>\n",
       "    </tr>\n",
       "    <tr>\n",
       "      <th>9</th>\n",
       "      <td>A677747</td>\n",
       "      <td>NaN</td>\n",
       "      <td>2014-05-03 07:48:00</td>\n",
       "      <td>0</td>\n",
       "      <td>Offsite</td>\n",
       "      <td>Dog</td>\n",
       "      <td>Spayed Female</td>\n",
       "      <td>1 year</td>\n",
       "      <td>Cairn Terrier</td>\n",
       "      <td>White</td>\n",
       "    </tr>\n",
       "    <tr>\n",
       "      <th>10</th>\n",
       "      <td>A668402</td>\n",
       "      <td>NaN</td>\n",
       "      <td>2013-12-05 15:50:00</td>\n",
       "      <td>4</td>\n",
       "      <td>SCRP</td>\n",
       "      <td>Cat</td>\n",
       "      <td>Unknown</td>\n",
       "      <td>2 years</td>\n",
       "      <td>Domestic Shorthair Mix</td>\n",
       "      <td>Black</td>\n",
       "    </tr>\n",
       "    <tr>\n",
       "      <th>11</th>\n",
       "      <td>A666320</td>\n",
       "      <td>NaN</td>\n",
       "      <td>2013-11-04 14:48:00</td>\n",
       "      <td>0</td>\n",
       "      <td>NaN</td>\n",
       "      <td>Dog</td>\n",
       "      <td>Spayed Female</td>\n",
       "      <td>2 years</td>\n",
       "      <td>Miniature Schnauzer Mix</td>\n",
       "      <td>Silver</td>\n",
       "    </tr>\n",
       "    <tr>\n",
       "      <th>12</th>\n",
       "      <td>A684601</td>\n",
       "      <td>Rocket</td>\n",
       "      <td>2016-02-03 11:27:00</td>\n",
       "      <td>0</td>\n",
       "      <td>Foster</td>\n",
       "      <td>Dog</td>\n",
       "      <td>Neutered Male</td>\n",
       "      <td>4 years</td>\n",
       "      <td>Pit Bull Mix</td>\n",
       "      <td>Brown</td>\n",
       "    </tr>\n",
       "    <tr>\n",
       "      <th>13</th>\n",
       "      <td>A704702</td>\n",
       "      <td>Scooter</td>\n",
       "      <td>2015-06-08 16:30:00</td>\n",
       "      <td>3</td>\n",
       "      <td>NaN</td>\n",
       "      <td>Dog</td>\n",
       "      <td>Neutered Male</td>\n",
       "      <td>2 years</td>\n",
       "      <td>Yorkshire Terrier Mix</td>\n",
       "      <td>Black/Red</td>\n",
       "    </tr>\n",
       "    <tr>\n",
       "      <th>14</th>\n",
       "      <td>A688584</td>\n",
       "      <td>Preston</td>\n",
       "      <td>2015-11-25 15:00:00</td>\n",
       "      <td>3</td>\n",
       "      <td>NaN</td>\n",
       "      <td>Dog</td>\n",
       "      <td>Neutered Male</td>\n",
       "      <td>1 year</td>\n",
       "      <td>Great Pyrenees Mix</td>\n",
       "      <td>White/Cream</td>\n",
       "    </tr>\n",
       "    <tr>\n",
       "      <th>15</th>\n",
       "      <td>A678825</td>\n",
       "      <td>Oliver</td>\n",
       "      <td>2014-07-12 12:10:00</td>\n",
       "      <td>0</td>\n",
       "      <td>Foster</td>\n",
       "      <td>Cat</td>\n",
       "      <td>Neutered Male</td>\n",
       "      <td>3 months</td>\n",
       "      <td>Domestic Shorthair Mix</td>\n",
       "      <td>Orange Tabby/White</td>\n",
       "    </tr>\n",
       "    <tr>\n",
       "      <th>16</th>\n",
       "      <td>A678050</td>\n",
       "      <td>NaN</td>\n",
       "      <td>2014-05-03 16:15:00</td>\n",
       "      <td>4</td>\n",
       "      <td>Partner</td>\n",
       "      <td>Cat</td>\n",
       "      <td>Intact Male</td>\n",
       "      <td>3 weeks</td>\n",
       "      <td>Domestic Shorthair Mix</td>\n",
       "      <td>Brown Tabby</td>\n",
       "    </tr>\n",
       "    <tr>\n",
       "      <th>17</th>\n",
       "      <td>A680028</td>\n",
       "      <td>NaN</td>\n",
       "      <td>2014-06-07 12:54:00</td>\n",
       "      <td>4</td>\n",
       "      <td>Partner</td>\n",
       "      <td>Dog</td>\n",
       "      <td>Intact Female</td>\n",
       "      <td>2 weeks</td>\n",
       "      <td>Pit Bull Mix</td>\n",
       "      <td>Brown/White</td>\n",
       "    </tr>\n",
       "    <tr>\n",
       "      <th>18</th>\n",
       "      <td>A679010</td>\n",
       "      <td>Chrissy</td>\n",
       "      <td>2014-05-17 11:32:00</td>\n",
       "      <td>4</td>\n",
       "      <td>Partner</td>\n",
       "      <td>Cat</td>\n",
       "      <td>Intact Female</td>\n",
       "      <td>2 years</td>\n",
       "      <td>Angora Mix</td>\n",
       "      <td>White</td>\n",
       "    </tr>\n",
       "    <tr>\n",
       "      <th>19</th>\n",
       "      <td>A684787</td>\n",
       "      <td>Kuma</td>\n",
       "      <td>2014-07-30 17:34:00</td>\n",
       "      <td>3</td>\n",
       "      <td>NaN</td>\n",
       "      <td>Dog</td>\n",
       "      <td>Neutered Male</td>\n",
       "      <td>1 year</td>\n",
       "      <td>Flat Coat Retriever Mix</td>\n",
       "      <td>Black</td>\n",
       "    </tr>\n",
       "    <tr>\n",
       "      <th>20</th>\n",
       "      <td>A670658</td>\n",
       "      <td>Anders</td>\n",
       "      <td>2014-01-19 15:03:00</td>\n",
       "      <td>4</td>\n",
       "      <td>Partner</td>\n",
       "      <td>Dog</td>\n",
       "      <td>Intact Male</td>\n",
       "      <td>2 months</td>\n",
       "      <td>Queensland Heeler Mix</td>\n",
       "      <td>Black/White</td>\n",
       "    </tr>\n",
       "    <tr>\n",
       "      <th>21</th>\n",
       "      <td>A708812</td>\n",
       "      <td>Munchkin</td>\n",
       "      <td>2015-09-18 15:19:00</td>\n",
       "      <td>4</td>\n",
       "      <td>Partner</td>\n",
       "      <td>Cat</td>\n",
       "      <td>Spayed Female</td>\n",
       "      <td>1 year</td>\n",
       "      <td>Domestic Shorthair Mix</td>\n",
       "      <td>White</td>\n",
       "    </tr>\n",
       "    <tr>\n",
       "      <th>22</th>\n",
       "      <td>A705262</td>\n",
       "      <td>Jamaica</td>\n",
       "      <td>2015-08-15 14:22:00</td>\n",
       "      <td>0</td>\n",
       "      <td>NaN</td>\n",
       "      <td>Dog</td>\n",
       "      <td>Spayed Female</td>\n",
       "      <td>2 years</td>\n",
       "      <td>Plott Hound/Boxer</td>\n",
       "      <td>Brown Brindle/White</td>\n",
       "    </tr>\n",
       "    <tr>\n",
       "      <th>23</th>\n",
       "      <td>A665781</td>\n",
       "      <td>Quattro</td>\n",
       "      <td>2013-10-28 16:32:00</td>\n",
       "      <td>0</td>\n",
       "      <td>NaN</td>\n",
       "      <td>Dog</td>\n",
       "      <td>Neutered Male</td>\n",
       "      <td>10 months</td>\n",
       "      <td>German Shepherd Mix</td>\n",
       "      <td>Brown/White</td>\n",
       "    </tr>\n",
       "    <tr>\n",
       "      <th>24</th>\n",
       "      <td>A676333</td>\n",
       "      <td>Trigger</td>\n",
       "      <td>2014-04-09 17:44:00</td>\n",
       "      <td>3</td>\n",
       "      <td>NaN</td>\n",
       "      <td>Dog</td>\n",
       "      <td>Neutered Male</td>\n",
       "      <td>2 months</td>\n",
       "      <td>German Shepherd Mix</td>\n",
       "      <td>Black/Brown</td>\n",
       "    </tr>\n",
       "    <tr>\n",
       "      <th>25</th>\n",
       "      <td>A712750</td>\n",
       "      <td>Olive</td>\n",
       "      <td>2015-10-03 15:44:00</td>\n",
       "      <td>4</td>\n",
       "      <td>Partner</td>\n",
       "      <td>Cat</td>\n",
       "      <td>Intact Female</td>\n",
       "      <td>1 month</td>\n",
       "      <td>Domestic Shorthair Mix</td>\n",
       "      <td>Orange Tabby</td>\n",
       "    </tr>\n",
       "    <tr>\n",
       "      <th>26</th>\n",
       "      <td>A718832</td>\n",
       "      <td>Nia</td>\n",
       "      <td>2016-01-15 17:31:00</td>\n",
       "      <td>0</td>\n",
       "      <td>NaN</td>\n",
       "      <td>Dog</td>\n",
       "      <td>Spayed Female</td>\n",
       "      <td>6 months</td>\n",
       "      <td>American Staffordshire Terrier Mix</td>\n",
       "      <td>Chocolate/White</td>\n",
       "    </tr>\n",
       "    <tr>\n",
       "      <th>27</th>\n",
       "      <td>A698777</td>\n",
       "      <td>Chloe</td>\n",
       "      <td>2015-03-25 18:50:00</td>\n",
       "      <td>0</td>\n",
       "      <td>NaN</td>\n",
       "      <td>Dog</td>\n",
       "      <td>Spayed Female</td>\n",
       "      <td>5 years</td>\n",
       "      <td>Chihuahua Shorthair Mix</td>\n",
       "      <td>White/Tan</td>\n",
       "    </tr>\n",
       "    <tr>\n",
       "      <th>28</th>\n",
       "      <td>A715348</td>\n",
       "      <td>Cymbale</td>\n",
       "      <td>2015-11-21 13:01:00</td>\n",
       "      <td>0</td>\n",
       "      <td>NaN</td>\n",
       "      <td>Cat</td>\n",
       "      <td>Spayed Female</td>\n",
       "      <td>2 months</td>\n",
       "      <td>Domestic Shorthair Mix</td>\n",
       "      <td>Cream Tabby/White</td>\n",
       "    </tr>\n",
       "    <tr>\n",
       "      <th>29</th>\n",
       "      <td>A708666</td>\n",
       "      <td>Jax</td>\n",
       "      <td>2015-07-30 14:30:00</td>\n",
       "      <td>3</td>\n",
       "      <td>NaN</td>\n",
       "      <td>Cat</td>\n",
       "      <td>Neutered Male</td>\n",
       "      <td>7 years</td>\n",
       "      <td>Russian Blue Mix</td>\n",
       "      <td>Blue</td>\n",
       "    </tr>\n",
       "    <tr>\n",
       "      <th>30</th>\n",
       "      <td>A718535</td>\n",
       "      <td>NaN</td>\n",
       "      <td>2016-01-01 13:57:00</td>\n",
       "      <td>2</td>\n",
       "      <td>Suffering</td>\n",
       "      <td>Cat</td>\n",
       "      <td>Spayed Female</td>\n",
       "      <td>3 years</td>\n",
       "      <td>Domestic Shorthair Mix</td>\n",
       "      <td>Calico</td>\n",
       "    </tr>\n",
       "    <tr>\n",
       "      <th>31</th>\n",
       "      <td>A707341</td>\n",
       "      <td>Murphy</td>\n",
       "      <td>2015-07-15 15:25:00</td>\n",
       "      <td>4</td>\n",
       "      <td>Partner</td>\n",
       "      <td>Dog</td>\n",
       "      <td>Intact Male</td>\n",
       "      <td>4 months</td>\n",
       "      <td>Labrador Retriever Mix</td>\n",
       "      <td>Black/White</td>\n",
       "    </tr>\n",
       "    <tr>\n",
       "      <th>32</th>\n",
       "      <td>A682532</td>\n",
       "      <td>NaN</td>\n",
       "      <td>2014-07-03 17:01:00</td>\n",
       "      <td>0</td>\n",
       "      <td>NaN</td>\n",
       "      <td>Cat</td>\n",
       "      <td>Spayed Female</td>\n",
       "      <td>2 months</td>\n",
       "      <td>Domestic Shorthair Mix</td>\n",
       "      <td>Torbie</td>\n",
       "    </tr>\n",
       "    <tr>\n",
       "      <th>33</th>\n",
       "      <td>A666825</td>\n",
       "      <td>Jesse</td>\n",
       "      <td>2013-11-08 13:24:00</td>\n",
       "      <td>3</td>\n",
       "      <td>NaN</td>\n",
       "      <td>Dog</td>\n",
       "      <td>Neutered Male</td>\n",
       "      <td>5 years</td>\n",
       "      <td>Collie Smooth/German Shepherd</td>\n",
       "      <td>Brown/Black</td>\n",
       "    </tr>\n",
       "    <tr>\n",
       "      <th>34</th>\n",
       "      <td>A699723</td>\n",
       "      <td>Delgado</td>\n",
       "      <td>2015-04-11 16:01:00</td>\n",
       "      <td>4</td>\n",
       "      <td>Partner</td>\n",
       "      <td>Dog</td>\n",
       "      <td>Neutered Male</td>\n",
       "      <td>3 years</td>\n",
       "      <td>Chihuahua Shorthair Mix</td>\n",
       "      <td>Brown</td>\n",
       "    </tr>\n",
       "    <tr>\n",
       "      <th>35</th>\n",
       "      <td>A668626</td>\n",
       "      <td>NaN</td>\n",
       "      <td>2013-12-06 14:55:00</td>\n",
       "      <td>2</td>\n",
       "      <td>Suffering</td>\n",
       "      <td>Dog</td>\n",
       "      <td>Intact Male</td>\n",
       "      <td>3 years</td>\n",
       "      <td>Labrador Retriever Mix</td>\n",
       "      <td>Yellow</td>\n",
       "    </tr>\n",
       "    <tr>\n",
       "      <th>36</th>\n",
       "      <td>A657085</td>\n",
       "      <td>Pony Boy</td>\n",
       "      <td>2013-10-24 11:22:00</td>\n",
       "      <td>3</td>\n",
       "      <td>NaN</td>\n",
       "      <td>Dog</td>\n",
       "      <td>Neutered Male</td>\n",
       "      <td>3 years</td>\n",
       "      <td>Pit Bull Mix</td>\n",
       "      <td>Brown/White</td>\n",
       "    </tr>\n",
       "    <tr>\n",
       "      <th>37</th>\n",
       "      <td>A682413</td>\n",
       "      <td>NaN</td>\n",
       "      <td>2014-07-02 13:37:00</td>\n",
       "      <td>4</td>\n",
       "      <td>Partner</td>\n",
       "      <td>Cat</td>\n",
       "      <td>Intact Male</td>\n",
       "      <td>2 months</td>\n",
       "      <td>Domestic Shorthair Mix</td>\n",
       "      <td>Blue/White</td>\n",
       "    </tr>\n",
       "    <tr>\n",
       "      <th>38</th>\n",
       "      <td>A702655</td>\n",
       "      <td>Mica</td>\n",
       "      <td>2015-08-11 00:00:00</td>\n",
       "      <td>4</td>\n",
       "      <td>Partner</td>\n",
       "      <td>Cat</td>\n",
       "      <td>Neutered Male</td>\n",
       "      <td>4 months</td>\n",
       "      <td>Domestic Shorthair Mix</td>\n",
       "      <td>Black/White</td>\n",
       "    </tr>\n",
       "    <tr>\n",
       "      <th>39</th>\n",
       "      <td>A707503</td>\n",
       "      <td>NaN</td>\n",
       "      <td>2015-07-14 12:16:00</td>\n",
       "      <td>4</td>\n",
       "      <td>Partner</td>\n",
       "      <td>Cat</td>\n",
       "      <td>Intact Male</td>\n",
       "      <td>3 weeks</td>\n",
       "      <td>Domestic Shorthair Mix</td>\n",
       "      <td>Brown Tabby</td>\n",
       "    </tr>\n",
       "    <tr>\n",
       "      <th>40</th>\n",
       "      <td>A697199</td>\n",
       "      <td>Pilar</td>\n",
       "      <td>2015-04-04 17:26:00</td>\n",
       "      <td>0</td>\n",
       "      <td>NaN</td>\n",
       "      <td>Cat</td>\n",
       "      <td>Spayed Female</td>\n",
       "      <td>7 years</td>\n",
       "      <td>Domestic Shorthair Mix</td>\n",
       "      <td>Blue Tabby</td>\n",
       "    </tr>\n",
       "    <tr>\n",
       "      <th>41</th>\n",
       "      <td>A705598</td>\n",
       "      <td>NaN</td>\n",
       "      <td>2015-06-23 13:25:00</td>\n",
       "      <td>4</td>\n",
       "      <td>Partner</td>\n",
       "      <td>Cat</td>\n",
       "      <td>Intact Male</td>\n",
       "      <td>2 months</td>\n",
       "      <td>Domestic Shorthair Mix</td>\n",
       "      <td>Orange Tabby</td>\n",
       "    </tr>\n",
       "    <tr>\n",
       "      <th>42</th>\n",
       "      <td>A668388</td>\n",
       "      <td>Lucy</td>\n",
       "      <td>2013-12-09 15:04:00</td>\n",
       "      <td>4</td>\n",
       "      <td>Partner</td>\n",
       "      <td>Cat</td>\n",
       "      <td>Intact Female</td>\n",
       "      <td>2 months</td>\n",
       "      <td>Domestic Shorthair Mix</td>\n",
       "      <td>Brown Tabby</td>\n",
       "    </tr>\n",
       "    <tr>\n",
       "      <th>43</th>\n",
       "      <td>A671181</td>\n",
       "      <td>NaN</td>\n",
       "      <td>2014-01-21 15:15:00</td>\n",
       "      <td>4</td>\n",
       "      <td>SCRP</td>\n",
       "      <td>Cat</td>\n",
       "      <td>Intact Male</td>\n",
       "      <td>4 years</td>\n",
       "      <td>Domestic Longhair Mix</td>\n",
       "      <td>Black/White</td>\n",
       "    </tr>\n",
       "    <tr>\n",
       "      <th>44</th>\n",
       "      <td>A676766</td>\n",
       "      <td>Ali</td>\n",
       "      <td>2014-05-28 15:52:00</td>\n",
       "      <td>0</td>\n",
       "      <td>NaN</td>\n",
       "      <td>Cat</td>\n",
       "      <td>Neutered Male</td>\n",
       "      <td>2 years</td>\n",
       "      <td>Domestic Shorthair Mix</td>\n",
       "      <td>Black/White</td>\n",
       "    </tr>\n",
       "    <tr>\n",
       "      <th>45</th>\n",
       "      <td>A686716</td>\n",
       "      <td>Chester</td>\n",
       "      <td>2014-08-27 07:50:00</td>\n",
       "      <td>3</td>\n",
       "      <td>NaN</td>\n",
       "      <td>Dog</td>\n",
       "      <td>Neutered Male</td>\n",
       "      <td>12 years</td>\n",
       "      <td>Beagle</td>\n",
       "      <td>Tricolor</td>\n",
       "    </tr>\n",
       "    <tr>\n",
       "      <th>46</th>\n",
       "      <td>A684475</td>\n",
       "      <td>Daisy</td>\n",
       "      <td>2014-08-05 11:15:00</td>\n",
       "      <td>3</td>\n",
       "      <td>NaN</td>\n",
       "      <td>Cat</td>\n",
       "      <td>Spayed Female</td>\n",
       "      <td>9 years</td>\n",
       "      <td>Domestic Shorthair Mix</td>\n",
       "      <td>White/Black</td>\n",
       "    </tr>\n",
       "    <tr>\n",
       "      <th>47</th>\n",
       "      <td>A701804</td>\n",
       "      <td>NaN</td>\n",
       "      <td>2015-05-05 11:46:00</td>\n",
       "      <td>4</td>\n",
       "      <td>Partner</td>\n",
       "      <td>Cat</td>\n",
       "      <td>Intact Female</td>\n",
       "      <td>3 weeks</td>\n",
       "      <td>Domestic Shorthair Mix</td>\n",
       "      <td>Black</td>\n",
       "    </tr>\n",
       "    <tr>\n",
       "      <th>48</th>\n",
       "      <td>A697852</td>\n",
       "      <td>Edith</td>\n",
       "      <td>2015-03-09 17:57:00</td>\n",
       "      <td>0</td>\n",
       "      <td>NaN</td>\n",
       "      <td>Dog</td>\n",
       "      <td>Spayed Female</td>\n",
       "      <td>5 months</td>\n",
       "      <td>German Shepherd Mix</td>\n",
       "      <td>Black/Brown</td>\n",
       "    </tr>\n",
       "    <tr>\n",
       "      <th>49</th>\n",
       "      <td>A666092</td>\n",
       "      <td>NaN</td>\n",
       "      <td>2013-10-30 15:37:00</td>\n",
       "      <td>2</td>\n",
       "      <td>Aggressive</td>\n",
       "      <td>Dog</td>\n",
       "      <td>Intact Male</td>\n",
       "      <td>6 years</td>\n",
       "      <td>Pit Bull/Labrador Retriever</td>\n",
       "      <td>Chocolate/White</td>\n",
       "    </tr>\n",
       "  </tbody>\n",
       "</table>\n",
       "</div>"
      ],
      "text/plain": [
       "   AnimalID      Name             DateTime  OutcomeType OutcomeSubtype  \\\n",
       "0   A671945   Hambone  2014-02-12 18:22:00            3            NaN   \n",
       "1   A656520     Emily  2013-10-13 12:44:00            2      Suffering   \n",
       "2   A686464    Pearce  2015-01-31 12:28:00            0         Foster   \n",
       "3   A683430       NaN  2014-07-11 19:09:00            4        Partner   \n",
       "4   A667013       NaN  2013-11-15 12:52:00            4        Partner   \n",
       "5   A677334      Elsa  2014-04-25 13:04:00            4        Partner   \n",
       "6   A699218     Jimmy  2015-03-28 13:11:00            4        Partner   \n",
       "7   A701489       NaN  2015-04-30 17:02:00            4        Partner   \n",
       "8   A671784      Lucy  2014-02-04 17:17:00            0            NaN   \n",
       "9   A677747       NaN  2014-05-03 07:48:00            0        Offsite   \n",
       "10  A668402       NaN  2013-12-05 15:50:00            4           SCRP   \n",
       "11  A666320       NaN  2013-11-04 14:48:00            0            NaN   \n",
       "12  A684601    Rocket  2016-02-03 11:27:00            0         Foster   \n",
       "13  A704702   Scooter  2015-06-08 16:30:00            3            NaN   \n",
       "14  A688584   Preston  2015-11-25 15:00:00            3            NaN   \n",
       "15  A678825    Oliver  2014-07-12 12:10:00            0         Foster   \n",
       "16  A678050       NaN  2014-05-03 16:15:00            4        Partner   \n",
       "17  A680028       NaN  2014-06-07 12:54:00            4        Partner   \n",
       "18  A679010   Chrissy  2014-05-17 11:32:00            4        Partner   \n",
       "19  A684787      Kuma  2014-07-30 17:34:00            3            NaN   \n",
       "20  A670658    Anders  2014-01-19 15:03:00            4        Partner   \n",
       "21  A708812  Munchkin  2015-09-18 15:19:00            4        Partner   \n",
       "22  A705262   Jamaica  2015-08-15 14:22:00            0            NaN   \n",
       "23  A665781   Quattro  2013-10-28 16:32:00            0            NaN   \n",
       "24  A676333   Trigger  2014-04-09 17:44:00            3            NaN   \n",
       "25  A712750     Olive  2015-10-03 15:44:00            4        Partner   \n",
       "26  A718832       Nia  2016-01-15 17:31:00            0            NaN   \n",
       "27  A698777     Chloe  2015-03-25 18:50:00            0            NaN   \n",
       "28  A715348   Cymbale  2015-11-21 13:01:00            0            NaN   \n",
       "29  A708666       Jax  2015-07-30 14:30:00            3            NaN   \n",
       "30  A718535       NaN  2016-01-01 13:57:00            2      Suffering   \n",
       "31  A707341    Murphy  2015-07-15 15:25:00            4        Partner   \n",
       "32  A682532       NaN  2014-07-03 17:01:00            0            NaN   \n",
       "33  A666825     Jesse  2013-11-08 13:24:00            3            NaN   \n",
       "34  A699723   Delgado  2015-04-11 16:01:00            4        Partner   \n",
       "35  A668626       NaN  2013-12-06 14:55:00            2      Suffering   \n",
       "36  A657085  Pony Boy  2013-10-24 11:22:00            3            NaN   \n",
       "37  A682413       NaN  2014-07-02 13:37:00            4        Partner   \n",
       "38  A702655      Mica  2015-08-11 00:00:00            4        Partner   \n",
       "39  A707503       NaN  2015-07-14 12:16:00            4        Partner   \n",
       "40  A697199     Pilar  2015-04-04 17:26:00            0            NaN   \n",
       "41  A705598       NaN  2015-06-23 13:25:00            4        Partner   \n",
       "42  A668388      Lucy  2013-12-09 15:04:00            4        Partner   \n",
       "43  A671181       NaN  2014-01-21 15:15:00            4           SCRP   \n",
       "44  A676766       Ali  2014-05-28 15:52:00            0            NaN   \n",
       "45  A686716   Chester  2014-08-27 07:50:00            3            NaN   \n",
       "46  A684475     Daisy  2014-08-05 11:15:00            3            NaN   \n",
       "47  A701804       NaN  2015-05-05 11:46:00            4        Partner   \n",
       "48  A697852     Edith  2015-03-09 17:57:00            0            NaN   \n",
       "49  A666092       NaN  2013-10-30 15:37:00            2     Aggressive   \n",
       "\n",
       "   AnimalType SexuponOutcome AgeuponOutcome  \\\n",
       "0         Dog  Neutered Male         1 year   \n",
       "1         Cat  Spayed Female         1 year   \n",
       "2         Dog  Neutered Male        2 years   \n",
       "3         Cat    Intact Male        3 weeks   \n",
       "4         Dog  Neutered Male        2 years   \n",
       "5         Dog  Intact Female        1 month   \n",
       "6         Cat    Intact Male        3 weeks   \n",
       "7         Cat        Unknown        3 weeks   \n",
       "8         Dog  Spayed Female       5 months   \n",
       "9         Dog  Spayed Female         1 year   \n",
       "10        Cat        Unknown        2 years   \n",
       "11        Dog  Spayed Female        2 years   \n",
       "12        Dog  Neutered Male        4 years   \n",
       "13        Dog  Neutered Male        2 years   \n",
       "14        Dog  Neutered Male         1 year   \n",
       "15        Cat  Neutered Male       3 months   \n",
       "16        Cat    Intact Male        3 weeks   \n",
       "17        Dog  Intact Female        2 weeks   \n",
       "18        Cat  Intact Female        2 years   \n",
       "19        Dog  Neutered Male         1 year   \n",
       "20        Dog    Intact Male       2 months   \n",
       "21        Cat  Spayed Female         1 year   \n",
       "22        Dog  Spayed Female        2 years   \n",
       "23        Dog  Neutered Male      10 months   \n",
       "24        Dog  Neutered Male       2 months   \n",
       "25        Cat  Intact Female        1 month   \n",
       "26        Dog  Spayed Female       6 months   \n",
       "27        Dog  Spayed Female        5 years   \n",
       "28        Cat  Spayed Female       2 months   \n",
       "29        Cat  Neutered Male        7 years   \n",
       "30        Cat  Spayed Female        3 years   \n",
       "31        Dog    Intact Male       4 months   \n",
       "32        Cat  Spayed Female       2 months   \n",
       "33        Dog  Neutered Male        5 years   \n",
       "34        Dog  Neutered Male        3 years   \n",
       "35        Dog    Intact Male        3 years   \n",
       "36        Dog  Neutered Male        3 years   \n",
       "37        Cat    Intact Male       2 months   \n",
       "38        Cat  Neutered Male       4 months   \n",
       "39        Cat    Intact Male        3 weeks   \n",
       "40        Cat  Spayed Female        7 years   \n",
       "41        Cat    Intact Male       2 months   \n",
       "42        Cat  Intact Female       2 months   \n",
       "43        Cat    Intact Male        4 years   \n",
       "44        Cat  Neutered Male        2 years   \n",
       "45        Dog  Neutered Male       12 years   \n",
       "46        Cat  Spayed Female        9 years   \n",
       "47        Cat  Intact Female        3 weeks   \n",
       "48        Dog  Spayed Female       5 months   \n",
       "49        Dog    Intact Male        6 years   \n",
       "\n",
       "                                 Breed                Color  \n",
       "0                Shetland Sheepdog Mix          Brown/White  \n",
       "1               Domestic Shorthair Mix          Cream Tabby  \n",
       "2                         Pit Bull Mix           Blue/White  \n",
       "3               Domestic Shorthair Mix           Blue Cream  \n",
       "4          Lhasa Apso/Miniature Poodle                  Tan  \n",
       "5    Cairn Terrier/Chihuahua Shorthair            Black/Tan  \n",
       "6               Domestic Shorthair Mix           Blue Tabby  \n",
       "7               Domestic Shorthair Mix          Brown Tabby  \n",
       "8        American Pit Bull Terrier Mix            Red/White  \n",
       "9                        Cairn Terrier                White  \n",
       "10              Domestic Shorthair Mix                Black  \n",
       "11             Miniature Schnauzer Mix               Silver  \n",
       "12                        Pit Bull Mix                Brown  \n",
       "13               Yorkshire Terrier Mix            Black/Red  \n",
       "14                  Great Pyrenees Mix          White/Cream  \n",
       "15              Domestic Shorthair Mix   Orange Tabby/White  \n",
       "16              Domestic Shorthair Mix          Brown Tabby  \n",
       "17                        Pit Bull Mix          Brown/White  \n",
       "18                          Angora Mix                White  \n",
       "19             Flat Coat Retriever Mix                Black  \n",
       "20               Queensland Heeler Mix          Black/White  \n",
       "21              Domestic Shorthair Mix                White  \n",
       "22                   Plott Hound/Boxer  Brown Brindle/White  \n",
       "23                 German Shepherd Mix          Brown/White  \n",
       "24                 German Shepherd Mix          Black/Brown  \n",
       "25              Domestic Shorthair Mix         Orange Tabby  \n",
       "26  American Staffordshire Terrier Mix      Chocolate/White  \n",
       "27             Chihuahua Shorthair Mix            White/Tan  \n",
       "28              Domestic Shorthair Mix    Cream Tabby/White  \n",
       "29                    Russian Blue Mix                 Blue  \n",
       "30              Domestic Shorthair Mix               Calico  \n",
       "31              Labrador Retriever Mix          Black/White  \n",
       "32              Domestic Shorthair Mix               Torbie  \n",
       "33       Collie Smooth/German Shepherd          Brown/Black  \n",
       "34             Chihuahua Shorthair Mix                Brown  \n",
       "35              Labrador Retriever Mix               Yellow  \n",
       "36                        Pit Bull Mix          Brown/White  \n",
       "37              Domestic Shorthair Mix           Blue/White  \n",
       "38              Domestic Shorthair Mix          Black/White  \n",
       "39              Domestic Shorthair Mix          Brown Tabby  \n",
       "40              Domestic Shorthair Mix           Blue Tabby  \n",
       "41              Domestic Shorthair Mix         Orange Tabby  \n",
       "42              Domestic Shorthair Mix          Brown Tabby  \n",
       "43               Domestic Longhair Mix          Black/White  \n",
       "44              Domestic Shorthair Mix          Black/White  \n",
       "45                              Beagle             Tricolor  \n",
       "46              Domestic Shorthair Mix          White/Black  \n",
       "47              Domestic Shorthair Mix                Black  \n",
       "48                 German Shepherd Mix          Black/Brown  \n",
       "49         Pit Bull/Labrador Retriever      Chocolate/White  "
      ]
     },
     "execution_count": 16,
     "metadata": {},
     "output_type": "execute_result"
    }
   ],
   "source": [
    "train_df.head(50)"
   ]
  },
  {
   "cell_type": "code",
   "execution_count": null,
   "metadata": {
    "collapsed": false
   },
   "outputs": [],
   "source": []
  },
  {
   "cell_type": "code",
   "execution_count": null,
   "metadata": {
    "collapsed": false
   },
   "outputs": [],
   "source": []
  },
  {
   "cell_type": "code",
   "execution_count": null,
   "metadata": {
    "collapsed": false
   },
   "outputs": [],
   "source": []
  },
  {
   "cell_type": "code",
   "execution_count": null,
   "metadata": {
    "collapsed": true
   },
   "outputs": [],
   "source": []
  },
  {
   "cell_type": "code",
   "execution_count": null,
   "metadata": {
    "collapsed": true
   },
   "outputs": [],
   "source": []
  },
  {
   "cell_type": "code",
   "execution_count": null,
   "metadata": {
    "collapsed": true
   },
   "outputs": [],
   "source": []
  },
  {
   "cell_type": "code",
   "execution_count": 17,
   "metadata": {
    "collapsed": false
   },
   "outputs": [
    {
     "data": {
      "text/plain": [
       "array([nan, 'Suffering', 'Foster', 'Partner', 'Offsite', 'SCRP',\n",
       "       'Aggressive', 'Behavior', 'Rabies Risk', 'Medical', 'In Kennel',\n",
       "       'In Foster', 'Barn', 'Court/Investigation', 'Enroute', 'At Vet',\n",
       "       'In Surgery'], dtype=object)"
      ]
     },
     "execution_count": 17,
     "metadata": {},
     "output_type": "execute_result"
    }
   ],
   "source": [
    "train_df.OutcomeSubtype.unique()"
   ]
  },
  {
   "cell_type": "code",
   "execution_count": 18,
   "metadata": {
    "collapsed": true
   },
   "outputs": [],
   "source": [
    "# Should convert all of these using LabelEncoder\n",
    "\n",
    "outcome_sub = {}\n",
    "for i, st in enumerate(train_df.OutcomeSubtype.unique()):\n",
    "    outcome_sub[st] = i"
   ]
  },
  {
   "cell_type": "code",
   "execution_count": 19,
   "metadata": {
    "collapsed": true
   },
   "outputs": [],
   "source": [
    "train_df['OutcomeSubtype'] = train_df.OutcomeSubtype.map( outcome_sub ).astype(int)"
   ]
  },
  {
   "cell_type": "code",
   "execution_count": 20,
   "metadata": {
    "collapsed": false
   },
   "outputs": [
    {
     "data": {
      "text/plain": [
       "array(['Dog', 'Cat'], dtype=object)"
      ]
     },
     "execution_count": 20,
     "metadata": {},
     "output_type": "execute_result"
    }
   ],
   "source": [
    "train_df.AnimalType.unique()"
   ]
  },
  {
   "cell_type": "code",
   "execution_count": 21,
   "metadata": {
    "collapsed": true
   },
   "outputs": [],
   "source": [
    "train_df['AnimalType'] = train_df.AnimalType.map( {'Dog': 0, 'Cat': 1} ).astype(int)"
   ]
  },
  {
   "cell_type": "code",
   "execution_count": 22,
   "metadata": {
    "collapsed": false
   },
   "outputs": [
    {
     "data": {
      "text/plain": [
       "array(['Neutered Male', 'Spayed Female', 'Intact Male', 'Intact Female',\n",
       "       'Unknown', nan], dtype=object)"
      ]
     },
     "execution_count": 22,
     "metadata": {},
     "output_type": "execute_result"
    }
   ],
   "source": [
    "train_df.SexuponOutcome.unique()"
   ]
  },
  {
   "cell_type": "code",
   "execution_count": 23,
   "metadata": {
    "collapsed": true
   },
   "outputs": [],
   "source": [
    "sex_outcome = {}\n",
    "for i, sex in enumerate(train_df.SexuponOutcome.unique()):\n",
    "    sex_outcome[sex] = i"
   ]
  },
  {
   "cell_type": "code",
   "execution_count": 24,
   "metadata": {
    "collapsed": false
   },
   "outputs": [
    {
     "data": {
      "text/plain": [
       "{nan: 5,\n",
       " 'Intact Female': 3,\n",
       " 'Spayed Female': 1,\n",
       " 'Unknown': 4,\n",
       " 'Neutered Male': 0,\n",
       " 'Intact Male': 2}"
      ]
     },
     "execution_count": 24,
     "metadata": {},
     "output_type": "execute_result"
    }
   ],
   "source": [
    "sex_outcome"
   ]
  },
  {
   "cell_type": "code",
   "execution_count": 25,
   "metadata": {
    "collapsed": true
   },
   "outputs": [],
   "source": [
    "train_df['SexuponOutcome'] = train_df.SexuponOutcome.map( sex_outcome ).astype(int)"
   ]
  },
  {
   "cell_type": "code",
   "execution_count": 26,
   "metadata": {
    "collapsed": false
   },
   "outputs": [
    {
     "data": {
      "text/plain": [
       "array(['1 year', '2 years', '3 weeks', '1 month', '5 months', '4 years',\n",
       "       '3 months', '2 weeks', '2 months', '10 months', '6 months',\n",
       "       '5 years', '7 years', '3 years', '4 months', '12 years', '9 years',\n",
       "       '6 years', '1 weeks', '11 years', '4 weeks', '7 months', '8 years',\n",
       "       '11 months', '4 days', '9 months', '8 months', '15 years',\n",
       "       '10 years', '1 week', '0 years', '14 years', '3 days', '6 days',\n",
       "       '5 days', '5 weeks', '2 days', '16 years', '1 day', '13 years', nan,\n",
       "       '17 years', '18 years', '19 years', '20 years'], dtype=object)"
      ]
     },
     "execution_count": 26,
     "metadata": {},
     "output_type": "execute_result"
    }
   ],
   "source": [
    "train_df.AgeuponOutcome.unique()"
   ]
  },
  {
   "cell_type": "code",
   "execution_count": 27,
   "metadata": {
    "collapsed": false
   },
   "outputs": [],
   "source": [
    "period_dict = {'year': 365, 'month': 30, 'week': 7, 'day': 1, 'day': 1}\n",
    "\n",
    "def convert_age_to_days(age):\n",
    "    try:\n",
    "        number, period = str(age).split()\n",
    "        period = period.rstrip(\"s\")\n",
    "        days = int(number) * period_dict[period]\n",
    "        return int(days)\n",
    "    except ValueError:\n",
    "        return 30\n",
    "    "
   ]
  },
  {
   "cell_type": "code",
   "execution_count": 28,
   "metadata": {
    "collapsed": false
   },
   "outputs": [],
   "source": [
    "train_df['AgeuponOutcome'] = train_df.AgeuponOutcome.apply(convert_age_to_days)"
   ]
  },
  {
   "cell_type": "code",
   "execution_count": 29,
   "metadata": {
    "collapsed": false
   },
   "outputs": [
    {
     "data": {
      "text/plain": [
       "0    365\n",
       "1    365\n",
       "2    730\n",
       "3     21\n",
       "4    730\n",
       "5     30\n",
       "6     21\n",
       "7     21\n",
       "8    150\n",
       "9    365\n",
       "Name: AgeuponOutcome, dtype: int64"
      ]
     },
     "execution_count": 29,
     "metadata": {},
     "output_type": "execute_result"
    }
   ],
   "source": [
    "train_df.AgeuponOutcome[:10]"
   ]
  },
  {
   "cell_type": "code",
   "execution_count": 30,
   "metadata": {
    "collapsed": false
   },
   "outputs": [
    {
     "data": {
      "text/plain": [
       "array(['Shetland Sheepdog Mix', 'Domestic Shorthair Mix', 'Pit Bull Mix',\n",
       "       ..., 'Vizsla/Boxer', 'German Shepherd/Australian Kelpie',\n",
       "       'Boxer/German Shepherd'], dtype=object)"
      ]
     },
     "execution_count": 30,
     "metadata": {},
     "output_type": "execute_result"
    }
   ],
   "source": [
    "train_df.Breed.unique()"
   ]
  },
  {
   "cell_type": "code",
   "execution_count": null,
   "metadata": {
    "collapsed": false
   },
   "outputs": [],
   "source": []
  },
  {
   "cell_type": "code",
   "execution_count": 31,
   "metadata": {
    "collapsed": false
   },
   "outputs": [],
   "source": [
    "# Could do something with a countvectorizer for Breed & Color, but we'll stick to simple here\n",
    "\n",
    "#from sklearn.feature_extraction.text import CountVectorizer\n",
    "#count_vect = CountVectorizer()"
   ]
  },
  {
   "cell_type": "code",
   "execution_count": null,
   "metadata": {
    "collapsed": false
   },
   "outputs": [],
   "source": [
    "'''colour_counts = count_vect.fit_transform(train_df.Color)\n",
    "\n",
    "count_vect.vocabulary_.get(u'black')\n",
    "\n",
    "train_df['ColorVect'] = count_vect.fit_transform(train_df.Color)\n",
    "\n",
    "breed_vect = CountVectorizer()\n",
    "train_df['BreedVect'] = count_vect.fit_transform(train_df.Breed)'''"
   ]
  },
  {
   "cell_type": "code",
   "execution_count": null,
   "metadata": {
    "collapsed": true
   },
   "outputs": [],
   "source": []
  },
  {
   "cell_type": "code",
   "execution_count": 32,
   "metadata": {
    "collapsed": true
   },
   "outputs": [],
   "source": [
    "breed = {}\n",
    "\n",
    "for i, b in enumerate(train_df.Breed.unique()):\n",
    "    breed[b] = i\n",
    "    \n",
    "train_df['Breed'] = train_df.Breed.map( breed ).astype(int)"
   ]
  },
  {
   "cell_type": "code",
   "execution_count": 33,
   "metadata": {
    "collapsed": false
   },
   "outputs": [
    {
     "data": {
      "text/plain": [
       "array(['Brown/White', 'Cream Tabby', 'Blue/White', 'Blue Cream', 'Tan',\n",
       "       'Black/Tan', 'Blue Tabby', 'Brown Tabby', 'Red/White', 'White'], dtype=object)"
      ]
     },
     "execution_count": 33,
     "metadata": {},
     "output_type": "execute_result"
    }
   ],
   "source": [
    "train_df.Color.unique()[:10]"
   ]
  },
  {
   "cell_type": "code",
   "execution_count": 34,
   "metadata": {
    "collapsed": true
   },
   "outputs": [],
   "source": [
    "color = {}\n",
    "\n",
    "for i, c in enumerate(train_df.Color.unique()):\n",
    "    color[c] = i\n",
    "    \n",
    "train_df['Color'] = train_df.Color.map( color ).astype(int)"
   ]
  },
  {
   "cell_type": "code",
   "execution_count": 35,
   "metadata": {
    "collapsed": false
   },
   "outputs": [],
   "source": [
    "# We could also do something very cool with text analysis for names, but we'll keep it simple and go length\n",
    "\n",
    "train_df['Name'] = train_df.Name.apply(lambda x: len(str(x)))"
   ]
  },
  {
   "cell_type": "code",
   "execution_count": 36,
   "metadata": {
    "collapsed": false
   },
   "outputs": [
    {
     "data": {
      "text/html": [
       "<div>\n",
       "<table border=\"1\" class=\"dataframe\">\n",
       "  <thead>\n",
       "    <tr style=\"text-align: right;\">\n",
       "      <th></th>\n",
       "      <th>AnimalID</th>\n",
       "      <th>Name</th>\n",
       "      <th>DateTime</th>\n",
       "      <th>OutcomeType</th>\n",
       "      <th>OutcomeSubtype</th>\n",
       "      <th>AnimalType</th>\n",
       "      <th>SexuponOutcome</th>\n",
       "      <th>AgeuponOutcome</th>\n",
       "      <th>Breed</th>\n",
       "      <th>Color</th>\n",
       "    </tr>\n",
       "  </thead>\n",
       "  <tbody>\n",
       "    <tr>\n",
       "      <th>0</th>\n",
       "      <td>A671945</td>\n",
       "      <td>7</td>\n",
       "      <td>2014-02-12 18:22:00</td>\n",
       "      <td>3</td>\n",
       "      <td>0</td>\n",
       "      <td>0</td>\n",
       "      <td>0</td>\n",
       "      <td>365</td>\n",
       "      <td>0</td>\n",
       "      <td>0</td>\n",
       "    </tr>\n",
       "    <tr>\n",
       "      <th>1</th>\n",
       "      <td>A656520</td>\n",
       "      <td>5</td>\n",
       "      <td>2013-10-13 12:44:00</td>\n",
       "      <td>2</td>\n",
       "      <td>1</td>\n",
       "      <td>1</td>\n",
       "      <td>1</td>\n",
       "      <td>365</td>\n",
       "      <td>1</td>\n",
       "      <td>1</td>\n",
       "    </tr>\n",
       "    <tr>\n",
       "      <th>2</th>\n",
       "      <td>A686464</td>\n",
       "      <td>6</td>\n",
       "      <td>2015-01-31 12:28:00</td>\n",
       "      <td>0</td>\n",
       "      <td>2</td>\n",
       "      <td>0</td>\n",
       "      <td>0</td>\n",
       "      <td>730</td>\n",
       "      <td>2</td>\n",
       "      <td>2</td>\n",
       "    </tr>\n",
       "    <tr>\n",
       "      <th>3</th>\n",
       "      <td>A683430</td>\n",
       "      <td>3</td>\n",
       "      <td>2014-07-11 19:09:00</td>\n",
       "      <td>4</td>\n",
       "      <td>3</td>\n",
       "      <td>1</td>\n",
       "      <td>2</td>\n",
       "      <td>21</td>\n",
       "      <td>1</td>\n",
       "      <td>3</td>\n",
       "    </tr>\n",
       "    <tr>\n",
       "      <th>4</th>\n",
       "      <td>A667013</td>\n",
       "      <td>3</td>\n",
       "      <td>2013-11-15 12:52:00</td>\n",
       "      <td>4</td>\n",
       "      <td>3</td>\n",
       "      <td>0</td>\n",
       "      <td>0</td>\n",
       "      <td>730</td>\n",
       "      <td>3</td>\n",
       "      <td>4</td>\n",
       "    </tr>\n",
       "  </tbody>\n",
       "</table>\n",
       "</div>"
      ],
      "text/plain": [
       "  AnimalID  Name             DateTime  OutcomeType  OutcomeSubtype  \\\n",
       "0  A671945     7  2014-02-12 18:22:00            3               0   \n",
       "1  A656520     5  2013-10-13 12:44:00            2               1   \n",
       "2  A686464     6  2015-01-31 12:28:00            0               2   \n",
       "3  A683430     3  2014-07-11 19:09:00            4               3   \n",
       "4  A667013     3  2013-11-15 12:52:00            4               3   \n",
       "\n",
       "   AnimalType  SexuponOutcome  AgeuponOutcome  Breed  Color  \n",
       "0           0               0             365      0      0  \n",
       "1           1               1             365      1      1  \n",
       "2           0               0             730      2      2  \n",
       "3           1               2              21      1      3  \n",
       "4           0               0             730      3      4  "
      ]
     },
     "execution_count": 36,
     "metadata": {},
     "output_type": "execute_result"
    }
   ],
   "source": [
    "train_df.interpolate().head() # could have used dropna().median()"
   ]
  },
  {
   "cell_type": "code",
   "execution_count": 37,
   "metadata": {
    "collapsed": false
   },
   "outputs": [],
   "source": [
    "# Save our clean dataframe to csv so we don't need to do this again.\n",
    "train_df.to_csv(os.path.join(win_data_dir, \"clean_train.csv\"))"
   ]
  },
  {
   "cell_type": "code",
   "execution_count": 38,
   "metadata": {
    "collapsed": false
   },
   "outputs": [
    {
     "data": {
      "text/plain": [
       "Name              int64\n",
       "OutcomeSubtype    int32\n",
       "AnimalType        int32\n",
       "SexuponOutcome    int32\n",
       "AgeuponOutcome    int64\n",
       "dtype: object"
      ]
     },
     "execution_count": 38,
     "metadata": {},
     "output_type": "execute_result"
    }
   ],
   "source": [
    "# Work out a test_train_split to see how we do\n",
    "X = train_df.drop(['AnimalID', 'DateTime', 'OutcomeType', 'Breed', 'Color'], axis=1)\n",
    "X.dtypes"
   ]
  },
  {
   "cell_type": "code",
   "execution_count": 39,
   "metadata": {
    "collapsed": false
   },
   "outputs": [
    {
     "data": {
      "text/plain": [
       "0         365\n",
       "1         365\n",
       "2         730\n",
       "3          21\n",
       "4         730\n",
       "5          30\n",
       "6          21\n",
       "7          21\n",
       "8         150\n",
       "9         365\n",
       "10        730\n",
       "11        730\n",
       "12       1460\n",
       "13        730\n",
       "14        365\n",
       "15         90\n",
       "16         21\n",
       "17         14\n",
       "18        730\n",
       "19        365\n",
       "20         60\n",
       "21        365\n",
       "22        730\n",
       "23        300\n",
       "24         60\n",
       "25         30\n",
       "26        180\n",
       "27       1825\n",
       "28         60\n",
       "29       2555\n",
       "         ... \n",
       "26699     730\n",
       "26700     300\n",
       "26701     330\n",
       "26702     730\n",
       "26703    2190\n",
       "26704      28\n",
       "26705      60\n",
       "26706      60\n",
       "26707     365\n",
       "26708     730\n",
       "26709      30\n",
       "26710      30\n",
       "26711     365\n",
       "26712    4380\n",
       "26713    6570\n",
       "26714      60\n",
       "26715      60\n",
       "26716      60\n",
       "26717    3285\n",
       "26718      60\n",
       "26719     730\n",
       "26720      60\n",
       "26721    1825\n",
       "26722     150\n",
       "26723    2190\n",
       "26724      30\n",
       "26725      90\n",
       "26726    1460\n",
       "26727      28\n",
       "26728     365\n",
       "Name: AgeuponOutcome, dtype: int64"
      ]
     },
     "execution_count": 39,
     "metadata": {},
     "output_type": "execute_result"
    }
   ],
   "source": [
    "X.AgeuponOutcome.replace('NA',0)"
   ]
  },
  {
   "cell_type": "code",
   "execution_count": null,
   "metadata": {
    "collapsed": true
   },
   "outputs": [],
   "source": []
  },
  {
   "cell_type": "code",
   "execution_count": null,
   "metadata": {
    "collapsed": false
   },
   "outputs": [],
   "source": []
  },
  {
   "cell_type": "code",
   "execution_count": null,
   "metadata": {
    "collapsed": false
   },
   "outputs": [],
   "source": []
  },
  {
   "cell_type": "code",
   "execution_count": 40,
   "metadata": {
    "collapsed": false
   },
   "outputs": [
    {
     "data": {
      "text/plain": [
       "array([[  7,   0,   0,   0, 365],\n",
       "       [  5,   1,   1,   1, 365],\n",
       "       [  6,   2,   0,   0, 730],\n",
       "       [  3,   3,   1,   2,  21],\n",
       "       [  3,   3,   0,   0, 730],\n",
       "       [  4,   3,   0,   3,  30],\n",
       "       [  5,   3,   1,   2,  21],\n",
       "       [  3,   3,   1,   4,  21],\n",
       "       [  4,   0,   0,   1, 150],\n",
       "       [  3,   4,   0,   1, 365]], dtype=int64)"
      ]
     },
     "execution_count": 40,
     "metadata": {},
     "output_type": "execute_result"
    }
   ],
   "source": [
    "train_features = X.values\n",
    "train_features[:10]"
   ]
  },
  {
   "cell_type": "code",
   "execution_count": 41,
   "metadata": {
    "collapsed": false
   },
   "outputs": [
    {
     "data": {
      "text/plain": [
       "array([[ 0.,  0.,  0.,  1.,  0.],\n",
       "       [ 0.,  0.,  1.,  0.,  0.],\n",
       "       [ 1.,  0.,  0.,  0.,  0.],\n",
       "       [ 0.,  0.,  0.,  0.,  1.],\n",
       "       [ 0.,  1.,  0.,  0.,  0.]])"
      ]
     },
     "execution_count": 41,
     "metadata": {},
     "output_type": "execute_result"
    }
   ],
   "source": [
    "dummy_y"
   ]
  },
  {
   "cell_type": "code",
   "execution_count": 42,
   "metadata": {
    "collapsed": false
   },
   "outputs": [
    {
     "data": {
      "text/plain": [
       "array([[ 0.,  0.,  0.,  1.,  0.],\n",
       "       [ 0.,  0.,  1.,  0.,  0.],\n",
       "       [ 1.,  0.,  0.,  0.,  0.],\n",
       "       ..., \n",
       "       [ 1.,  0.,  0.,  0.,  0.],\n",
       "       [ 0.,  0.,  0.,  0.,  1.],\n",
       "       [ 0.,  0.,  0.,  0.,  1.]])"
      ]
     },
     "execution_count": 42,
     "metadata": {},
     "output_type": "execute_result"
    }
   ],
   "source": [
    "train_target = np_utils.to_categorical(train_df['OutcomeType'].values)\n",
    "train_target"
   ]
  },
  {
   "cell_type": "code",
   "execution_count": 43,
   "metadata": {
    "collapsed": false
   },
   "outputs": [],
   "source": [
    "# Set up our train_test_split\n",
    "\n",
    "X_train, x_test, y_train, y_test = train_test_split(train_features,\n",
    "                                          train_target,\n",
    "                                          test_size=0.4,\n",
    "                                          random_state=42)"
   ]
  },
  {
   "cell_type": "code",
   "execution_count": null,
   "metadata": {
    "collapsed": false
   },
   "outputs": [],
   "source": []
  },
  {
   "cell_type": "code",
   "execution_count": 44,
   "metadata": {
    "collapsed": false
   },
   "outputs": [],
   "source": [
    "# New we finally get to the classifier!\n",
    "\n",
    "clf = RandomForestClassifier(n_estimators=100)"
   ]
  },
  {
   "cell_type": "code",
   "execution_count": 45,
   "metadata": {
    "collapsed": false
   },
   "outputs": [
    {
     "data": {
      "text/plain": [
       "'Mean accuracy of Random Forest: 0.8877595560266883'"
      ]
     },
     "execution_count": 45,
     "metadata": {},
     "output_type": "execute_result"
    }
   ],
   "source": [
    "clf = clf.fit(X_train, y_train)\n",
    "score = clf.score(X_train, y_train)\n",
    "\"Mean accuracy of Random Forest: {0}\".format(score)"
   ]
  },
  {
   "cell_type": "code",
   "execution_count": 46,
   "metadata": {
    "collapsed": false
   },
   "outputs": [
    {
     "name": "stderr",
     "output_type": "stream",
     "text": [
      "C:\\Users\\Owner\\Anaconda3\\lib\\site-packages\\sklearn\\utils\\validation.py:386: DeprecationWarning: Passing 1d arrays as data is deprecated in 0.17 and willraise ValueError in 0.19. Reshape your data either using X.reshape(-1, 1) if your data has a single feature or X.reshape(1, -1) if it contains a single sample.\n",
      "  DeprecationWarning)\n"
     ]
    },
    {
     "data": {
      "text/plain": [
       "array([[ 0.,  0.,  0.,  1.,  0.]])"
      ]
     },
     "execution_count": 46,
     "metadata": {},
     "output_type": "execute_result"
    }
   ],
   "source": [
    "clf.predict(x_test[0])"
   ]
  },
  {
   "cell_type": "code",
   "execution_count": 74,
   "metadata": {
    "collapsed": false
   },
   "outputs": [],
   "source": [
    "test1 = np.argmax(clf.predict(x_test)[0])"
   ]
  },
  {
   "cell_type": "code",
   "execution_count": 75,
   "metadata": {
    "collapsed": false
   },
   "outputs": [
    {
     "data": {
      "text/plain": [
       "3"
      ]
     },
     "execution_count": 75,
     "metadata": {},
     "output_type": "execute_result"
    }
   ],
   "source": [
    "test1"
   ]
  },
  {
   "cell_type": "code",
   "execution_count": 47,
   "metadata": {
    "collapsed": true
   },
   "outputs": [],
   "source": [
    "def reverse_dict_search(d, target):\n",
    "    for k, v in d.items():\n",
    "        if v == target:\n",
    "            return k"
   ]
  },
  {
   "cell_type": "code",
   "execution_count": 80,
   "metadata": {
    "collapsed": false
   },
   "outputs": [],
   "source": [
    "def predict_outcome(animal):\n",
    "    \n",
    "    animaltype = {'Dog': 0,'Cat': 1}\n",
    "    \n",
    "    name, outcome_subtype, animal_class, sex, age = animal\n",
    "    print(\"Name length:{}\".format(name))\n",
    "    print(\"Animal Type:{}\".format(reverse_dict_search(animaltype, animal_class)))\n",
    "    print(\"Sex:{}\".format(reverse_dict_search(sex_outcome, sex)))\n",
    "    print(\"Age:{} days\".format(age))\n",
    "    #print(\"Breed:{}\".format(reverse_dict_search(breed, animal_breed)))\n",
    "    #print(\"Color:{}\".format(reverse_dict_search(color, animal_color)))\n",
    "    print(\"Outcome Subtype: {}\".format(reverse_dict_search(outcome_sub, outcome_subtype)))\n",
    "    print(\"************\")\n",
    "    print(\"Prediction: {}\\n\".format(encoder.inverse_transform(\n",
    "                np.argmax(clf.predict(animal)))))\n",
    "    print(clf.predict(animal))"
   ]
  },
  {
   "cell_type": "code",
   "execution_count": null,
   "metadata": {
    "collapsed": true
   },
   "outputs": [],
   "source": []
  },
  {
   "cell_type": "code",
   "execution_count": 85,
   "metadata": {
    "collapsed": false
   },
   "outputs": [
    {
     "name": "stdout",
     "output_type": "stream",
     "text": [
      "Name length:6\n",
      "Animal Type:Dog\n",
      "Sex:Neutered Male\n",
      "Age:2190 days\n",
      "Outcome Subtype: nan\n",
      "************\n",
      "Prediction: Return_to_owner\n",
      "\n",
      "[[ 0.  0.  0.  1.  0.]]\n"
     ]
    },
    {
     "name": "stderr",
     "output_type": "stream",
     "text": [
      "C:\\Users\\Owner\\Anaconda3\\lib\\site-packages\\sklearn\\utils\\validation.py:386: DeprecationWarning: Passing 1d arrays as data is deprecated in 0.17 and willraise ValueError in 0.19. Reshape your data either using X.reshape(-1, 1) if your data has a single feature or X.reshape(1, -1) if it contains a single sample.\n",
      "  DeprecationWarning)\n",
      "C:\\Users\\Owner\\Anaconda3\\lib\\site-packages\\sklearn\\utils\\validation.py:386: DeprecationWarning: Passing 1d arrays as data is deprecated in 0.17 and willraise ValueError in 0.19. Reshape your data either using X.reshape(-1, 1) if your data has a single feature or X.reshape(1, -1) if it contains a single sample.\n",
      "  DeprecationWarning)\n"
     ]
    }
   ],
   "source": [
    "predict_outcome(x_test[8])"
   ]
  },
  {
   "cell_type": "code",
   "execution_count": 86,
   "metadata": {
    "collapsed": false
   },
   "outputs": [
    {
     "name": "stdout",
     "output_type": "stream",
     "text": [
      "(16037, 5) (16037, 5)\n",
      "(10692, 5) (10692, 5)\n"
     ]
    }
   ],
   "source": [
    "# Evaluate the model\n",
    "print (X_train.shape, y_train.shape)\n",
    "print (x_test.shape, y_test.shape)"
   ]
  },
  {
   "cell_type": "code",
   "execution_count": 87,
   "metadata": {
    "collapsed": false
   },
   "outputs": [
    {
     "name": "stdout",
     "output_type": "stream",
     "text": [
      "Accuracy = 0.86\n"
     ]
    }
   ],
   "source": [
    "clf = clf.fit(X_train, y_train)\n",
    "y_predict = clf.predict(x_test)\n",
    "\n",
    "from sklearn.metrics import accuracy_score\n",
    "from sklearn import metrics\n",
    "print (\"Accuracy = %.2f\" % (accuracy_score(y_test, y_predict)))"
   ]
  },
  {
   "cell_type": "code",
   "execution_count": 89,
   "metadata": {
    "collapsed": false
   },
   "outputs": [
    {
     "name": "stdout",
     "output_type": "stream",
     "text": [
      "Model Score 0.86 \n",
      "\n"
     ]
    },
    {
     "ename": "ValueError",
     "evalue": "multilabel-indicator is not supported",
     "output_type": "error",
     "traceback": [
      "\u001b[1;31m---------------------------------------------------------------------------\u001b[0m",
      "\u001b[1;31mValueError\u001b[0m                                Traceback (most recent call last)",
      "\u001b[1;32m<ipython-input-89-cfd8572c0c2c>\u001b[0m in \u001b[0;36m<module>\u001b[1;34m()\u001b[0m\n\u001b[0;32m      2\u001b[0m \u001b[0mprint\u001b[0m \u001b[1;33m(\u001b[0m\u001b[1;34m\"Model Score %.2f \\n\"\u001b[0m \u001b[1;33m%\u001b[0m \u001b[1;33m(\u001b[0m\u001b[0mmodel_score\u001b[0m\u001b[1;33m)\u001b[0m\u001b[1;33m)\u001b[0m\u001b[1;33m\u001b[0m\u001b[0m\n\u001b[0;32m      3\u001b[0m \u001b[1;33m\u001b[0m\u001b[0m\n\u001b[1;32m----> 4\u001b[1;33m \u001b[0mconfusion_matrix\u001b[0m \u001b[1;33m=\u001b[0m \u001b[0mmetrics\u001b[0m\u001b[1;33m.\u001b[0m\u001b[0mconfusion_matrix\u001b[0m\u001b[1;33m(\u001b[0m\u001b[0my_test\u001b[0m\u001b[1;33m,\u001b[0m \u001b[0my_predict\u001b[0m\u001b[1;33m)\u001b[0m\u001b[1;33m\u001b[0m\u001b[0m\n\u001b[0m\u001b[0;32m      5\u001b[0m \u001b[0mprint\u001b[0m \u001b[1;33m(\u001b[0m\u001b[1;34m\"Confusion Matrix \\n\"\u001b[0m\u001b[1;33m,\u001b[0m \u001b[0mconfusion_matrix\u001b[0m\u001b[1;33m)\u001b[0m\u001b[1;33m\u001b[0m\u001b[0m\n\u001b[0;32m      6\u001b[0m \u001b[1;33m\u001b[0m\u001b[0m\n",
      "\u001b[1;32mC:\\Users\\Owner\\Anaconda3\\lib\\site-packages\\sklearn\\metrics\\classification.py\u001b[0m in \u001b[0;36mconfusion_matrix\u001b[1;34m(y_true, y_pred, labels)\u001b[0m\n\u001b[0;32m    233\u001b[0m     \u001b[0my_type\u001b[0m\u001b[1;33m,\u001b[0m \u001b[0my_true\u001b[0m\u001b[1;33m,\u001b[0m \u001b[0my_pred\u001b[0m \u001b[1;33m=\u001b[0m \u001b[0m_check_targets\u001b[0m\u001b[1;33m(\u001b[0m\u001b[0my_true\u001b[0m\u001b[1;33m,\u001b[0m \u001b[0my_pred\u001b[0m\u001b[1;33m)\u001b[0m\u001b[1;33m\u001b[0m\u001b[0m\n\u001b[0;32m    234\u001b[0m     \u001b[1;32mif\u001b[0m \u001b[0my_type\u001b[0m \u001b[1;32mnot\u001b[0m \u001b[1;32min\u001b[0m \u001b[1;33m(\u001b[0m\u001b[1;34m\"binary\"\u001b[0m\u001b[1;33m,\u001b[0m \u001b[1;34m\"multiclass\"\u001b[0m\u001b[1;33m)\u001b[0m\u001b[1;33m:\u001b[0m\u001b[1;33m\u001b[0m\u001b[0m\n\u001b[1;32m--> 235\u001b[1;33m         \u001b[1;32mraise\u001b[0m \u001b[0mValueError\u001b[0m\u001b[1;33m(\u001b[0m\u001b[1;34m\"%s is not supported\"\u001b[0m \u001b[1;33m%\u001b[0m \u001b[0my_type\u001b[0m\u001b[1;33m)\u001b[0m\u001b[1;33m\u001b[0m\u001b[0m\n\u001b[0m\u001b[0;32m    236\u001b[0m \u001b[1;33m\u001b[0m\u001b[0m\n\u001b[0;32m    237\u001b[0m     \u001b[1;32mif\u001b[0m \u001b[0mlabels\u001b[0m \u001b[1;32mis\u001b[0m \u001b[1;32mNone\u001b[0m\u001b[1;33m:\u001b[0m\u001b[1;33m\u001b[0m\u001b[0m\n",
      "\u001b[1;31mValueError\u001b[0m: multilabel-indicator is not supported"
     ]
    }
   ],
   "source": [
    "model_score = clf.score(x_test, y_test)\n",
    "print (\"Model Score %.2f \\n\" % (model_score))\n",
    "\n",
    "confusion_matrix = metrics.confusion_matrix(y_test, y_predict)\n",
    "print (\"Confusion Matrix \\n\", confusion_matrix)\n",
    "\n",
    "print (\"          Predicted\")\n",
    "print (\"         |  0  |  1  |\")\n",
    "print (\"         |-----|-----|\")\n",
    "print (\"       0 | %3d | %3d |\" % (confusion_matrix[0, 0],\n",
    "                                   confusion_matrix[0, 1]))\n",
    "print (\"Actual   |-----|-----|\")\n",
    "print (\"       1 | %3d | %3d |\" % (confusion_matrix[1, 0],\n",
    "                                   confusion_matrix[1, 1]))\n",
    "print (\"         |-----|-----|\")"
   ]
  },
  {
   "cell_type": "code",
   "execution_count": 101,
   "metadata": {
    "collapsed": false
   },
   "outputs": [
    {
     "name": "stdout",
     "output_type": "stream",
     "text": [
      "                 precision    recall  f1-score   support\n",
      "\n",
      "Return_to_owner       0.80      0.89      0.84      4321\n",
      "     Euthanasia       0.97      0.85      0.91        68\n",
      "       Adoption       0.99      0.99      0.99       608\n",
      "       Transfer       0.67      0.51      0.58      1917\n",
      "           Died       1.00      1.00      1.00      3778\n",
      "\n",
      "    avg / total       0.86      0.86      0.86     10692\n",
      "\n"
     ]
    }
   ],
   "source": [
    "# Create confusion matrix for test data\n",
    "\n",
    "categories = ['Return_to_owner', 'Euthanasia', 'Adoption', 'Transfer', 'Died']\n",
    "\n",
    "from sklearn.metrics import classification_report, log_loss, average_precision_score\n",
    "print(classification_report(y_test, \n",
    "                            y_predict, \n",
    "                            target_names=categories))"
   ]
  },
  {
   "cell_type": "code",
   "execution_count": 103,
   "metadata": {
    "collapsed": false
   },
   "outputs": [
    {
     "name": "stdout",
     "output_type": "stream",
     "text": [
      "0.880366413882\n"
     ]
    }
   ],
   "source": [
    "print(average_precision_score(y_test, y_predict))"
   ]
  },
  {
   "cell_type": "code",
   "execution_count": 117,
   "metadata": {
    "collapsed": true
   },
   "outputs": [],
   "source": [
    "from sklearn.metrics import roc_auc_score, roc_curve, auc\n",
    "from scipy import interp"
   ]
  },
  {
   "cell_type": "code",
   "execution_count": 113,
   "metadata": {
    "collapsed": false
   },
   "outputs": [
    {
     "name": "stdout",
     "output_type": "stream",
     "text": [
      "0.903622040588\n"
     ]
    }
   ],
   "source": [
    "print(roc_auc_score(y_test, y_predict))"
   ]
  },
  {
   "cell_type": "code",
   "execution_count": 115,
   "metadata": {
    "collapsed": false
   },
   "outputs": [],
   "source": [
    "n_classes = 5\n",
    "\n",
    "# Compute ROC curve and ROC area for each class\n",
    "fpr = dict()\n",
    "tpr = dict()\n",
    "roc_auc = dict()\n",
    "for i in range(n_classes):\n",
    "    fpr[i], tpr[i], _ = roc_curve(y_test[:, i], y_predict[:, i])\n",
    "    roc_auc[i] = auc(fpr[i], tpr[i])\n",
    "\n",
    "# Compute micro-average ROC curve and ROC area\n",
    "fpr[\"micro\"], tpr[\"micro\"], _ = roc_curve(y_test.ravel(), y_predict.ravel())\n",
    "roc_auc[\"micro\"] = auc(fpr[\"micro\"], tpr[\"micro\"])"
   ]
  },
  {
   "cell_type": "code",
   "execution_count": 119,
   "metadata": {
    "collapsed": false
   },
   "outputs": [
    {
     "data": {
      "image/png": "[encoded data removed]",
      "text/plain": [
       "<matplotlib.figure.Figure at 0x1fd8c76b668>"
      ]
     },
     "metadata": {},
     "output_type": "display_data"
    }
   ],
   "source": [
    "##############################################################################\n",
    "# Plot ROC curves for the multiclass problem\n",
    "\n",
    "# Compute macro-average ROC curve and ROC area\n",
    "\n",
    "\n",
    "# First aggregate all false positive rates\n",
    "all_fpr = np.unique(np.concatenate([fpr[i] for i in range(n_classes)]))\n",
    "\n",
    "# Then interpolate all ROC curves at this points\n",
    "mean_tpr = np.zeros_like(all_fpr)\n",
    "for i in range(n_classes):\n",
    "    mean_tpr += interp(all_fpr, fpr[i], tpr[i])\n",
    "\n",
    "# Finally average it and compute AUC\n",
    "mean_tpr /= n_classes\n",
    "\n",
    "fpr[\"macro\"] = all_fpr\n",
    "tpr[\"macro\"] = mean_tpr\n",
    "roc_auc[\"macro\"] = auc(fpr[\"macro\"], tpr[\"macro\"])\n",
    "\n",
    "# Plot all ROC curves\n",
    "plt.figure(figsize=(12,8))\n",
    "plt.plot(fpr[\"micro\"], tpr[\"micro\"],\n",
    "         label='micro-average ROC curve (area = {0:0.2f})'\n",
    "               ''.format(roc_auc[\"micro\"]),\n",
    "         linewidth=2)\n",
    "\n",
    "plt.plot(fpr[\"macro\"], tpr[\"macro\"],\n",
    "         label='macro-average ROC curve (area = {0:0.2f})'\n",
    "               ''.format(roc_auc[\"macro\"]),\n",
    "         linewidth=2)\n",
    "\n",
    "for i in range(n_classes):\n",
    "    plt.plot(fpr[i], tpr[i], label='ROC curve of class {0} (area = {1:0.2f})'\n",
    "                                   ''.format(i, roc_auc[i]))\n",
    "\n",
    "plt.plot([0, 1], [0, 1], 'k--')\n",
    "plt.xlim([0.0, 1.0])\n",
    "plt.ylim([0.0, 1.05])\n",
    "plt.xlabel('False Positive Rate')\n",
    "plt.ylabel('True Positive Rate')\n",
    "plt.title('Some extension of Receiver operating characteristic to multi-class')\n",
    "plt.legend(loc=\"lower right\")\n",
    "plt.show()"
   ]
  },
  {
   "cell_type": "code",
   "execution_count": 120,
   "metadata": {
    "collapsed": true
   },
   "outputs": [],
   "source": [
    "# Plot the importance of the different features\n",
    "\n",
    "importances = clf.feature_importances_\n",
    "std = np.std([tree.feature_importances_ for tree in clf.estimators_],\n",
    "            axis=0)\n",
    "indices = np.argsort(importances)[::-1]"
   ]
  },
  {
   "cell_type": "code",
   "execution_count": 121,
   "metadata": {
    "collapsed": false
   },
   "outputs": [
    {
     "name": "stdout",
     "output_type": "stream",
     "text": [
      "1. feature 1 (0.667555)\n",
      "2. feature 4 (0.133740)\n",
      "3. feature 3 (0.117361)\n",
      "4. feature 0 (0.053512)\n",
      "5. feature 2 (0.027833)\n"
     ]
    },
    {
     "data": {
      "image/png": "[encoded data removed]",
      "text/plain": [
       "<matplotlib.figure.Figure at 0x1fd8c8019b0>"
      ]
     },
     "metadata": {},
     "output_type": "display_data"
    }
   ],
   "source": [
    "for f in range(X.shape[1]):\n",
    "    print(\"%d. feature %d (%f)\" % (f + 1, indices[f], importances[indices[f]]))\n",
    "\n",
    "# Plot the feature importances of the forest\n",
    "plt.figure()\n",
    "plt.title(\"Feature importances\")\n",
    "plt.bar(range(X.shape[1]), importances[indices],\n",
    "       color=\"r\", yerr=std[indices], align=\"center\")\n",
    "plt.xticks(range(X.shape[1]), indices)\n",
    "plt.xlim([-1, X.shape[1]])\n",
    "plt.show()"
   ]
  },
  {
   "cell_type": "code",
   "execution_count": 122,
   "metadata": {
    "collapsed": false
   },
   "outputs": [
    {
     "name": "stdout",
     "output_type": "stream",
     "text": [
      "Feature 1: OutcomeSubtype\n",
      "Feature 4: AgeuponOutcome\n",
      "Feature 3: SexuponOutcome\n",
      "Feature 0: Name\n",
      "Feature 2: AnimalType\n"
     ]
    }
   ],
   "source": [
    "for i in [1, 4, 3, 0, 2]:\n",
    "    print(\"Feature {}: {}\".format(i, X.columns[i]))"
   ]
  },
  {
   "cell_type": "code",
   "execution_count": 92,
   "metadata": {
    "collapsed": false
   },
   "outputs": [
    {
     "ename": "NameError",
     "evalue": "name 'confusion_matrix' is not defined",
     "output_type": "error",
     "traceback": [
      "\u001b[1;31m---------------------------------------------------------------------------\u001b[0m",
      "\u001b[1;31mNameError\u001b[0m                                 Traceback (most recent call last)",
      "\u001b[1;32m<ipython-input-92-3a85c14be584>\u001b[0m in \u001b[0;36m<module>\u001b[1;34m()\u001b[0m\n\u001b[1;32m----> 1\u001b[1;33m \u001b[0mplot_confusion_matrix\u001b[0m\u001b[1;33m(\u001b[0m\u001b[0mconfusion_matrix\u001b[0m\u001b[1;33m,\u001b[0m \u001b[0mcategories\u001b[0m\u001b[1;33m,\u001b[0m \u001b[0mtitle\u001b[0m\u001b[1;33m=\u001b[0m\u001b[1;34m\"Animal Sanctuary Confusion Matrix\"\u001b[0m\u001b[1;33m)\u001b[0m\u001b[1;33m\u001b[0m\u001b[0m\n\u001b[0m",
      "\u001b[1;31mNameError\u001b[0m: name 'confusion_matrix' is not defined"
     ]
    }
   ],
   "source": [
    "#plot_confusion_matrix(confusion_matrix, categories, title=\"Animal Sanctuary Confusion Matrix\")"
   ]
  },
  {
   "cell_type": "code",
   "execution_count": 91,
   "metadata": {
    "collapsed": false
   },
   "outputs": [],
   "source": [
    "import matplotlib.pyplot as plt\n",
    "%matplotlib inline\n",
    "\n",
    "def plot_confusion_matrix(cm, target_names, title='Confusion matrix', cmap=plt.cm.Blues):\n",
    "    # Simple plot based on the Iris sample CM\n",
    "    plt.imshow(cm, interpolation='nearest', cmap=cmap)\n",
    "    plt.title(title)\n",
    "    plt.colorbar()\n",
    "    tick_marks = np.arange(len(target_names))\n",
    "    plt.xticks(tick_marks, target_names, rotation=45)\n",
    "    plt.yticks(tick_marks, target_names)\n",
    "    plt.tight_layout()\n",
    "    plt.ylabel('True label')\n",
    "    plt.xlabel('Predicted label')"
   ]
  },
  {
   "cell_type": "code",
   "execution_count": null,
   "metadata": {
    "collapsed": true
   },
   "outputs": [],
   "source": [
    "# The data is now ready to go. So lets fit to the train, then predict to the test!\n",
    "# Convert back to a numpy array\n",
    "train_data = train_df.values\n",
    "test_data = test_df.values"
   ]
  },
  {
   "cell_type": "code",
   "execution_count": null,
   "metadata": {
    "collapsed": true
   },
   "outputs": [],
   "source": [
    "print 'Training...'\n",
    "forest = RandomForestClassifier(n_estimators=100)\n",
    "forest = forest.fit( train_data[0::,1::], train_data[0::,0] )"
   ]
  },
  {
   "cell_type": "code",
   "execution_count": null,
   "metadata": {
    "collapsed": true
   },
   "outputs": [],
   "source": [
    "print 'Predicting...'\n",
    "output = forest.predict(test_data).astype(int)"
   ]
  },
  {
   "cell_type": "code",
   "execution_count": null,
   "metadata": {
    "collapsed": true
   },
   "outputs": [],
   "source": [
    "predictions_file = open(\"myfirstforest.csv\", \"wb\")\n",
    "open_file_object = csv.writer(predictions_file)\n",
    "open_file_object.writerow([\"PassengerId\",\"Survived\"])\n",
    "open_file_object.writerows(zip(ids, output))\n",
    "predictions_file.close()\n",
    "print 'Done.'"
   ]
  }
 ],
 "metadata": {
  "kernelspec": {
   "display_name": "Python 3",
   "language": "python",
   "name": "python3"
  },
  "language_info": {
   "codemirror_mode": {
    "name": "ipython",
    "version": 3
   },
   "file_extension": ".py",
   "mimetype": "text/x-python",
   "name": "python",
   "nbconvert_exporter": "python",
   "pygments_lexer": "ipython3",
   "version": "3.5.1"
  }
 },
 "nbformat": 4,
 "nbformat_minor": 0
}
