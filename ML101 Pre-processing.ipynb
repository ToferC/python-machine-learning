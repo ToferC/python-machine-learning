{
 "cells": [
  {
   "cell_type": "markdown",
   "metadata": {},
   "source": [
    "Random Forest using Kaggle Animal Shelter Dataset\n",
    "https://www.kaggle.com/c/shelter-animal-outcomes"
   ]
  },
  {
   "cell_type": "markdown",
   "metadata": {},
   "source": [
    "# Pre-processing the animal shelter dataset"
   ]
  },
  {
   "cell_type": "code",
   "execution_count": 5,
   "metadata": {
    "collapsed": false
   },
   "outputs": [],
   "source": [
    "import pandas as pd\n",
    "import os\n",
    "import numpy as np\n",
    "import matplotlib.pyplot as plt\n",
    "import seaborn as sns\n",
    "import csv as csv\n",
    "from sklearn.ensemble import RandomForestClassifier\n",
    "from sklearn.cross_validation import train_test_split\n",
    "from sklearn import metrics\n",
    "from sklearn.metrics import accuracy_score\n",
    "from sklearn.metrics import classification_report, log_loss, average_precision_score\n",
    "\n",
    "from textblob import TextBlob\n",
    "\n",
    "import logging\n",
    "\n",
    "%matplotlib inline"
   ]
  },
  {
   "cell_type": "code",
   "execution_count": 2,
   "metadata": {
    "collapsed": true
   },
   "outputs": [],
   "source": [
    "# Display progress logs on stdout\n",
    "logging.basicConfig(level=logging.INFO,\n",
    "                    format='%(asctime)s %(levelname)s %(message)s')"
   ]
  },
  {
   "cell_type": "code",
   "execution_count": 2,
   "metadata": {
    "collapsed": false
   },
   "outputs": [],
   "source": [
    "# Set up my data directories from different machines\n",
    "\n",
    "mac_data_dir = '/Users/christopherallison/Documents/Coding/Data'\n",
    "linux_data_dir = '/home/chris/data'\n",
    "win_data_dir = u'C:\\\\Users\\\\Owner\\\\Documents\\\\Data'"
   ]
  },
  {
   "cell_type": "code",
   "execution_count": 3,
   "metadata": {
    "collapsed": false
   },
   "outputs": [],
   "source": [
    "# Set data directory for example\n",
    "\n",
    "data_dir = mac_data_dir"
   ]
  },
  {
   "cell_type": "code",
   "execution_count": 6,
   "metadata": {
    "collapsed": false
   },
   "outputs": [],
   "source": [
    "# Load TRAINING DATA\n",
    "\n",
    "train_df = pd.read_csv(os.path.join(data_dir, 'shelter_train.csv'), header=0)        # Load the train file into a dataframe"
   ]
  },
  {
   "cell_type": "code",
   "execution_count": 7,
   "metadata": {
    "collapsed": false
   },
   "outputs": [
    {
     "data": {
      "text/plain": [
       "Index(['AnimalID', 'Name', 'DateTime', 'OutcomeType', 'OutcomeSubtype',\n",
       "       'AnimalType', 'SexuponOutcome', 'AgeuponOutcome', 'Breed', 'Color'],\n",
       "      dtype='object')"
      ]
     },
     "execution_count": 7,
     "metadata": {},
     "output_type": "execute_result"
    }
   ],
   "source": [
    "# Data exploration - what headers do we have?\n",
    "\n",
    "train_df.columns"
   ]
  },
  {
   "cell_type": "code",
   "execution_count": null,
   "metadata": {
    "collapsed": false
   },
   "outputs": [],
   "source": []
  },
  {
   "cell_type": "code",
   "execution_count": 9,
   "metadata": {
    "collapsed": false
   },
   "outputs": [],
   "source": [
    "# At first blush, \n",
    "\n",
    "train_dogs = train_df.where(train_df['AnimalType']=='Dog')\n",
    "\n",
    "# This creates a DF with NaN where non-Dogs used to be, so we\n",
    "\n",
    "train_dogs.dropna(inplace=True)"
   ]
  },
  {
   "cell_type": "code",
   "execution_count": 10,
   "metadata": {
    "collapsed": false
   },
   "outputs": [
    {
     "data": {
      "text/html": [
       "<div>\n",
       "<table border=\"1\" class=\"dataframe\">\n",
       "  <thead>\n",
       "    <tr style=\"text-align: right;\">\n",
       "      <th></th>\n",
       "      <th>AnimalID</th>\n",
       "      <th>Name</th>\n",
       "      <th>DateTime</th>\n",
       "      <th>OutcomeType</th>\n",
       "      <th>OutcomeSubtype</th>\n",
       "      <th>AnimalType</th>\n",
       "      <th>SexuponOutcome</th>\n",
       "      <th>AgeuponOutcome</th>\n",
       "      <th>Breed</th>\n",
       "      <th>Color</th>\n",
       "    </tr>\n",
       "  </thead>\n",
       "  <tbody>\n",
       "    <tr>\n",
       "      <th>2</th>\n",
       "      <td>A686464</td>\n",
       "      <td>Pearce</td>\n",
       "      <td>2015-01-31 12:28:00</td>\n",
       "      <td>Adoption</td>\n",
       "      <td>Foster</td>\n",
       "      <td>Dog</td>\n",
       "      <td>Neutered Male</td>\n",
       "      <td>2 years</td>\n",
       "      <td>Pit Bull Mix</td>\n",
       "      <td>Blue/White</td>\n",
       "    </tr>\n",
       "    <tr>\n",
       "      <th>5</th>\n",
       "      <td>A677334</td>\n",
       "      <td>Elsa</td>\n",
       "      <td>2014-04-25 13:04:00</td>\n",
       "      <td>Transfer</td>\n",
       "      <td>Partner</td>\n",
       "      <td>Dog</td>\n",
       "      <td>Intact Female</td>\n",
       "      <td>1 month</td>\n",
       "      <td>Cairn Terrier/Chihuahua Shorthair</td>\n",
       "      <td>Black/Tan</td>\n",
       "    </tr>\n",
       "    <tr>\n",
       "      <th>12</th>\n",
       "      <td>A684601</td>\n",
       "      <td>Rocket</td>\n",
       "      <td>2016-02-03 11:27:00</td>\n",
       "      <td>Adoption</td>\n",
       "      <td>Foster</td>\n",
       "      <td>Dog</td>\n",
       "      <td>Neutered Male</td>\n",
       "      <td>4 years</td>\n",
       "      <td>Pit Bull Mix</td>\n",
       "      <td>Brown</td>\n",
       "    </tr>\n",
       "    <tr>\n",
       "      <th>20</th>\n",
       "      <td>A670658</td>\n",
       "      <td>Anders</td>\n",
       "      <td>2014-01-19 15:03:00</td>\n",
       "      <td>Transfer</td>\n",
       "      <td>Partner</td>\n",
       "      <td>Dog</td>\n",
       "      <td>Intact Male</td>\n",
       "      <td>2 months</td>\n",
       "      <td>Queensland Heeler Mix</td>\n",
       "      <td>Black/White</td>\n",
       "    </tr>\n",
       "    <tr>\n",
       "      <th>31</th>\n",
       "      <td>A707341</td>\n",
       "      <td>Murphy</td>\n",
       "      <td>2015-07-15 15:25:00</td>\n",
       "      <td>Transfer</td>\n",
       "      <td>Partner</td>\n",
       "      <td>Dog</td>\n",
       "      <td>Intact Male</td>\n",
       "      <td>4 months</td>\n",
       "      <td>Labrador Retriever Mix</td>\n",
       "      <td>Black/White</td>\n",
       "    </tr>\n",
       "  </tbody>\n",
       "</table>\n",
       "</div>"
      ],
      "text/plain": [
       "   AnimalID    Name             DateTime OutcomeType OutcomeSubtype  \\\n",
       "2   A686464  Pearce  2015-01-31 12:28:00    Adoption         Foster   \n",
       "5   A677334    Elsa  2014-04-25 13:04:00    Transfer        Partner   \n",
       "12  A684601  Rocket  2016-02-03 11:27:00    Adoption         Foster   \n",
       "20  A670658  Anders  2014-01-19 15:03:00    Transfer        Partner   \n",
       "31  A707341  Murphy  2015-07-15 15:25:00    Transfer        Partner   \n",
       "\n",
       "   AnimalType SexuponOutcome AgeuponOutcome  \\\n",
       "2         Dog  Neutered Male        2 years   \n",
       "5         Dog  Intact Female        1 month   \n",
       "12        Dog  Neutered Male        4 years   \n",
       "20        Dog    Intact Male       2 months   \n",
       "31        Dog    Intact Male       4 months   \n",
       "\n",
       "                                Breed        Color  \n",
       "2                        Pit Bull Mix   Blue/White  \n",
       "5   Cairn Terrier/Chihuahua Shorthair    Black/Tan  \n",
       "12                       Pit Bull Mix        Brown  \n",
       "20              Queensland Heeler Mix  Black/White  \n",
       "31             Labrador Retriever Mix  Black/White  "
      ]
     },
     "execution_count": 10,
     "metadata": {},
     "output_type": "execute_result"
    }
   ],
   "source": [
    "# Let's look at our data\n",
    "\n",
    "train_dogs.head()"
   ]
  },
  {
   "cell_type": "code",
   "execution_count": 14,
   "metadata": {
    "collapsed": false
   },
   "outputs": [
    {
     "data": {
      "text/html": [
       "<div>\n",
       "<table border=\"1\" class=\"dataframe\">\n",
       "  <thead>\n",
       "    <tr style=\"text-align: right;\">\n",
       "      <th></th>\n",
       "      <th>AnimalID</th>\n",
       "      <th>Name</th>\n",
       "      <th>DateTime</th>\n",
       "      <th>OutcomeType</th>\n",
       "      <th>OutcomeSubtype</th>\n",
       "      <th>SexuponOutcome</th>\n",
       "      <th>AgeuponOutcome</th>\n",
       "      <th>Breed</th>\n",
       "      <th>Color</th>\n",
       "    </tr>\n",
       "  </thead>\n",
       "  <tbody>\n",
       "    <tr>\n",
       "      <th>count</th>\n",
       "      <td>3950</td>\n",
       "      <td>3950</td>\n",
       "      <td>3950</td>\n",
       "      <td>3950</td>\n",
       "      <td>3950</td>\n",
       "      <td>3950</td>\n",
       "      <td>3950</td>\n",
       "      <td>3950</td>\n",
       "      <td>3950</td>\n",
       "    </tr>\n",
       "    <tr>\n",
       "      <th>unique</th>\n",
       "      <td>3950</td>\n",
       "      <td>2138</td>\n",
       "      <td>3571</td>\n",
       "      <td>4</td>\n",
       "      <td>14</td>\n",
       "      <td>5</td>\n",
       "      <td>35</td>\n",
       "      <td>626</td>\n",
       "      <td>163</td>\n",
       "    </tr>\n",
       "    <tr>\n",
       "      <th>top</th>\n",
       "      <td>A714899</td>\n",
       "      <td>Bella</td>\n",
       "      <td>2015-11-23 00:00:00</td>\n",
       "      <td>Transfer</td>\n",
       "      <td>Partner</td>\n",
       "      <td>Neutered Male</td>\n",
       "      <td>2 years</td>\n",
       "      <td>Pit Bull Mix</td>\n",
       "      <td>Black/White</td>\n",
       "    </tr>\n",
       "    <tr>\n",
       "      <th>freq</th>\n",
       "      <td>1</td>\n",
       "      <td>33</td>\n",
       "      <td>8</td>\n",
       "      <td>2673</td>\n",
       "      <td>2673</td>\n",
       "      <td>1562</td>\n",
       "      <td>740</td>\n",
       "      <td>614</td>\n",
       "      <td>423</td>\n",
       "    </tr>\n",
       "  </tbody>\n",
       "</table>\n",
       "</div>"
      ],
      "text/plain": [
       "       AnimalID   Name             DateTime OutcomeType OutcomeSubtype  \\\n",
       "count      3950   3950                 3950        3950           3950   \n",
       "unique     3950   2138                 3571           4             14   \n",
       "top     A714899  Bella  2015-11-23 00:00:00    Transfer        Partner   \n",
       "freq          1     33                    8        2673           2673   \n",
       "\n",
       "       SexuponOutcome AgeuponOutcome         Breed        Color  \n",
       "count            3950           3950          3950         3950  \n",
       "unique              5             35           626          163  \n",
       "top     Neutered Male        2 years  Pit Bull Mix  Black/White  \n",
       "freq             1562            740           614          423  "
      ]
     },
     "execution_count": 14,
     "metadata": {},
     "output_type": "execute_result"
    }
   ],
   "source": [
    "# And get a better overall feel for it.\n",
    "\n",
    "train_dogs.describe()"
   ]
  },
  {
   "cell_type": "markdown",
   "metadata": {},
   "source": [
    "Of interest - our original dataset was 27,600 animals - only 3950 are dogs"
   ]
  },
  {
   "cell_type": "code",
   "execution_count": 15,
   "metadata": {
    "collapsed": false
   },
   "outputs": [
    {
     "ename": "AttributeError",
     "evalue": "'DataFrame' object has no attribute 'AnimalType'",
     "output_type": "error",
     "traceback": [
      "\u001b[0;31m---------------------------------------------------------------------------\u001b[0m",
      "\u001b[0;31mAttributeError\u001b[0m                            Traceback (most recent call last)",
      "\u001b[0;32m<ipython-input-15-06421ac7973d>\u001b[0m in \u001b[0;36m<module>\u001b[0;34m()\u001b[0m\n\u001b[1;32m      1\u001b[0m \u001b[0;31m# Now that we're only looking at dogs, we can drop this as a variable\u001b[0m\u001b[0;34m\u001b[0m\u001b[0;34m\u001b[0m\u001b[0m\n\u001b[1;32m      2\u001b[0m \u001b[0;34m\u001b[0m\u001b[0m\n\u001b[0;32m----> 3\u001b[0;31m \u001b[0mtrain_dogs\u001b[0m\u001b[0;34m.\u001b[0m\u001b[0mAnimalType\u001b[0m\u001b[0;34m.\u001b[0m\u001b[0munique\u001b[0m\u001b[0;34m(\u001b[0m\u001b[0;34m)\u001b[0m\u001b[0;34m\u001b[0m\u001b[0m\n\u001b[0m\u001b[1;32m      4\u001b[0m \u001b[0mtrain_dogs\u001b[0m\u001b[0;34m.\u001b[0m\u001b[0mdrop\u001b[0m\u001b[0;34m(\u001b[0m\u001b[0;34m'AnimalType'\u001b[0m\u001b[0;34m,\u001b[0m \u001b[0;36m1\u001b[0m\u001b[0;34m,\u001b[0m \u001b[0minplace\u001b[0m\u001b[0;34m=\u001b[0m\u001b[0;32mTrue\u001b[0m\u001b[0;34m)\u001b[0m\u001b[0;34m\u001b[0m\u001b[0m\n",
      "\u001b[0;32m/Users/christopherallison/.virtualenvs/py_twi/lib/python3.4/site-packages/pandas/core/generic.py\u001b[0m in \u001b[0;36m__getattr__\u001b[0;34m(self, name)\u001b[0m\n\u001b[1;32m   2244\u001b[0m                 \u001b[0;32mreturn\u001b[0m \u001b[0mself\u001b[0m\u001b[0;34m[\u001b[0m\u001b[0mname\u001b[0m\u001b[0;34m]\u001b[0m\u001b[0;34m\u001b[0m\u001b[0m\n\u001b[1;32m   2245\u001b[0m             raise AttributeError(\"'%s' object has no attribute '%s'\" %\n\u001b[0;32m-> 2246\u001b[0;31m                                  (type(self).__name__, name))\n\u001b[0m\u001b[1;32m   2247\u001b[0m \u001b[0;34m\u001b[0m\u001b[0m\n\u001b[1;32m   2248\u001b[0m     \u001b[0;32mdef\u001b[0m \u001b[0m__setattr__\u001b[0m\u001b[0;34m(\u001b[0m\u001b[0mself\u001b[0m\u001b[0;34m,\u001b[0m \u001b[0mname\u001b[0m\u001b[0;34m,\u001b[0m \u001b[0mvalue\u001b[0m\u001b[0;34m)\u001b[0m\u001b[0;34m:\u001b[0m\u001b[0;34m\u001b[0m\u001b[0m\n",
      "\u001b[0;31mAttributeError\u001b[0m: 'DataFrame' object has no attribute 'AnimalType'"
     ]
    }
   ],
   "source": [
    "# Now that we're only looking at dogs, we can drop this as a variable\n",
    "\n",
    "train_dogs.AnimalType.unique()\n",
    "train_dogs.drop('AnimalType', 1, inplace=True)"
   ]
  },
  {
   "cell_type": "code",
   "execution_count": 12,
   "metadata": {
    "collapsed": false
   },
   "outputs": [
    {
     "data": {
      "text/plain": [
       "array(['Adoption', 'Transfer', 'Euthanasia', 'Died'], dtype=object)"
      ]
     },
     "execution_count": 12,
     "metadata": {},
     "output_type": "execute_result"
    }
   ],
   "source": [
    "# So let's see what outcomes we're mapping against.\n",
    "\n",
    "outcomes = train_dogs.OutcomeType.unique()\n",
    "outcomes"
   ]
  },
  {
   "cell_type": "markdown",
   "metadata": {},
   "source": [
    "Of interest - Dogs aren't returned to their owners. Cats are. WTF?"
   ]
  },
  {
   "cell_type": "code",
   "execution_count": 16,
   "metadata": {
    "collapsed": false
   },
   "outputs": [
    {
     "data": {
      "text/plain": [
       "<matplotlib.axes._subplots.AxesSubplot at 0x10f6e1978>"
      ]
     },
     "execution_count": 16,
     "metadata": {},
     "output_type": "execute_result"
    },
    {
     "data": {
      "image/png": "[encoded data removed]",
      "text/plain": [
       "<matplotlib.figure.Figure at 0x10f6d2ef0>"
      ]
     },
     "metadata": {},
     "output_type": "display_data"
    }
   ],
   "source": [
    "# Let's explore the data a bit more.  How do these outcomes map to our data?\n",
    "\n",
    "counts = train_dogs.groupby('OutcomeType').count()\n",
    "counts.plot()"
   ]
  },
  {
   "cell_type": "code",
   "execution_count": 37,
   "metadata": {
    "collapsed": false
   },
   "outputs": [
    {
     "data": {
      "text/plain": [
       "<matplotlib.axes._subplots.AxesSubplot at 0x1069ba5c0>"
      ]
     },
     "execution_count": 37,
     "metadata": {},
     "output_type": "execute_result"
    },
    {
     "data": {
      "image/png": "[encoded data removed]",
      "text/plain": [
       "<matplotlib.figure.Figure at 0x10eaa4cf8>"
      ]
     },
     "metadata": {},
     "output_type": "display_data"
    }
   ],
   "source": [
    "dates_cross = pd.crosstab(train_dogs.DateTime, train_dogs.OutcomeType)\n",
    "dates_cross.plot()"
   ]
  },
  {
   "cell_type": "code",
   "execution_count": null,
   "metadata": {
    "collapsed": false
   },
   "outputs": [],
   "source": []
  },
  {
   "cell_type": "markdown",
   "metadata": {
    "collapsed": false
   },
   "source": [
    "### Prepare Y labels"
   ]
  },
  {
   "cell_type": "code",
   "execution_count": 18,
   "metadata": {
    "collapsed": false
   },
   "outputs": [
    {
     "data": {
      "text/plain": [
       "array([0, 3, 2, 1])"
      ]
     },
     "execution_count": 18,
     "metadata": {},
     "output_type": "execute_result"
    }
   ],
   "source": [
    "#One of the key things we need to do is transform our outcomes into matrices required for result probabilities.  Let's do this.\n",
    "\n",
    "from sklearn import preprocessing\n",
    "\n",
    "# This code takes our text labels and creates an encoder that we use\n",
    "# To transform them into an array\n",
    "\n",
    "encoder = preprocessing.LabelEncoder()\n",
    "encoder.fit(outcomes)\n",
    "encoded_y = encoder.transform(outcomes)\n",
    "encoded_y\n",
    "#We can also inverse_transform them back.\n",
    "list(encoder.inverse_transform([0, 1, 2, 3]))\n",
    "#We still need to transform the array into a matrix - this is called one hot encoding. It allows us to track the probability of each possible outcome separately.\n",
    "# convert integers into dummy variables (one hot encoding)\n",
    "from keras.utils import np_utils\n",
    "\n",
    "# We'll practice with the dummy for now, but we'll transform the full labels later.\n",
    "dummy_y = np_utils.to_categorical(encoded_y)\n",
    "dummy_y\n",
    "#We'll transform the labels into their array value, though.\n",
    "train_dogs.OutcomeType = encoder.transform(train_dogs.OutcomeType)"
   ]
  },
  {
   "cell_type": "markdown",
   "metadata": {},
   "source": [
    "And here is our dataframe again."
   ]
  },
  {
   "cell_type": "code",
   "execution_count": 23,
   "metadata": {
    "collapsed": false
   },
   "outputs": [
    {
     "data": {
      "text/html": [
       "<div>\n",
       "<table border=\"1\" class=\"dataframe\">\n",
       "  <thead>\n",
       "    <tr style=\"text-align: right;\">\n",
       "      <th></th>\n",
       "      <th>AnimalID</th>\n",
       "      <th>Name</th>\n",
       "      <th>DateTime</th>\n",
       "      <th>OutcomeType</th>\n",
       "      <th>OutcomeSubtype</th>\n",
       "      <th>SexuponOutcome</th>\n",
       "      <th>AgeuponOutcome</th>\n",
       "      <th>Breed</th>\n",
       "      <th>Color</th>\n",
       "    </tr>\n",
       "  </thead>\n",
       "  <tbody>\n",
       "    <tr>\n",
       "      <th>2</th>\n",
       "      <td>A686464</td>\n",
       "      <td>Pearce</td>\n",
       "      <td>2015-01-31 12:28:00</td>\n",
       "      <td>0</td>\n",
       "      <td>Foster</td>\n",
       "      <td>Neutered Male</td>\n",
       "      <td>2 years</td>\n",
       "      <td>Pit Bull Mix</td>\n",
       "      <td>Blue/White</td>\n",
       "    </tr>\n",
       "    <tr>\n",
       "      <th>5</th>\n",
       "      <td>A677334</td>\n",
       "      <td>Elsa</td>\n",
       "      <td>2014-04-25 13:04:00</td>\n",
       "      <td>3</td>\n",
       "      <td>Partner</td>\n",
       "      <td>Intact Female</td>\n",
       "      <td>1 month</td>\n",
       "      <td>Cairn Terrier/Chihuahua Shorthair</td>\n",
       "      <td>Black/Tan</td>\n",
       "    </tr>\n",
       "    <tr>\n",
       "      <th>12</th>\n",
       "      <td>A684601</td>\n",
       "      <td>Rocket</td>\n",
       "      <td>2016-02-03 11:27:00</td>\n",
       "      <td>0</td>\n",
       "      <td>Foster</td>\n",
       "      <td>Neutered Male</td>\n",
       "      <td>4 years</td>\n",
       "      <td>Pit Bull Mix</td>\n",
       "      <td>Brown</td>\n",
       "    </tr>\n",
       "    <tr>\n",
       "      <th>20</th>\n",
       "      <td>A670658</td>\n",
       "      <td>Anders</td>\n",
       "      <td>2014-01-19 15:03:00</td>\n",
       "      <td>3</td>\n",
       "      <td>Partner</td>\n",
       "      <td>Intact Male</td>\n",
       "      <td>2 months</td>\n",
       "      <td>Queensland Heeler Mix</td>\n",
       "      <td>Black/White</td>\n",
       "    </tr>\n",
       "    <tr>\n",
       "      <th>31</th>\n",
       "      <td>A707341</td>\n",
       "      <td>Murphy</td>\n",
       "      <td>2015-07-15 15:25:00</td>\n",
       "      <td>3</td>\n",
       "      <td>Partner</td>\n",
       "      <td>Intact Male</td>\n",
       "      <td>4 months</td>\n",
       "      <td>Labrador Retriever Mix</td>\n",
       "      <td>Black/White</td>\n",
       "    </tr>\n",
       "  </tbody>\n",
       "</table>\n",
       "</div>"
      ],
      "text/plain": [
       "   AnimalID    Name             DateTime  OutcomeType OutcomeSubtype  \\\n",
       "2   A686464  Pearce  2015-01-31 12:28:00            0         Foster   \n",
       "5   A677334    Elsa  2014-04-25 13:04:00            3        Partner   \n",
       "12  A684601  Rocket  2016-02-03 11:27:00            0         Foster   \n",
       "20  A670658  Anders  2014-01-19 15:03:00            3        Partner   \n",
       "31  A707341  Murphy  2015-07-15 15:25:00            3        Partner   \n",
       "\n",
       "   SexuponOutcome AgeuponOutcome                              Breed  \\\n",
       "2   Neutered Male        2 years                       Pit Bull Mix   \n",
       "5   Intact Female        1 month  Cairn Terrier/Chihuahua Shorthair   \n",
       "12  Neutered Male        4 years                       Pit Bull Mix   \n",
       "20    Intact Male       2 months              Queensland Heeler Mix   \n",
       "31    Intact Male       4 months             Labrador Retriever Mix   \n",
       "\n",
       "          Color  \n",
       "2    Blue/White  \n",
       "5     Black/Tan  \n",
       "12        Brown  \n",
       "20  Black/White  \n",
       "31  Black/White  "
      ]
     },
     "execution_count": 23,
     "metadata": {},
     "output_type": "execute_result"
    }
   ],
   "source": [
    "train_dogs.head()"
   ]
  },
  {
   "cell_type": "markdown",
   "metadata": {
    "collapsed": true
   },
   "source": [
    "Next we'll look at the outcome subtype. This isn't an element of our test data, so we shouldn't build it directly into our classifier, but we can use it to help us understand our data.\n",
    "\n",
    "As an aside, this seems like very useful data to have on intake (and it bumps our accuracy up to 80+% when we use it)."
   ]
  },
  {
   "cell_type": "code",
   "execution_count": 24,
   "metadata": {
    "collapsed": false
   },
   "outputs": [
    {
     "data": {
      "text/plain": [
       "array(['Foster', 'Partner', 'Suffering', 'Aggressive', 'Rabies Risk',\n",
       "       'Medical', 'Behavior', 'Offsite', 'Court/Investigation', 'Enroute',\n",
       "       'In Kennel', 'In Foster', 'At Vet', 'In Surgery'], dtype=object)"
      ]
     },
     "execution_count": 24,
     "metadata": {},
     "output_type": "execute_result"
    }
   ],
   "source": [
    "train_dogs.OutcomeSubtype.unique()"
   ]
  },
  {
   "cell_type": "code",
   "execution_count": 25,
   "metadata": {
    "collapsed": true
   },
   "outputs": [],
   "source": [
    "# Should convert all of these using LabelEncoder, but this seems easier.\n",
    "\n",
    "outcome_sub = {}\n",
    "for i, st in enumerate(train_dogs.OutcomeSubtype.unique()):\n",
    "    outcome_sub[st] = i"
   ]
  },
  {
   "cell_type": "code",
   "execution_count": 26,
   "metadata": {
    "collapsed": false
   },
   "outputs": [],
   "source": [
    "train_dogs['OutcomeSubtype'] = train_dogs.OutcomeSubtype.map( outcome_sub ).astype(int)"
   ]
  },
  {
   "cell_type": "markdown",
   "metadata": {},
   "source": [
    "We do the same thing for animal sex."
   ]
  },
  {
   "cell_type": "code",
   "execution_count": 28,
   "metadata": {
    "collapsed": false
   },
   "outputs": [
    {
     "data": {
      "text/plain": [
       "array(['Neutered Male', 'Intact Female', 'Intact Male', 'Spayed Female',\n",
       "       'Unknown'], dtype=object)"
      ]
     },
     "execution_count": 28,
     "metadata": {},
     "output_type": "execute_result"
    }
   ],
   "source": [
    "train_dogs.SexuponOutcome.unique()"
   ]
  },
  {
   "cell_type": "code",
   "execution_count": 29,
   "metadata": {
    "collapsed": false
   },
   "outputs": [],
   "source": [
    "sex_outcome = {}\n",
    "for i, sex in enumerate(train_df.SexuponOutcome.unique()):\n",
    "    sex_outcome[sex] = i"
   ]
  },
  {
   "cell_type": "code",
   "execution_count": 30,
   "metadata": {
    "collapsed": false
   },
   "outputs": [
    {
     "data": {
      "text/plain": [
       "{nan: 5,\n",
       " 'Intact Male': 2,\n",
       " 'Neutered Male': 0,\n",
       " 'Spayed Female': 1,\n",
       " 'Unknown': 4,\n",
       " 'Intact Female': 3}"
      ]
     },
     "execution_count": 30,
     "metadata": {},
     "output_type": "execute_result"
    }
   ],
   "source": [
    "sex_outcome"
   ]
  },
  {
   "cell_type": "code",
   "execution_count": 31,
   "metadata": {
    "collapsed": true
   },
   "outputs": [],
   "source": [
    "train_dogs['SexuponOutcome'] = train_df.SexuponOutcome.map( sex_outcome ).astype(int)"
   ]
  },
  {
   "cell_type": "markdown",
   "metadata": {},
   "source": [
    "And now we come to age.  This seems to be a text field, but pretty standard, so we'll just set up a quick function to group it into standard age groups (pulled from doggie websites). Possible issue: dogs of different sizes age differently. (Should we convert breed to size and modify the age feature?)"
   ]
  },
  {
   "cell_type": "code",
   "execution_count": 32,
   "metadata": {
    "collapsed": false
   },
   "outputs": [
    {
     "data": {
      "text/plain": [
       "array(['2 years', '1 month', '4 years', '2 months', '4 months', '3 years',\n",
       "       '11 years', '6 months', '1 year', '12 years', '7 years', '7 months',\n",
       "       '5 years', '5 months', '3 months', '6 years', '9 years', '10 years',\n",
       "       '11 months', '8 months', '10 months', '8 years', '9 months',\n",
       "       '13 years', '2 weeks', '14 years', '15 years', '16 years',\n",
       "       '17 years', '1 weeks', '19 years', '3 days', '1 week', '4 weeks',\n",
       "       '6 days'], dtype=object)"
      ]
     },
     "execution_count": 32,
     "metadata": {},
     "output_type": "execute_result"
    }
   ],
   "source": [
    "train_dogs.AgeuponOutcome.unique()"
   ]
  },
  {
   "cell_type": "code",
   "execution_count": 35,
   "metadata": {
    "collapsed": false
   },
   "outputs": [],
   "source": [
    "period_dict = {'year': 365, 'month': 30, 'week': 7, 'day': 1, 'day': 1}\n",
    "\n",
    "age_group = {0: \"puppy\", 1: \"adolescent\", 2: \"adult\", 3: \"senior\"}\n",
    "\n",
    "def convert_age_to_group(age):\n",
    "    try:\n",
    "        number, period = str(age).split()\n",
    "        period = period.rstrip(\"s\")\n",
    "        days = int(number) * period_dict[period]\n",
    "        \n",
    "        if days < 365:\n",
    "            return 0\n",
    "        elif days < 730:\n",
    "            return 1\n",
    "        elif days < 2190:\n",
    "            return 2\n",
    "        else:\n",
    "            return 3\n",
    "        \n",
    "    except ValueError:\n",
    "        return 3\n",
    "    "
   ]
  },
  {
   "cell_type": "code",
   "execution_count": 36,
   "metadata": {
    "collapsed": false
   },
   "outputs": [
    {
     "data": {
      "text/plain": [
       "0"
      ]
     },
     "execution_count": 36,
     "metadata": {},
     "output_type": "execute_result"
    }
   ],
   "source": [
    "# Test our script\n",
    "\n",
    "convert_age_to_group('8 weeks')"
   ]
  },
  {
   "cell_type": "markdown",
   "metadata": {
    "collapsed": false
   },
   "source": [
    "And we transform the AgeuponOutcome column to our groups."
   ]
  },
  {
   "cell_type": "code",
   "execution_count": 39,
   "metadata": {
    "collapsed": false
   },
   "outputs": [],
   "source": [
    "train_dogs['AgeuponOutcome'] = train_dogs.AgeuponOutcome.apply(convert_age_to_group)"
   ]
  },
  {
   "cell_type": "code",
   "execution_count": 40,
   "metadata": {
    "collapsed": false
   },
   "outputs": [
    {
     "data": {
      "text/plain": [
       "array([2, 0, 3, 1])"
      ]
     },
     "execution_count": 40,
     "metadata": {},
     "output_type": "execute_result"
    }
   ],
   "source": [
    "train_dogs.AgeuponOutcome.unique()"
   ]
  },
  {
   "cell_type": "code",
   "execution_count": 34,
   "metadata": {
    "collapsed": false
   },
   "outputs": [
    {
     "data": {
      "text/plain": [
       "array([1, 1, 3])"
      ]
     },
     "execution_count": 34,
     "metadata": {},
     "output_type": "execute_result"
    }
   ],
   "source": []
  },
  {
   "cell_type": "markdown",
   "metadata": {
    "collapsed": false
   },
   "source": [
    "Now that we've grouped our data, let's look at how age effects outcome."
   ]
  },
  {
   "cell_type": "code",
   "execution_count": 63,
   "metadata": {
    "collapsed": false
   },
   "outputs": [],
   "source": [
    "ages_n_outcomes = pd.crosstab(train_dogs.AgeuponOutcome, train_dogs.OutcomeType)"
   ]
  },
  {
   "cell_type": "code",
   "execution_count": 62,
   "metadata": {
    "collapsed": false
   },
   "outputs": [
    {
     "data": {
      "text/plain": [
       "<matplotlib.axes._subplots.AxesSubplot at 0x1106e9400>"
      ]
     },
     "execution_count": 62,
     "metadata": {},
     "output_type": "execute_result"
    },
    {
     "data": {
      "image/png": "[encoded data removed]",
      "text/plain": [
       "<matplotlib.figure.Figure at 0x1106814e0>"
      ]
     },
     "metadata": {},
     "output_type": "display_data"
    }
   ],
   "source": [
    "ages_n_outcomes.plot.bar()"
   ]
  },
  {
   "cell_type": "markdown",
   "metadata": {},
   "source": [
    "And here are our codes."
   ]
  },
  {
   "cell_type": "code",
   "execution_count": 47,
   "metadata": {
    "collapsed": false
   },
   "outputs": [
    {
     "data": {
      "text/plain": [
       "array(['Adoption', 'Died', 'Euthanasia', 'Transfer'], dtype=object)"
      ]
     },
     "execution_count": 47,
     "metadata": {},
     "output_type": "execute_result"
    }
   ],
   "source": [
    "encoder.inverse_transform([0, 1, 2, 3])"
   ]
  },
  {
   "cell_type": "markdown",
   "metadata": {},
   "source": [
    "So, we see that puppies are more likely to be adopted and adults are more likely to be euthanized, but looking at our counts again will help us interpret this data."
   ]
  },
  {
   "cell_type": "code",
   "execution_count": 69,
   "metadata": {
    "collapsed": false
   },
   "outputs": [
    {
     "data": {
      "image/png": "[encoded data removed]",
      "text/plain": [
       "<matplotlib.figure.Figure at 0x130679cc0>"
      ]
     },
     "metadata": {},
     "output_type": "display_data"
    }
   ],
   "source": [
    "counts = train_dogs.groupby('AgeuponOutcome').count().plot.bar()"
   ]
  },
  {
   "cell_type": "code",
   "execution_count": 70,
   "metadata": {
    "collapsed": true
   },
   "outputs": [],
   "source": [
    "# We should really do the same thing with color...\n",
    "\n",
    "len(train_dogs.Color.unique())\n",
    "color = {}\n",
    "\n",
    "for i, c in enumerate(train_dogs.Color.unique()):\n",
    "    color[c] = i\n",
    "    \n",
    "train_dogs['Color'] = train_dogs.Color.map( color ).astype(int)"
   ]
  },
  {
   "cell_type": "code",
   "execution_count": 71,
   "metadata": {
    "collapsed": false
   },
   "outputs": [
    {
     "data": {
      "text/html": [
       "<div>\n",
       "<table border=\"1\" class=\"dataframe\">\n",
       "  <thead>\n",
       "    <tr style=\"text-align: right;\">\n",
       "      <th></th>\n",
       "      <th>AnimalID</th>\n",
       "      <th>Name</th>\n",
       "      <th>DateTime</th>\n",
       "      <th>OutcomeType</th>\n",
       "      <th>OutcomeSubtype</th>\n",
       "      <th>SexuponOutcome</th>\n",
       "      <th>AgeuponOutcome</th>\n",
       "      <th>Breed</th>\n",
       "      <th>Color</th>\n",
       "    </tr>\n",
       "  </thead>\n",
       "  <tbody>\n",
       "    <tr>\n",
       "      <th>2</th>\n",
       "      <td>A686464</td>\n",
       "      <td>6</td>\n",
       "      <td>2015-01-31 12:28:00</td>\n",
       "      <td>0</td>\n",
       "      <td>0</td>\n",
       "      <td>0</td>\n",
       "      <td>2</td>\n",
       "      <td>Pit Bull Mix</td>\n",
       "      <td>0</td>\n",
       "    </tr>\n",
       "    <tr>\n",
       "      <th>5</th>\n",
       "      <td>A677334</td>\n",
       "      <td>4</td>\n",
       "      <td>2014-04-25 13:04:00</td>\n",
       "      <td>3</td>\n",
       "      <td>1</td>\n",
       "      <td>3</td>\n",
       "      <td>0</td>\n",
       "      <td>Cairn Terrier/Chihuahua Shorthair</td>\n",
       "      <td>1</td>\n",
       "    </tr>\n",
       "    <tr>\n",
       "      <th>12</th>\n",
       "      <td>A684601</td>\n",
       "      <td>6</td>\n",
       "      <td>2016-02-03 11:27:00</td>\n",
       "      <td>0</td>\n",
       "      <td>0</td>\n",
       "      <td>0</td>\n",
       "      <td>2</td>\n",
       "      <td>Pit Bull Mix</td>\n",
       "      <td>2</td>\n",
       "    </tr>\n",
       "    <tr>\n",
       "      <th>20</th>\n",
       "      <td>A670658</td>\n",
       "      <td>6</td>\n",
       "      <td>2014-01-19 15:03:00</td>\n",
       "      <td>3</td>\n",
       "      <td>1</td>\n",
       "      <td>2</td>\n",
       "      <td>0</td>\n",
       "      <td>Queensland Heeler Mix</td>\n",
       "      <td>3</td>\n",
       "    </tr>\n",
       "    <tr>\n",
       "      <th>31</th>\n",
       "      <td>A707341</td>\n",
       "      <td>6</td>\n",
       "      <td>2015-07-15 15:25:00</td>\n",
       "      <td>3</td>\n",
       "      <td>1</td>\n",
       "      <td>2</td>\n",
       "      <td>0</td>\n",
       "      <td>Labrador Retriever Mix</td>\n",
       "      <td>3</td>\n",
       "    </tr>\n",
       "  </tbody>\n",
       "</table>\n",
       "</div>"
      ],
      "text/plain": [
       "   AnimalID  Name             DateTime  OutcomeType  OutcomeSubtype  \\\n",
       "2   A686464     6  2015-01-31 12:28:00            0               0   \n",
       "5   A677334     4  2014-04-25 13:04:00            3               1   \n",
       "12  A684601     6  2016-02-03 11:27:00            0               0   \n",
       "20  A670658     6  2014-01-19 15:03:00            3               1   \n",
       "31  A707341     6  2015-07-15 15:25:00            3               1   \n",
       "\n",
       "    SexuponOutcome  AgeuponOutcome                              Breed  Color  \n",
       "2                0               2                       Pit Bull Mix      0  \n",
       "5                3               0  Cairn Terrier/Chihuahua Shorthair      1  \n",
       "12               0               2                       Pit Bull Mix      2  \n",
       "20               2               0              Queensland Heeler Mix      3  \n",
       "31               2               0             Labrador Retriever Mix      3  "
      ]
     },
     "execution_count": 71,
     "metadata": {},
     "output_type": "execute_result"
    }
   ],
   "source": [
    "# We could also do something very cool with text analysis for names, but we'll keep it simple and go length\n",
    "\n",
    "train_dogs['Name'] = train_df.Name.apply(lambda x: len(str(x)))\n",
    "train_dogs.interpolate().head() # could have used dropna().median()"
   ]
  },
  {
   "cell_type": "markdown",
   "metadata": {},
   "source": [
    "We've done a lot of pre-processing and have a good idea what our dataset looks like.  The Breed feature will be tricky, though, so let's save what we've done."
   ]
  },
  {
   "cell_type": "code",
   "execution_count": 72,
   "metadata": {
    "collapsed": false
   },
   "outputs": [],
   "source": [
    "# Save our clean dataframe to csv so we don't need to do this again.\n",
    "train_dogs.to_csv(os.path.join(data_dir, \"dogs_clean_train.csv\"))"
   ]
  },
  {
   "cell_type": "markdown",
   "metadata": {},
   "source": [
    "### K-Means for Breed types"
   ]
  },
  {
   "cell_type": "code",
   "execution_count": 73,
   "metadata": {
    "collapsed": true
   },
   "outputs": [],
   "source": [
    "# Let's reload our dataframe.\n",
    "\n",
    "train_dogs = pd.read_csv(os.path.join(data_dir, \"dogs_clean_train.csv\"))"
   ]
  },
  {
   "cell_type": "code",
   "execution_count": 40,
   "metadata": {
    "collapsed": false
   },
   "outputs": [
    {
     "data": {
      "text/plain": [
       "array(['Pit Bull Mix', 'Cairn Terrier/Chihuahua Shorthair',\n",
       "       'Queensland Heeler Mix', 'Labrador Retriever Mix',\n",
       "       'Chihuahua Shorthair Mix', 'Yorkshire Terrier Mix', 'Pointer Mix',\n",
       "       'English Foxhound', 'Cardigan Welsh Corgi/Chihuahua Shorthair',\n",
       "       'Chihuahua Shorthair', 'Lhasa Apso', 'German Shepherd Mix',\n",
       "       'Border Collie Mix', 'Boxer Mix', 'Chihuahua Shorthair/Dachshund',\n",
       "       'Miniature Pinscher/Chihuahua Shorthair', 'Dachshund Mix',\n",
       "       'Australian Cattle Dog Mix', 'Catahoula/Labrador Retriever',\n",
       "       'Whippet Mix', 'Rat Terrier Mix', 'English Pointer Mix',\n",
       "       'Labrador Retriever/Pit Bull', 'Basset Hound/Labrador Retriever',\n",
       "       'Airedale Terrier Mix', 'Chihuahua Shorthair/Rat Terrier',\n",
       "       'Cocker Spaniel', 'Plott Hound Mix', 'Dachshund',\n",
       "       'Border Collie/Labrador Retriever', 'Great Dane', 'Akita/Pit Bull',\n",
       "       'Labrador Retriever', 'Rottweiler Mix',\n",
       "       'Labrador Retriever/Blue Lacy', 'Dachshund/Chihuahua Shorthair',\n",
       "       'Boxer', 'Australian Cattle Dog/Labrador Retriever',\n",
       "       'German Shepherd/Collie Rough',\n",
       "       'Labrador Retriever/Black Mouth Cur', 'Papillon/Border Collie',\n",
       "       'Miniature Schnauzer/Miniature Poodle',\n",
       "       'Dachshund Wirehair/Miniature Poodle', 'Pit Bull/Weimaraner',\n",
       "       'Yorkshire Terrier/Chihuahua Shorthair', 'Australian Kelpie Mix',\n",
       "       'Chow Chow Mix', 'Dogo Argentino Mix',\n",
       "       'Boxer/Australian Cattle Dog', 'Shih Tzu Mix',\n",
       "       'Miniature Pinscher/Pomeranian', 'Harrier Mix',\n",
       "       'German Shepherd/Labrador Retriever', 'Catahoula Mix',\n",
       "       'Jack Russell Terrier/Australian Cattle Dog',\n",
       "       'Jack Russell Terrier Mix', 'Siberian Husky Mix', 'Beagle Mix',\n",
       "       'Staffordshire Mix', 'German Shepherd', 'Beagle/Pug',\n",
       "       'Miniature Pinscher Mix', 'Yorkshire Terrier/Miniature Poodle',\n",
       "       'Miniature Poodle/Miniature Schnauzer', 'Manchester Terrier Mix',\n",
       "       'English Setter Mix', 'Pomeranian Mix', 'Boxer/Pit Bull',\n",
       "       'Labrador Retriever/Border Collie', 'Toy Poodle/Maltese',\n",
       "       'Smooth Fox Terrier Mix', 'Shih Tzu/Maltese', 'Cocker Spaniel Mix',\n",
       "       'Pug Mix', 'Maltese Mix', 'Rottweiler/Rhod Ridgeback',\n",
       "       'American Staffordshire Terrier Mix', 'Parson Russell Terrier Mix',\n",
       "       'American Bulldog Mix', 'Miniature Poodle Mix',\n",
       "       'Dachshund/Shih Tzu', 'American Pit Bull Terrier',\n",
       "       'Miniature Schnauzer', 'Black Mouth Cur Mix', 'Carolina Dog Mix',\n",
       "       'Australian Shepherd', 'St. Bernard Rough Coat Mix',\n",
       "       'Staffordshire/Boston Terrier', 'Doberman Pinsch Mix', 'Pit Bull',\n",
       "       'Siberian Husky/German Shepherd', 'Lhasa Apso Mix',\n",
       "       'Rhod Ridgeback Mix', 'Basenji/Chihuahua Longhair',\n",
       "       'Miniature Poodle/Dachshund', 'Cardigan Welsh Corgi Mix',\n",
       "       'Bruss Griffon Mix', 'Flat Coat Retriever Mix', 'Bloodhound Mix',\n",
       "       'Affenpinscher Mix', 'Border Collie/Australian Cattle Dog',\n",
       "       'Norwich Terrier Mix', 'Labrador Retriever/Australian Shepherd',\n",
       "       'Greyhound', 'Siberian Husky', 'Australian Shepherd Mix',\n",
       "       'Dachshund Longhair/Chihuahua Shorthair', 'Dachshund Wirehair Mix',\n",
       "       'Golden Retriever Mix', 'Norfolk Terrier Mix', 'Pointer/Catahoula',\n",
       "       'Great Pyrenees', 'American Bulldog/Labrador Retriever',\n",
       "       'Shetland Sheepdog/Border Collie', 'Shih Tzu',\n",
       "       'German Shepherd/Chow Chow',\n",
       "       'Miniature Schnauzer/Soft Coated Wheaten Terrier',\n",
       "       'Rottweiler/German Shepherd',\n",
       "       'German Shepherd/Australian Cattle Dog', 'Labrador Retriever/Boxer',\n",
       "       'Basset Hound Mix', 'Pit Bull/St. Bernard Smooth Coat',\n",
       "       'Carolina Dog/Chihuahua Shorthair', 'Tibetan Terrier Mix',\n",
       "       'Chihuahua Shorthair/Yorkshire Terrier', 'Collie Smooth Mix',\n",
       "       'Yorkshire Terrier', 'Blue Lacy Mix', 'Boston Terrier Mix',\n",
       "       'Pit Bull/Catahoula', 'Shetland Sheepdog', 'Weimaraner',\n",
       "       'Chihuahua Shorthair/Cairn Terrier', 'Miniature Pinscher',\n",
       "       'Boston Terrier', 'Bruss Griffon/Chihuahua Shorthair',\n",
       "       'Catahoula/Australian Cattle Dog', 'Great Pyrenees Mix',\n",
       "       'Dogo Argentino/Chinese Sharpei', 'Labrador Retriever/Beagle',\n",
       "       'Catahoula/Chow Chow', 'Dachshund/Manchester Terrier',\n",
       "       'Labrador Retriever/German Shepherd', 'Standard Schnauzer Mix',\n",
       "       'Pekingese Mix', 'Mastiff Mix', 'Chesa Bay Retr Mix',\n",
       "       'Whippet/Shetland Sheepdog', 'Golden Retriever/Whippet',\n",
       "       'Cocker Spaniel/Standard Poodle', 'Pit Bull/Chinese Sharpei',\n",
       "       'Brittany Mix', 'Labrador Retriever/Pointer', 'Shih Tzu/Havanese',\n",
       "       'Miniature Schnauzer Mix', 'Great Pyrenees/Siberian Husky',\n",
       "       'Doberman Pinsch/Border Collie', 'Shetland Sheepdog Mix', 'Akita',\n",
       "       'Cairn Terrier', 'Chihuahua Shorthair/Dachshund Wirehair',\n",
       "       'Kuvasz/Labrador Retriever', 'Labrador Retriever/Chinese Sharpei',\n",
       "       'Dachshund Wirehair', 'Anatol Shepherd Mix', 'Basenji Mix',\n",
       "       'Labrador Retriever/Border Terrier', 'Labrador Retriever/Chow Chow',\n",
       "       'Border Terrier Mix', 'West Highland Mix',\n",
       "       'Cocker Spaniel/Labrador Retriever', 'Shih Tzu/Miniature Poodle',\n",
       "       'Pekingese/Miniature Poodle', 'Dachshund Longhair Mix',\n",
       "       'Black Mouth Cur/American Staffordshire Terrier',\n",
       "       'Australian Cattle Dog', 'Chihuahua Longhair Mix',\n",
       "       'Rottweiler/Labrador Retriever', 'Dachshund/Rat Terrier',\n",
       "       'American Pit Bull Terrier Mix',\n",
       "       'Chihuahua Shorthair/Wire Hair Fox Terrier', 'Podengo Pequeno Mix',\n",
       "       'Dalmatian/Australian Cattle Dog', 'Beagle/Chihuahua Shorthair',\n",
       "       'English Coonhound Mix', 'Pit Bull/Australian Cattle Dog',\n",
       "       'Chinese Sharpei Mix', 'Pomeranian/Jack Russell Terrier',\n",
       "       'Rat Terrier/Chihuahua Shorthair', 'Bull Terrier Mix',\n",
       "       'St. Bernard Smooth Coat Mix', 'Labrador Retriever/Anatol Shepherd',\n",
       "       'Chinese Sharpei', 'Beagle', 'Anatol Shepherd',\n",
       "       'Great Dane/German Shepherd', 'Great Pyrenees/Standard Poodle',\n",
       "       'Lhasa Apso/Shih Tzu', 'German Shorthair Pointer Mix',\n",
       "       'Irish Setter/Pit Bull', 'Pointer/Blue Lacy', 'Chihuahua Longhair',\n",
       "       'Bull Terrier/Boxer', 'Pointer/Labrador Retriever', 'Rottweiler',\n",
       "       'Patterdale Terr Mix', 'Maltese/Miniature Poodle',\n",
       "       'Pembroke Welsh Corgi/Brittany', 'Golden Retriever/Great Pyrenees',\n",
       "       'Soft Coated Wheaten Terrier Mix', 'Chihuahua Longhair/Pomeranian',\n",
       "       'Pug/Chihuahua Shorthair', 'Dachshund Wirehair/Rat Terrier',\n",
       "       'Boston Terrier/Dachshund', 'Chihuahua Shorthair/Toy Fox Terrier',\n",
       "       'Pomeranian', 'Pit Bull/Labrador Retriever',\n",
       "       'Chow Chow/German Shepherd', 'Bearded Collie Mix',\n",
       "       'Canaan Dog/Pit Bull', 'Beauceron Mix', 'Pekingese', 'Pug',\n",
       "       'Redbone Hound Mix', 'Australian Cattle Dog/Catahoula',\n",
       "       'Tibetan Spaniel Mix', 'Italian Greyhound', 'Pit Bull/Boxer',\n",
       "       'Shih Tzu/Australian Shepherd', 'English Springer Spaniel/Beagle',\n",
       "       'Collie Rough Mix', 'Pointer',\n",
       "       'Boxer/American Staffordshire Terrier',\n",
       "       'Australian Cattle Dog/Dalmatian', 'Harrier/Catahoula',\n",
       "       'Bullmastiff Mix', 'Yorkshire Terrier/Maltese',\n",
       "       'Chow Chow/Basset Hound', 'Chihuahua Shorthair/Basset Hound',\n",
       "       'Shih Tzu/Pekingese', 'Pbgv Mix',\n",
       "       'Australian Shepherd/Labrador Retriever',\n",
       "       'Chow Chow/English Cocker Spaniel', 'Toy Fox Terrier Mix',\n",
       "       'Wire Hair Fox Terrier Mix', 'Boxer/Labrador Retriever',\n",
       "       'Boxer/Staffordshire', 'Australian Shepherd/Border Collie',\n",
       "       'Labrador Retriever/Rottweiler', 'Beagle/German Shepherd',\n",
       "       'Leonberger Mix', 'Great Pyrenees/Labrador Retriever',\n",
       "       'Shih Tzu/Miniature Schnauzer',\n",
       "       'Chihuahua Shorthair/Cardigan Welsh Corgi',\n",
       "       'American Staffordshire Terrier',\n",
       "       'Chihuahua Shorthair/Jack Russell Terrier',\n",
       "       'Miniature Schnauzer/Queensland Heeler',\n",
       "       'German Shepherd/Rottweiler', 'Presa Canario Mix',\n",
       "       'Australian Cattle Dog/Pembroke Welsh Corgi',\n",
       "       'German Shepherd/Boxer', 'Manchester Terrier/Chihuahua Shorthair',\n",
       "       'Alaskan Husky/German Shepherd',\n",
       "       'Labrador Retriever/Queensland Heeler', 'Dachshund/Pit Bull',\n",
       "       'Bichon Frise', 'Black Mouth Cur/Boxer',\n",
       "       'Chinese Sharpei/Border Collie', 'Staffordshire/Beagle',\n",
       "       'Border Collie', 'Australian Cattle Dog/Boxer',\n",
       "       'German Shepherd/Border Collie',\n",
       "       'Labrador Retriever/Pembroke Welsh Corgi', 'Italian Greyhound Mix',\n",
       "       'Lhasa Apso/Miniature Poodle', 'Neapolitan Mastiff Mix',\n",
       "       'Weimaraner Mix', 'Catahoula/Black Mouth Cur',\n",
       "       'Cairn Terrier/Yorkshire Terrier', 'Rottweiler/Chow Chow',\n",
       "       'Nova Scotia Duck Tolling Retriever/Golden Retriever',\n",
       "       'Pit Bull/Basset Hound', 'Belgian Malinois Mix',\n",
       "       'Australian Cattle Dog/Pit Bull',\n",
       "       'American Pit Bull Terrier/Catahoula',\n",
       "       'French Bulldog/Chihuahua Shorthair', 'Newfoundland Mix',\n",
       "       'Pointer/Border Collie', 'Miniature Poodle/Cocker Spaniel',\n",
       "       'Rhod Ridgeback', 'Cocker Spaniel/Golden Retriever',\n",
       "       'Tibetan Terrier/Lhasa Apso',\n",
       "       'Dachshund Wirehair/Chihuahua Shorthair', 'Black/Tan Hound Mix',\n",
       "       'Black Mouth Cur/Labrador Retriever', 'Finnish Spitz Mix',\n",
       "       'Labrador Retriever/Australian Cattle Dog',\n",
       "       'Alaskan Husky/Australian Shepherd',\n",
       "       'Chihuahua Shorthair/Miniature Pinscher',\n",
       "       'Labrador Retriever/Siberian Husky', 'Chihuahua Shorthair/Beagle',\n",
       "       'Entlebucher Mix', 'Golden Retriever/Chow Chow',\n",
       "       'Plott Hound/Labrador Retriever', 'Chow Chow/Pit Bull',\n",
       "       'Anatol Shepherd/Redbone Hound', 'Border Collie/Queensland Heeler',\n",
       "       'Boxer/Redbone Hound', 'Basset Hound', 'Border Collie/Boxer',\n",
       "       'Queensland Heeler/Pit Bull', 'German Shepherd/Pit Bull',\n",
       "       'Standard Poodle', 'Collie Smooth/Golden Retriever',\n",
       "       'Cairn Terrier Mix',\n",
       "       'American Staffordshire Terrier/Labrador Retriever',\n",
       "       'Wire Hair Fox Terrier', 'Miniature Poodle/Pomeranian',\n",
       "       'Border Collie/Whippet', 'Shiba Inu Mix',\n",
       "       'Pembroke Welsh Corgi Mix', 'Anatol Shepherd/Australian Cattle Dog',\n",
       "       'Chihuahua Shorthair/Shih Tzu', 'Pug/Border Terrier',\n",
       "       'Dogue De Bordeaux Mix', 'Flat Coat Retriever/Papillon',\n",
       "       'Basenji/Jack Russell Terrier',\n",
       "       'Airedale Terrier/Labrador Retriever',\n",
       "       'Scottish Terrier/Basset Hound', 'Miniature Poodle',\n",
       "       'Chinese Crested/Papillon', 'Akita Mix', 'Harrier',\n",
       "       'St. Bernard Smooth Coat', 'Pointer/Bull Terrier',\n",
       "       'Chihuahua Shorthair/Lhasa Apso', 'Great Dane Mix',\n",
       "       'Rottweiler/Beagle', 'Staffordshire', 'Australian Kelpie/Blue Lacy',\n",
       "       'Doberman Pinsch', 'Jindo Mix', 'Shih Tzu/Norfolk Terrier',\n",
       "       'Beagle/Dachshund', 'Miniature Poodle/Havanese',\n",
       "       'Australian Cattle Dog/Beagle',\n",
       "       'Chihuahua Shorthair/Shetland Sheepdog',\n",
       "       'Alaskan Malamute/Border Collie', 'Australian Kelpie',\n",
       "       'German Shepherd/Alaskan Husky', 'Blue Lacy/Australian Kelpie',\n",
       "       'English Bulldog Mix', 'American Bulldog/Pointer',\n",
       "       'Black Mouth Cur', 'Siberian Husky/Australian Cattle Dog',\n",
       "       'Cardigan Welsh Corgi/Australian Cattle Dog', 'Dutch Shepherd Mix',\n",
       "       'Black/Tan Hound/Black Mouth Cur', 'Boxer/Black Mouth Cur',\n",
       "       'Dachshund/Basset Hound', 'Schnauzer Giant Mix', 'Airedale Terrier',\n",
       "       'Chihuahua Shorthair/Pug', 'Black Mouth Cur/Australian Cattle Dog',\n",
       "       'Australian Shepherd/Nova Scotia Duck Tolling Retriever',\n",
       "       'Dachshund/Belgian Malinois',\n",
       "       'English Springer Spaniel/Cardigan Welsh Corgi',\n",
       "       'Pit Bull/Dalmatian', 'Dachshund Wirehair/Border Terrier',\n",
       "       'Bichon Frise Mix', 'Chow Chow', 'Cane Corso/Mastiff',\n",
       "       'Silky Terrier Mix', 'Bull Terrier/Pit Bull',\n",
       "       'Chihuahua Shorthair/Boston Terrier', 'Maltese/Yorkshire Terrier',\n",
       "       'Australian Cattle Dog/German Shepherd',\n",
       "       'Chihuahua Shorthair/Pekingese', 'Pit Bull/Chihuahua Shorthair',\n",
       "       'Plott Hound', 'Toy Poodle Mix', 'Boxer/Catahoula',\n",
       "       'Labrador Retriever/Greyhound',\n",
       "       'Carolina Dog/Australian Cattle Dog', 'German Shepherd/Mastiff',\n",
       "       'Jack Russell Terrier', 'Labrador Retriever/Catahoula',\n",
       "       'Rat Terrier/Beagle', 'Yorkshire Terrier/Chihuahua Longhair',\n",
       "       'Schipperke/Chihuahua Shorthair', 'Pug/Beagle',\n",
       "       'Yorkshire Terrier/Rat Terrier', 'Pekingese/Chihuahua Shorthair',\n",
       "       'Pointer/American Pit Bull Terrier',\n",
       "       'Cavalier Span/Jack Russell Terrier',\n",
       "       'Labrador Retriever/Golden Retriever',\n",
       "       'Cardigan Welsh Corgi/Miniature Pinscher',\n",
       "       'Siberian Husky/Labrador Retriever', 'Dachshund/Pug',\n",
       "       'Havanese Mix', 'Border Collie/German Shepherd',\n",
       "       'Miniature Schnauzer/Yorkshire Terrier', 'Rottweiler/Pit Bull',\n",
       "       'Jack Russell Terrier/Pit Bull', 'Whippet/Beagle',\n",
       "       'St. Bernard Rough Coat/Standard Schnauzer',\n",
       "       'Chihuahua Shorthair/Border Terrier',\n",
       "       'Labrador Retriever/Collie Rough', 'American Eskimo',\n",
       "       'German Shepherd/Chinese Sharpei', 'Catahoula/Beagle',\n",
       "       'Labrador Retriever/Chesa Bay Retr',\n",
       "       'Treeing Walker Coonhound/Labrador Retriever',\n",
       "       'Chinese Sharpei/Great Dane', 'Beagle/Standard Poodle',\n",
       "       'Chow Chow/Labrador Retriever', 'Canaan Dog/Redbone Hound',\n",
       "       'Pit Bull/English Bulldog', 'Field Spaniel Mix',\n",
       "       'Plott Hound/Blue Lacy', 'Jack Russell Terrier/Cairn Terrier',\n",
       "       'Feist Mix', 'Labrador Retriever/American Pit Bull Terrier',\n",
       "       'Chihuahua Shorthair/Cocker Spaniel', 'Great Pyrenees/Pointer',\n",
       "       'Toy Poodle', 'Chinese Sharpei/Labrador Retriever',\n",
       "       'Australian Kelpie/Pit Bull', 'Keeshond Mix',\n",
       "       'Shetland Sheepdog/Dachshund Longhair', 'Akita/Siberian Husky',\n",
       "       'Australian Shepherd/Boxer', 'American Bulldog/Great Pyrenees',\n",
       "       'St. Bernard Rough Coat/Labrador Retriever',\n",
       "       'Labrador Retriever/Staffordshire',\n",
       "       'Australian Cattle Dog/American Foxhound', 'Cavalier Span Mix',\n",
       "       'Jack Russell Terrier/Papillon', 'Boxer/Great Dane',\n",
       "       'Soft Coated Wheaten Terrier/Yorkshire Terrier', 'Saluki',\n",
       "       'Bulldog Mix', 'Pointer/Australian Cattle Dog',\n",
       "       'German Pinscher/Whippet', 'Bulldog/Pit Bull',\n",
       "       'Mastiff/Chinese Sharpei', 'Treeing Cur Mix',\n",
       "       'Rat Terrier/Queensland Heeler', 'Beagle/Cavalier Span',\n",
       "       'Pharaoh Hound Mix', 'Brittany/Chihuahua Shorthair',\n",
       "       'Australian Kelpie/American Pit Bull Terrier', 'Maltese',\n",
       "       'Boxer/Jack Russell Terrier',\n",
       "       'Yorkshire Terrier/Dachshund Wirehair', 'Cairn Terrier/Shih Tzu',\n",
       "       'Boxer/Boston Terrier', 'Boston Terrier/Pit Bull',\n",
       "       'Labrador Retriever/Black/Tan Hound', 'Border Collie/Catahoula',\n",
       "       'Standard Poodle Mix', 'Mastiff/Rottweiler',\n",
       "       'Norfolk Terrier/Yorkshire Terrier',\n",
       "       'Labrador Retriever/Rhod Ridgeback',\n",
       "       'Australian Cattle Dog/Pointer',\n",
       "       'Border Terrier/Labrador Retriever',\n",
       "       'Anatol Shepherd/Australian Shepherd',\n",
       "       'Manchester Terrier/Dachshund', 'Golden Retriever',\n",
       "       'Boxer/American Bulldog', 'Lhasa Apso/Cocker Spaniel',\n",
       "       'Pekingese/Lhasa Apso', 'Border Collie/Basenji',\n",
       "       'Chihuahua Longhair/Papillon', 'Border Collie/Plott Hound',\n",
       "       'Australian Cattle Dog/Golden Retriever',\n",
       "       'Chow Chow/Golden Retriever', 'Dachshund/Miniature Poodle',\n",
       "       'Boxer/American Pit Bull Terrier',\n",
       "       'Carolina Dog/Labrador Retriever',\n",
       "       'Golden Retriever/Labrador Retriever',\n",
       "       'Australian Cattle Dog/Plott Hound', 'Boerboel Mix',\n",
       "       'Pekingese/Pug', 'American Eskimo Mix',\n",
       "       'Labrador Retriever/Spanish Water Dog', 'Beagle/Pit Bull',\n",
       "       'Bernese Mountain Dog Mix', 'Papillon Mix',\n",
       "       'Australian Cattle Dog/Cardigan Welsh Corgi',\n",
       "       'Chinese Crested/Chihuahua Longhair', 'English Bulldog',\n",
       "       'Glen Of Imaal/Ibizan Hound', 'Anatol Shepherd/Labrador Retriever',\n",
       "       'Scottish Terrier Mix', 'Dachshund Longhair/Cocker Spaniel',\n",
       "       'German Pinscher Mix', 'Shetland Sheepdog/Basenji',\n",
       "       'Anatol Shepherd/Great Pyrenees', 'Dachshund Longhair',\n",
       "       'Samoyed Mix', 'Labrador Retriever/Great Pyrenees',\n",
       "       'Labrador Retriever/Flat Coat Retriever',\n",
       "       'Belgian Tervuren/German Shepherd', 'Standard Schnauzer',\n",
       "       'Labrador Retriever/Plott Hound', 'Picardy Sheepdog Mix',\n",
       "       'American Bulldog/Pit Bull', 'Alaskan Husky Mix',\n",
       "       'Labrador Retriever/Newfoundland', 'Glen Of Imaal Mix',\n",
       "       'Shih Tzu/Cocker Spaniel', 'Great Pyrenees/Pit Bull',\n",
       "       'English Springer Spaniel Mix',\n",
       "       'Cardigan Welsh Corgi/Australian Shepherd',\n",
       "       'Basset Hound/Australian Cattle Dog', 'Pug/Pekingese',\n",
       "       'Skye Terrier Mix', 'Chihuahua Longhair/Pekingese',\n",
       "       'German Shorthair Pointer', 'Jack Russell Terrier/Rat Terrier',\n",
       "       'Boston Terrier/Beagle', 'Bull Terrier',\n",
       "       'Shetland Sheepdog/Chihuahua Longhair', 'Pointer/Harrier',\n",
       "       'Newfoundland/Labrador Retriever', 'Bull Terrier Miniature Mix',\n",
       "       'Akita/Labrador Retriever',\n",
       "       'Dachshund Longhair/Cardigan Welsh Corgi',\n",
       "       'Manchester Terrier/Beagle', 'Chihuahua Longhair/Pug',\n",
       "       'Black/Tan Hound/Labrador Retriever', 'Dalmatian',\n",
       "       'Spanish Mastiff Mix', 'Pit Bull/Mastiff',\n",
       "       'Cocker Spaniel/Dachshund', 'Chihuahua Longhair/Dachshund',\n",
       "       'Pit Bull/Pointer', 'Yorkshire Terrier/Miniature Schnauzer',\n",
       "       'Jack Russell Terrier/Chihuahua Shorthair',\n",
       "       'St. Bernard Rough Coat/Border Collie',\n",
       "       'Black/Tan Hound/German Shepherd',\n",
       "       'Chihuahua Shorthair/Manchester Terrier', 'Black Mouth Cur/Mastiff',\n",
       "       'Welsh Terrier Mix', 'Whippet/Australian Cattle Dog',\n",
       "       'Pit Bull/Bull Terrier', 'Chihuahua Longhair/Cardigan Welsh Corgi',\n",
       "       'Australian Shepherd/Rottweiler', 'Rottweiler/Basset Hound',\n",
       "       'Japanese Chin', 'Border Terrier/Chihuahua Longhair',\n",
       "       'Yorkshire Terrier/Border Terrier', 'Shih Tzu/Affenpinscher',\n",
       "       'Schipperke Mix', 'German Shepherd/Alaskan Malamute',\n",
       "       'Siberian Husky/Beagle', 'Great Dane/Labrador Retriever',\n",
       "       'Staffordshire/Labrador Retriever',\n",
       "       'Cocker Spaniel/Miniature Poodle', 'Belgian Tervuren Mix',\n",
       "       'Rhod Ridgeback/Labrador Retriever', 'English Bulldog/Pit Bull',\n",
       "       'Australian Cattle Dog/Staffordshire',\n",
       "       'Australian Kelpie/Chinese Sharpei', 'Treeing Walker Coonhound Mix',\n",
       "       'Basset Hound/Dachshund', 'Catahoula/Whippet', 'Irish Terrier Mix',\n",
       "       'Chihuahua Shorthair/Pembroke Welsh Corgi', 'Cardigan Welsh Corgi',\n",
       "       'Bluetick Hound', 'Rat Terrier/Jack Russell Terrier',\n",
       "       'Australian Cattle Dog/Jack Russell Terrier',\n",
       "       'Irish Wolfhound/Australian Shepherd',\n",
       "       'Collie Smooth/Labrador Retriever', 'Miniature Schnauzer/Shih Tzu',\n",
       "       'Maltese/Dachshund', 'Irish Wolfhound/Great Pyrenees',\n",
       "       'Australian Cattle Dog/Chow Chow',\n",
       "       'Border Terrier/Chihuahua Shorthair', 'Pharaoh Hound',\n",
       "       'Chihuahua Longhair/Cairn Terrier',\n",
       "       'Miniature Poodle/Yorkshire Terrier',\n",
       "       'Dachshund/Labrador Retriever', 'West Highland', 'Blue Lacy',\n",
       "       'Rat Terrier/Dachshund', 'Dachshund/Cardigan Welsh Corgi',\n",
       "       'German Shepherd/Siberian Husky',\n",
       "       'American Staffordshire Terrier/American Bulldog',\n",
       "       'Labrador Retriever/Harrier', 'Maltese/Shih Tzu',\n",
       "       'Australian Shepherd/Chow Chow', 'Collie Rough/Chinese Sharpei',\n",
       "       'Greater Swiss Mountain Dog Mix',\n",
       "       'Australian Cattle Dog/Bull Terrier', 'Shetland Sheepdog/Brittany',\n",
       "       'Chihuahua Shorthair/Pomeranian',\n",
       "       'Australian Cattle Dog/Border Collie',\n",
       "       'Chihuahua Shorthair/Australian Cattle Dog', 'Bernese Mountain Dog',\n",
       "       'Pomeranian/Chihuahua Shorthair', 'Newfoundland/Great Pyrenees',\n",
       "       'Chow Chow/Chinese Sharpei', 'Saluki Mix',\n",
       "       'Cocker Spaniel/Toy Poodle', 'Great Pyrenees/Australian Shepherd',\n",
       "       'Blue Lacy/Pit Bull', 'Cardigan Welsh Corgi/Cocker Spaniel',\n",
       "       'Welsh Springer Spaniel Mix', 'Japanese Chin Mix',\n",
       "       'English Cocker Spaniel Mix',\n",
       "       'Miniature Poodle/Chihuahua Shorthair', 'Catahoula/Chinese Sharpei',\n",
       "       'American Bulldog/American Staffordshire Terrier',\n",
       "       'Golden Retriever/German Shepherd', 'Boxer/Beagle',\n",
       "       'Pit Bull/Plott Hound', 'Border Collie/Akita',\n",
       "       'Boxer/Miniature Poodle', 'Catahoula', 'Dachshund/Beagle',\n",
       "       'Rat Terrier', 'Vizsla/Boxer', 'Miniature Poodle/Maltese'], dtype=object)"
      ]
     },
     "execution_count": 40,
     "metadata": {},
     "output_type": "execute_result"
    }
   ],
   "source": [
    "train_dogs.Breed.unique()"
   ]
  },
  {
   "cell_type": "code",
   "execution_count": 41,
   "metadata": {
    "collapsed": false
   },
   "outputs": [
    {
     "data": {
      "text/plain": [
       "626"
      ]
     },
     "execution_count": 41,
     "metadata": {},
     "output_type": "execute_result"
    }
   ],
   "source": [
    "len(train_dogs.Breed.unique())"
   ]
  },
  {
   "cell_type": "code",
   "execution_count": 42,
   "metadata": {
    "collapsed": false
   },
   "outputs": [],
   "source": [
    "# Could do something with a countvectorizer for Breed & Color, but we'll stick to simple here\n",
    "\n",
    "from sklearn.feature_extraction.text import CountVectorizer, TfidfTransformer\n",
    "count_vect = CountVectorizer()"
   ]
  },
  {
   "cell_type": "code",
   "execution_count": null,
   "metadata": {
    "collapsed": true
   },
   "outputs": [],
   "source": []
  },
  {
   "cell_type": "code",
   "execution_count": 43,
   "metadata": {
    "collapsed": false
   },
   "outputs": [
    {
     "data": {
      "text/plain": [
       "2                         [pit, bull, mix]\n",
       "5     [cairn, terrierchihuahua, shorthair]\n",
       "12                        [pit, bull, mix]\n",
       "20               [queensland, heeler, mix]\n",
       "31              [labrador, retriever, mix]\n",
       "Name: Breed, dtype: object"
      ]
     },
     "execution_count": 43,
     "metadata": {},
     "output_type": "execute_result"
    }
   ],
   "source": [
    "def split_into_lemmas(message):\n",
    "    words = TextBlob(message.replace(\"/\", \"\").lower()).words\n",
    "    # for each word, take its \"base form\" = lemma \n",
    "    return [word.lemma for word in words]\n",
    "\n",
    "train_dogs.Breed.head().apply(split_into_lemmas)"
   ]
  },
  {
   "cell_type": "code",
   "execution_count": 50,
   "metadata": {
    "collapsed": false
   },
   "outputs": [
    {
     "data": {
      "text/plain": [
       "550"
      ]
     },
     "execution_count": 50,
     "metadata": {},
     "output_type": "execute_result"
    }
   ],
   "source": [
    "bow_transformer = CountVectorizer(analyzer=split_into_lemmas).fit(train_dogs.Breed)\n",
    "len(bow_transformer.vocabulary_)\n"
   ]
  },
  {
   "cell_type": "code",
   "execution_count": 51,
   "metadata": {
    "collapsed": false
   },
   "outputs": [
    {
     "data": {
      "text/plain": [
       "'akita/labrador'"
      ]
     },
     "execution_count": 51,
     "metadata": {},
     "output_type": "execute_result"
    }
   ],
   "source": [
    "bow_transformer.get_feature_names()[3]"
   ]
  },
  {
   "cell_type": "code",
   "execution_count": null,
   "metadata": {
    "collapsed": false
   },
   "outputs": [],
   "source": []
  },
  {
   "cell_type": "code",
   "execution_count": null,
   "metadata": {
    "collapsed": false
   },
   "outputs": [],
   "source": []
  },
  {
   "cell_type": "code",
   "execution_count": 52,
   "metadata": {
    "collapsed": false
   },
   "outputs": [
    {
     "name": "stdout",
     "output_type": "stream",
     "text": [
      "sparse matrix shape: (3950, 550)\n",
      "number of non-zeros: 11171\n",
      "sparsity: 0.51%\n"
     ]
    }
   ],
   "source": [
    "breed_bow = bow_transformer.transform(train_dogs.Breed)\n",
    "print( 'sparse matrix shape:', breed_bow.shape)\n",
    "print( 'number of non-zeros:', breed_bow.nnz)\n",
    "print ('sparsity: %.2f%%' % (100.0 * breed_bow.nnz / (breed_bow.shape[0] * breed_bow.shape[1])))"
   ]
  },
  {
   "cell_type": "code",
   "execution_count": 53,
   "metadata": {
    "collapsed": false
   },
   "outputs": [
    {
     "name": "stdout",
     "output_type": "stream",
     "text": [
      "  (0, 85)\t1\n",
      "  (0, 440)\t1\n",
      "  (0, 502)\t1\n"
     ]
    }
   ],
   "source": [
    "print(breed_bow[1])"
   ]
  },
  {
   "cell_type": "code",
   "execution_count": 54,
   "metadata": {
    "collapsed": true
   },
   "outputs": [],
   "source": [
    "train_dogs['Breedbow'] = bow_transformer.fit_transform(train_dogs.Breed)"
   ]
  },
  {
   "cell_type": "code",
   "execution_count": 59,
   "metadata": {
    "collapsed": false
   },
   "outputs": [
    {
     "data": {
      "text/html": [
       "<div>\n",
       "<table border=\"1\" class=\"dataframe\">\n",
       "  <thead>\n",
       "    <tr style=\"text-align: right;\">\n",
       "      <th></th>\n",
       "      <th>AnimalID</th>\n",
       "      <th>Name</th>\n",
       "      <th>DateTime</th>\n",
       "      <th>OutcomeType</th>\n",
       "      <th>OutcomeSubtype</th>\n",
       "      <th>SexuponOutcome</th>\n",
       "      <th>AgeuponOutcome</th>\n",
       "      <th>Breed</th>\n",
       "      <th>Color</th>\n",
       "      <th>Breedbow</th>\n",
       "    </tr>\n",
       "  </thead>\n",
       "  <tbody>\n",
       "    <tr>\n",
       "      <th>2</th>\n",
       "      <td>A686464</td>\n",
       "      <td>Pearce</td>\n",
       "      <td>2015-01-31 12:28:00</td>\n",
       "      <td>0</td>\n",
       "      <td>0</td>\n",
       "      <td>0</td>\n",
       "      <td>1</td>\n",
       "      <td>Pit Bull Mix</td>\n",
       "      <td>Blue/White</td>\n",
       "      <td>(0, 307)\\t1\\n  (0, 61)\\t1\\n  (0, 276)\\t1\\n  ...</td>\n",
       "    </tr>\n",
       "    <tr>\n",
       "      <th>5</th>\n",
       "      <td>A677334</td>\n",
       "      <td>Elsa</td>\n",
       "      <td>2014-04-25 13:04:00</td>\n",
       "      <td>3</td>\n",
       "      <td>1</td>\n",
       "      <td>3</td>\n",
       "      <td>2</td>\n",
       "      <td>Cairn Terrier/Chihuahua Shorthair</td>\n",
       "      <td>Black/Tan</td>\n",
       "      <td>(0, 307)\\t1\\n  (0, 61)\\t1\\n  (0, 276)\\t1\\n  ...</td>\n",
       "    </tr>\n",
       "    <tr>\n",
       "      <th>12</th>\n",
       "      <td>A684601</td>\n",
       "      <td>Rocket</td>\n",
       "      <td>2016-02-03 11:27:00</td>\n",
       "      <td>0</td>\n",
       "      <td>0</td>\n",
       "      <td>0</td>\n",
       "      <td>1</td>\n",
       "      <td>Pit Bull Mix</td>\n",
       "      <td>Brown</td>\n",
       "      <td>(0, 307)\\t1\\n  (0, 61)\\t1\\n  (0, 276)\\t1\\n  ...</td>\n",
       "    </tr>\n",
       "    <tr>\n",
       "      <th>20</th>\n",
       "      <td>A670658</td>\n",
       "      <td>Anders</td>\n",
       "      <td>2014-01-19 15:03:00</td>\n",
       "      <td>3</td>\n",
       "      <td>1</td>\n",
       "      <td>2</td>\n",
       "      <td>2</td>\n",
       "      <td>Queensland Heeler Mix</td>\n",
       "      <td>Black/White</td>\n",
       "      <td>(0, 307)\\t1\\n  (0, 61)\\t1\\n  (0, 276)\\t1\\n  ...</td>\n",
       "    </tr>\n",
       "    <tr>\n",
       "      <th>31</th>\n",
       "      <td>A707341</td>\n",
       "      <td>Murphy</td>\n",
       "      <td>2015-07-15 15:25:00</td>\n",
       "      <td>3</td>\n",
       "      <td>1</td>\n",
       "      <td>2</td>\n",
       "      <td>2</td>\n",
       "      <td>Labrador Retriever Mix</td>\n",
       "      <td>Black/White</td>\n",
       "      <td>(0, 307)\\t1\\n  (0, 61)\\t1\\n  (0, 276)\\t1\\n  ...</td>\n",
       "    </tr>\n",
       "  </tbody>\n",
       "</table>\n",
       "</div>"
      ],
      "text/plain": [
       "   AnimalID    Name             DateTime  OutcomeType  OutcomeSubtype  \\\n",
       "2   A686464  Pearce  2015-01-31 12:28:00            0               0   \n",
       "5   A677334    Elsa  2014-04-25 13:04:00            3               1   \n",
       "12  A684601  Rocket  2016-02-03 11:27:00            0               0   \n",
       "20  A670658  Anders  2014-01-19 15:03:00            3               1   \n",
       "31  A707341  Murphy  2015-07-15 15:25:00            3               1   \n",
       "\n",
       "    SexuponOutcome  AgeuponOutcome                              Breed  \\\n",
       "2                0               1                       Pit Bull Mix   \n",
       "5                3               2  Cairn Terrier/Chihuahua Shorthair   \n",
       "12               0               1                       Pit Bull Mix   \n",
       "20               2               2              Queensland Heeler Mix   \n",
       "31               2               2             Labrador Retriever Mix   \n",
       "\n",
       "          Color                                           Breedbow  \n",
       "2    Blue/White    (0, 307)\\t1\\n  (0, 61)\\t1\\n  (0, 276)\\t1\\n  ...  \n",
       "5     Black/Tan    (0, 307)\\t1\\n  (0, 61)\\t1\\n  (0, 276)\\t1\\n  ...  \n",
       "12        Brown    (0, 307)\\t1\\n  (0, 61)\\t1\\n  (0, 276)\\t1\\n  ...  \n",
       "20  Black/White    (0, 307)\\t1\\n  (0, 61)\\t1\\n  (0, 276)\\t1\\n  ...  \n",
       "31  Black/White    (0, 307)\\t1\\n  (0, 61)\\t1\\n  (0, 276)\\t1\\n  ...  "
      ]
     },
     "execution_count": 59,
     "metadata": {},
     "output_type": "execute_result"
    }
   ],
   "source": [
    "train_dogs.head()"
   ]
  },
  {
   "cell_type": "code",
   "execution_count": 60,
   "metadata": {
    "collapsed": false
   },
   "outputs": [],
   "source": [
    "tfidf_transformer = TfidfTransformer().fit(breed_bow)"
   ]
  },
  {
   "cell_type": "code",
   "execution_count": 61,
   "metadata": {
    "collapsed": false
   },
   "outputs": [],
   "source": [
    "breed_tfidf = tfidf_transformer.transform(breed_bow)"
   ]
  },
  {
   "cell_type": "code",
   "execution_count": 63,
   "metadata": {
    "collapsed": false
   },
   "outputs": [],
   "source": [
    "# Select number of clusters for KMeans clustering\n",
    "n_clusters = 5"
   ]
  },
  {
   "cell_type": "code",
   "execution_count": 64,
   "metadata": {
    "collapsed": false
   },
   "outputs": [],
   "source": [
    "from sklearn.cluster import KMeans\n",
    "km = KMeans(n_clusters=n_clusters, init='k-means++', n_init=1, verbose=0)"
   ]
  },
  {
   "cell_type": "code",
   "execution_count": 69,
   "metadata": {
    "collapsed": false
   },
   "outputs": [],
   "source": [
    "km_breeds = km.fit_predict(breed_tfidf)"
   ]
  },
  {
   "cell_type": "code",
   "execution_count": 70,
   "metadata": {
    "collapsed": false
   },
   "outputs": [
    {
     "data": {
      "text/plain": [
       "array([3], dtype=int32)"
      ]
     },
     "execution_count": 70,
     "metadata": {},
     "output_type": "execute_result"
    }
   ],
   "source": [
    "km.predict(breed_tfidf[4])"
   ]
  },
  {
   "cell_type": "code",
   "execution_count": 71,
   "metadata": {
    "collapsed": false
   },
   "outputs": [],
   "source": [
    "# Visualizing the K-Means clusters via TSNE\n",
    "# t-distributed Stochastic Neighbor Embedding.\n",
    "\n",
    "from sklearn.manifold import TSNE"
   ]
  },
  {
   "cell_type": "markdown",
   "metadata": {
    "collapsed": false
   },
   "source": [
    "http://scikit-learn.org/stable/modules/generated/sklearn.manifold.TSNE.html"
   ]
  },
  {
   "cell_type": "code",
   "execution_count": 72,
   "metadata": {
    "collapsed": false
   },
   "outputs": [],
   "source": [
    "from sklearn.decomposition import TruncatedSVD\n",
    "\n",
    "X_reduced = TruncatedSVD(n_components=50, random_state=0).fit_transform(breed_tfidf)"
   ]
  },
  {
   "cell_type": "code",
   "execution_count": 73,
   "metadata": {
    "collapsed": false
   },
   "outputs": [
    {
     "name": "stdout",
     "output_type": "stream",
     "text": [
      "[t-SNE] Computing pairwise distances...\n",
      "[t-SNE] Computing 121 nearest neighbors...\n",
      "[t-SNE] Computed conditional probabilities for sample 1000 / 3950\n",
      "[t-SNE] Computed conditional probabilities for sample 2000 / 3950\n",
      "[t-SNE] Computed conditional probabilities for sample 3000 / 3950\n",
      "[t-SNE] Computed conditional probabilities for sample 3950 / 3950\n",
      "[t-SNE] Mean sigma: 0.000000\n",
      "[t-SNE] Iteration 25: error = 1.2211093, gradient norm = 0.0087803\n",
      "[t-SNE] Iteration 50: error = 1.1245372, gradient norm = 0.0059033\n",
      "[t-SNE] Iteration 75: error = 0.7733550, gradient norm = 0.0044605\n",
      "[t-SNE] Iteration 100: error = 0.6746730, gradient norm = 0.0049470\n",
      "[t-SNE] Error after 100 iterations with early exaggeration: 0.674673\n",
      "[t-SNE] Iteration 125: error = 0.5096617, gradient norm = 0.0049027\n",
      "[t-SNE] Iteration 150: error = 0.4722413, gradient norm = 0.0044057\n",
      "[t-SNE] Iteration 175: error = 0.4505382, gradient norm = 0.0044037\n",
      "[t-SNE] Iteration 200: error = 0.4466057, gradient norm = 0.0040005\n",
      "[t-SNE] Iteration 225: error = 0.4401822, gradient norm = 0.0038694\n",
      "[t-SNE] Iteration 250: error = 0.4356482, gradient norm = 0.0040279\n",
      "[t-SNE] Iteration 275: error = 0.4375159, gradient norm = 0.0033297\n",
      "[t-SNE] Iteration 300: error = 0.4341705, gradient norm = 0.0034225\n",
      "[t-SNE] Iteration 325: error = 0.4409480, gradient norm = 0.0043902\n",
      "[t-SNE] Iteration 350: error = 0.4394267, gradient norm = 0.0035033\n",
      "[t-SNE] Iteration 350: did not make any progress during the last 30 episodes. Finished.\n",
      "[t-SNE] Error after 350 iterations: 0.439427\n"
     ]
    }
   ],
   "source": [
    "X_embedded = TSNE(n_components=2, perplexity=40, verbose=2).fit_transform(X_reduced)\n"
   ]
  },
  {
   "cell_type": "code",
   "execution_count": 74,
   "metadata": {
    "collapsed": false
   },
   "outputs": [
    {
     "data": {
      "text/plain": [
       "<matplotlib.collections.PathCollection at 0x10f2b3cc0>"
      ]
     },
     "execution_count": 74,
     "metadata": {},
     "output_type": "execute_result"
    },
    {
     "data": {
      "image/png": "[encoded data removed]",
      "text/plain": [
       "<matplotlib.figure.Figure at 0x1188ba5c0>"
      ]
     },
     "metadata": {},
     "output_type": "display_data"
    }
   ],
   "source": [
    "fig = plt.figure(figsize=(10, 10))\n",
    "ax = plt.axes(frameon=False)\n",
    "plt.setp(ax, xticks=(), yticks=())\n",
    "plt.subplots_adjust(left=0.0, bottom=0.0, right=1.0, top=0.9,\n",
    "                wspace=0.0, hspace=0.0)\n",
    "plt.scatter(X_embedded[:, 0], X_embedded[:, 1],\n",
    "            c=km.labels_, marker=\"x\")"
   ]
  },
  {
   "cell_type": "code",
   "execution_count": null,
   "metadata": {
    "collapsed": true
   },
   "outputs": [],
   "source": []
  },
  {
   "cell_type": "code",
   "execution_count": 75,
   "metadata": {
    "collapsed": true
   },
   "outputs": [],
   "source": [
    "train_dogs['BreedKMeans'] = km_breeds"
   ]
  },
  {
   "cell_type": "code",
   "execution_count": 76,
   "metadata": {
    "collapsed": false
   },
   "outputs": [
    {
     "data": {
      "text/html": [
       "<div>\n",
       "<table border=\"1\" class=\"dataframe\">\n",
       "  <thead>\n",
       "    <tr style=\"text-align: right;\">\n",
       "      <th></th>\n",
       "      <th>AnimalID</th>\n",
       "      <th>Name</th>\n",
       "      <th>DateTime</th>\n",
       "      <th>OutcomeType</th>\n",
       "      <th>OutcomeSubtype</th>\n",
       "      <th>SexuponOutcome</th>\n",
       "      <th>AgeuponOutcome</th>\n",
       "      <th>Breed</th>\n",
       "      <th>Color</th>\n",
       "      <th>Breedbow</th>\n",
       "      <th>BreedKMeans</th>\n",
       "    </tr>\n",
       "  </thead>\n",
       "  <tbody>\n",
       "    <tr>\n",
       "      <th>2</th>\n",
       "      <td>A686464</td>\n",
       "      <td>Pearce</td>\n",
       "      <td>2015-01-31 12:28:00</td>\n",
       "      <td>0</td>\n",
       "      <td>0</td>\n",
       "      <td>0</td>\n",
       "      <td>1</td>\n",
       "      <td>Pit Bull Mix</td>\n",
       "      <td>Blue/White</td>\n",
       "      <td>(0, 307)\\t1\\n  (0, 61)\\t1\\n  (0, 276)\\t1\\n  ...</td>\n",
       "      <td>3</td>\n",
       "    </tr>\n",
       "    <tr>\n",
       "      <th>5</th>\n",
       "      <td>A677334</td>\n",
       "      <td>Elsa</td>\n",
       "      <td>2014-04-25 13:04:00</td>\n",
       "      <td>3</td>\n",
       "      <td>1</td>\n",
       "      <td>3</td>\n",
       "      <td>2</td>\n",
       "      <td>Cairn Terrier/Chihuahua Shorthair</td>\n",
       "      <td>Black/Tan</td>\n",
       "      <td>(0, 307)\\t1\\n  (0, 61)\\t1\\n  (0, 276)\\t1\\n  ...</td>\n",
       "      <td>0</td>\n",
       "    </tr>\n",
       "    <tr>\n",
       "      <th>12</th>\n",
       "      <td>A684601</td>\n",
       "      <td>Rocket</td>\n",
       "      <td>2016-02-03 11:27:00</td>\n",
       "      <td>0</td>\n",
       "      <td>0</td>\n",
       "      <td>0</td>\n",
       "      <td>1</td>\n",
       "      <td>Pit Bull Mix</td>\n",
       "      <td>Brown</td>\n",
       "      <td>(0, 307)\\t1\\n  (0, 61)\\t1\\n  (0, 276)\\t1\\n  ...</td>\n",
       "      <td>3</td>\n",
       "    </tr>\n",
       "    <tr>\n",
       "      <th>20</th>\n",
       "      <td>A670658</td>\n",
       "      <td>Anders</td>\n",
       "      <td>2014-01-19 15:03:00</td>\n",
       "      <td>3</td>\n",
       "      <td>1</td>\n",
       "      <td>2</td>\n",
       "      <td>2</td>\n",
       "      <td>Queensland Heeler Mix</td>\n",
       "      <td>Black/White</td>\n",
       "      <td>(0, 307)\\t1\\n  (0, 61)\\t1\\n  (0, 276)\\t1\\n  ...</td>\n",
       "      <td>0</td>\n",
       "    </tr>\n",
       "    <tr>\n",
       "      <th>31</th>\n",
       "      <td>A707341</td>\n",
       "      <td>Murphy</td>\n",
       "      <td>2015-07-15 15:25:00</td>\n",
       "      <td>3</td>\n",
       "      <td>1</td>\n",
       "      <td>2</td>\n",
       "      <td>2</td>\n",
       "      <td>Labrador Retriever Mix</td>\n",
       "      <td>Black/White</td>\n",
       "      <td>(0, 307)\\t1\\n  (0, 61)\\t1\\n  (0, 276)\\t1\\n  ...</td>\n",
       "      <td>3</td>\n",
       "    </tr>\n",
       "  </tbody>\n",
       "</table>\n",
       "</div>"
      ],
      "text/plain": [
       "   AnimalID    Name             DateTime  OutcomeType  OutcomeSubtype  \\\n",
       "2   A686464  Pearce  2015-01-31 12:28:00            0               0   \n",
       "5   A677334    Elsa  2014-04-25 13:04:00            3               1   \n",
       "12  A684601  Rocket  2016-02-03 11:27:00            0               0   \n",
       "20  A670658  Anders  2014-01-19 15:03:00            3               1   \n",
       "31  A707341  Murphy  2015-07-15 15:25:00            3               1   \n",
       "\n",
       "    SexuponOutcome  AgeuponOutcome                              Breed  \\\n",
       "2                0               1                       Pit Bull Mix   \n",
       "5                3               2  Cairn Terrier/Chihuahua Shorthair   \n",
       "12               0               1                       Pit Bull Mix   \n",
       "20               2               2              Queensland Heeler Mix   \n",
       "31               2               2             Labrador Retriever Mix   \n",
       "\n",
       "          Color                                           Breedbow  \\\n",
       "2    Blue/White    (0, 307)\\t1\\n  (0, 61)\\t1\\n  (0, 276)\\t1\\n  ...   \n",
       "5     Black/Tan    (0, 307)\\t1\\n  (0, 61)\\t1\\n  (0, 276)\\t1\\n  ...   \n",
       "12        Brown    (0, 307)\\t1\\n  (0, 61)\\t1\\n  (0, 276)\\t1\\n  ...   \n",
       "20  Black/White    (0, 307)\\t1\\n  (0, 61)\\t1\\n  (0, 276)\\t1\\n  ...   \n",
       "31  Black/White    (0, 307)\\t1\\n  (0, 61)\\t1\\n  (0, 276)\\t1\\n  ...   \n",
       "\n",
       "    BreedKMeans  \n",
       "2             3  \n",
       "5             0  \n",
       "12            3  \n",
       "20            0  \n",
       "31            3  "
      ]
     },
     "execution_count": 76,
     "metadata": {},
     "output_type": "execute_result"
    }
   ],
   "source": [
    "train_dogs.head()"
   ]
  },
  {
   "cell_type": "code",
   "execution_count": null,
   "metadata": {
    "collapsed": true
   },
   "outputs": [],
   "source": []
  },
  {
   "cell_type": "code",
   "execution_count": 90,
   "metadata": {
    "collapsed": false
   },
   "outputs": [
    {
     "data": {
      "text/plain": [
       "Index(['AnimalID', 'Name', 'DateTime', 'OutcomeType', 'OutcomeSubtype',\n",
       "       'SexuponOutcome', 'AgeuponOutcome', 'Breed', 'Color', 'Breedbow',\n",
       "       'BreedKMeans'],\n",
       "      dtype='object')"
      ]
     },
     "execution_count": 90,
     "metadata": {},
     "output_type": "execute_result"
    }
   ],
   "source": [
    "train_dogs.columns"
   ]
  },
  {
   "cell_type": "code",
   "execution_count": 91,
   "metadata": {
    "collapsed": false
   },
   "outputs": [
    {
     "data": {
      "text/html": [
       "<div>\n",
       "<table border=\"1\" class=\"dataframe\">\n",
       "  <thead>\n",
       "    <tr style=\"text-align: right;\">\n",
       "      <th></th>\n",
       "      <th>AnimalID</th>\n",
       "      <th>Name</th>\n",
       "      <th>DateTime</th>\n",
       "      <th>OutcomeType</th>\n",
       "      <th>OutcomeSubtype</th>\n",
       "      <th>SexuponOutcome</th>\n",
       "      <th>AgeuponOutcome</th>\n",
       "      <th>Breed</th>\n",
       "      <th>Color</th>\n",
       "      <th>Breedbow</th>\n",
       "      <th>BreedKMeans</th>\n",
       "    </tr>\n",
       "  </thead>\n",
       "  <tbody>\n",
       "    <tr>\n",
       "      <th>2</th>\n",
       "      <td>A686464</td>\n",
       "      <td>6</td>\n",
       "      <td>2015-01-31 12:28:00</td>\n",
       "      <td>0</td>\n",
       "      <td>0</td>\n",
       "      <td>0</td>\n",
       "      <td>1</td>\n",
       "      <td>Pit Bull Mix</td>\n",
       "      <td>0</td>\n",
       "      <td>(0, 307)\\t1\\n  (0, 61)\\t1\\n  (0, 276)\\t1\\n  ...</td>\n",
       "      <td>3</td>\n",
       "    </tr>\n",
       "    <tr>\n",
       "      <th>5</th>\n",
       "      <td>A677334</td>\n",
       "      <td>4</td>\n",
       "      <td>2014-04-25 13:04:00</td>\n",
       "      <td>3</td>\n",
       "      <td>1</td>\n",
       "      <td>3</td>\n",
       "      <td>2</td>\n",
       "      <td>Cairn Terrier/Chihuahua Shorthair</td>\n",
       "      <td>1</td>\n",
       "      <td>(0, 307)\\t1\\n  (0, 61)\\t1\\n  (0, 276)\\t1\\n  ...</td>\n",
       "      <td>0</td>\n",
       "    </tr>\n",
       "    <tr>\n",
       "      <th>12</th>\n",
       "      <td>A684601</td>\n",
       "      <td>6</td>\n",
       "      <td>2016-02-03 11:27:00</td>\n",
       "      <td>0</td>\n",
       "      <td>0</td>\n",
       "      <td>0</td>\n",
       "      <td>1</td>\n",
       "      <td>Pit Bull Mix</td>\n",
       "      <td>2</td>\n",
       "      <td>(0, 307)\\t1\\n  (0, 61)\\t1\\n  (0, 276)\\t1\\n  ...</td>\n",
       "      <td>3</td>\n",
       "    </tr>\n",
       "    <tr>\n",
       "      <th>20</th>\n",
       "      <td>A670658</td>\n",
       "      <td>6</td>\n",
       "      <td>2014-01-19 15:03:00</td>\n",
       "      <td>3</td>\n",
       "      <td>1</td>\n",
       "      <td>2</td>\n",
       "      <td>2</td>\n",
       "      <td>Queensland Heeler Mix</td>\n",
       "      <td>3</td>\n",
       "      <td>(0, 307)\\t1\\n  (0, 61)\\t1\\n  (0, 276)\\t1\\n  ...</td>\n",
       "      <td>0</td>\n",
       "    </tr>\n",
       "    <tr>\n",
       "      <th>31</th>\n",
       "      <td>A707341</td>\n",
       "      <td>6</td>\n",
       "      <td>2015-07-15 15:25:00</td>\n",
       "      <td>3</td>\n",
       "      <td>1</td>\n",
       "      <td>2</td>\n",
       "      <td>2</td>\n",
       "      <td>Labrador Retriever Mix</td>\n",
       "      <td>3</td>\n",
       "      <td>(0, 307)\\t1\\n  (0, 61)\\t1\\n  (0, 276)\\t1\\n  ...</td>\n",
       "      <td>3</td>\n",
       "    </tr>\n",
       "  </tbody>\n",
       "</table>\n",
       "</div>"
      ],
      "text/plain": [
       "   AnimalID  Name             DateTime  OutcomeType  OutcomeSubtype  \\\n",
       "2   A686464     6  2015-01-31 12:28:00            0               0   \n",
       "5   A677334     4  2014-04-25 13:04:00            3               1   \n",
       "12  A684601     6  2016-02-03 11:27:00            0               0   \n",
       "20  A670658     6  2014-01-19 15:03:00            3               1   \n",
       "31  A707341     6  2015-07-15 15:25:00            3               1   \n",
       "\n",
       "    SexuponOutcome  AgeuponOutcome                              Breed  Color  \\\n",
       "2                0               1                       Pit Bull Mix      0   \n",
       "5                3               2  Cairn Terrier/Chihuahua Shorthair      1   \n",
       "12               0               1                       Pit Bull Mix      2   \n",
       "20               2               2              Queensland Heeler Mix      3   \n",
       "31               2               2             Labrador Retriever Mix      3   \n",
       "\n",
       "                                             Breedbow  BreedKMeans  \n",
       "2     (0, 307)\\t1\\n  (0, 61)\\t1\\n  (0, 276)\\t1\\n  ...            3  \n",
       "5     (0, 307)\\t1\\n  (0, 61)\\t1\\n  (0, 276)\\t1\\n  ...            0  \n",
       "12    (0, 307)\\t1\\n  (0, 61)\\t1\\n  (0, 276)\\t1\\n  ...            3  \n",
       "20    (0, 307)\\t1\\n  (0, 61)\\t1\\n  (0, 276)\\t1\\n  ...            0  \n",
       "31    (0, 307)\\t1\\n  (0, 61)\\t1\\n  (0, 276)\\t1\\n  ...            3  "
      ]
     },
     "execution_count": 91,
     "metadata": {},
     "output_type": "execute_result"
    }
   ],
   "source": [
    "train_dogs.head()"
   ]
  },
  {
   "cell_type": "code",
   "execution_count": 92,
   "metadata": {
    "collapsed": false
   },
   "outputs": [
    {
     "data": {
      "text/plain": [
       "Name              int64\n",
       "SexuponOutcome    int64\n",
       "AgeuponOutcome    int64\n",
       "Color             int64\n",
       "BreedKMeans       int32\n",
       "dtype: object"
      ]
     },
     "execution_count": 92,
     "metadata": {},
     "output_type": "execute_result"
    }
   ],
   "source": [
    "# Work out a test_train_split to see how we do\n",
    "X = train_dogs.drop(['AnimalID', 'DateTime', 'OutcomeType',\n",
    "                     'OutcomeSubtype', 'Breed', 'Breedbow'], axis=1)\n",
    "X.dtypes"
   ]
  },
  {
   "cell_type": "code",
   "execution_count": 93,
   "metadata": {
    "collapsed": false
   },
   "outputs": [
    {
     "name": "stderr",
     "output_type": "stream",
     "text": [
      "/Users/christopherallison/.virtualenvs/py_twi/lib/python3.4/site-packages/pandas/core/common.py:449: FutureWarning: elementwise comparison failed; returning scalar instead, but in the future will perform elementwise comparison\n",
      "  mask = arr == x\n"
     ]
    },
    {
     "data": {
      "text/plain": [
       "2        1\n",
       "5        2\n",
       "12       1\n",
       "20       2\n",
       "31       2\n",
       "34       1\n",
       "61       3\n",
       "66       2\n",
       "67       2\n",
       "71       1\n",
       "75       1\n",
       "80       0\n",
       "84       3\n",
       "92       3\n",
       "93       1\n",
       "96       2\n",
       "101      1\n",
       "111      0\n",
       "114      2\n",
       "117      2\n",
       "133      1\n",
       "139      2\n",
       "147      2\n",
       "154      1\n",
       "160      3\n",
       "181      1\n",
       "188      1\n",
       "190      3\n",
       "198      2\n",
       "213      1\n",
       "        ..\n",
       "26492    2\n",
       "26498    1\n",
       "26501    3\n",
       "26503    1\n",
       "26517    1\n",
       "26521    3\n",
       "26523    1\n",
       "26533    1\n",
       "26553    3\n",
       "26557    2\n",
       "26563    0\n",
       "26598    1\n",
       "26613    3\n",
       "26615    2\n",
       "26616    1\n",
       "26628    0\n",
       "26629    1\n",
       "26633    3\n",
       "26638    3\n",
       "26657    0\n",
       "26670    0\n",
       "26688    2\n",
       "26690    1\n",
       "26694    3\n",
       "26699    1\n",
       "26701    2\n",
       "26708    1\n",
       "26710    2\n",
       "26711    0\n",
       "26716    2\n",
       "Name: AgeuponOutcome, dtype: int64"
      ]
     },
     "execution_count": 93,
     "metadata": {},
     "output_type": "execute_result"
    }
   ],
   "source": [
    "X.AgeuponOutcome.replace('NA',0)"
   ]
  },
  {
   "cell_type": "code",
   "execution_count": 94,
   "metadata": {
    "collapsed": false
   },
   "outputs": [
    {
     "data": {
      "text/plain": [
       "Index(['Name', 'SexuponOutcome', 'AgeuponOutcome', 'Color', 'BreedKMeans'], dtype='object')"
      ]
     },
     "execution_count": 94,
     "metadata": {},
     "output_type": "execute_result"
    }
   ],
   "source": [
    "X.columns"
   ]
  },
  {
   "cell_type": "code",
   "execution_count": 99,
   "metadata": {
    "collapsed": false
   },
   "outputs": [],
   "source": [
    "X.to_csv(os.path.join(data_dir, \"prepared_dogs_df.csv\"))"
   ]
  },
  {
   "cell_type": "code",
   "execution_count": null,
   "metadata": {
    "collapsed": false
   },
   "outputs": [],
   "source": []
  },
  {
   "cell_type": "code",
   "execution_count": 100,
   "metadata": {
    "collapsed": false
   },
   "outputs": [
    {
     "data": {
      "text/plain": [
       "array([[ 6,  0,  1,  0,  3],\n",
       "       [ 4,  3,  2,  1,  0],\n",
       "       [ 6,  0,  1,  2,  3],\n",
       "       [ 6,  2,  2,  3,  0],\n",
       "       [ 6,  2,  2,  3,  3],\n",
       "       [ 7,  0,  1,  2,  1],\n",
       "       [12,  1,  3,  4,  2],\n",
       "       [ 4,  0,  2,  3,  0],\n",
       "       [ 5,  3,  2,  5,  0],\n",
       "       [ 8,  0,  1,  6,  3]])"
      ]
     },
     "execution_count": 100,
     "metadata": {},
     "output_type": "execute_result"
    }
   ],
   "source": [
    "train_features = X.values\n",
    "train_features[:10]"
   ]
  },
  {
   "cell_type": "code",
   "execution_count": 101,
   "metadata": {
    "collapsed": false
   },
   "outputs": [
    {
     "data": {
      "text/plain": [
       "array([[ 1.,  0.,  0.,  0.],\n",
       "       [ 0.,  0.,  0.,  1.],\n",
       "       [ 0.,  0.,  1.,  0.],\n",
       "       [ 0.,  1.,  0.,  0.]])"
      ]
     },
     "execution_count": 101,
     "metadata": {},
     "output_type": "execute_result"
    }
   ],
   "source": [
    "dummy_y"
   ]
  },
  {
   "cell_type": "code",
   "execution_count": 102,
   "metadata": {
    "collapsed": false
   },
   "outputs": [
    {
     "data": {
      "text/plain": [
       "array([[ 1.,  0.,  0.,  0.],\n",
       "       [ 0.,  0.,  0.,  1.],\n",
       "       [ 1.,  0.,  0.,  0.],\n",
       "       ..., \n",
       "       [ 0.,  0.,  0.,  1.],\n",
       "       [ 0.,  0.,  0.,  1.],\n",
       "       [ 1.,  0.,  0.,  0.]])"
      ]
     },
     "execution_count": 102,
     "metadata": {},
     "output_type": "execute_result"
    }
   ],
   "source": [
    "train_target = np_utils.to_categorical(train_dogs['OutcomeType'].values)\n",
    "train_target"
   ]
  },
  {
   "cell_type": "code",
   "execution_count": 103,
   "metadata": {
    "collapsed": false
   },
   "outputs": [
    {
     "data": {
      "text/plain": [
       "array([0, 3, 0, ..., 3, 3, 0])"
      ]
     },
     "execution_count": 103,
     "metadata": {},
     "output_type": "execute_result"
    }
   ],
   "source": [
    "simple_target = train_dogs.OutcomeType.values\n",
    "simple_target"
   ]
  },
  {
   "cell_type": "code",
   "execution_count": 104,
   "metadata": {
    "collapsed": false
   },
   "outputs": [],
   "source": [
    "# Set up our train_test_split\n",
    "\n",
    "X_train, x_test, y_train, y_test = train_test_split(train_features,\n",
    "                                          train_target,\n",
    "                                          test_size=0.2,\n",
    "                                          random_state=42)"
   ]
  },
  {
   "cell_type": "code",
   "execution_count": 105,
   "metadata": {
    "collapsed": false
   },
   "outputs": [],
   "source": [
    "\n",
    "simple_X_train, simple_x_test, simple_y_train, simple_y_test = train_test_split(train_features,\n",
    "                                          simple_target,\n",
    "                                          test_size=0.2,\n",
    "                                          random_state=42)"
   ]
  },
  {
   "cell_type": "code",
   "execution_count": 106,
   "metadata": {
    "collapsed": false
   },
   "outputs": [],
   "source": [
    "# New we finally get to the classifier!\n",
    "\n",
    "clf = RandomForestClassifier(n_estimators=100)"
   ]
  },
  {
   "cell_type": "code",
   "execution_count": 107,
   "metadata": {
    "collapsed": false
   },
   "outputs": [
    {
     "data": {
      "text/plain": [
       "'Mean accuracy of Random Forest: 0.879746835443038'"
      ]
     },
     "execution_count": 107,
     "metadata": {},
     "output_type": "execute_result"
    }
   ],
   "source": [
    "# Categorical classifier\n",
    "clf = clf.fit(X_train, y_train)\n",
    "score = clf.score(X_train, y_train)\n",
    "\"Mean accuracy of Random Forest: {0}\".format(score)"
   ]
  },
  {
   "cell_type": "code",
   "execution_count": 108,
   "metadata": {
    "collapsed": false
   },
   "outputs": [
    {
     "data": {
      "text/plain": [
       "'Mean accuracy of simple Random Forest: 0.894620253164557'"
      ]
     },
     "execution_count": 108,
     "metadata": {},
     "output_type": "execute_result"
    }
   ],
   "source": [
    "# Simple classifier\n",
    "S_clf = clf.fit(simple_X_train, simple_y_train)\n",
    "score = clf.score(simple_X_train, simple_y_train)\n",
    "\"Mean accuracy of simple Random Forest: {0}\".format(score)"
   ]
  },
  {
   "cell_type": "code",
   "execution_count": 111,
   "metadata": {
    "collapsed": false
   },
   "outputs": [
    {
     "data": {
      "text/plain": [
       "array([3])"
      ]
     },
     "execution_count": 111,
     "metadata": {},
     "output_type": "execute_result"
    }
   ],
   "source": [
    "clf.predict(x_test[0].reshape(1, -1))"
   ]
  },
  {
   "cell_type": "code",
   "execution_count": 112,
   "metadata": {
    "collapsed": false
   },
   "outputs": [
    {
     "data": {
      "text/plain": [
       "array([3])"
      ]
     },
     "execution_count": 112,
     "metadata": {},
     "output_type": "execute_result"
    }
   ],
   "source": [
    "S_clf.predict(simple_x_test[0].reshape(1, -1))"
   ]
  },
  {
   "cell_type": "code",
   "execution_count": 113,
   "metadata": {
    "collapsed": false
   },
   "outputs": [
    {
     "data": {
      "text/plain": [
       "array(['Adoption', 'Transfer', 'Euthanasia', 'Died'], dtype=object)"
      ]
     },
     "execution_count": 113,
     "metadata": {},
     "output_type": "execute_result"
    }
   ],
   "source": [
    "outcomes"
   ]
  },
  {
   "cell_type": "code",
   "execution_count": 114,
   "metadata": {
    "collapsed": true
   },
   "outputs": [],
   "source": [
    "def reverse_dict_search(d, target):\n",
    "    for k, v in d.items():\n",
    "        if v == target:\n",
    "            return k"
   ]
  },
  {
   "cell_type": "code",
   "execution_count": 145,
   "metadata": {
    "collapsed": false
   },
   "outputs": [
    {
     "data": {
      "text/plain": [
       "array([5, 3, 3, 7, 1])"
      ]
     },
     "execution_count": 145,
     "metadata": {},
     "output_type": "execute_result"
    }
   ],
   "source": [
    "x_test[5]"
   ]
  },
  {
   "cell_type": "code",
   "execution_count": 146,
   "metadata": {
    "collapsed": false
   },
   "outputs": [
    {
     "data": {
      "text/html": [
       "<div>\n",
       "<table border=\"1\" class=\"dataframe\">\n",
       "  <thead>\n",
       "    <tr style=\"text-align: right;\">\n",
       "      <th></th>\n",
       "      <th>Name</th>\n",
       "      <th>SexuponOutcome</th>\n",
       "      <th>AgeuponOutcome</th>\n",
       "      <th>Color</th>\n",
       "      <th>BreedKMeans</th>\n",
       "    </tr>\n",
       "  </thead>\n",
       "  <tbody>\n",
       "    <tr>\n",
       "      <th>2</th>\n",
       "      <td>6</td>\n",
       "      <td>0</td>\n",
       "      <td>1</td>\n",
       "      <td>0</td>\n",
       "      <td>3</td>\n",
       "    </tr>\n",
       "  </tbody>\n",
       "</table>\n",
       "</div>"
      ],
      "text/plain": [
       "   Name  SexuponOutcome  AgeuponOutcome  Color  BreedKMeans\n",
       "2     6               0               1      0            3"
      ]
     },
     "execution_count": 146,
     "metadata": {},
     "output_type": "execute_result"
    }
   ],
   "source": [
    "X.head(1)"
   ]
  },
  {
   "cell_type": "code",
   "execution_count": 180,
   "metadata": {
    "collapsed": false
   },
   "outputs": [],
   "source": [
    "def predict_outcome(animal):\n",
    "    \n",
    "    outcomes = [0, 1, 2, 3]\n",
    "    \n",
    "    prediction = clf.predict(animal).reshape(1,-1)\n",
    "    probability = clf.predict_proba(animal)\n",
    "    option_probability = list(probability[np.argmax(prediction)][0])[1]\n",
    "    \n",
    "    name, sex, age, animal_color, animal_breed = animal\n",
    "    \n",
    "    print(\"Name length:{}\".format(name))\n",
    "    print(\"Sex:{}\".format(reverse_dict_search(sex_outcome, sex)))\n",
    "    print(\"Age group:{}\".format(age_encoder.inverse_transform(age)))\n",
    "    print(\"Breed group:{}\".format(animal_breed))\n",
    "    print(\"Color:{}\".format(reverse_dict_search(color, animal_color)))\n",
    "    print(\"************\\n\")\n",
    "    print(\"Prediction: {} ({})\\n\".format(encoder.inverse_transform(\n",
    "                np.argmax(prediction)), round(option_probability, 2)))\n",
    "    print(\"****Breakdown****\")\n",
    "    \n",
    "    for oc in outcomes:\n",
    "        print(\"{}: {}, {}\".format(encoder.inverse_transform(oc),\n",
    "                                  round(list(probability[oc])[0][0],2),\n",
    "                                 round(list(probability[oc])[0][1],2)))"
   ]
  },
  {
   "cell_type": "code",
   "execution_count": 181,
   "metadata": {
    "collapsed": false
   },
   "outputs": [
    {
     "name": "stdout",
     "output_type": "stream",
     "text": [
      "Name length:6\n",
      "Sex:Spayed Female\n",
      "Age group:senior\n",
      "Breed group:0\n",
      "Color:Brown/Black\n",
      "************\n",
      "\n",
      "Prediction: Adoption (0.73)\n",
      "\n",
      "****Breakdown****\n",
      "Adoption: 0.27, 0.73\n",
      "Died: 1.0, 0.0\n",
      "Euthanasia: 0.96, 0.04\n",
      "Transfer: 0.77, 0.23\n"
     ]
    },
    {
     "name": "stderr",
     "output_type": "stream",
     "text": [
      "/Users/christopherallison/.virtualenvs/py_twi/lib/python3.4/site-packages/sklearn/utils/validation.py:386: DeprecationWarning: Passing 1d arrays as data is deprecated in 0.17 and willraise ValueError in 0.19. Reshape your data either using X.reshape(-1, 1) if your data has a single feature or X.reshape(1, -1) if it contains a single sample.\n",
      "  DeprecationWarning)\n",
      "/Users/christopherallison/.virtualenvs/py_twi/lib/python3.4/site-packages/sklearn/utils/validation.py:386: DeprecationWarning: Passing 1d arrays as data is deprecated in 0.17 and willraise ValueError in 0.19. Reshape your data either using X.reshape(-1, 1) if your data has a single feature or X.reshape(1, -1) if it contains a single sample.\n",
      "  DeprecationWarning)\n"
     ]
    }
   ],
   "source": [
    "predict_outcome(x_test[3])"
   ]
  },
  {
   "cell_type": "code",
   "execution_count": null,
   "metadata": {
    "collapsed": false
   },
   "outputs": [],
   "source": []
  },
  {
   "cell_type": "code",
   "execution_count": null,
   "metadata": {
    "collapsed": false
   },
   "outputs": [],
   "source": []
  },
  {
   "cell_type": "code",
   "execution_count": null,
   "metadata": {
    "collapsed": false
   },
   "outputs": [],
   "source": []
  },
  {
   "cell_type": "code",
   "execution_count": 182,
   "metadata": {
    "collapsed": false
   },
   "outputs": [
    {
     "name": "stdout",
     "output_type": "stream",
     "text": [
      "(3160, 5) (3160, 4)\n",
      "(790, 5) (790, 4)\n"
     ]
    }
   ],
   "source": [
    "# Evaluate the model\n",
    "print (X_train.shape, y_train.shape)\n",
    "print (x_test.shape, y_test.shape)"
   ]
  },
  {
   "cell_type": "code",
   "execution_count": 183,
   "metadata": {
    "collapsed": false
   },
   "outputs": [
    {
     "name": "stdout",
     "output_type": "stream",
     "text": [
      "Accuracy = 0.58\n"
     ]
    }
   ],
   "source": [
    "clf = clf.fit(X_train, y_train)\n",
    "y_predict = clf.predict(x_test)\n",
    "\n",
    "print (\"Accuracy = %.2f\" % (accuracy_score(y_test, y_predict)))"
   ]
  },
  {
   "cell_type": "code",
   "execution_count": 184,
   "metadata": {
    "collapsed": false
   },
   "outputs": [
    {
     "name": "stdout",
     "output_type": "stream",
     "text": [
      "                 precision    recall  f1-score   support\n",
      "\n",
      "Return_to_owner       0.33      0.23      0.27       129\n",
      "     Euthanasia       0.00      0.00      0.00         0\n",
      "       Adoption       0.28      0.16      0.20       113\n",
      "       Transfer       0.71      0.75      0.73       548\n",
      "\n",
      "    avg / total       0.58      0.58      0.58       790\n",
      "\n"
     ]
    },
    {
     "name": "stderr",
     "output_type": "stream",
     "text": [
      "/Users/christopherallison/.virtualenvs/py_twi/lib/python3.4/site-packages/sklearn/metrics/classification.py:1076: UndefinedMetricWarning: Recall and F-score are ill-defined and being set to 0.0 in labels with no true samples.\n",
      "  'recall', 'true', average, warn_for)\n"
     ]
    }
   ],
   "source": [
    "# Create classification report for test data\n",
    "\n",
    "categories = ['Return_to_owner', 'Euthanasia', 'Adoption', 'Transfer', 'Died']\n",
    "\n",
    "print(classification_report(y_test, \n",
    "                            y_predict, \n",
    "                            target_names=categories))"
   ]
  },
  {
   "cell_type": "code",
   "execution_count": 167,
   "metadata": {
    "collapsed": false
   },
   "outputs": [
    {
     "ename": "ValueError",
     "evalue": "Can't handle mix of multiclass and multilabel-indicator",
     "output_type": "error",
     "traceback": [
      "\u001b[0;31m---------------------------------------------------------------------------\u001b[0m",
      "\u001b[0;31mValueError\u001b[0m                                Traceback (most recent call last)",
      "\u001b[0;32m<ipython-input-167-3c7047a0cade>\u001b[0m in \u001b[0;36m<module>\u001b[0;34m()\u001b[0m\n\u001b[1;32m      3\u001b[0m \u001b[0mS_y_predict\u001b[0m \u001b[0;34m=\u001b[0m \u001b[0mS_clf\u001b[0m\u001b[0;34m.\u001b[0m\u001b[0mpredict\u001b[0m\u001b[0;34m(\u001b[0m\u001b[0msimple_x_test\u001b[0m\u001b[0;34m)\u001b[0m\u001b[0;34m\u001b[0m\u001b[0m\n\u001b[1;32m      4\u001b[0m \u001b[0;34m\u001b[0m\u001b[0m\n\u001b[0;32m----> 5\u001b[0;31m \u001b[0mprint\u001b[0m \u001b[0;34m(\u001b[0m\u001b[0;34m\"Accuracy = %.2f\"\u001b[0m \u001b[0;34m%\u001b[0m \u001b[0;34m(\u001b[0m\u001b[0maccuracy_score\u001b[0m\u001b[0;34m(\u001b[0m\u001b[0msimple_y_test\u001b[0m\u001b[0;34m,\u001b[0m \u001b[0mS_y_predict\u001b[0m\u001b[0;34m)\u001b[0m\u001b[0;34m)\u001b[0m\u001b[0;34m)\u001b[0m\u001b[0;34m\u001b[0m\u001b[0m\n\u001b[0m\u001b[1;32m      6\u001b[0m \u001b[0;34m\u001b[0m\u001b[0m\n\u001b[1;32m      7\u001b[0m \u001b[0mmodel_score\u001b[0m \u001b[0;34m=\u001b[0m \u001b[0mS_clf\u001b[0m\u001b[0;34m.\u001b[0m\u001b[0mscore\u001b[0m\u001b[0;34m(\u001b[0m\u001b[0msimple_x_test\u001b[0m\u001b[0;34m,\u001b[0m \u001b[0msimple_y_test\u001b[0m\u001b[0;34m)\u001b[0m\u001b[0;34m\u001b[0m\u001b[0m\n",
      "\u001b[0;32m/Users/christopherallison/.virtualenvs/py_twi/lib/python3.4/site-packages/sklearn/metrics/classification.py\u001b[0m in \u001b[0;36maccuracy_score\u001b[0;34m(y_true, y_pred, normalize, sample_weight)\u001b[0m\n\u001b[1;32m    170\u001b[0m \u001b[0;34m\u001b[0m\u001b[0m\n\u001b[1;32m    171\u001b[0m     \u001b[0;31m# Compute accuracy for each possible representation\u001b[0m\u001b[0;34m\u001b[0m\u001b[0;34m\u001b[0m\u001b[0m\n\u001b[0;32m--> 172\u001b[0;31m     \u001b[0my_type\u001b[0m\u001b[0;34m,\u001b[0m \u001b[0my_true\u001b[0m\u001b[0;34m,\u001b[0m \u001b[0my_pred\u001b[0m \u001b[0;34m=\u001b[0m \u001b[0m_check_targets\u001b[0m\u001b[0;34m(\u001b[0m\u001b[0my_true\u001b[0m\u001b[0;34m,\u001b[0m \u001b[0my_pred\u001b[0m\u001b[0;34m)\u001b[0m\u001b[0;34m\u001b[0m\u001b[0m\n\u001b[0m\u001b[1;32m    173\u001b[0m     \u001b[0;32mif\u001b[0m \u001b[0my_type\u001b[0m\u001b[0;34m.\u001b[0m\u001b[0mstartswith\u001b[0m\u001b[0;34m(\u001b[0m\u001b[0;34m'multilabel'\u001b[0m\u001b[0;34m)\u001b[0m\u001b[0;34m:\u001b[0m\u001b[0;34m\u001b[0m\u001b[0m\n\u001b[1;32m    174\u001b[0m         \u001b[0mdiffering_labels\u001b[0m \u001b[0;34m=\u001b[0m \u001b[0mcount_nonzero\u001b[0m\u001b[0;34m(\u001b[0m\u001b[0my_true\u001b[0m \u001b[0;34m-\u001b[0m \u001b[0my_pred\u001b[0m\u001b[0;34m,\u001b[0m \u001b[0maxis\u001b[0m\u001b[0;34m=\u001b[0m\u001b[0;36m1\u001b[0m\u001b[0;34m)\u001b[0m\u001b[0;34m\u001b[0m\u001b[0m\n",
      "\u001b[0;32m/Users/christopherallison/.virtualenvs/py_twi/lib/python3.4/site-packages/sklearn/metrics/classification.py\u001b[0m in \u001b[0;36m_check_targets\u001b[0;34m(y_true, y_pred)\u001b[0m\n\u001b[1;32m     80\u001b[0m     \u001b[0;32mif\u001b[0m \u001b[0mlen\u001b[0m\u001b[0;34m(\u001b[0m\u001b[0my_type\u001b[0m\u001b[0;34m)\u001b[0m \u001b[0;34m>\u001b[0m \u001b[0;36m1\u001b[0m\u001b[0;34m:\u001b[0m\u001b[0;34m\u001b[0m\u001b[0m\n\u001b[1;32m     81\u001b[0m         raise ValueError(\"Can't handle mix of {0} and {1}\"\n\u001b[0;32m---> 82\u001b[0;31m                          \"\".format(type_true, type_pred))\n\u001b[0m\u001b[1;32m     83\u001b[0m \u001b[0;34m\u001b[0m\u001b[0m\n\u001b[1;32m     84\u001b[0m     \u001b[0;31m# We can't have more than one value on y_type => The set is no more needed\u001b[0m\u001b[0;34m\u001b[0m\u001b[0;34m\u001b[0m\u001b[0m\n",
      "\u001b[0;31mValueError\u001b[0m: Can't handle mix of multiclass and multilabel-indicator"
     ]
    }
   ],
   "source": [
    "# Metrics for the simple labels classifier\n",
    "\n",
    "S_y_predict = S_clf.predict(simple_x_test)\n",
    "\n",
    "print (\"Accuracy = %.2f\" % (accuracy_score(simple_y_test, S_y_predict)))\n",
    "\n",
    "model_score = S_clf.score(simple_x_test, simple_y_test)\n",
    "print (\"Model Score %.2f \\n\" % (model_score))\n",
    "\n",
    "confusion_matrix = metrics.confusion_matrix(simple_y_test, S_y_predict)\n",
    "print (\"Confusion Matrix \\n\", confusion_matrix)\n",
    "\n",
    "print (\"          Predicted\")\n",
    "print (\"         |  0  |  1  |\")\n",
    "print (\"         |-----|-----|\")\n",
    "print (\"       0 | %3d | %3d |\" % (confusion_matrix[0, 0],\n",
    "                                   confusion_matrix[0, 1]))\n",
    "print (\"Actual   |-----|-----|\")\n",
    "print (\"       1 | %3d | %3d |\" % (confusion_matrix[1, 0],\n",
    "                                   confusion_matrix[1, 1]))\n",
    "print (\"         |-----|-----|\")"
   ]
  },
  {
   "cell_type": "code",
   "execution_count": 168,
   "metadata": {
    "collapsed": false
   },
   "outputs": [],
   "source": [
    "import matplotlib.pyplot as plt\n",
    "%matplotlib inline\n",
    "\n",
    "def plot_confusion_matrix(cm, target_names, title='Confusion matrix', cmap=plt.cm.Blues):\n",
    "    # Simple plot based on the Iris sample CM\n",
    "    plt.imshow(cm, interpolation='nearest', cmap=cmap)\n",
    "    plt.title(title)\n",
    "    plt.colorbar()\n",
    "    tick_marks = np.arange(len(target_names))\n",
    "    plt.xticks(tick_marks, target_names, rotation=45)\n",
    "    plt.yticks(tick_marks, target_names)\n",
    "    plt.tight_layout()\n",
    "    plt.ylabel('True label')\n",
    "    plt.xlabel('Predicted label')"
   ]
  },
  {
   "cell_type": "code",
   "execution_count": 171,
   "metadata": {
    "collapsed": false
   },
   "outputs": [
    {
     "ename": "TypeError",
     "evalue": "Image data can not convert to float",
     "output_type": "error",
     "traceback": [
      "\u001b[0;31m---------------------------------------------------------------------------\u001b[0m",
      "\u001b[0;31mTypeError\u001b[0m                                 Traceback (most recent call last)",
      "\u001b[0;32m<ipython-input-171-2fb0d6e842f1>\u001b[0m in \u001b[0;36m<module>\u001b[0;34m()\u001b[0m\n\u001b[1;32m      1\u001b[0m \u001b[0;32mfrom\u001b[0m \u001b[0msklearn\u001b[0m\u001b[0;34m.\u001b[0m\u001b[0mmetrics\u001b[0m \u001b[0;32mimport\u001b[0m \u001b[0mconfusion_matrix\u001b[0m\u001b[0;34m\u001b[0m\u001b[0m\n\u001b[1;32m      2\u001b[0m \u001b[0;34m\u001b[0m\u001b[0m\n\u001b[0;32m----> 3\u001b[0;31m \u001b[0mplot_confusion_matrix\u001b[0m\u001b[0;34m(\u001b[0m\u001b[0mconfusion_matrix\u001b[0m\u001b[0;34m,\u001b[0m \u001b[0mcategories\u001b[0m\u001b[0;34m,\u001b[0m \u001b[0mtitle\u001b[0m\u001b[0;34m=\u001b[0m\u001b[0;34m\"Animal Sanctuary Confusion Matrix\"\u001b[0m\u001b[0;34m)\u001b[0m\u001b[0;34m\u001b[0m\u001b[0m\n\u001b[0m",
      "\u001b[0;32m<ipython-input-168-1802a6fc1b47>\u001b[0m in \u001b[0;36mplot_confusion_matrix\u001b[0;34m(cm, target_names, title, cmap)\u001b[0m\n\u001b[1;32m      4\u001b[0m \u001b[0;32mdef\u001b[0m \u001b[0mplot_confusion_matrix\u001b[0m\u001b[0;34m(\u001b[0m\u001b[0mcm\u001b[0m\u001b[0;34m,\u001b[0m \u001b[0mtarget_names\u001b[0m\u001b[0;34m,\u001b[0m \u001b[0mtitle\u001b[0m\u001b[0;34m=\u001b[0m\u001b[0;34m'Confusion matrix'\u001b[0m\u001b[0;34m,\u001b[0m \u001b[0mcmap\u001b[0m\u001b[0;34m=\u001b[0m\u001b[0mplt\u001b[0m\u001b[0;34m.\u001b[0m\u001b[0mcm\u001b[0m\u001b[0;34m.\u001b[0m\u001b[0mBlues\u001b[0m\u001b[0;34m)\u001b[0m\u001b[0;34m:\u001b[0m\u001b[0;34m\u001b[0m\u001b[0m\n\u001b[1;32m      5\u001b[0m     \u001b[0;31m# Simple plot based on the Iris sample CM\u001b[0m\u001b[0;34m\u001b[0m\u001b[0;34m\u001b[0m\u001b[0m\n\u001b[0;32m----> 6\u001b[0;31m     \u001b[0mplt\u001b[0m\u001b[0;34m.\u001b[0m\u001b[0mimshow\u001b[0m\u001b[0;34m(\u001b[0m\u001b[0mcm\u001b[0m\u001b[0;34m,\u001b[0m \u001b[0minterpolation\u001b[0m\u001b[0;34m=\u001b[0m\u001b[0;34m'nearest'\u001b[0m\u001b[0;34m,\u001b[0m \u001b[0mcmap\u001b[0m\u001b[0;34m=\u001b[0m\u001b[0mcmap\u001b[0m\u001b[0;34m)\u001b[0m\u001b[0;34m\u001b[0m\u001b[0m\n\u001b[0m\u001b[1;32m      7\u001b[0m     \u001b[0mplt\u001b[0m\u001b[0;34m.\u001b[0m\u001b[0mtitle\u001b[0m\u001b[0;34m(\u001b[0m\u001b[0mtitle\u001b[0m\u001b[0;34m)\u001b[0m\u001b[0;34m\u001b[0m\u001b[0m\n\u001b[1;32m      8\u001b[0m     \u001b[0mplt\u001b[0m\u001b[0;34m.\u001b[0m\u001b[0mcolorbar\u001b[0m\u001b[0;34m(\u001b[0m\u001b[0;34m)\u001b[0m\u001b[0;34m\u001b[0m\u001b[0m\n",
      "\u001b[0;32m/Users/christopherallison/.virtualenvs/py_twi/lib/python3.4/site-packages/matplotlib/pyplot.py\u001b[0m in \u001b[0;36mimshow\u001b[0;34m(X, cmap, norm, aspect, interpolation, alpha, vmin, vmax, origin, extent, shape, filternorm, filterrad, imlim, resample, url, hold, **kwargs)\u001b[0m\n\u001b[1;32m   2959\u001b[0m                         \u001b[0mvmax\u001b[0m\u001b[0;34m=\u001b[0m\u001b[0mvmax\u001b[0m\u001b[0;34m,\u001b[0m \u001b[0morigin\u001b[0m\u001b[0;34m=\u001b[0m\u001b[0morigin\u001b[0m\u001b[0;34m,\u001b[0m \u001b[0mextent\u001b[0m\u001b[0;34m=\u001b[0m\u001b[0mextent\u001b[0m\u001b[0;34m,\u001b[0m \u001b[0mshape\u001b[0m\u001b[0;34m=\u001b[0m\u001b[0mshape\u001b[0m\u001b[0;34m,\u001b[0m\u001b[0;34m\u001b[0m\u001b[0m\n\u001b[1;32m   2960\u001b[0m                         \u001b[0mfilternorm\u001b[0m\u001b[0;34m=\u001b[0m\u001b[0mfilternorm\u001b[0m\u001b[0;34m,\u001b[0m \u001b[0mfilterrad\u001b[0m\u001b[0;34m=\u001b[0m\u001b[0mfilterrad\u001b[0m\u001b[0;34m,\u001b[0m\u001b[0;34m\u001b[0m\u001b[0m\n\u001b[0;32m-> 2961\u001b[0;31m                         imlim=imlim, resample=resample, url=url, **kwargs)\n\u001b[0m\u001b[1;32m   2962\u001b[0m         \u001b[0mdraw_if_interactive\u001b[0m\u001b[0;34m(\u001b[0m\u001b[0;34m)\u001b[0m\u001b[0;34m\u001b[0m\u001b[0m\n\u001b[1;32m   2963\u001b[0m     \u001b[0;32mfinally\u001b[0m\u001b[0;34m:\u001b[0m\u001b[0;34m\u001b[0m\u001b[0m\n",
      "\u001b[0;32m/Users/christopherallison/.virtualenvs/py_twi/lib/python3.4/site-packages/matplotlib/axes/_axes.py\u001b[0m in \u001b[0;36mimshow\u001b[0;34m(self, X, cmap, norm, aspect, interpolation, alpha, vmin, vmax, origin, extent, shape, filternorm, filterrad, imlim, resample, url, **kwargs)\u001b[0m\n\u001b[1;32m   4642\u001b[0m                        filterrad=filterrad, resample=resample, **kwargs)\n\u001b[1;32m   4643\u001b[0m \u001b[0;34m\u001b[0m\u001b[0m\n\u001b[0;32m-> 4644\u001b[0;31m         \u001b[0mim\u001b[0m\u001b[0;34m.\u001b[0m\u001b[0mset_data\u001b[0m\u001b[0;34m(\u001b[0m\u001b[0mX\u001b[0m\u001b[0;34m)\u001b[0m\u001b[0;34m\u001b[0m\u001b[0m\n\u001b[0m\u001b[1;32m   4645\u001b[0m         \u001b[0mim\u001b[0m\u001b[0;34m.\u001b[0m\u001b[0mset_alpha\u001b[0m\u001b[0;34m(\u001b[0m\u001b[0malpha\u001b[0m\u001b[0;34m)\u001b[0m\u001b[0;34m\u001b[0m\u001b[0m\n\u001b[1;32m   4646\u001b[0m         \u001b[0;32mif\u001b[0m \u001b[0mim\u001b[0m\u001b[0;34m.\u001b[0m\u001b[0mget_clip_path\u001b[0m\u001b[0;34m(\u001b[0m\u001b[0;34m)\u001b[0m \u001b[0;32mis\u001b[0m \u001b[0;32mNone\u001b[0m\u001b[0;34m:\u001b[0m\u001b[0;34m\u001b[0m\u001b[0m\n",
      "\u001b[0;32m/Users/christopherallison/.virtualenvs/py_twi/lib/python3.4/site-packages/matplotlib/image.py\u001b[0m in \u001b[0;36mset_data\u001b[0;34m(self, A)\u001b[0m\n\u001b[1;32m    432\u001b[0m         if (self._A.dtype != np.uint8 and\n\u001b[1;32m    433\u001b[0m             not np.can_cast(self._A.dtype, np.float)):\n\u001b[0;32m--> 434\u001b[0;31m             \u001b[0;32mraise\u001b[0m \u001b[0mTypeError\u001b[0m\u001b[0;34m(\u001b[0m\u001b[0;34m\"Image data can not convert to float\"\u001b[0m\u001b[0;34m)\u001b[0m\u001b[0;34m\u001b[0m\u001b[0m\n\u001b[0m\u001b[1;32m    435\u001b[0m \u001b[0;34m\u001b[0m\u001b[0m\n\u001b[1;32m    436\u001b[0m         if (self._A.ndim not in (2, 3) or\n",
      "\u001b[0;31mTypeError\u001b[0m: Image data can not convert to float"
     ]
    },
    {
     "data": {
      "image/png": "[encoded data removed]",
      "text/plain": [
       "<matplotlib.figure.Figure at 0x114c9ebe0>"
      ]
     },
     "metadata": {},
     "output_type": "display_data"
    }
   ],
   "source": [
    "from sklearn.metrics import confusion_matrix\n",
    "\n",
    "plot_confusion_matrix(confusion_matrix, categories, title=\"Animal Sanctuary Confusion Matrix\")"
   ]
  },
  {
   "cell_type": "code",
   "execution_count": null,
   "metadata": {
    "collapsed": false
   },
   "outputs": [],
   "source": [
    "print(average_precision_score(y_test, y_predict))"
   ]
  },
  {
   "cell_type": "code",
   "execution_count": 189,
   "metadata": {
    "collapsed": true
   },
   "outputs": [],
   "source": [
    "from sklearn.metrics import roc_auc_score, roc_curve, auc\n",
    "from scipy import interp"
   ]
  },
  {
   "cell_type": "code",
   "execution_count": 190,
   "metadata": {
    "collapsed": false
   },
   "outputs": [
    {
     "ename": "ValueError",
     "evalue": "Only one class present in y_true. ROC AUC score is not defined in that case.",
     "output_type": "error",
     "traceback": [
      "\u001b[0;31m---------------------------------------------------------------------------\u001b[0m",
      "\u001b[0;31mValueError\u001b[0m                                Traceback (most recent call last)",
      "\u001b[0;32m<ipython-input-190-bc0adc4fb9b1>\u001b[0m in \u001b[0;36m<module>\u001b[0;34m()\u001b[0m\n\u001b[0;32m----> 1\u001b[0;31m \u001b[0mprint\u001b[0m\u001b[0;34m(\u001b[0m\u001b[0mroc_auc_score\u001b[0m\u001b[0;34m(\u001b[0m\u001b[0my_test\u001b[0m\u001b[0;34m,\u001b[0m \u001b[0my_predict\u001b[0m\u001b[0;34m)\u001b[0m\u001b[0;34m)\u001b[0m\u001b[0;34m\u001b[0m\u001b[0m\n\u001b[0m",
      "\u001b[0;32m/Users/christopherallison/.virtualenvs/py_twi/lib/python3.4/site-packages/sklearn/metrics/ranking.py\u001b[0m in \u001b[0;36mroc_auc_score\u001b[0;34m(y_true, y_score, average, sample_weight)\u001b[0m\n\u001b[1;32m    255\u001b[0m     return _average_binary_score(\n\u001b[1;32m    256\u001b[0m         \u001b[0m_binary_roc_auc_score\u001b[0m\u001b[0;34m,\u001b[0m \u001b[0my_true\u001b[0m\u001b[0;34m,\u001b[0m \u001b[0my_score\u001b[0m\u001b[0;34m,\u001b[0m \u001b[0maverage\u001b[0m\u001b[0;34m,\u001b[0m\u001b[0;34m\u001b[0m\u001b[0m\n\u001b[0;32m--> 257\u001b[0;31m         sample_weight=sample_weight)\n\u001b[0m\u001b[1;32m    258\u001b[0m \u001b[0;34m\u001b[0m\u001b[0m\n\u001b[1;32m    259\u001b[0m \u001b[0;34m\u001b[0m\u001b[0m\n",
      "\u001b[0;32m/Users/christopherallison/.virtualenvs/py_twi/lib/python3.4/site-packages/sklearn/metrics/base.py\u001b[0m in \u001b[0;36m_average_binary_score\u001b[0;34m(binary_metric, y_true, y_score, average, sample_weight)\u001b[0m\n\u001b[1;32m    120\u001b[0m         \u001b[0my_score_c\u001b[0m \u001b[0;34m=\u001b[0m \u001b[0my_score\u001b[0m\u001b[0;34m.\u001b[0m\u001b[0mtake\u001b[0m\u001b[0;34m(\u001b[0m\u001b[0;34m[\u001b[0m\u001b[0mc\u001b[0m\u001b[0;34m]\u001b[0m\u001b[0;34m,\u001b[0m \u001b[0maxis\u001b[0m\u001b[0;34m=\u001b[0m\u001b[0mnot_average_axis\u001b[0m\u001b[0;34m)\u001b[0m\u001b[0;34m.\u001b[0m\u001b[0mravel\u001b[0m\u001b[0;34m(\u001b[0m\u001b[0;34m)\u001b[0m\u001b[0;34m\u001b[0m\u001b[0m\n\u001b[1;32m    121\u001b[0m         score[c] = binary_metric(y_true_c, y_score_c,\n\u001b[0;32m--> 122\u001b[0;31m                                  sample_weight=score_weight)\n\u001b[0m\u001b[1;32m    123\u001b[0m \u001b[0;34m\u001b[0m\u001b[0m\n\u001b[1;32m    124\u001b[0m     \u001b[0;31m# Average the results\u001b[0m\u001b[0;34m\u001b[0m\u001b[0;34m\u001b[0m\u001b[0m\n",
      "\u001b[0;32m/Users/christopherallison/.virtualenvs/py_twi/lib/python3.4/site-packages/sklearn/metrics/ranking.py\u001b[0m in \u001b[0;36m_binary_roc_auc_score\u001b[0;34m(y_true, y_score, sample_weight)\u001b[0m\n\u001b[1;32m    246\u001b[0m     \u001b[0;32mdef\u001b[0m \u001b[0m_binary_roc_auc_score\u001b[0m\u001b[0;34m(\u001b[0m\u001b[0my_true\u001b[0m\u001b[0;34m,\u001b[0m \u001b[0my_score\u001b[0m\u001b[0;34m,\u001b[0m \u001b[0msample_weight\u001b[0m\u001b[0;34m=\u001b[0m\u001b[0;32mNone\u001b[0m\u001b[0;34m)\u001b[0m\u001b[0;34m:\u001b[0m\u001b[0;34m\u001b[0m\u001b[0m\n\u001b[1;32m    247\u001b[0m         \u001b[0;32mif\u001b[0m \u001b[0mlen\u001b[0m\u001b[0;34m(\u001b[0m\u001b[0mnp\u001b[0m\u001b[0;34m.\u001b[0m\u001b[0munique\u001b[0m\u001b[0;34m(\u001b[0m\u001b[0my_true\u001b[0m\u001b[0;34m)\u001b[0m\u001b[0;34m)\u001b[0m \u001b[0;34m!=\u001b[0m \u001b[0;36m2\u001b[0m\u001b[0;34m:\u001b[0m\u001b[0;34m\u001b[0m\u001b[0m\n\u001b[0;32m--> 248\u001b[0;31m             raise ValueError(\"Only one class present in y_true. ROC AUC score \"\n\u001b[0m\u001b[1;32m    249\u001b[0m                              \"is not defined in that case.\")\n\u001b[1;32m    250\u001b[0m \u001b[0;34m\u001b[0m\u001b[0m\n",
      "\u001b[0;31mValueError\u001b[0m: Only one class present in y_true. ROC AUC score is not defined in that case."
     ]
    }
   ],
   "source": [
    "print(roc_auc_score(y_test, y_predict))"
   ]
  },
  {
   "cell_type": "code",
   "execution_count": 188,
   "metadata": {
    "collapsed": false
   },
   "outputs": [
    {
     "ename": "NameError",
     "evalue": "name 'roc_curve' is not defined",
     "output_type": "error",
     "traceback": [
      "\u001b[0;31m---------------------------------------------------------------------------\u001b[0m",
      "\u001b[0;31mNameError\u001b[0m                                 Traceback (most recent call last)",
      "\u001b[0;32m<ipython-input-188-78d8157bd26e>\u001b[0m in \u001b[0;36m<module>\u001b[0;34m()\u001b[0m\n\u001b[1;32m      6\u001b[0m \u001b[0mroc_auc\u001b[0m \u001b[0;34m=\u001b[0m \u001b[0mdict\u001b[0m\u001b[0;34m(\u001b[0m\u001b[0;34m)\u001b[0m\u001b[0;34m\u001b[0m\u001b[0m\n\u001b[1;32m      7\u001b[0m \u001b[0;32mfor\u001b[0m \u001b[0mi\u001b[0m \u001b[0;32min\u001b[0m \u001b[0mrange\u001b[0m\u001b[0;34m(\u001b[0m\u001b[0mn_classes\u001b[0m\u001b[0;34m)\u001b[0m\u001b[0;34m:\u001b[0m\u001b[0;34m\u001b[0m\u001b[0m\n\u001b[0;32m----> 8\u001b[0;31m     \u001b[0mfpr\u001b[0m\u001b[0;34m[\u001b[0m\u001b[0mi\u001b[0m\u001b[0;34m]\u001b[0m\u001b[0;34m,\u001b[0m \u001b[0mtpr\u001b[0m\u001b[0;34m[\u001b[0m\u001b[0mi\u001b[0m\u001b[0;34m]\u001b[0m\u001b[0;34m,\u001b[0m \u001b[0m_\u001b[0m \u001b[0;34m=\u001b[0m \u001b[0mroc_curve\u001b[0m\u001b[0;34m(\u001b[0m\u001b[0my_test\u001b[0m\u001b[0;34m[\u001b[0m\u001b[0;34m:\u001b[0m\u001b[0;34m,\u001b[0m \u001b[0mi\u001b[0m\u001b[0;34m]\u001b[0m\u001b[0;34m,\u001b[0m \u001b[0my_predict\u001b[0m\u001b[0;34m[\u001b[0m\u001b[0;34m:\u001b[0m\u001b[0;34m,\u001b[0m \u001b[0mi\u001b[0m\u001b[0;34m]\u001b[0m\u001b[0;34m)\u001b[0m\u001b[0;34m\u001b[0m\u001b[0m\n\u001b[0m\u001b[1;32m      9\u001b[0m     \u001b[0mroc_auc\u001b[0m\u001b[0;34m[\u001b[0m\u001b[0mi\u001b[0m\u001b[0;34m]\u001b[0m \u001b[0;34m=\u001b[0m \u001b[0mauc\u001b[0m\u001b[0;34m(\u001b[0m\u001b[0mfpr\u001b[0m\u001b[0;34m[\u001b[0m\u001b[0mi\u001b[0m\u001b[0;34m]\u001b[0m\u001b[0;34m,\u001b[0m \u001b[0mtpr\u001b[0m\u001b[0;34m[\u001b[0m\u001b[0mi\u001b[0m\u001b[0;34m]\u001b[0m\u001b[0;34m)\u001b[0m\u001b[0;34m\u001b[0m\u001b[0m\n\u001b[1;32m     10\u001b[0m \u001b[0;34m\u001b[0m\u001b[0m\n",
      "\u001b[0;31mNameError\u001b[0m: name 'roc_curve' is not defined"
     ]
    }
   ],
   "source": [
    "n_classes = 5\n",
    "\n",
    "# Compute ROC curve and ROC area for each class\n",
    "fpr = dict()\n",
    "tpr = dict()\n",
    "roc_auc = dict()\n",
    "for i in range(n_classes):\n",
    "    fpr[i], tpr[i], _ = roc_curve(y_test[:, i], y_predict[:, i])\n",
    "    roc_auc[i] = auc(fpr[i], tpr[i])\n",
    "\n",
    "# Compute micro-average ROC curve and ROC area\n",
    "fpr[\"micro\"], tpr[\"micro\"], _ = roc_curve(y_test.ravel(), y_predict.ravel())\n",
    "roc_auc[\"micro\"] = auc(fpr[\"micro\"], tpr[\"micro\"])"
   ]
  },
  {
   "cell_type": "code",
   "execution_count": null,
   "metadata": {
    "collapsed": false
   },
   "outputs": [],
   "source": [
    "##############################################################################\n",
    "# Plot ROC curves for the multiclass problem\n",
    "\n",
    "# Compute macro-average ROC curve and ROC area\n",
    "\n",
    "\n",
    "# First aggregate all false positive rates\n",
    "all_fpr = np.unique(np.concatenate([fpr[i] for i in range(n_classes)]))\n",
    "\n",
    "# Then interpolate all ROC curves at this points\n",
    "mean_tpr = np.zeros_like(all_fpr)\n",
    "for i in range(n_classes):\n",
    "    mean_tpr += interp(all_fpr, fpr[i], tpr[i])\n",
    "\n",
    "# Finally average it and compute AUC\n",
    "mean_tpr /= n_classes\n",
    "\n",
    "fpr[\"macro\"] = all_fpr\n",
    "tpr[\"macro\"] = mean_tpr\n",
    "roc_auc[\"macro\"] = auc(fpr[\"macro\"], tpr[\"macro\"])\n",
    "\n",
    "# Plot all ROC curves\n",
    "plt.figure(figsize=(12,8))\n",
    "plt.plot(fpr[\"micro\"], tpr[\"micro\"],\n",
    "         label='micro-average ROC curve (area = {0:0.2f})'\n",
    "               ''.format(roc_auc[\"micro\"]),\n",
    "         linewidth=2)\n",
    "\n",
    "plt.plot(fpr[\"macro\"], tpr[\"macro\"],\n",
    "         label='macro-average ROC curve (area = {0:0.2f})'\n",
    "               ''.format(roc_auc[\"macro\"]),\n",
    "         linewidth=2)\n",
    "\n",
    "for i in range(n_classes):\n",
    "    plt.plot(fpr[i], tpr[i], label='ROC curve of class {0} (area = {1:0.2f})'\n",
    "                                   ''.format(i, roc_auc[i]))\n",
    "\n",
    "plt.plot([0, 1], [0, 1], 'k--')\n",
    "plt.xlim([0.0, 1.0])\n",
    "plt.ylim([0.0, 1.05])\n",
    "plt.xlabel('False Positive Rate')\n",
    "plt.ylabel('True Positive Rate')\n",
    "plt.title('Some extension of Receiver operating characteristic to multi-class')\n",
    "plt.legend(loc=\"lower right\")\n",
    "plt.show()"
   ]
  },
  {
   "cell_type": "code",
   "execution_count": 185,
   "metadata": {
    "collapsed": true
   },
   "outputs": [],
   "source": [
    "# Plot the importance of the different features\n",
    "\n",
    "importances = clf.feature_importances_\n",
    "std = np.std([tree.feature_importances_ for tree in clf.estimators_],\n",
    "            axis=0)\n",
    "indices = np.argsort(importances)[::-1]"
   ]
  },
  {
   "cell_type": "code",
   "execution_count": 186,
   "metadata": {
    "collapsed": false
   },
   "outputs": [
    {
     "name": "stdout",
     "output_type": "stream",
     "text": [
      "1. feature 3 (0.520316)\n",
      "2. feature 0 (0.206176)\n",
      "3. feature 2 (0.098494)\n",
      "4. feature 1 (0.096589)\n",
      "5. feature 4 (0.078425)\n"
     ]
    },
    {
     "name": "stderr",
     "output_type": "stream",
     "text": [
      "/Users/christopherallison/.virtualenvs/py_twi/lib/python3.4/site-packages/matplotlib/collections.py:590: FutureWarning: elementwise comparison failed; returning scalar instead, but in the future will perform elementwise comparison\n",
      "  if self._edgecolors == str('face'):\n"
     ]
    },
    {
     "data": {
      "image/png": "[encoded data removed]",
      "text/plain": [
       "<matplotlib.figure.Figure at 0x114c87160>"
      ]
     },
     "metadata": {},
     "output_type": "display_data"
    }
   ],
   "source": [
    "for f in range(X.shape[1]):\n",
    "    print(\"%d. feature %d (%f)\" % (f + 1, indices[f], importances[indices[f]]))\n",
    "\n",
    "# Plot the feature importances of the forest\n",
    "plt.figure()\n",
    "plt.title(\"Feature importances\")\n",
    "plt.bar(range(X.shape[1]), importances[indices],\n",
    "       color=\"r\", yerr=std[indices], align=\"center\")\n",
    "plt.xticks(range(X.shape[1]), indices)\n",
    "plt.xlim([-1, X.shape[1]])\n",
    "plt.show()"
   ]
  },
  {
   "cell_type": "code",
   "execution_count": 187,
   "metadata": {
    "collapsed": false
   },
   "outputs": [
    {
     "name": "stdout",
     "output_type": "stream",
     "text": [
      "Feature 3: Color\n",
      "Feature 0: Name\n",
      "Feature 2: AgeuponOutcome\n",
      "Feature 1: SexuponOutcome\n",
      "Feature 4: BreedKMeans\n"
     ]
    }
   ],
   "source": [
    "for i in [3, 0, 2, 1, 4]:\n",
    "    print(\"Feature {}: {}\".format(i, X.columns[i]))"
   ]
  },
  {
   "cell_type": "code",
   "execution_count": null,
   "metadata": {
    "collapsed": true
   },
   "outputs": [],
   "source": [
    "# The data is now ready to go. So lets fit to the train, then predict to the test!\n",
    "# Convert back to a numpy array\n",
    "train_data = train_df.values\n",
    "test_data = test_df.values"
   ]
  },
  {
   "cell_type": "code",
   "execution_count": null,
   "metadata": {
    "collapsed": true
   },
   "outputs": [],
   "source": [
    "print 'Training...'\n",
    "forest = RandomForestClassifier(n_estimators=100)\n",
    "forest = forest.fit( train_data[0::,1::], train_data[0::,0] )"
   ]
  },
  {
   "cell_type": "code",
   "execution_count": null,
   "metadata": {
    "collapsed": true
   },
   "outputs": [],
   "source": [
    "print 'Predicting...'\n",
    "output = forest.predict(test_data).astype(int)"
   ]
  },
  {
   "cell_type": "code",
   "execution_count": null,
   "metadata": {
    "collapsed": true
   },
   "outputs": [],
   "source": [
    "predictions_file = open(\"myfirstforest.csv\", \"wb\")\n",
    "open_file_object = csv.writer(predictions_file)\n",
    "open_file_object.writerow([\"PassengerId\",\"Survived\"])\n",
    "open_file_object.writerows(zip(ids, output))\n",
    "predictions_file.close()\n",
    "print 'Done.'"
   ]
  }
 ],
 "metadata": {
  "kernelspec": {
   "display_name": "Python 3",
   "language": "python",
   "name": "python3"
  },
  "language_info": {
   "codemirror_mode": {
    "name": "ipython",
    "version": 3
   },
   "file_extension": ".py",
   "mimetype": "text/x-python",
   "name": "python",
   "nbconvert_exporter": "python",
   "pygments_lexer": "ipython3",
   "version": "3.4.2"
  }
 },
 "nbformat": 4,
 "nbformat_minor": 0
}
