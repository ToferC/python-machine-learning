{
 "cells": [
  {
   "cell_type": "code",
   "execution_count": 5,
   "metadata": {
    "collapsed": false
   },
   "outputs": [],
   "source": [
    "import numpy\n",
    "import pandas as pd\n",
    "from keras.models import Sequential\n",
    "from keras.layers import Dense\n",
    "from keras.wrappers.scikit_learn import KerasClassifier\n",
    "from keras.utils import np_utils\n",
    "from sklearn.cross_validation import cross_val_score\n",
    "from sklearn.cross_validation import KFold\n",
    "from sklearn.preprocessing import LabelEncoder\n",
    "from sklearn.pipeline import Pipeline\n",
    "import theano\n",
    "\n",
    "import matplotlib.pyplot as plt\n",
    "import os\n",
    "\n"
   ]
  },
  {
   "cell_type": "code",
   "execution_count": 6,
   "metadata": {
    "collapsed": true
   },
   "outputs": [],
   "source": [
    "data_dir = '/Users/christopherallison/Documents/Coding/Data'\n"
   ]
  },
  {
   "cell_type": "code",
   "execution_count": 24,
   "metadata": {
    "collapsed": false
   },
   "outputs": [],
   "source": [
    "train_df = pd.read_csv(os.path.join(data_dir, \"clean_train.csv\"), index_col=0)"
   ]
  },
  {
   "cell_type": "code",
   "execution_count": 25,
   "metadata": {
    "collapsed": false
   },
   "outputs": [
    {
     "data": {
      "text/html": [
       "<div>\n",
       "<table border=\"1\" class=\"dataframe\">\n",
       "  <thead>\n",
       "    <tr style=\"text-align: right;\">\n",
       "      <th></th>\n",
       "      <th>AnimalID</th>\n",
       "      <th>Name</th>\n",
       "      <th>DateTime</th>\n",
       "      <th>OutcomeType</th>\n",
       "      <th>OutcomeSubtype</th>\n",
       "      <th>AnimalType</th>\n",
       "      <th>SexuponOutcome</th>\n",
       "      <th>AgeuponOutcome</th>\n",
       "      <th>Breed</th>\n",
       "      <th>Color</th>\n",
       "    </tr>\n",
       "  </thead>\n",
       "  <tbody>\n",
       "    <tr>\n",
       "      <th>0</th>\n",
       "      <td>A671945</td>\n",
       "      <td>7</td>\n",
       "      <td>2014-02-12 18:22:00</td>\n",
       "      <td>0</td>\n",
       "      <td>0</td>\n",
       "      <td>0</td>\n",
       "      <td>0</td>\n",
       "      <td>365</td>\n",
       "      <td>0</td>\n",
       "      <td>0</td>\n",
       "    </tr>\n",
       "    <tr>\n",
       "      <th>1</th>\n",
       "      <td>A656520</td>\n",
       "      <td>5</td>\n",
       "      <td>2013-10-13 12:44:00</td>\n",
       "      <td>1</td>\n",
       "      <td>1</td>\n",
       "      <td>1</td>\n",
       "      <td>1</td>\n",
       "      <td>365</td>\n",
       "      <td>1</td>\n",
       "      <td>1</td>\n",
       "    </tr>\n",
       "    <tr>\n",
       "      <th>2</th>\n",
       "      <td>A686464</td>\n",
       "      <td>6</td>\n",
       "      <td>2015-01-31 12:28:00</td>\n",
       "      <td>2</td>\n",
       "      <td>2</td>\n",
       "      <td>0</td>\n",
       "      <td>0</td>\n",
       "      <td>730</td>\n",
       "      <td>2</td>\n",
       "      <td>2</td>\n",
       "    </tr>\n",
       "    <tr>\n",
       "      <th>3</th>\n",
       "      <td>A683430</td>\n",
       "      <td>3</td>\n",
       "      <td>2014-07-11 19:09:00</td>\n",
       "      <td>3</td>\n",
       "      <td>3</td>\n",
       "      <td>1</td>\n",
       "      <td>2</td>\n",
       "      <td>21</td>\n",
       "      <td>1</td>\n",
       "      <td>3</td>\n",
       "    </tr>\n",
       "    <tr>\n",
       "      <th>4</th>\n",
       "      <td>A667013</td>\n",
       "      <td>3</td>\n",
       "      <td>2013-11-15 12:52:00</td>\n",
       "      <td>3</td>\n",
       "      <td>3</td>\n",
       "      <td>0</td>\n",
       "      <td>0</td>\n",
       "      <td>730</td>\n",
       "      <td>3</td>\n",
       "      <td>4</td>\n",
       "    </tr>\n",
       "  </tbody>\n",
       "</table>\n",
       "</div>"
      ],
      "text/plain": [
       "  AnimalID  Name             DateTime  OutcomeType  OutcomeSubtype  \\\n",
       "0  A671945     7  2014-02-12 18:22:00            0               0   \n",
       "1  A656520     5  2013-10-13 12:44:00            1               1   \n",
       "2  A686464     6  2015-01-31 12:28:00            2               2   \n",
       "3  A683430     3  2014-07-11 19:09:00            3               3   \n",
       "4  A667013     3  2013-11-15 12:52:00            3               3   \n",
       "\n",
       "   AnimalType  SexuponOutcome  AgeuponOutcome  Breed  Color  \n",
       "0           0               0             365      0      0  \n",
       "1           1               1             365      1      1  \n",
       "2           0               0             730      2      2  \n",
       "3           1               2              21      1      3  \n",
       "4           0               0             730      3      4  "
      ]
     },
     "execution_count": 25,
     "metadata": {},
     "output_type": "execute_result"
    }
   ],
   "source": [
    "train_df.head()"
   ]
  },
  {
   "cell_type": "code",
   "execution_count": 26,
   "metadata": {
    "collapsed": false
   },
   "outputs": [
    {
     "data": {
      "text/plain": [
       "Name              int64\n",
       "AnimalType        int64\n",
       "SexuponOutcome    int64\n",
       "AgeuponOutcome    int64\n",
       "Breed             int64\n",
       "Color             int64\n",
       "dtype: object"
      ]
     },
     "execution_count": 26,
     "metadata": {},
     "output_type": "execute_result"
    }
   ],
   "source": [
    "# Drop uneccesary columns\n",
    "X = train_df.drop(['AnimalID', 'DateTime', 'OutcomeType', 'OutcomeSubtype'], axis=1)\n",
    "X.dtypes"
   ]
  },
  {
   "cell_type": "code",
   "execution_count": 27,
   "metadata": {
    "collapsed": false
   },
   "outputs": [
    {
     "data": {
      "text/html": [
       "<div>\n",
       "<table border=\"1\" class=\"dataframe\">\n",
       "  <thead>\n",
       "    <tr style=\"text-align: right;\">\n",
       "      <th></th>\n",
       "      <th>Name</th>\n",
       "      <th>AnimalType</th>\n",
       "      <th>SexuponOutcome</th>\n",
       "      <th>AgeuponOutcome</th>\n",
       "      <th>Breed</th>\n",
       "      <th>Color</th>\n",
       "    </tr>\n",
       "  </thead>\n",
       "  <tbody>\n",
       "    <tr>\n",
       "      <th>0</th>\n",
       "      <td>7</td>\n",
       "      <td>0</td>\n",
       "      <td>0</td>\n",
       "      <td>365</td>\n",
       "      <td>0</td>\n",
       "      <td>0</td>\n",
       "    </tr>\n",
       "    <tr>\n",
       "      <th>1</th>\n",
       "      <td>5</td>\n",
       "      <td>1</td>\n",
       "      <td>1</td>\n",
       "      <td>365</td>\n",
       "      <td>1</td>\n",
       "      <td>1</td>\n",
       "    </tr>\n",
       "    <tr>\n",
       "      <th>2</th>\n",
       "      <td>6</td>\n",
       "      <td>0</td>\n",
       "      <td>0</td>\n",
       "      <td>730</td>\n",
       "      <td>2</td>\n",
       "      <td>2</td>\n",
       "    </tr>\n",
       "    <tr>\n",
       "      <th>3</th>\n",
       "      <td>3</td>\n",
       "      <td>1</td>\n",
       "      <td>2</td>\n",
       "      <td>21</td>\n",
       "      <td>1</td>\n",
       "      <td>3</td>\n",
       "    </tr>\n",
       "    <tr>\n",
       "      <th>4</th>\n",
       "      <td>3</td>\n",
       "      <td>0</td>\n",
       "      <td>0</td>\n",
       "      <td>730</td>\n",
       "      <td>3</td>\n",
       "      <td>4</td>\n",
       "    </tr>\n",
       "  </tbody>\n",
       "</table>\n",
       "</div>"
      ],
      "text/plain": [
       "   Name  AnimalType  SexuponOutcome  AgeuponOutcome  Breed  Color\n",
       "0     7           0               0             365      0      0\n",
       "1     5           1               1             365      1      1\n",
       "2     6           0               0             730      2      2\n",
       "3     3           1               2              21      1      3\n",
       "4     3           0               0             730      3      4"
      ]
     },
     "execution_count": 27,
     "metadata": {},
     "output_type": "execute_result"
    }
   ],
   "source": [
    "X.head()"
   ]
  },
  {
   "cell_type": "code",
   "execution_count": 69,
   "metadata": {
    "collapsed": false
   },
   "outputs": [],
   "source": [
    "X = X.as_matrix()"
   ]
  },
  {
   "cell_type": "code",
   "execution_count": 52,
   "metadata": {
    "collapsed": false
   },
   "outputs": [
    {
     "data": {
      "text/plain": [
       "array([[ 1.,  0.,  0.,  0.,  0.],\n",
       "       [ 0.,  1.,  0.,  0.,  0.],\n",
       "       [ 0.,  0.,  1.,  0.,  0.],\n",
       "       ..., \n",
       "       [ 0.,  0.,  1.,  0.,  0.],\n",
       "       [ 0.,  0.,  0.,  1.,  0.],\n",
       "       [ 0.,  0.,  0.,  1.,  0.]])"
      ]
     },
     "execution_count": 52,
     "metadata": {},
     "output_type": "execute_result"
    }
   ],
   "source": [
    "train_target = np_utils.to_categorical(train_df['OutcomeType'].values)\n",
    "train_target"
   ]
  },
  {
   "cell_type": "code",
   "execution_count": 94,
   "metadata": {
    "collapsed": false
   },
   "outputs": [
    {
     "name": "stdout",
     "output_type": "stream",
     "text": [
      "Compiling model...\n"
     ]
    }
   ],
   "source": [
    "model = Sequential()\n",
    "model.add(Dense(5, input_dim=6, init='normal', activation=\"relu\"))\n",
    "model.add(Dense(5, init='normal', activation='sigmoid'))\n",
    "\n",
    "# Compile model\n",
    "print(\"Compiling model...\")\n",
    "model.compile(loss='categorical_crossentropy', optimizer='adam',\n",
    "             metrics=['accuracy'])"
   ]
  },
  {
   "cell_type": "code",
   "execution_count": 95,
   "metadata": {
    "collapsed": false
   },
   "outputs": [
    {
     "name": "stdout",
     "output_type": "stream",
     "text": [
      "Train on 21383 samples, validate on 5346 samples\n",
      "Epoch 1/10\n",
      "21383/21383 [==============================] - 0s - loss: 1.3218 - acc: 0.3972 - val_loss: 1.2145 - val_acc: 0.3928\n",
      "Epoch 2/10\n",
      "21383/21383 [==============================] - 0s - loss: 1.1828 - acc: 0.4035 - val_loss: 1.1515 - val_acc: 0.3992\n",
      "Epoch 3/10\n",
      "21383/21383 [==============================] - 0s - loss: 1.1260 - acc: 0.4432 - val_loss: 1.0940 - val_acc: 0.4948\n",
      "Epoch 4/10\n",
      "21383/21383 [==============================] - 0s - loss: 1.0799 - acc: 0.5084 - val_loss: 1.0612 - val_acc: 0.5049\n",
      "Epoch 5/10\n",
      "21383/21383 [==============================] - 0s - loss: 1.0420 - acc: 0.5387 - val_loss: 1.0301 - val_acc: 0.5660\n",
      "Epoch 6/10\n",
      "21383/21383 [==============================] - 0s - loss: 1.0078 - acc: 0.5745 - val_loss: 1.0000 - val_acc: 0.5767\n",
      "Epoch 7/10\n",
      "21383/21383 [==============================] - 0s - loss: 0.9892 - acc: 0.5831 - val_loss: 0.9973 - val_acc: 0.5862\n",
      "Epoch 8/10\n",
      "21383/21383 [==============================] - 0s - loss: 0.9824 - acc: 0.5908 - val_loss: 0.9777 - val_acc: 0.5808\n",
      "Epoch 9/10\n",
      "21383/21383 [==============================] - 0s - loss: 0.9759 - acc: 0.5919 - val_loss: 0.9767 - val_acc: 0.5847\n",
      "Epoch 10/10\n",
      "21383/21383 [==============================] - 0s - loss: 0.9713 - acc: 0.5972 - val_loss: 0.9679 - val_acc: 0.5892\n"
     ]
    },
    {
     "data": {
      "text/plain": [
       "<keras.callbacks.History at 0x110349908>"
      ]
     },
     "execution_count": 95,
     "metadata": {},
     "output_type": "execute_result"
    }
   ],
   "source": [
    "model.fit(X, train_target, validation_split=0.2)"
   ]
  },
  {
   "cell_type": "code",
   "execution_count": 96,
   "metadata": {
    "collapsed": false
   },
   "outputs": [
    {
     "name": "stdout",
     "output_type": "stream",
     "text": [
      "26272/26729 [============================>.] - ETA: 0s"
     ]
    },
    {
     "data": {
      "text/plain": [
       "[0.96210765053230551, 0.59991020988662513]"
      ]
     },
     "execution_count": 96,
     "metadata": {},
     "output_type": "execute_result"
    }
   ],
   "source": [
    "model.evaluate(X, train_target)"
   ]
  },
  {
   "cell_type": "code",
   "execution_count": 97,
   "metadata": {
    "collapsed": false
   },
   "outputs": [
    {
     "name": "stdout",
     "output_type": "stream",
     "text": [
      "Train on 21383 samples, validate on 5346 samples\n",
      "Epoch 1/10\n",
      "21383/21383 [==============================] - 0s - loss: 0.9676 - acc: 0.5953 - val_loss: 0.9657 - val_acc: 0.5928\n",
      "Epoch 2/10\n",
      "21383/21383 [==============================] - 0s - loss: 0.9623 - acc: 0.5973 - val_loss: 0.9692 - val_acc: 0.5911\n",
      "Epoch 3/10\n",
      "21383/21383 [==============================] - 0s - loss: 0.9638 - acc: 0.5957 - val_loss: 0.9638 - val_acc: 0.5857\n",
      "Epoch 4/10\n",
      "21383/21383 [==============================] - 0s - loss: 0.9686 - acc: 0.5926 - val_loss: 0.9827 - val_acc: 0.5872\n",
      "Epoch 5/10\n",
      "21383/21383 [==============================] - 0s - loss: 0.9612 - acc: 0.5952 - val_loss: 0.9709 - val_acc: 0.5862\n",
      "Epoch 6/10\n",
      "21383/21383 [==============================] - 0s - loss: 0.9618 - acc: 0.5953 - val_loss: 0.9805 - val_acc: 0.5816\n",
      "Epoch 7/10\n",
      "21383/21383 [==============================] - 0s - loss: 0.9620 - acc: 0.5958 - val_loss: 0.9539 - val_acc: 0.5943\n",
      "Epoch 8/10\n",
      "21383/21383 [==============================] - 0s - loss: 0.9600 - acc: 0.5962 - val_loss: 0.9536 - val_acc: 0.5939\n",
      "Epoch 9/10\n",
      "21383/21383 [==============================] - 0s - loss: 0.9581 - acc: 0.5967 - val_loss: 0.9536 - val_acc: 0.5875\n",
      "Epoch 10/10\n",
      "21383/21383 [==============================] - 0s - loss: 0.9568 - acc: 0.5962 - val_loss: 0.9557 - val_acc: 0.5960\n",
      "{'loss': [0.96764743480290794, 0.9623272905669511, 0.9637950664791296, 0.96862339709475531, 0.96121020954127889, 0.96177337832844012, 0.96202959431983337, 0.95995955168852465, 0.95812715409441251, 0.95680333826777497], 'val_acc': [0.59277964833520391, 0.59109614665170218, 0.58567153011597461, 0.58716797605686499, 0.58623269734380845, 0.58155630377852596, 0.59427609427609429, 0.5939019827908717, 0.58754208754208759, 0.59595959595959591], 'acc': [0.59528597484261347, 0.59725015199826093, 0.59566010382636714, 0.5925735397333961, 0.5952392087199927, 0.59533274097080924, 0.59575363606812437, 0.59617453117101449, 0.59673572464246372, 0.59617453117798314], 'val_loss': [0.96571982682888491, 0.96916701811063699, 0.96379190446997776, 0.98270448394540633, 0.97086069983487, 0.98054151895382502, 0.95385142494086417, 0.95355359341961765, 0.95363655733205921, 0.95567474396898644]}\n"
     ]
    }
   ],
   "source": [
    "hist = model.fit(X, train_target, validation_split=0.2)\n",
    "print(hist.history)"
   ]
  },
  {
   "cell_type": "code",
   "execution_count": 99,
   "metadata": {
    "collapsed": false
   },
   "outputs": [
    {
     "name": "stdout",
     "output_type": "stream",
     "text": [
      "2/2 [==============================] - 0s\n"
     ]
    },
    {
     "data": {
      "text/plain": [
       "array([[ 0.68319237,  0.05724231,  0.99777216,  0.43083489,  0.00347971],\n",
       "       [ 0.12574624,  0.04307044,  0.71799105,  0.35309261,  0.00411421]])"
      ]
     },
     "execution_count": 99,
     "metadata": {},
     "output_type": "execute_result"
    }
   ],
   "source": [
    "model.predict_proba(X[0:2])"
   ]
  },
  {
   "cell_type": "code",
   "execution_count": 74,
   "metadata": {
    "collapsed": true
   },
   "outputs": [],
   "source": []
  },
  {
   "cell_type": "code",
   "execution_count": null,
   "metadata": {
    "collapsed": false
   },
   "outputs": [],
   "source": []
  },
  {
   "cell_type": "code",
   "execution_count": null,
   "metadata": {
    "collapsed": true
   },
   "outputs": [],
   "source": []
  },
  {
   "cell_type": "code",
   "execution_count": null,
   "metadata": {
    "collapsed": true
   },
   "outputs": [],
   "source": []
  }
 ],
 "metadata": {
  "kernelspec": {
   "display_name": "Python 3",
   "language": "python",
   "name": "python3"
  },
  "language_info": {
   "codemirror_mode": {
    "name": "ipython",
    "version": 3
   },
   "file_extension": ".py",
   "mimetype": "text/x-python",
   "name": "python",
   "nbconvert_exporter": "python",
   "pygments_lexer": "ipython3",
   "version": "3.4.2"
  }
 },
 "nbformat": 4,
 "nbformat_minor": 0
}
