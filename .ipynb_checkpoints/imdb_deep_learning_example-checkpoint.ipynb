{
 "cells": [
  {
   "cell_type": "code",
   "execution_count": 1,
   "metadata": {
    "collapsed": false
   },
   "outputs": [
    {
     "name": "stderr",
     "output_type": "stream",
     "text": [
      "Using Theano backend.\n"
     ]
    }
   ],
   "source": [
    "'''This example demonstrates the use of Convolution1D for text classification.\n",
    "\n",
    "Gets to 0.88 test accuracy after 2 epochs. \n",
    "90s/epoch on Intel i5 2.4Ghz CPU.\n",
    "10s/epoch on Tesla K40 GPU.\n",
    "\n",
    "'''\n",
    "\n",
    "from __future__ import print_function\n",
    "import numpy as np\n",
    "np.random.seed(1337)  # for reproducibility\n",
    "\n",
    "from keras.preprocessing import sequence\n",
    "from keras.models import Sequential\n",
    "from keras.layers import Dense, Dropout, Activation, Lambda\n",
    "from keras.layers import Embedding\n",
    "from keras.layers import Convolution1D\n",
    "from keras.datasets import imdb\n",
    "from keras import backend as K"
   ]
  },
  {
   "cell_type": "code",
   "execution_count": 2,
   "metadata": {
    "collapsed": true
   },
   "outputs": [],
   "source": [
    "# set parameters:\n",
    "max_features = 5000\n",
    "maxlen = 400\n",
    "batch_size = 32\n",
    "embedding_dims = 50\n",
    "nb_filter = 250\n",
    "filter_length = 3\n",
    "hidden_dims = 250\n",
    "nb_epoch = 2"
   ]
  },
  {
   "cell_type": "code",
   "execution_count": 3,
   "metadata": {
    "collapsed": false
   },
   "outputs": [
    {
     "name": "stdout",
     "output_type": "stream",
     "text": [
      "Loading data...\n",
      "Downloading data from https://s3.amazonaws.com/text-datasets/imdb.pkl\n",
      "33202176/33213513 [============================>.] - ETA: 0s20000 train sequences\n",
      "5000 test sequences\n"
     ]
    }
   ],
   "source": [
    "print('Loading data...')\n",
    "(X_train, y_train), (X_test, y_test) = imdb.load_data(nb_words=max_features,\n",
    "                                                      test_split=0.2)\n",
    "print(len(X_train), 'train sequences')\n",
    "print(len(X_test), 'test sequences')"
   ]
  },
  {
   "cell_type": "code",
   "execution_count": null,
   "metadata": {
    "collapsed": false
   },
   "outputs": [],
   "source": []
  },
  {
   "cell_type": "code",
   "execution_count": 4,
   "metadata": {
    "collapsed": false
   },
   "outputs": [
    {
     "name": "stdout",
     "output_type": "stream",
     "text": [
      "Pad sequences (samples x time)\n",
      "X_train shape: (20000, 400)\n",
      "X_test shape: (5000, 400)\n"
     ]
    }
   ],
   "source": [
    "print('Pad sequences (samples x time)')\n",
    "X_train = sequence.pad_sequences(X_train, maxlen=maxlen)\n",
    "X_test = sequence.pad_sequences(X_test, maxlen=maxlen)\n",
    "print('X_train shape:', X_train.shape)\n",
    "print('X_test shape:', X_test.shape)"
   ]
  },
  {
   "cell_type": "code",
   "execution_count": 6,
   "metadata": {
    "collapsed": false
   },
   "outputs": [
    {
     "name": "stdout",
     "output_type": "stream",
     "text": [
      "Build model...\n",
      "Model complete...\n"
     ]
    }
   ],
   "source": [
    "print('Build model...')\n",
    "model = Sequential()\n",
    "\n",
    "# we start off with an efficient embedding layer which maps\n",
    "# our vocab indices into embedding_dims dimensions\n",
    "model.add(Embedding(max_features,\n",
    "                    embedding_dims,\n",
    "                    input_length=maxlen,\n",
    "                    dropout=0.2))\n",
    "\n",
    "# we add a Convolution1D, which will learn nb_filter\n",
    "# word group filters of size filter_length:\n",
    "model.add(Convolution1D(nb_filter=nb_filter,\n",
    "                        filter_length=filter_length,\n",
    "                        border_mode='valid',\n",
    "                        activation='relu',\n",
    "                        subsample_length=1))\n",
    "\n",
    "# we use max over time pooling by defining a python function to use\n",
    "# in a Lambda layer\n",
    "def max_1d(X):\n",
    "    return K.max(X, axis=1)\n",
    "\n",
    "model.add(Lambda(max_1d, output_shape=(nb_filter,)))\n",
    "\n",
    "# We add a vanilla hidden layer:\n",
    "model.add(Dense(hidden_dims))\n",
    "model.add(Dropout(0.2))\n",
    "model.add(Activation('relu'))\n",
    "\n",
    "# We project onto a single unit output layer, and squash it with a sigmoid:\n",
    "model.add(Dense(1))\n",
    "model.add(Activation('sigmoid'))\n",
    "print('Model complete...')"
   ]
  },
  {
   "cell_type": "code",
   "execution_count": 7,
   "metadata": {
    "collapsed": false
   },
   "outputs": [
    {
     "name": "stdout",
     "output_type": "stream",
     "text": [
      "Train on 20000 samples, validate on 5000 samples\n",
      "Epoch 1/2\n",
      "20000/20000 [==============================] - 73s - loss: 0.4587 - acc: 0.7671 - val_loss: 0.3176 - val_acc: 0.8646\n",
      "Epoch 2/2\n",
      "20000/20000 [==============================] - 74s - loss: 0.2911 - acc: 0.8792 - val_loss: 0.2662 - val_acc: 0.8942\n"
     ]
    },
    {
     "data": {
      "text/plain": [
       "<keras.callbacks.History at 0x7f21188a0128>"
      ]
     },
     "execution_count": 7,
     "metadata": {},
     "output_type": "execute_result"
    }
   ],
   "source": [
    "model.compile(loss='binary_crossentropy',\n",
    "              optimizer='adam',\n",
    "              metrics=['accuracy'])\n",
    "\n",
    "model.fit(X_train, y_train,\n",
    "          batch_size=batch_size,\n",
    "          nb_epoch=nb_epoch,\n",
    "          validation_data=(X_test, y_test))"
   ]
  },
  {
   "cell_type": "code",
   "execution_count": 8,
   "metadata": {
    "collapsed": false
   },
   "outputs": [
    {
     "name": "stdout",
     "output_type": "stream",
     "text": [
      "4992/5000 [============================>.] - ETA: 0sTest score: 0.26620681572\n",
      "Test accuracy: 0.8942\n"
     ]
    }
   ],
   "source": [
    "score, acc = model.evaluate(X_test, y_test, batch_size=batch_size)\n",
    "print('Test score:', score)\n",
    "print('Test accuracy:', acc)"
   ]
  },
  {
   "cell_type": "code",
   "execution_count": 10,
   "metadata": {
    "collapsed": false
   },
   "outputs": [],
   "source": [
    "all_weights = []\n",
    "for layer in model.layers:\n",
    "   w = layer.get_weights()\n",
    "   all_weights.append(w)"
   ]
  },
  {
   "cell_type": "code",
   "execution_count": 12,
   "metadata": {
    "collapsed": true
   },
   "outputs": [],
   "source": [
    "%matplotlib inline\n",
    "\n",
    "import matplotlib.pyplot as plt"
   ]
  },
  {
   "cell_type": "code",
   "execution_count": 13,
   "metadata": {
    "collapsed": false
   },
   "outputs": [
    {
     "data": {
      "image/png": "[encoded data removed]",
      "text/plain": [
       "<matplotlib.figure.Figure at 0x7f210e43bc88>"
      ]
     },
     "metadata": {},
     "output_type": "display_data"
    }
   ],
   "source": [
    "plt.figure()\n",
    "plt.title(\"Layer Weights\")\n",
    "plt.show(all_weights)"
   ]
  },
  {
   "cell_type": "code",
   "execution_count": 15,
   "metadata": {
    "collapsed": false
   },
   "outputs": [],
   "source": [
    "from keras.utils.visualize_util import plot\n",
    "plot(model, to_file='model.png')"
   ]
  },
  {
   "cell_type": "code",
   "execution_count": 16,
   "metadata": {
    "collapsed": false
   },
   "outputs": [
    {
     "data": {
      "image/svg+xml": [
       "<svg height=\"629pt\" viewBox=\"0.00 0.00 213.00 629.00\" width=\"213pt\" xmlns=\"http://www.w3.org/2000/svg\" xmlns:xlink=\"http://www.w3.org/1999/xlink\">\n",
       "<g class=\"graph\" id=\"graph0\" transform=\"scale(1 1) rotate(0) translate(4 625)\">\n",
       "<title>G</title>\n",
       "<polygon fill=\"white\" points=\"-4,4 -4,-625 209,-625 209,4 -4,4\" stroke=\"none\"/>\n",
       "<!-- 139780390256536 -->\n",
       "<g class=\"node\" id=\"node1\"><title>139780390256536</title>\n",
       "<polygon fill=\"none\" points=\"3.5,-584.5 3.5,-620.5 201.5,-620.5 201.5,-584.5 3.5,-584.5\" stroke=\"black\"/>\n",
       "<text font-family=\"Times,serif\" font-size=\"14.00\" text-anchor=\"middle\" x=\"102.5\" y=\"-598.8\">embedding_input_2 (InputLayer)</text>\n",
       "</g>\n",
       "<!-- 139780390256592 -->\n",
       "<g class=\"node\" id=\"node2\"><title>139780390256592</title>\n",
       "<polygon fill=\"none\" points=\"19,-511.5 19,-547.5 186,-547.5 186,-511.5 19,-511.5\" stroke=\"black\"/>\n",
       "<text font-family=\"Times,serif\" font-size=\"14.00\" text-anchor=\"middle\" x=\"102.5\" y=\"-525.8\">embedding_2 (Embedding)</text>\n",
       "</g>\n",
       "<!-- 139780390256536&#45;&gt;139780390256592 -->\n",
       "<g class=\"edge\" id=\"edge1\"><title>139780390256536-&gt;139780390256592</title>\n",
       "<path d=\"M102.5,-584.313C102.5,-576.289 102.5,-566.547 102.5,-557.569\" fill=\"none\" stroke=\"black\"/>\n",
       "<polygon fill=\"black\" points=\"106,-557.529 102.5,-547.529 99.0001,-557.529 106,-557.529\" stroke=\"black\"/>\n",
       "</g>\n",
       "<!-- 139780390256480 -->\n",
       "<g class=\"node\" id=\"node3\"><title>139780390256480</title>\n",
       "<polygon fill=\"none\" points=\"-1.42109e-14,-438.5 -1.42109e-14,-474.5 205,-474.5 205,-438.5 -1.42109e-14,-438.5\" stroke=\"black\"/>\n",
       "<text font-family=\"Times,serif\" font-size=\"14.00\" text-anchor=\"middle\" x=\"102.5\" y=\"-452.8\">convolution1d_2 (Convolution1D)</text>\n",
       "</g>\n",
       "<!-- 139780390256592&#45;&gt;139780390256480 -->\n",
       "<g class=\"edge\" id=\"edge2\"><title>139780390256592-&gt;139780390256480</title>\n",
       "<path d=\"M102.5,-511.313C102.5,-503.289 102.5,-493.547 102.5,-484.569\" fill=\"none\" stroke=\"black\"/>\n",
       "<polygon fill=\"black\" points=\"106,-484.529 102.5,-474.529 99.0001,-484.529 106,-484.529\" stroke=\"black\"/>\n",
       "</g>\n",
       "<!-- 139780334217424 -->\n",
       "<g class=\"node\" id=\"node4\"><title>139780334217424</title>\n",
       "<polygon fill=\"none\" points=\"38.5,-365.5 38.5,-401.5 166.5,-401.5 166.5,-365.5 38.5,-365.5\" stroke=\"black\"/>\n",
       "<text font-family=\"Times,serif\" font-size=\"14.00\" text-anchor=\"middle\" x=\"102.5\" y=\"-379.8\">lambda_2 (Lambda)</text>\n",
       "</g>\n",
       "<!-- 139780390256480&#45;&gt;139780334217424 -->\n",
       "<g class=\"edge\" id=\"edge3\"><title>139780390256480-&gt;139780334217424</title>\n",
       "<path d=\"M102.5,-438.313C102.5,-430.289 102.5,-420.547 102.5,-411.569\" fill=\"none\" stroke=\"black\"/>\n",
       "<polygon fill=\"black\" points=\"106,-411.529 102.5,-401.529 99.0001,-411.529 106,-411.529\" stroke=\"black\"/>\n",
       "</g>\n",
       "<!-- 139780334148128 -->\n",
       "<g class=\"node\" id=\"node5\"><title>139780334148128</title>\n",
       "<polygon fill=\"none\" points=\"49,-292.5 49,-328.5 156,-328.5 156,-292.5 49,-292.5\" stroke=\"black\"/>\n",
       "<text font-family=\"Times,serif\" font-size=\"14.00\" text-anchor=\"middle\" x=\"102.5\" y=\"-306.8\">dense_3 (Dense)</text>\n",
       "</g>\n",
       "<!-- 139780334217424&#45;&gt;139780334148128 -->\n",
       "<g class=\"edge\" id=\"edge4\"><title>139780334217424-&gt;139780334148128</title>\n",
       "<path d=\"M102.5,-365.313C102.5,-357.289 102.5,-347.547 102.5,-338.569\" fill=\"none\" stroke=\"black\"/>\n",
       "<polygon fill=\"black\" points=\"106,-338.529 102.5,-328.529 99.0001,-338.529 106,-338.529\" stroke=\"black\"/>\n",
       "</g>\n",
       "<!-- 139780334218040 -->\n",
       "<g class=\"node\" id=\"node6\"><title>139780334218040</title>\n",
       "<polygon fill=\"none\" points=\"37.5,-219.5 37.5,-255.5 167.5,-255.5 167.5,-219.5 37.5,-219.5\" stroke=\"black\"/>\n",
       "<text font-family=\"Times,serif\" font-size=\"14.00\" text-anchor=\"middle\" x=\"102.5\" y=\"-233.8\">dropout_2 (Dropout)</text>\n",
       "</g>\n",
       "<!-- 139780334148128&#45;&gt;139780334218040 -->\n",
       "<g class=\"edge\" id=\"edge5\"><title>139780334148128-&gt;139780334218040</title>\n",
       "<path d=\"M102.5,-292.313C102.5,-284.289 102.5,-274.547 102.5,-265.569\" fill=\"none\" stroke=\"black\"/>\n",
       "<polygon fill=\"black\" points=\"106,-265.529 102.5,-255.529 99.0001,-265.529 106,-265.529\" stroke=\"black\"/>\n",
       "</g>\n",
       "<!-- 139780334253168 -->\n",
       "<g class=\"node\" id=\"node7\"><title>139780334253168</title>\n",
       "<polygon fill=\"none\" points=\"26,-146.5 26,-182.5 179,-182.5 179,-146.5 26,-146.5\" stroke=\"black\"/>\n",
       "<text font-family=\"Times,serif\" font-size=\"14.00\" text-anchor=\"middle\" x=\"102.5\" y=\"-160.8\">activation_3 (Activation)</text>\n",
       "</g>\n",
       "<!-- 139780334218040&#45;&gt;139780334253168 -->\n",
       "<g class=\"edge\" id=\"edge6\"><title>139780334218040-&gt;139780334253168</title>\n",
       "<path d=\"M102.5,-219.313C102.5,-211.289 102.5,-201.547 102.5,-192.569\" fill=\"none\" stroke=\"black\"/>\n",
       "<polygon fill=\"black\" points=\"106,-192.529 102.5,-182.529 99.0001,-192.529 106,-192.529\" stroke=\"black\"/>\n",
       "</g>\n",
       "<!-- 139780334283744 -->\n",
       "<g class=\"node\" id=\"node8\"><title>139780334283744</title>\n",
       "<polygon fill=\"none\" points=\"49,-73.5 49,-109.5 156,-109.5 156,-73.5 49,-73.5\" stroke=\"black\"/>\n",
       "<text font-family=\"Times,serif\" font-size=\"14.00\" text-anchor=\"middle\" x=\"102.5\" y=\"-87.8\">dense_4 (Dense)</text>\n",
       "</g>\n",
       "<!-- 139780334253168&#45;&gt;139780334283744 -->\n",
       "<g class=\"edge\" id=\"edge7\"><title>139780334253168-&gt;139780334283744</title>\n",
       "<path d=\"M102.5,-146.313C102.5,-138.289 102.5,-128.547 102.5,-119.569\" fill=\"none\" stroke=\"black\"/>\n",
       "<polygon fill=\"black\" points=\"106,-119.529 102.5,-109.529 99.0001,-119.529 106,-119.529\" stroke=\"black\"/>\n",
       "</g>\n",
       "<!-- 139780334282568 -->\n",
       "<g class=\"node\" id=\"node9\"><title>139780334282568</title>\n",
       "<polygon fill=\"none\" points=\"26,-0.5 26,-36.5 179,-36.5 179,-0.5 26,-0.5\" stroke=\"black\"/>\n",
       "<text font-family=\"Times,serif\" font-size=\"14.00\" text-anchor=\"middle\" x=\"102.5\" y=\"-14.8\">activation_4 (Activation)</text>\n",
       "</g>\n",
       "<!-- 139780334283744&#45;&gt;139780334282568 -->\n",
       "<g class=\"edge\" id=\"edge8\"><title>139780334283744-&gt;139780334282568</title>\n",
       "<path d=\"M102.5,-73.3129C102.5,-65.2895 102.5,-55.5475 102.5,-46.5691\" fill=\"none\" stroke=\"black\"/>\n",
       "<polygon fill=\"black\" points=\"106,-46.5288 102.5,-36.5288 99.0001,-46.5289 106,-46.5288\" stroke=\"black\"/>\n",
       "</g>\n",
       "</g>\n",
       "</svg>"
      ],
      "text/plain": [
       "<IPython.core.display.SVG object>"
      ]
     },
     "execution_count": 16,
     "metadata": {},
     "output_type": "execute_result"
    }
   ],
   "source": [
    "from IPython.display import SVG\n",
    "from keras.utils.visualize_util import model_to_dot\n",
    "\n",
    "SVG(model_to_dot(model).create(prog='dot', format='svg'))"
   ]
  },
  {
   "cell_type": "code",
   "execution_count": 18,
   "metadata": {
    "collapsed": false
   },
   "outputs": [
    {
     "name": "stdout",
     "output_type": "stream",
     "text": [
      "____________________________________________________________________________________________________\n",
      "Layer (type)                     Output Shape          Param #     Connected to                     \n",
      "====================================================================================================\n",
      "embedding_2 (Embedding)          (None, 400, 50)       250000      embedding_input_2[0][0]          \n",
      "____________________________________________________________________________________________________\n",
      "convolution1d_2 (Convolution1D)  (None, 398, 250)      37750       embedding_2[0][0]                \n",
      "____________________________________________________________________________________________________\n",
      "lambda_2 (Lambda)                (None, 250)           0           convolution1d_2[0][0]            \n",
      "____________________________________________________________________________________________________\n",
      "dense_3 (Dense)                  (None, 250)           62750       lambda_2[0][0]                   \n",
      "____________________________________________________________________________________________________\n",
      "dropout_2 (Dropout)              (None, 250)           0           dense_3[0][0]                    \n",
      "____________________________________________________________________________________________________\n",
      "activation_3 (Activation)        (None, 250)           0           dropout_2[0][0]                  \n",
      "____________________________________________________________________________________________________\n",
      "dense_4 (Dense)                  (None, 1)             251         activation_3[0][0]               \n",
      "____________________________________________________________________________________________________\n",
      "activation_4 (Activation)        (None, 1)             0           dense_4[0][0]                    \n",
      "====================================================================================================\n",
      "Total params: 350751\n",
      "____________________________________________________________________________________________________\n"
     ]
    }
   ],
   "source": [
    "model.summary()\n",
    "    "
   ]
  },
  {
   "cell_type": "code",
   "execution_count": 20,
   "metadata": {
    "collapsed": false
   },
   "outputs": [
    {
     "data": {
      "text/plain": [
       "[<keras.layers.embeddings.Embedding at 0x7f212881ffd0>,\n",
       " <keras.layers.convolutional.Convolution1D at 0x7f212881ff60>,\n",
       " <keras.layers.core.Lambda at 0x7f21252ae8d0>,\n",
       " <keras.layers.core.Dense at 0x7f212529da20>,\n",
       " <keras.layers.core.Dropout at 0x7f21252aeb38>,\n",
       " <keras.layers.core.Activation at 0x7f21252b7470>,\n",
       " <keras.layers.core.Dense at 0x7f21252bebe0>,\n",
       " <keras.layers.core.Activation at 0x7f21252be748>]"
      ]
     },
     "execution_count": 20,
     "metadata": {},
     "output_type": "execute_result"
    }
   ],
   "source": [
    "model.layers"
   ]
  },
  {
   "cell_type": "code",
   "execution_count": 29,
   "metadata": {
    "collapsed": false
   },
   "outputs": [
    {
     "name": "stdout",
     "output_type": "stream",
     "text": [
      "20000/20000 [==============================] - 21s    \n"
     ]
    },
    {
     "data": {
      "text/plain": [
       "array([[1],\n",
       "       [0],\n",
       "       [0],\n",
       "       ..., \n",
       "       [1],\n",
       "       [0],\n",
       "       [1]], dtype=int32)"
      ]
     },
     "execution_count": 29,
     "metadata": {},
     "output_type": "execute_result"
    }
   ],
   "source": [
    "model.predict_classes(X_train, batch_size=batch_size)"
   ]
  },
  {
   "cell_type": "code",
   "execution_count": null,
   "metadata": {
    "collapsed": true
   },
   "outputs": [],
   "source": []
  }
 ],
 "metadata": {
  "kernelspec": {
   "display_name": "Python 3",
   "language": "python",
   "name": "python3"
  },
  "language_info": {
   "codemirror_mode": {
    "name": "ipython",
    "version": 3
   },
   "file_extension": ".py",
   "mimetype": "text/x-python",
   "name": "python",
   "nbconvert_exporter": "python",
   "pygments_lexer": "ipython3",
   "version": "3.5.1"
  }
 },
 "nbformat": 4,
 "nbformat_minor": 0
}
