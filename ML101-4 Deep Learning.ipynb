{
 "cells": [
  {
   "cell_type": "markdown",
   "metadata": {},
   "source": [
    "# Deep Learning Neural Network on Animal Shelter data"
   ]
  },
  {
   "cell_type": "code",
   "execution_count": 1,
   "metadata": {
    "collapsed": false
   },
   "outputs": [
    {
     "name": "stderr",
     "output_type": "stream",
     "text": [
      "Using Theano backend.\n"
     ]
    }
   ],
   "source": [
    "import numpy\n",
    "import pandas as pd\n",
    "from keras.models import Sequential\n",
    "from keras.layers import Dense\n",
    "from keras.wrappers.scikit_learn import KerasClassifier\n",
    "from keras.utils import np_utils\n",
    "from sklearn.cross_validation import cross_val_score\n",
    "from sklearn.cross_validation import KFold\n",
    "from sklearn.preprocessing import LabelEncoder\n",
    "from sklearn.pipeline import Pipeline\n",
    "import theano\n",
    "\n",
    "import matplotlib.pyplot as plt\n",
    "import os\n"
   ]
  },
  {
   "cell_type": "code",
   "execution_count": null,
   "metadata": {
    "collapsed": false
   },
   "outputs": [],
   "source": []
  },
  {
   "cell_type": "code",
   "execution_count": 2,
   "metadata": {
    "collapsed": false
   },
   "outputs": [],
   "source": [
    "# Set up my data directories from different machines\n",
    "\n",
    "mac_data_dir = '/Users/christopherallison/Documents/Coding/Data'\n",
    "linux_data_dir = '/home/chris/data'\n",
    "win_data_dir = u'C:\\\\Users\\\\Owner\\\\Documents\\\\Data'\n",
    "\n",
    "# Set data directory for example\n",
    "\n",
    "data_dir = linux_data_dir"
   ]
  },
  {
   "cell_type": "code",
   "execution_count": 3,
   "metadata": {
    "collapsed": false
   },
   "outputs": [],
   "source": [
    "# Load our prepared dataset and reference data\n",
    "\n",
    "df = pd.read_csv(os.path.join(data_dir, \"prepared_animals_df.csv\"),index_col=0)"
   ]
  },
  {
   "cell_type": "code",
   "execution_count": 4,
   "metadata": {
    "collapsed": false
   },
   "outputs": [
    {
     "data": {
      "text/html": [
       "<div>\n",
       "<table border=\"1\" class=\"dataframe\">\n",
       "  <thead>\n",
       "    <tr style=\"text-align: right;\">\n",
       "      <th></th>\n",
       "      <th>OutcomeType</th>\n",
       "      <th>AnimalType</th>\n",
       "      <th>AgeuponOutcome</th>\n",
       "      <th>Color</th>\n",
       "      <th>Intact</th>\n",
       "      <th>Gender</th>\n",
       "      <th>NameLength</th>\n",
       "      <th>BreedKMeans</th>\n",
       "    </tr>\n",
       "  </thead>\n",
       "  <tbody>\n",
       "    <tr>\n",
       "      <th>0</th>\n",
       "      <td>Return_to_owner</td>\n",
       "      <td>1</td>\n",
       "      <td>1</td>\n",
       "      <td>0</td>\n",
       "      <td>0</td>\n",
       "      <td>1</td>\n",
       "      <td>7</td>\n",
       "      <td>0</td>\n",
       "    </tr>\n",
       "    <tr>\n",
       "      <th>1</th>\n",
       "      <td>Euthanasia</td>\n",
       "      <td>0</td>\n",
       "      <td>1</td>\n",
       "      <td>1</td>\n",
       "      <td>0</td>\n",
       "      <td>0</td>\n",
       "      <td>5</td>\n",
       "      <td>0</td>\n",
       "    </tr>\n",
       "    <tr>\n",
       "      <th>2</th>\n",
       "      <td>Adoption</td>\n",
       "      <td>1</td>\n",
       "      <td>2</td>\n",
       "      <td>2</td>\n",
       "      <td>0</td>\n",
       "      <td>1</td>\n",
       "      <td>6</td>\n",
       "      <td>1</td>\n",
       "    </tr>\n",
       "    <tr>\n",
       "      <th>3</th>\n",
       "      <td>Transfer</td>\n",
       "      <td>0</td>\n",
       "      <td>0</td>\n",
       "      <td>2</td>\n",
       "      <td>1</td>\n",
       "      <td>1</td>\n",
       "      <td>3</td>\n",
       "      <td>0</td>\n",
       "    </tr>\n",
       "    <tr>\n",
       "      <th>4</th>\n",
       "      <td>Transfer</td>\n",
       "      <td>1</td>\n",
       "      <td>2</td>\n",
       "      <td>3</td>\n",
       "      <td>0</td>\n",
       "      <td>1</td>\n",
       "      <td>3</td>\n",
       "      <td>0</td>\n",
       "    </tr>\n",
       "  </tbody>\n",
       "</table>\n",
       "</div>"
      ],
      "text/plain": [
       "       OutcomeType  AnimalType  AgeuponOutcome  Color  Intact  Gender  \\\n",
       "0  Return_to_owner           1               1      0       0       1   \n",
       "1       Euthanasia           0               1      1       0       0   \n",
       "2         Adoption           1               2      2       0       1   \n",
       "3         Transfer           0               0      2       1       1   \n",
       "4         Transfer           1               2      3       0       1   \n",
       "\n",
       "   NameLength  BreedKMeans  \n",
       "0           7            0  \n",
       "1           5            0  \n",
       "2           6            1  \n",
       "3           3            0  \n",
       "4           3            0  "
      ]
     },
     "execution_count": 4,
     "metadata": {},
     "output_type": "execute_result"
    }
   ],
   "source": [
    "df.head()"
   ]
  },
  {
   "cell_type": "code",
   "execution_count": 5,
   "metadata": {
    "collapsed": false
   },
   "outputs": [
    {
     "data": {
      "text/plain": [
       "AnimalType        int64\n",
       "AgeuponOutcome    int64\n",
       "Color             int64\n",
       "Intact            int64\n",
       "Gender            int64\n",
       "NameLength        int64\n",
       "BreedKMeans       int64\n",
       "dtype: object"
      ]
     },
     "execution_count": 5,
     "metadata": {},
     "output_type": "execute_result"
    }
   ],
   "source": [
    "# Drop uneccesary columns\n",
    "X = df.drop('OutcomeType', axis=1)\n",
    "X.dtypes"
   ]
  },
  {
   "cell_type": "code",
   "execution_count": 6,
   "metadata": {
    "collapsed": false
   },
   "outputs": [
    {
     "data": {
      "text/html": [
       "<div>\n",
       "<table border=\"1\" class=\"dataframe\">\n",
       "  <thead>\n",
       "    <tr style=\"text-align: right;\">\n",
       "      <th></th>\n",
       "      <th>AnimalType</th>\n",
       "      <th>AgeuponOutcome</th>\n",
       "      <th>Color</th>\n",
       "      <th>Intact</th>\n",
       "      <th>Gender</th>\n",
       "      <th>NameLength</th>\n",
       "      <th>BreedKMeans</th>\n",
       "    </tr>\n",
       "  </thead>\n",
       "  <tbody>\n",
       "    <tr>\n",
       "      <th>0</th>\n",
       "      <td>1</td>\n",
       "      <td>1</td>\n",
       "      <td>0</td>\n",
       "      <td>0</td>\n",
       "      <td>1</td>\n",
       "      <td>7</td>\n",
       "      <td>0</td>\n",
       "    </tr>\n",
       "    <tr>\n",
       "      <th>1</th>\n",
       "      <td>0</td>\n",
       "      <td>1</td>\n",
       "      <td>1</td>\n",
       "      <td>0</td>\n",
       "      <td>0</td>\n",
       "      <td>5</td>\n",
       "      <td>0</td>\n",
       "    </tr>\n",
       "    <tr>\n",
       "      <th>2</th>\n",
       "      <td>1</td>\n",
       "      <td>2</td>\n",
       "      <td>2</td>\n",
       "      <td>0</td>\n",
       "      <td>1</td>\n",
       "      <td>6</td>\n",
       "      <td>1</td>\n",
       "    </tr>\n",
       "    <tr>\n",
       "      <th>3</th>\n",
       "      <td>0</td>\n",
       "      <td>0</td>\n",
       "      <td>2</td>\n",
       "      <td>1</td>\n",
       "      <td>1</td>\n",
       "      <td>3</td>\n",
       "      <td>0</td>\n",
       "    </tr>\n",
       "    <tr>\n",
       "      <th>4</th>\n",
       "      <td>1</td>\n",
       "      <td>2</td>\n",
       "      <td>3</td>\n",
       "      <td>0</td>\n",
       "      <td>1</td>\n",
       "      <td>3</td>\n",
       "      <td>0</td>\n",
       "    </tr>\n",
       "  </tbody>\n",
       "</table>\n",
       "</div>"
      ],
      "text/plain": [
       "   AnimalType  AgeuponOutcome  Color  Intact  Gender  NameLength  BreedKMeans\n",
       "0           1               1      0       0       1           7            0\n",
       "1           0               1      1       0       0           5            0\n",
       "2           1               2      2       0       1           6            1\n",
       "3           0               0      2       1       1           3            0\n",
       "4           1               2      3       0       1           3            0"
      ]
     },
     "execution_count": 6,
     "metadata": {},
     "output_type": "execute_result"
    }
   ],
   "source": [
    "# We now have a dataframe with 7 features.\n",
    "\n",
    "X.head()"
   ]
  },
  {
   "cell_type": "code",
   "execution_count": 7,
   "metadata": {
    "collapsed": false
   },
   "outputs": [],
   "source": [
    "X = X.as_matrix()"
   ]
  },
  {
   "cell_type": "code",
   "execution_count": 8,
   "metadata": {
    "collapsed": true
   },
   "outputs": [],
   "source": [
    "outcomes = df.OutcomeType.unique()"
   ]
  },
  {
   "cell_type": "code",
   "execution_count": 9,
   "metadata": {
    "collapsed": false
   },
   "outputs": [],
   "source": [
    "from sklearn import preprocessing\n",
    "\n",
    "# This code takes our text labels and creates an encoder that we use\n",
    "# To transform them into an array\n",
    "\n",
    "encoder = preprocessing.LabelEncoder()\n",
    "encoder.fit(outcomes)\n",
    "\n",
    "encoded_y = encoder.transform(outcomes)\n",
    "encoded_y\n",
    "\n",
    "#We can also inverse_transform them back.\n",
    "list(encoder.inverse_transform([0, 1, 2, 3, 4]))\n",
    "\n",
    "#We still need to transform the array into a matrix - this is called one hot encoding. It allows us to track the probability of each possible outcome separately.\n",
    "# convert integers into dummy variables (one hot encoding)\n",
    "\n",
    "from keras.utils import np_utils\n",
    "\n",
    "# We'll practice with the dummy for now, but we'll transform the full labels later.\n",
    "dummy_y = np_utils.to_categorical(encoded_y)\n",
    "dummy_y\n",
    "\n",
    "#We'll transform the labels into their array value, though.\n",
    "df.OutcomeType = encoder.transform(df.OutcomeType)"
   ]
  },
  {
   "cell_type": "code",
   "execution_count": 10,
   "metadata": {
    "collapsed": false
   },
   "outputs": [
    {
     "data": {
      "text/plain": [
       "array([[ 0.,  0.,  0.,  1.,  0.],\n",
       "       [ 0.,  0.,  1.,  0.,  0.],\n",
       "       [ 1.,  0.,  0.,  0.,  0.],\n",
       "       ..., \n",
       "       [ 1.,  0.,  0.,  0.,  0.],\n",
       "       [ 0.,  0.,  0.,  0.,  1.],\n",
       "       [ 0.,  0.,  0.,  0.,  1.]])"
      ]
     },
     "execution_count": 10,
     "metadata": {},
     "output_type": "execute_result"
    }
   ],
   "source": [
    "train_target = np_utils.to_categorical(df['OutcomeType'].values)\n",
    "train_target"
   ]
  },
  {
   "cell_type": "code",
   "execution_count": 17,
   "metadata": {
    "collapsed": false
   },
   "outputs": [
    {
     "name": "stdout",
     "output_type": "stream",
     "text": [
      "Compiling model...\n"
     ]
    }
   ],
   "source": [
    "model = Sequential()\n",
    "model.add(Dense(5, input_dim=7, init='normal', activation=\"relu\"))\n",
    "model.add(Dense(5, init='normal', activation='sigmoid'))\n",
    "\n",
    "# Compile model\n",
    "print(\"Compiling model...\")\n",
    "model.compile(loss='categorical_crossentropy', optimizer='adam',\n",
    "             metrics=['accuracy'])"
   ]
  },
  {
   "cell_type": "code",
   "execution_count": 18,
   "metadata": {
    "collapsed": false
   },
   "outputs": [
    {
     "name": "stdout",
     "output_type": "stream",
     "text": [
      "Train on 21383 samples, validate on 5346 samples\n",
      "Epoch 1/10\n",
      "21383/21383 [==============================] - 0s - loss: 1.2948 - acc: 0.3948 - val_loss: 1.2288 - val_acc: 0.3992\n",
      "Epoch 2/10\n",
      "21383/21383 [==============================] - 0s - loss: 1.1645 - acc: 0.4662 - val_loss: 1.0900 - val_acc: 0.5617\n",
      "Epoch 3/10\n",
      "21383/21383 [==============================] - 0s - loss: 1.0264 - acc: 0.5865 - val_loss: 1.0042 - val_acc: 0.5864\n",
      "Epoch 4/10\n",
      "21383/21383 [==============================] - 0s - loss: 0.9960 - acc: 0.5890 - val_loss: 0.9894 - val_acc: 0.5847\n",
      "Epoch 5/10\n",
      "21383/21383 [==============================] - 0s - loss: 0.9870 - acc: 0.5885 - val_loss: 0.9848 - val_acc: 0.5922\n",
      "Epoch 6/10\n",
      "21383/21383 [==============================] - 0s - loss: 0.9818 - acc: 0.5912 - val_loss: 0.9760 - val_acc: 0.5860\n",
      "Epoch 7/10\n",
      "21383/21383 [==============================] - 0s - loss: 0.9772 - acc: 0.5915 - val_loss: 0.9728 - val_acc: 0.5898\n",
      "Epoch 8/10\n",
      "21383/21383 [==============================] - 0s - loss: 0.9745 - acc: 0.5959 - val_loss: 0.9690 - val_acc: 0.5917\n",
      "Epoch 9/10\n",
      "21383/21383 [==============================] - 0s - loss: 0.9722 - acc: 0.5953 - val_loss: 0.9680 - val_acc: 0.5930\n",
      "Epoch 10/10\n",
      "21383/21383 [==============================] - 0s - loss: 0.9703 - acc: 0.5953 - val_loss: 0.9661 - val_acc: 0.5924\n",
      "\n",
      "{'val_acc': [0.3991769547325103, 0.56172839506172845, 0.5864197530864198, 0.58473625140291807, 0.59221848110736997, 0.58604564160119721, 0.58978675645342316, 0.59165731387953613, 0.59296670407781515, 0.59240553684998132], 'loss': [1.2947712480667872, 1.1644672194349193, 1.0264161343838332, 0.99604473003964034, 0.98700550316604696, 0.98184216429463267, 0.97720030782064748, 0.97449531538673906, 0.97215736302569933, 0.97029567613897383], 'val_loss': [1.2288420770750748, 1.0900052031282623, 1.0041927971667759, 0.98937516259513814, 0.9848292583033158, 0.97604818593639586, 0.97276933082604833, 0.96895141002617213, 0.96803611182470783, 0.96610724648375035], 'acc': [0.39484637329555317, 0.46616471028805156, 0.5865407099139226, 0.5889725482874153, 0.58845812094276806, 0.59117055605756041, 0.59149791891590586, 0.59589393443528982, 0.59528597484540102, 0.59528597484121981]}\n"
     ]
    }
   ],
   "source": [
    "hist = model.fit(X, train_target, validation_split=0.2)\n",
    "print(\"\")\n",
    "print(hist.history)"
   ]
  },
  {
   "cell_type": "code",
   "execution_count": 13,
   "metadata": {
    "collapsed": false
   },
   "outputs": [
    {
     "name": "stdout",
     "output_type": "stream",
     "text": [
      "26720/26729 [============================>.] - ETA: 0s"
     ]
    },
    {
     "data": {
      "text/plain": [
       "[1.0065278678596157, 0.58397246436900774]"
      ]
     },
     "execution_count": 13,
     "metadata": {},
     "output_type": "execute_result"
    }
   ],
   "source": [
    "model.evaluate(X, train_target)"
   ]
  },
  {
   "cell_type": "code",
   "execution_count": 14,
   "metadata": {
    "collapsed": false
   },
   "outputs": [
    {
     "name": "stdout",
     "output_type": "stream",
     "text": [
      "2/2 [==============================] - 0s\n"
     ]
    },
    {
     "data": {
      "text/plain": [
       "array([[  7.15802908e-01,   3.10082076e-04,   1.21944146e-02,\n",
       "          2.80688465e-01,   1.35272399e-01],\n",
       "       [  4.00894046e-01,   2.09603552e-03,   2.74598897e-02,\n",
       "          1.04723938e-01,   3.01309079e-01]], dtype=float32)"
      ]
     },
     "execution_count": 14,
     "metadata": {},
     "output_type": "execute_result"
    }
   ],
   "source": [
    "model.predict_proba(X[0:2])"
   ]
  },
  {
   "cell_type": "code",
   "execution_count": null,
   "metadata": {
    "collapsed": true
   },
   "outputs": [],
   "source": []
  }
 ],
 "metadata": {
  "anaconda-cloud": {},
  "kernelspec": {
   "display_name": "Python [default]",
   "language": "python",
   "name": "python3"
  },
  "language_info": {
   "codemirror_mode": {
    "name": "ipython",
    "version": 3
   },
   "file_extension": ".py",
   "mimetype": "text/x-python",
   "name": "python",
   "nbconvert_exporter": "python",
   "pygments_lexer": "ipython3",
   "version": "3.5.2"
  }
 },
 "nbformat": 4,
 "nbformat_minor": 0
}
