{
 "cells": [
  {
   "cell_type": "markdown",
   "metadata": {},
   "source": [
    "Random Forest using Kaggle Animal Shelter Dataset\n",
    "https://www.kaggle.com/c/shelter-animal-outcomes"
   ]
  },
  {
   "cell_type": "markdown",
   "metadata": {},
   "source": [
    "# Pre-processing the animal shelter dataset"
   ]
  },
  {
   "cell_type": "code",
   "execution_count": 1,
   "metadata": {
    "collapsed": false
   },
   "outputs": [],
   "source": [
    "import pandas as pd\n",
    "import os\n",
    "import numpy as np\n",
    "import matplotlib.pyplot as plt\n",
    "import seaborn as sns\n",
    "import csv as csv\n",
    "from sklearn.ensemble import RandomForestClassifier\n",
    "from sklearn.cross_validation import train_test_split\n",
    "from sklearn import metrics\n",
    "from sklearn.metrics import accuracy_score\n",
    "from sklearn.metrics import classification_report, log_loss, average_precision_score\n",
    "\n",
    "from textblob import TextBlob\n",
    "\n",
    "import logging\n",
    "\n",
    "%matplotlib inline"
   ]
  },
  {
   "cell_type": "code",
   "execution_count": 2,
   "metadata": {
    "collapsed": true
   },
   "outputs": [],
   "source": [
    "# Display progress logs on stdout\n",
    "logging.basicConfig(level=logging.INFO,\n",
    "                    format='%(asctime)s %(levelname)s %(message)s')"
   ]
  },
  {
   "cell_type": "code",
   "execution_count": 3,
   "metadata": {
    "collapsed": false
   },
   "outputs": [],
   "source": [
    "# Set up my data directories from different machines\n",
    "\n",
    "mac_data_dir = '/Users/christopherallison/Documents/Coding/Data'\n",
    "linux_data_dir = '/home/chris/data'\n",
    "win_data_dir = u'C:\\\\Users\\\\Owner\\\\Documents\\\\Data'"
   ]
  },
  {
   "cell_type": "code",
   "execution_count": 4,
   "metadata": {
    "collapsed": false
   },
   "outputs": [],
   "source": [
    "# Set data directory for example\n",
    "\n",
    "data_dir = mac_data_dir"
   ]
  },
  {
   "cell_type": "code",
   "execution_count": 5,
   "metadata": {
    "collapsed": false
   },
   "outputs": [],
   "source": [
    "# Load TRAINING DATA\n",
    "\n",
    "train_df = pd.read_csv(os.path.join(data_dir, 'shelter_train.csv'), header=0)        # Load the train file into a dataframe"
   ]
  },
  {
   "cell_type": "code",
   "execution_count": 6,
   "metadata": {
    "collapsed": false
   },
   "outputs": [
    {
     "data": {
      "text/plain": [
       "Index(['AnimalID', 'Name', 'DateTime', 'OutcomeType', 'OutcomeSubtype',\n",
       "       'AnimalType', 'SexuponOutcome', 'AgeuponOutcome', 'Breed', 'Color'],\n",
       "      dtype='object')"
      ]
     },
     "execution_count": 6,
     "metadata": {},
     "output_type": "execute_result"
    }
   ],
   "source": [
    "# Data exploration - what headers do we have?\n",
    "\n",
    "train_df.columns"
   ]
  },
  {
   "cell_type": "code",
   "execution_count": 8,
   "metadata": {
    "collapsed": false
   },
   "outputs": [],
   "source": [
    "# At first blush, there is an obvious difference between dogs & cats.  To start exploring the data, and for this\n",
    "# Example, we'll narrow the focus to only dogs.\n",
    "\n",
    "train_dogs = train_df.where(train_df['AnimalType']=='Dog')\n",
    "\n",
    "# This creates a DF with NaN where non-Dogs used to be, so we\n",
    "\n",
    "train_dogs.dropna(inplace=True)"
   ]
  },
  {
   "cell_type": "code",
   "execution_count": 9,
   "metadata": {
    "collapsed": false
   },
   "outputs": [
    {
     "data": {
      "text/html": [
       "<div>\n",
       "<table border=\"1\" class=\"dataframe\">\n",
       "  <thead>\n",
       "    <tr style=\"text-align: right;\">\n",
       "      <th></th>\n",
       "      <th>AnimalID</th>\n",
       "      <th>Name</th>\n",
       "      <th>DateTime</th>\n",
       "      <th>OutcomeType</th>\n",
       "      <th>OutcomeSubtype</th>\n",
       "      <th>AnimalType</th>\n",
       "      <th>SexuponOutcome</th>\n",
       "      <th>AgeuponOutcome</th>\n",
       "      <th>Breed</th>\n",
       "      <th>Color</th>\n",
       "    </tr>\n",
       "  </thead>\n",
       "  <tbody>\n",
       "    <tr>\n",
       "      <th>2</th>\n",
       "      <td>A686464</td>\n",
       "      <td>Pearce</td>\n",
       "      <td>2015-01-31 12:28:00</td>\n",
       "      <td>Adoption</td>\n",
       "      <td>Foster</td>\n",
       "      <td>Dog</td>\n",
       "      <td>Neutered Male</td>\n",
       "      <td>2 years</td>\n",
       "      <td>Pit Bull Mix</td>\n",
       "      <td>Blue/White</td>\n",
       "    </tr>\n",
       "    <tr>\n",
       "      <th>5</th>\n",
       "      <td>A677334</td>\n",
       "      <td>Elsa</td>\n",
       "      <td>2014-04-25 13:04:00</td>\n",
       "      <td>Transfer</td>\n",
       "      <td>Partner</td>\n",
       "      <td>Dog</td>\n",
       "      <td>Intact Female</td>\n",
       "      <td>1 month</td>\n",
       "      <td>Cairn Terrier/Chihuahua Shorthair</td>\n",
       "      <td>Black/Tan</td>\n",
       "    </tr>\n",
       "    <tr>\n",
       "      <th>12</th>\n",
       "      <td>A684601</td>\n",
       "      <td>Rocket</td>\n",
       "      <td>2016-02-03 11:27:00</td>\n",
       "      <td>Adoption</td>\n",
       "      <td>Foster</td>\n",
       "      <td>Dog</td>\n",
       "      <td>Neutered Male</td>\n",
       "      <td>4 years</td>\n",
       "      <td>Pit Bull Mix</td>\n",
       "      <td>Brown</td>\n",
       "    </tr>\n",
       "    <tr>\n",
       "      <th>20</th>\n",
       "      <td>A670658</td>\n",
       "      <td>Anders</td>\n",
       "      <td>2014-01-19 15:03:00</td>\n",
       "      <td>Transfer</td>\n",
       "      <td>Partner</td>\n",
       "      <td>Dog</td>\n",
       "      <td>Intact Male</td>\n",
       "      <td>2 months</td>\n",
       "      <td>Queensland Heeler Mix</td>\n",
       "      <td>Black/White</td>\n",
       "    </tr>\n",
       "    <tr>\n",
       "      <th>31</th>\n",
       "      <td>A707341</td>\n",
       "      <td>Murphy</td>\n",
       "      <td>2015-07-15 15:25:00</td>\n",
       "      <td>Transfer</td>\n",
       "      <td>Partner</td>\n",
       "      <td>Dog</td>\n",
       "      <td>Intact Male</td>\n",
       "      <td>4 months</td>\n",
       "      <td>Labrador Retriever Mix</td>\n",
       "      <td>Black/White</td>\n",
       "    </tr>\n",
       "  </tbody>\n",
       "</table>\n",
       "</div>"
      ],
      "text/plain": [
       "   AnimalID    Name             DateTime OutcomeType OutcomeSubtype  \\\n",
       "2   A686464  Pearce  2015-01-31 12:28:00    Adoption         Foster   \n",
       "5   A677334    Elsa  2014-04-25 13:04:00    Transfer        Partner   \n",
       "12  A684601  Rocket  2016-02-03 11:27:00    Adoption         Foster   \n",
       "20  A670658  Anders  2014-01-19 15:03:00    Transfer        Partner   \n",
       "31  A707341  Murphy  2015-07-15 15:25:00    Transfer        Partner   \n",
       "\n",
       "   AnimalType SexuponOutcome AgeuponOutcome  \\\n",
       "2         Dog  Neutered Male        2 years   \n",
       "5         Dog  Intact Female        1 month   \n",
       "12        Dog  Neutered Male        4 years   \n",
       "20        Dog    Intact Male       2 months   \n",
       "31        Dog    Intact Male       4 months   \n",
       "\n",
       "                                Breed        Color  \n",
       "2                        Pit Bull Mix   Blue/White  \n",
       "5   Cairn Terrier/Chihuahua Shorthair    Black/Tan  \n",
       "12                       Pit Bull Mix        Brown  \n",
       "20              Queensland Heeler Mix  Black/White  \n",
       "31             Labrador Retriever Mix  Black/White  "
      ]
     },
     "execution_count": 9,
     "metadata": {},
     "output_type": "execute_result"
    }
   ],
   "source": [
    "# Let's look at our data\n",
    "\n",
    "train_dogs.head()"
   ]
  },
  {
   "cell_type": "code",
   "execution_count": 10,
   "metadata": {
    "collapsed": false
   },
   "outputs": [
    {
     "data": {
      "text/html": [
       "<div>\n",
       "<table border=\"1\" class=\"dataframe\">\n",
       "  <thead>\n",
       "    <tr style=\"text-align: right;\">\n",
       "      <th></th>\n",
       "      <th>AnimalID</th>\n",
       "      <th>Name</th>\n",
       "      <th>DateTime</th>\n",
       "      <th>OutcomeType</th>\n",
       "      <th>OutcomeSubtype</th>\n",
       "      <th>AnimalType</th>\n",
       "      <th>SexuponOutcome</th>\n",
       "      <th>AgeuponOutcome</th>\n",
       "      <th>Breed</th>\n",
       "      <th>Color</th>\n",
       "    </tr>\n",
       "  </thead>\n",
       "  <tbody>\n",
       "    <tr>\n",
       "      <th>count</th>\n",
       "      <td>3950</td>\n",
       "      <td>3950</td>\n",
       "      <td>3950</td>\n",
       "      <td>3950</td>\n",
       "      <td>3950</td>\n",
       "      <td>3950</td>\n",
       "      <td>3950</td>\n",
       "      <td>3950</td>\n",
       "      <td>3950</td>\n",
       "      <td>3950</td>\n",
       "    </tr>\n",
       "    <tr>\n",
       "      <th>unique</th>\n",
       "      <td>3950</td>\n",
       "      <td>2138</td>\n",
       "      <td>3571</td>\n",
       "      <td>4</td>\n",
       "      <td>14</td>\n",
       "      <td>1</td>\n",
       "      <td>5</td>\n",
       "      <td>35</td>\n",
       "      <td>626</td>\n",
       "      <td>163</td>\n",
       "    </tr>\n",
       "    <tr>\n",
       "      <th>top</th>\n",
       "      <td>A677605</td>\n",
       "      <td>Bella</td>\n",
       "      <td>2015-11-23 00:00:00</td>\n",
       "      <td>Transfer</td>\n",
       "      <td>Partner</td>\n",
       "      <td>Dog</td>\n",
       "      <td>Neutered Male</td>\n",
       "      <td>2 years</td>\n",
       "      <td>Pit Bull Mix</td>\n",
       "      <td>Black/White</td>\n",
       "    </tr>\n",
       "    <tr>\n",
       "      <th>freq</th>\n",
       "      <td>1</td>\n",
       "      <td>33</td>\n",
       "      <td>8</td>\n",
       "      <td>2673</td>\n",
       "      <td>2673</td>\n",
       "      <td>3950</td>\n",
       "      <td>1562</td>\n",
       "      <td>740</td>\n",
       "      <td>614</td>\n",
       "      <td>423</td>\n",
       "    </tr>\n",
       "  </tbody>\n",
       "</table>\n",
       "</div>"
      ],
      "text/plain": [
       "       AnimalID   Name             DateTime OutcomeType OutcomeSubtype  \\\n",
       "count      3950   3950                 3950        3950           3950   \n",
       "unique     3950   2138                 3571           4             14   \n",
       "top     A677605  Bella  2015-11-23 00:00:00    Transfer        Partner   \n",
       "freq          1     33                    8        2673           2673   \n",
       "\n",
       "       AnimalType SexuponOutcome AgeuponOutcome         Breed        Color  \n",
       "count        3950           3950           3950          3950         3950  \n",
       "unique          1              5             35           626          163  \n",
       "top           Dog  Neutered Male        2 years  Pit Bull Mix  Black/White  \n",
       "freq         3950           1562            740           614          423  "
      ]
     },
     "execution_count": 10,
     "metadata": {},
     "output_type": "execute_result"
    }
   ],
   "source": [
    "# And get a better overall feel for it.\n",
    "\n",
    "train_dogs.describe()"
   ]
  },
  {
   "cell_type": "markdown",
   "metadata": {},
   "source": [
    "Of interest - our original dataset was 27,600 animals - only 3950 are dogs"
   ]
  },
  {
   "cell_type": "code",
   "execution_count": 12,
   "metadata": {
    "collapsed": false
   },
   "outputs": [],
   "source": [
    "# Now that we're only looking at dogs, we can drop this as a variable\n",
    "\n",
    "train_dogs.AnimalType.unique()\n",
    "train_dogs.drop('AnimalType', 1, inplace=True)"
   ]
  },
  {
   "cell_type": "code",
   "execution_count": 13,
   "metadata": {
    "collapsed": false
   },
   "outputs": [
    {
     "data": {
      "text/plain": [
       "array(['Adoption', 'Transfer', 'Euthanasia', 'Died'], dtype=object)"
      ]
     },
     "execution_count": 13,
     "metadata": {},
     "output_type": "execute_result"
    }
   ],
   "source": [
    "# So let's see what outcomes we're mapping against.\n",
    "\n",
    "outcomes = train_dogs.OutcomeType.unique()\n",
    "outcomes"
   ]
  },
  {
   "cell_type": "markdown",
   "metadata": {},
   "source": [
    "Of interest - Dogs aren't returned to their owners. Cats are. WTF?"
   ]
  },
  {
   "cell_type": "code",
   "execution_count": 20,
   "metadata": {
    "collapsed": false
   },
   "outputs": [
    {
     "data": {
      "text/plain": [
       "<matplotlib.axes._subplots.AxesSubplot at 0x10ae11860>"
      ]
     },
     "execution_count": 20,
     "metadata": {},
     "output_type": "execute_result"
    },
    {
     "data": {
      "image/png": "[encoded data removed]",
      "text/plain": [
       "<matplotlib.figure.Figure at 0x10af13048>"
      ]
     },
     "metadata": {},
     "output_type": "display_data"
    }
   ],
   "source": [
    "# Let's explore the data a bit more.  How do these outcomes map to our data?\n",
    "\n",
    "counts = train_dogs.groupby('OutcomeType').count()\n",
    "counts.plot.line(title=\"Outcome Counts\")"
   ]
  },
  {
   "cell_type": "markdown",
   "metadata": {
    "collapsed": true
   },
   "source": [
    "Next we'll look at the outcome subtype. This isn't an element of our test data, so we shouldn't build it directly into our classifier, but we can use it to help us understand our data.\n",
    "\n",
    "As an aside, this seems like very useful data to have on intake (and it bumps our accuracy up to 80+% when we use it)."
   ]
  },
  {
   "cell_type": "code",
   "execution_count": 21,
   "metadata": {
    "collapsed": false
   },
   "outputs": [
    {
     "data": {
      "text/plain": [
       "<matplotlib.axes._subplots.AxesSubplot at 0x10af08a20>"
      ]
     },
     "execution_count": 21,
     "metadata": {},
     "output_type": "execute_result"
    },
    {
     "data": {
      "image/png": "[encoded data removed]",
      "text/plain": [
       "<matplotlib.figure.Figure at 0x10af674e0>"
      ]
     },
     "metadata": {},
     "output_type": "display_data"
    }
   ],
   "source": [
    "dates_cross = pd.crosstab(train_dogs.OutcomeSubtype, train_dogs.OutcomeType)\n",
    "dates_cross.plot.bar()"
   ]
  },
  {
   "cell_type": "markdown",
   "metadata": {
    "collapsed": false
   },
   "source": [
    "Interesting. The outcome types are fairly siloed depending on the subtype.  Some questions:\n",
    "* Where do transferred dogs go?  Is shuffling them around an issue?  What are the outcomes after the transfer?\n",
    "* At what point do the behavior, agression and suffering subtype outcomes come into play?"
   ]
  },
  {
   "cell_type": "markdown",
   "metadata": {},
   "source": [
    "We need to transform the string categories into integers to work with the machine learning models.\n",
    "\n",
    "Let's start by doing this for the animal sex feature."
   ]
  },
  {
   "cell_type": "code",
   "execution_count": 22,
   "metadata": {
    "collapsed": false
   },
   "outputs": [
    {
     "data": {
      "text/plain": [
       "array(['Neutered Male', 'Intact Female', 'Intact Male', 'Spayed Female',\n",
       "       'Unknown'], dtype=object)"
      ]
     },
     "execution_count": 22,
     "metadata": {},
     "output_type": "execute_result"
    }
   ],
   "source": [
    "# First, let's check out the different values\n",
    "\n",
    "train_dogs.SexuponOutcome.unique()"
   ]
  },
  {
   "cell_type": "code",
   "execution_count": 23,
   "metadata": {
    "collapsed": false
   },
   "outputs": [],
   "source": [
    "# Then we'll create a dictionary through which we can transform and revert the values to strings.\n",
    "# We can also use the LabelEncoder() function - but this seems easier.\n",
    "\n",
    "def transform_string_label_to_integer(dictionary, dataframe_column):\n",
    "    # takes dictionary and dataframe column and returns translation dict\n",
    "    for i, label in enumerate(dataframe_column.unique()):\n",
    "        dictionary[label] = i"
   ]
  },
  {
   "cell_type": "code",
   "execution_count": 24,
   "metadata": {
    "collapsed": false
   },
   "outputs": [],
   "source": [
    "sex_outcome = {}\n",
    "\n",
    "transform_string_label_to_integer(sex_outcome, train_dogs.SexuponOutcome)"
   ]
  },
  {
   "cell_type": "code",
   "execution_count": 25,
   "metadata": {
    "collapsed": false
   },
   "outputs": [
    {
     "data": {
      "text/plain": [
       "{'Intact Female': 1,\n",
       " 'Intact Male': 2,\n",
       " 'Neutered Male': 0,\n",
       " 'Spayed Female': 3,\n",
       " 'Unknown': 4}"
      ]
     },
     "execution_count": 25,
     "metadata": {},
     "output_type": "execute_result"
    }
   ],
   "source": [
    "sex_outcome"
   ]
  },
  {
   "cell_type": "code",
   "execution_count": 27,
   "metadata": {
    "collapsed": false
   },
   "outputs": [],
   "source": [
    "train_dogs['SexuponOutcome'] = train_df.SexuponOutcome.map( sex_outcome )"
   ]
  },
  {
   "cell_type": "code",
   "execution_count": 28,
   "metadata": {
    "collapsed": false
   },
   "outputs": [
    {
     "data": {
      "text/plain": [
       "array(['2 years', '1 month', '4 years', '2 months', '4 months', '3 years',\n",
       "       '11 years', '6 months', '1 year', '12 years', '7 years', '7 months',\n",
       "       '5 years', '5 months', '3 months', '6 years', '9 years', '10 years',\n",
       "       '11 months', '8 months', '10 months', '8 years', '9 months',\n",
       "       '13 years', '2 weeks', '14 years', '15 years', '16 years',\n",
       "       '17 years', '1 weeks', '19 years', '3 days', '1 week', '4 weeks',\n",
       "       '6 days'], dtype=object)"
      ]
     },
     "execution_count": 28,
     "metadata": {},
     "output_type": "execute_result"
    }
   ],
   "source": [
    "train_dogs.AgeuponOutcome.unique()"
   ]
  },
  {
   "cell_type": "markdown",
   "metadata": {},
   "source": [
    "And now we come to age.  This seems to be a text field, but pretty standard, so we'll just set up a quick function to group it into standard age groups (pulled from doggie websites). Possible issue: dogs of different sizes age differently. (Should we convert breed to size and modify the age feature?)"
   ]
  },
  {
   "cell_type": "code",
   "execution_count": 29,
   "metadata": {
    "collapsed": false
   },
   "outputs": [],
   "source": [
    "period_dict = {'year': 365, 'month': 30, 'week': 7, 'day': 1, 'day': 1}\n",
    "\n",
    "age_group = {0: \"puppy\", 1: \"adolescent\", 2: \"adult\", 3: \"senior\"}\n",
    "\n",
    "def convert_age_to_group(age):\n",
    "    # Convert input age into age groupings\n",
    "    try:\n",
    "        number, period = str(age).split()\n",
    "        period = period.rstrip(\"s\")\n",
    "        days = int(number) * period_dict[period]\n",
    "        \n",
    "        if days < 365:\n",
    "            return 0\n",
    "        elif days < 730:\n",
    "            return 1\n",
    "        elif days < 2190:\n",
    "            return 2\n",
    "        else:\n",
    "            return 3\n",
    "        \n",
    "    except ValueError:\n",
    "        return 3\n",
    "    "
   ]
  },
  {
   "cell_type": "code",
   "execution_count": 30,
   "metadata": {
    "collapsed": false
   },
   "outputs": [
    {
     "data": {
      "text/plain": [
       "'puppy'"
      ]
     },
     "execution_count": 30,
     "metadata": {},
     "output_type": "execute_result"
    }
   ],
   "source": [
    "# Test our script\n",
    "\n",
    "age_group[convert_age_to_group('8 weeks')]"
   ]
  },
  {
   "cell_type": "markdown",
   "metadata": {
    "collapsed": false
   },
   "source": [
    "And we transform the AgeuponOutcome column to our groups."
   ]
  },
  {
   "cell_type": "code",
   "execution_count": 31,
   "metadata": {
    "collapsed": false
   },
   "outputs": [],
   "source": [
    "train_dogs['AgeuponOutcome'] = train_dogs.AgeuponOutcome.apply(convert_age_to_group)"
   ]
  },
  {
   "cell_type": "code",
   "execution_count": 32,
   "metadata": {
    "collapsed": false
   },
   "outputs": [
    {
     "data": {
      "text/plain": [
       "array([2, 0, 3, 1])"
      ]
     },
     "execution_count": 32,
     "metadata": {},
     "output_type": "execute_result"
    }
   ],
   "source": [
    "train_dogs.AgeuponOutcome.unique()"
   ]
  },
  {
   "cell_type": "markdown",
   "metadata": {
    "collapsed": false
   },
   "source": [
    "Now that we've grouped our data, let's look at how age effects outcome."
   ]
  },
  {
   "cell_type": "code",
   "execution_count": 33,
   "metadata": {
    "collapsed": false
   },
   "outputs": [],
   "source": [
    "ages_n_outcomes = pd.crosstab(train_dogs.AgeuponOutcome, train_dogs.OutcomeType)"
   ]
  },
  {
   "cell_type": "code",
   "execution_count": 34,
   "metadata": {
    "collapsed": false
   },
   "outputs": [
    {
     "data": {
      "text/plain": [
       "<matplotlib.axes._subplots.AxesSubplot at 0x10b195fd0>"
      ]
     },
     "execution_count": 34,
     "metadata": {},
     "output_type": "execute_result"
    },
    {
     "data": {
      "image/png": "[encoded data removed]",
      "text/plain": [
       "<matplotlib.figure.Figure at 0x10b949ef0>"
      ]
     },
     "metadata": {},
     "output_type": "display_data"
    }
   ],
   "source": [
    "ages_n_outcomes.plot.bar()"
   ]
  },
  {
   "cell_type": "markdown",
   "metadata": {},
   "source": [
    "Of interest here is the previous graph that showed that euthanized dogs were related to the OutcomeSubtypes for agression, etc."
   ]
  },
  {
   "cell_type": "markdown",
   "metadata": {},
   "source": [
    "So, we see that puppies are more likely to be adopted and adults are more likely to be euthanized, but looking at our counts again will help us interpret this data."
   ]
  },
  {
   "cell_type": "code",
   "execution_count": 38,
   "metadata": {
    "collapsed": false
   },
   "outputs": [
    {
     "data": {
      "image/png": "[encoded data removed]",
      "text/plain": [
       "<matplotlib.figure.Figure at 0x10bc76ba8>"
      ]
     },
     "metadata": {},
     "output_type": "display_data"
    }
   ],
   "source": [
    "counts = train_dogs.groupby('AgeuponOutcome').count().plot.bar()"
   ]
  },
  {
   "cell_type": "markdown",
   "metadata": {},
   "source": [
    "We should really do the same thing with color... But we're short on time here."
   ]
  },
  {
   "cell_type": "code",
   "execution_count": 40,
   "metadata": {
    "collapsed": false
   },
   "outputs": [
    {
     "data": {
      "text/plain": [
       "array(['Blue/White', 'Black/Tan', 'Brown', 'Black/White', 'Brown/Black',\n",
       "       'Buff', 'Brown Brindle/White', 'Tan', 'White', 'Brown Brindle',\n",
       "       'White/Black', 'Yellow Brindle/White', 'White/Brown', 'Tricolor',\n",
       "       'Brown/White', 'Red', 'Tan/White', 'White/Tan', 'Yellow',\n",
       "       'Brown Tiger/White', 'Black', 'Blue Merle/White', 'Blue',\n",
       "       'Buff/Tan', 'Chocolate/White', 'Blue Tiger/White', 'Gray',\n",
       "       'Blue Tick', 'Black/Brown', 'Sable', 'White/Gray', 'Brown/Tan',\n",
       "       'Red/White', 'Tan/Black', 'Yellow/White', 'Cream',\n",
       "       'Blue Cream/Blue Tiger', 'Blue Merle/Gray', 'Chocolate/Tan',\n",
       "       'Black Brindle/White', 'White/Blue', 'Fawn', 'Brown Merle',\n",
       "       'White/Red', 'White/Brown Brindle', 'Brown/Brown', 'Fawn/White',\n",
       "       'Cream/White', 'White/Cream', 'Blue/Tan', 'Brown Brindle/Black',\n",
       "       'Blue Merle', 'Black/Tricolor', 'Gray/White', 'Red Tick/White',\n",
       "       'Silver/Brown', 'Black/Brown Brindle', 'Black Brindle',\n",
       "       'Black/Blue Merle', 'Brown/Tricolor', 'White/White', 'Red Merle',\n",
       "       'White/Tricolor', 'Buff/White', 'White/Chocolate', 'Sable/White',\n",
       "       'Red/Gold', 'White/Buff', 'Tan/Brown', 'Gold', 'Black/Black',\n",
       "       'White/Blue Cream', 'Sable/Black', 'Red/Black', 'Fawn/Tricolor',\n",
       "       'Sable/Brown', 'Buff/Red', 'Tan/Brown Brindle', 'Chocolate',\n",
       "       'Blue Tick/White', 'Blue Merle/Brown', 'Orange/Tan', 'Fawn/Black',\n",
       "       'White/Black Brindle', 'Blue Tick/Black', 'Red/Cream',\n",
       "       'White/Orange', 'Red Merle/White', 'Red/Blue', 'Blue Smoke/Brown',\n",
       "       'Black/Red', 'Gold/White', 'Buff/Black', 'Brown Merle/Black',\n",
       "       'Black/Gray', 'White/Blue Merle', 'Blue Merle/Tan', 'Tan/Tan',\n",
       "       'White/Brown Merle', 'Brown/Red', 'Tricolor/White', 'White/Yellow',\n",
       "       'Yellow Brindle', 'Chocolate/Black', 'Black/Blue', 'Gray/Silver',\n",
       "       'Blue/Brown Brindle', 'Blue Merle/Tricolor', 'Red/Tan',\n",
       "       'Chocolate/Red', 'Tan/Buff', 'Tan/Cream', 'Blue Merle/Black',\n",
       "       'Red/Tricolor', 'Red Tick', 'Silver/Tan', 'Tricolor/Chocolate',\n",
       "       'Gold/Gold', 'Brown/Gray', 'Red Tick/Blue Tick', 'Tan/Silver',\n",
       "       'Brown Merle/White', 'Black Brindle/Brown', 'White/Pink',\n",
       "       'Sable/Cream', 'Sable/Tan', 'Blue/Black', 'Cream/Tan',\n",
       "       'White/Liver', 'Blue Tick/Red Tick', 'Brown Brindle/Blue',\n",
       "       'Blue Merle/Red', 'Cream/Gray', 'Tricolor/Brown', 'Apricot/Brown',\n",
       "       'Tan/Blue', 'Cream/Black', 'Apricot', 'Fawn/Brown',\n",
       "       'White/Red Tick', 'Gray/Black', 'White/Blue Tick', 'Gray/Red',\n",
       "       'Tricolor/Black', 'Blue Tick/Brown Brindle', 'Liver Tick/White',\n",
       "       'Gray/Tan', 'Tan/Tricolor', 'Brown/Cream', 'White/Gold',\n",
       "       'Black/Black Brindle', 'Black/Brown Merle', 'Tan/Gray',\n",
       "       'Brown Tiger', 'Liver Tick', 'Red/Buff', 'Tan/Yellow Brindle',\n",
       "       'Fawn/Tan', 'Black Brindle/Brown Brindle', 'Orange/White',\n",
       "       'Gold/Buff', 'Fawn/Blue', 'Black/Cream'], dtype=object)"
      ]
     },
     "execution_count": 40,
     "metadata": {},
     "output_type": "execute_result"
    }
   ],
   "source": [
    "train_dogs.Color.unique()"
   ]
  },
  {
   "cell_type": "markdown",
   "metadata": {},
   "source": [
    "Some people really like their dogs...  That is a lot of colours."
   ]
  },
  {
   "cell_type": "code",
   "execution_count": 56,
   "metadata": {
    "collapsed": false
   },
   "outputs": [
    {
     "data": {
      "text/plain": [
       "19"
      ]
     },
     "execution_count": 56,
     "metadata": {},
     "output_type": "execute_result"
    }
   ],
   "source": [
    "len(train_dogs.Color.unique())"
   ]
  },
  {
   "cell_type": "markdown",
   "metadata": {},
   "source": [
    "We're still exploring here, so we will radically simplify the list."
   ]
  },
  {
   "cell_type": "code",
   "execution_count": 48,
   "metadata": {
    "collapsed": false
   },
   "outputs": [],
   "source": [
    "def simplify_colors(color):\n",
    "    sc = color.lower().replace(\"/\",\" \").split(\" \")\n",
    "    return sc[0]"
   ]
  },
  {
   "cell_type": "code",
   "execution_count": 50,
   "metadata": {
    "collapsed": false
   },
   "outputs": [
    {
     "data": {
      "text/plain": [
       "'black'"
      ]
     },
     "execution_count": 50,
     "metadata": {},
     "output_type": "execute_result"
    }
   ],
   "source": [
    "simplify_colors(\"Black Brindle/Brown\")"
   ]
  },
  {
   "cell_type": "code",
   "execution_count": 52,
   "metadata": {
    "collapsed": false
   },
   "outputs": [],
   "source": [
    "train_dogs.Color = train_dogs.Color.apply(simplify_colors)"
   ]
  },
  {
   "cell_type": "code",
   "execution_count": 53,
   "metadata": {
    "collapsed": false
   },
   "outputs": [
    {
     "data": {
      "text/plain": [
       "19"
      ]
     },
     "execution_count": 53,
     "metadata": {},
     "output_type": "execute_result"
    }
   ],
   "source": [
    "len(train_dogs.Color.unique())"
   ]
  },
  {
   "cell_type": "code",
   "execution_count": 57,
   "metadata": {
    "collapsed": false
   },
   "outputs": [],
   "source": [
    "color = {}\n",
    "\n",
    "transform_string_label_to_integer(color, train_dogs.Color)\n",
    "    \n",
    "train_dogs['Color'] = train_dogs.Color.map( color ).astype(int)"
   ]
  },
  {
   "cell_type": "code",
   "execution_count": 58,
   "metadata": {
    "collapsed": false
   },
   "outputs": [],
   "source": [
    "# We could also do something very cool with text analysis for names, but we'll keep it simple and go length\n",
    "\n",
    "train_dogs['NameLength'] = train_df.Name.apply(lambda x: len(str(x)))"
   ]
  },
  {
   "cell_type": "markdown",
   "metadata": {},
   "source": [
    "We've done a lot of pre-processing and have a good idea what our dataset looks like.  The Breed feature will be tricky, though, so let's save what we've done."
   ]
  },
  {
   "cell_type": "code",
   "execution_count": 59,
   "metadata": {
    "collapsed": false
   },
   "outputs": [
    {
     "data": {
      "text/html": [
       "<div>\n",
       "<table border=\"1\" class=\"dataframe\">\n",
       "  <thead>\n",
       "    <tr style=\"text-align: right;\">\n",
       "      <th></th>\n",
       "      <th>AnimalID</th>\n",
       "      <th>Name</th>\n",
       "      <th>DateTime</th>\n",
       "      <th>OutcomeType</th>\n",
       "      <th>OutcomeSubtype</th>\n",
       "      <th>AnimalType</th>\n",
       "      <th>SexuponOutcome</th>\n",
       "      <th>AgeuponOutcome</th>\n",
       "      <th>Breed</th>\n",
       "      <th>Color</th>\n",
       "      <th>NameLength</th>\n",
       "    </tr>\n",
       "  </thead>\n",
       "  <tbody>\n",
       "    <tr>\n",
       "      <th>2</th>\n",
       "      <td>A686464</td>\n",
       "      <td>Pearce</td>\n",
       "      <td>2015-01-31 12:28:00</td>\n",
       "      <td>Adoption</td>\n",
       "      <td>Foster</td>\n",
       "      <td>Dog</td>\n",
       "      <td>0</td>\n",
       "      <td>2</td>\n",
       "      <td>Pit Bull Mix</td>\n",
       "      <td>0</td>\n",
       "      <td>6</td>\n",
       "    </tr>\n",
       "    <tr>\n",
       "      <th>5</th>\n",
       "      <td>A677334</td>\n",
       "      <td>Elsa</td>\n",
       "      <td>2014-04-25 13:04:00</td>\n",
       "      <td>Transfer</td>\n",
       "      <td>Partner</td>\n",
       "      <td>Dog</td>\n",
       "      <td>1</td>\n",
       "      <td>0</td>\n",
       "      <td>Cairn Terrier/Chihuahua Shorthair</td>\n",
       "      <td>1</td>\n",
       "      <td>4</td>\n",
       "    </tr>\n",
       "    <tr>\n",
       "      <th>12</th>\n",
       "      <td>A684601</td>\n",
       "      <td>Rocket</td>\n",
       "      <td>2016-02-03 11:27:00</td>\n",
       "      <td>Adoption</td>\n",
       "      <td>Foster</td>\n",
       "      <td>Dog</td>\n",
       "      <td>0</td>\n",
       "      <td>2</td>\n",
       "      <td>Pit Bull Mix</td>\n",
       "      <td>2</td>\n",
       "      <td>6</td>\n",
       "    </tr>\n",
       "    <tr>\n",
       "      <th>20</th>\n",
       "      <td>A670658</td>\n",
       "      <td>Anders</td>\n",
       "      <td>2014-01-19 15:03:00</td>\n",
       "      <td>Transfer</td>\n",
       "      <td>Partner</td>\n",
       "      <td>Dog</td>\n",
       "      <td>2</td>\n",
       "      <td>0</td>\n",
       "      <td>Queensland Heeler Mix</td>\n",
       "      <td>1</td>\n",
       "      <td>6</td>\n",
       "    </tr>\n",
       "    <tr>\n",
       "      <th>31</th>\n",
       "      <td>A707341</td>\n",
       "      <td>Murphy</td>\n",
       "      <td>2015-07-15 15:25:00</td>\n",
       "      <td>Transfer</td>\n",
       "      <td>Partner</td>\n",
       "      <td>Dog</td>\n",
       "      <td>2</td>\n",
       "      <td>0</td>\n",
       "      <td>Labrador Retriever Mix</td>\n",
       "      <td>1</td>\n",
       "      <td>6</td>\n",
       "    </tr>\n",
       "  </tbody>\n",
       "</table>\n",
       "</div>"
      ],
      "text/plain": [
       "   AnimalID    Name             DateTime OutcomeType OutcomeSubtype  \\\n",
       "2   A686464  Pearce  2015-01-31 12:28:00    Adoption         Foster   \n",
       "5   A677334    Elsa  2014-04-25 13:04:00    Transfer        Partner   \n",
       "12  A684601  Rocket  2016-02-03 11:27:00    Adoption         Foster   \n",
       "20  A670658  Anders  2014-01-19 15:03:00    Transfer        Partner   \n",
       "31  A707341  Murphy  2015-07-15 15:25:00    Transfer        Partner   \n",
       "\n",
       "   AnimalType  SexuponOutcome  AgeuponOutcome  \\\n",
       "2         Dog               0               2   \n",
       "5         Dog               1               0   \n",
       "12        Dog               0               2   \n",
       "20        Dog               2               0   \n",
       "31        Dog               2               0   \n",
       "\n",
       "                                Breed  Color  NameLength  \n",
       "2                        Pit Bull Mix      0           6  \n",
       "5   Cairn Terrier/Chihuahua Shorthair      1           4  \n",
       "12                       Pit Bull Mix      2           6  \n",
       "20              Queensland Heeler Mix      1           6  \n",
       "31             Labrador Retriever Mix      1           6  "
      ]
     },
     "execution_count": 59,
     "metadata": {},
     "output_type": "execute_result"
    }
   ],
   "source": [
    "train_dogs.interpolate(inplace=True) # could have used dropna().median()\n",
    "train_dogs.head()"
   ]
  },
  {
   "cell_type": "code",
   "execution_count": 60,
   "metadata": {
    "collapsed": false
   },
   "outputs": [],
   "source": [
    "# Save our clean dataframe to csv so we don't need to do this again.\n",
    "train_dogs.to_csv(os.path.join(data_dir, \"dogs_clean_train.csv\"))"
   ]
  },
  {
   "cell_type": "markdown",
   "metadata": {},
   "source": [
    "### K-Means for Breed types"
   ]
  },
  {
   "cell_type": "code",
   "execution_count": 103,
   "metadata": {
    "collapsed": false
   },
   "outputs": [],
   "source": [
    "# Let's reload our dataframe.\n",
    "\n",
    "train_dogs = pd.read_csv(os.path.join(data_dir, \"dogs_clean_train.csv\"), index_col=0)"
   ]
  },
  {
   "cell_type": "code",
   "execution_count": 61,
   "metadata": {
    "collapsed": false
   },
   "outputs": [
    {
     "data": {
      "text/html": [
       "<div>\n",
       "<table border=\"1\" class=\"dataframe\">\n",
       "  <thead>\n",
       "    <tr style=\"text-align: right;\">\n",
       "      <th></th>\n",
       "      <th>AnimalID</th>\n",
       "      <th>Name</th>\n",
       "      <th>DateTime</th>\n",
       "      <th>OutcomeType</th>\n",
       "      <th>OutcomeSubtype</th>\n",
       "      <th>AnimalType</th>\n",
       "      <th>SexuponOutcome</th>\n",
       "      <th>AgeuponOutcome</th>\n",
       "      <th>Breed</th>\n",
       "      <th>Color</th>\n",
       "      <th>NameLength</th>\n",
       "    </tr>\n",
       "  </thead>\n",
       "  <tbody>\n",
       "    <tr>\n",
       "      <th>2</th>\n",
       "      <td>A686464</td>\n",
       "      <td>Pearce</td>\n",
       "      <td>2015-01-31 12:28:00</td>\n",
       "      <td>Adoption</td>\n",
       "      <td>Foster</td>\n",
       "      <td>Dog</td>\n",
       "      <td>0</td>\n",
       "      <td>2</td>\n",
       "      <td>Pit Bull Mix</td>\n",
       "      <td>0</td>\n",
       "      <td>6</td>\n",
       "    </tr>\n",
       "    <tr>\n",
       "      <th>5</th>\n",
       "      <td>A677334</td>\n",
       "      <td>Elsa</td>\n",
       "      <td>2014-04-25 13:04:00</td>\n",
       "      <td>Transfer</td>\n",
       "      <td>Partner</td>\n",
       "      <td>Dog</td>\n",
       "      <td>1</td>\n",
       "      <td>0</td>\n",
       "      <td>Cairn Terrier/Chihuahua Shorthair</td>\n",
       "      <td>1</td>\n",
       "      <td>4</td>\n",
       "    </tr>\n",
       "    <tr>\n",
       "      <th>12</th>\n",
       "      <td>A684601</td>\n",
       "      <td>Rocket</td>\n",
       "      <td>2016-02-03 11:27:00</td>\n",
       "      <td>Adoption</td>\n",
       "      <td>Foster</td>\n",
       "      <td>Dog</td>\n",
       "      <td>0</td>\n",
       "      <td>2</td>\n",
       "      <td>Pit Bull Mix</td>\n",
       "      <td>2</td>\n",
       "      <td>6</td>\n",
       "    </tr>\n",
       "    <tr>\n",
       "      <th>20</th>\n",
       "      <td>A670658</td>\n",
       "      <td>Anders</td>\n",
       "      <td>2014-01-19 15:03:00</td>\n",
       "      <td>Transfer</td>\n",
       "      <td>Partner</td>\n",
       "      <td>Dog</td>\n",
       "      <td>2</td>\n",
       "      <td>0</td>\n",
       "      <td>Queensland Heeler Mix</td>\n",
       "      <td>1</td>\n",
       "      <td>6</td>\n",
       "    </tr>\n",
       "    <tr>\n",
       "      <th>31</th>\n",
       "      <td>A707341</td>\n",
       "      <td>Murphy</td>\n",
       "      <td>2015-07-15 15:25:00</td>\n",
       "      <td>Transfer</td>\n",
       "      <td>Partner</td>\n",
       "      <td>Dog</td>\n",
       "      <td>2</td>\n",
       "      <td>0</td>\n",
       "      <td>Labrador Retriever Mix</td>\n",
       "      <td>1</td>\n",
       "      <td>6</td>\n",
       "    </tr>\n",
       "  </tbody>\n",
       "</table>\n",
       "</div>"
      ],
      "text/plain": [
       "   AnimalID    Name             DateTime OutcomeType OutcomeSubtype  \\\n",
       "2   A686464  Pearce  2015-01-31 12:28:00    Adoption         Foster   \n",
       "5   A677334    Elsa  2014-04-25 13:04:00    Transfer        Partner   \n",
       "12  A684601  Rocket  2016-02-03 11:27:00    Adoption         Foster   \n",
       "20  A670658  Anders  2014-01-19 15:03:00    Transfer        Partner   \n",
       "31  A707341  Murphy  2015-07-15 15:25:00    Transfer        Partner   \n",
       "\n",
       "   AnimalType  SexuponOutcome  AgeuponOutcome  \\\n",
       "2         Dog               0               2   \n",
       "5         Dog               1               0   \n",
       "12        Dog               0               2   \n",
       "20        Dog               2               0   \n",
       "31        Dog               2               0   \n",
       "\n",
       "                                Breed  Color  NameLength  \n",
       "2                        Pit Bull Mix      0           6  \n",
       "5   Cairn Terrier/Chihuahua Shorthair      1           4  \n",
       "12                       Pit Bull Mix      2           6  \n",
       "20              Queensland Heeler Mix      1           6  \n",
       "31             Labrador Retriever Mix      1           6  "
      ]
     },
     "execution_count": 61,
     "metadata": {},
     "output_type": "execute_result"
    }
   ],
   "source": [
    "train_dogs.head()"
   ]
  },
  {
   "cell_type": "markdown",
   "metadata": {},
   "source": [
    "And look at the Breed feature."
   ]
  },
  {
   "cell_type": "code",
   "execution_count": 62,
   "metadata": {
    "collapsed": false
   },
   "outputs": [
    {
     "data": {
      "text/plain": [
       "array(['Pit Bull Mix', 'Cairn Terrier/Chihuahua Shorthair',\n",
       "       'Queensland Heeler Mix', 'Labrador Retriever Mix',\n",
       "       'Chihuahua Shorthair Mix', 'Yorkshire Terrier Mix', 'Pointer Mix',\n",
       "       'English Foxhound', 'Cardigan Welsh Corgi/Chihuahua Shorthair',\n",
       "       'Chihuahua Shorthair', 'Lhasa Apso', 'German Shepherd Mix',\n",
       "       'Border Collie Mix', 'Boxer Mix', 'Chihuahua Shorthair/Dachshund',\n",
       "       'Miniature Pinscher/Chihuahua Shorthair', 'Dachshund Mix',\n",
       "       'Australian Cattle Dog Mix', 'Catahoula/Labrador Retriever',\n",
       "       'Whippet Mix', 'Rat Terrier Mix', 'English Pointer Mix',\n",
       "       'Labrador Retriever/Pit Bull', 'Basset Hound/Labrador Retriever',\n",
       "       'Airedale Terrier Mix', 'Chihuahua Shorthair/Rat Terrier',\n",
       "       'Cocker Spaniel', 'Plott Hound Mix', 'Dachshund',\n",
       "       'Border Collie/Labrador Retriever', 'Great Dane', 'Akita/Pit Bull',\n",
       "       'Labrador Retriever', 'Rottweiler Mix',\n",
       "       'Labrador Retriever/Blue Lacy', 'Dachshund/Chihuahua Shorthair',\n",
       "       'Boxer', 'Australian Cattle Dog/Labrador Retriever',\n",
       "       'German Shepherd/Collie Rough',\n",
       "       'Labrador Retriever/Black Mouth Cur', 'Papillon/Border Collie',\n",
       "       'Miniature Schnauzer/Miniature Poodle',\n",
       "       'Dachshund Wirehair/Miniature Poodle', 'Pit Bull/Weimaraner',\n",
       "       'Yorkshire Terrier/Chihuahua Shorthair', 'Australian Kelpie Mix',\n",
       "       'Chow Chow Mix', 'Dogo Argentino Mix',\n",
       "       'Boxer/Australian Cattle Dog', 'Shih Tzu Mix',\n",
       "       'Miniature Pinscher/Pomeranian', 'Harrier Mix',\n",
       "       'German Shepherd/Labrador Retriever', 'Catahoula Mix',\n",
       "       'Jack Russell Terrier/Australian Cattle Dog',\n",
       "       'Jack Russell Terrier Mix', 'Siberian Husky Mix', 'Beagle Mix',\n",
       "       'Staffordshire Mix', 'German Shepherd', 'Beagle/Pug',\n",
       "       'Miniature Pinscher Mix', 'Yorkshire Terrier/Miniature Poodle',\n",
       "       'Miniature Poodle/Miniature Schnauzer', 'Manchester Terrier Mix',\n",
       "       'English Setter Mix', 'Pomeranian Mix', 'Boxer/Pit Bull',\n",
       "       'Labrador Retriever/Border Collie', 'Toy Poodle/Maltese',\n",
       "       'Smooth Fox Terrier Mix', 'Shih Tzu/Maltese', 'Cocker Spaniel Mix',\n",
       "       'Pug Mix', 'Maltese Mix', 'Rottweiler/Rhod Ridgeback',\n",
       "       'American Staffordshire Terrier Mix', 'Parson Russell Terrier Mix',\n",
       "       'American Bulldog Mix', 'Miniature Poodle Mix',\n",
       "       'Dachshund/Shih Tzu', 'American Pit Bull Terrier',\n",
       "       'Miniature Schnauzer', 'Black Mouth Cur Mix', 'Carolina Dog Mix',\n",
       "       'Australian Shepherd', 'St. Bernard Rough Coat Mix',\n",
       "       'Staffordshire/Boston Terrier', 'Doberman Pinsch Mix', 'Pit Bull',\n",
       "       'Siberian Husky/German Shepherd', 'Lhasa Apso Mix',\n",
       "       'Rhod Ridgeback Mix', 'Basenji/Chihuahua Longhair',\n",
       "       'Miniature Poodle/Dachshund', 'Cardigan Welsh Corgi Mix',\n",
       "       'Bruss Griffon Mix', 'Flat Coat Retriever Mix', 'Bloodhound Mix',\n",
       "       'Affenpinscher Mix', 'Border Collie/Australian Cattle Dog',\n",
       "       'Norwich Terrier Mix', 'Labrador Retriever/Australian Shepherd',\n",
       "       'Greyhound', 'Siberian Husky', 'Australian Shepherd Mix',\n",
       "       'Dachshund Longhair/Chihuahua Shorthair', 'Dachshund Wirehair Mix',\n",
       "       'Golden Retriever Mix', 'Norfolk Terrier Mix', 'Pointer/Catahoula',\n",
       "       'Great Pyrenees', 'American Bulldog/Labrador Retriever',\n",
       "       'Shetland Sheepdog/Border Collie', 'Shih Tzu',\n",
       "       'German Shepherd/Chow Chow',\n",
       "       'Miniature Schnauzer/Soft Coated Wheaten Terrier',\n",
       "       'Rottweiler/German Shepherd',\n",
       "       'German Shepherd/Australian Cattle Dog', 'Labrador Retriever/Boxer',\n",
       "       'Basset Hound Mix', 'Pit Bull/St. Bernard Smooth Coat',\n",
       "       'Carolina Dog/Chihuahua Shorthair', 'Tibetan Terrier Mix',\n",
       "       'Chihuahua Shorthair/Yorkshire Terrier', 'Collie Smooth Mix',\n",
       "       'Yorkshire Terrier', 'Blue Lacy Mix', 'Boston Terrier Mix',\n",
       "       'Pit Bull/Catahoula', 'Shetland Sheepdog', 'Weimaraner',\n",
       "       'Chihuahua Shorthair/Cairn Terrier', 'Miniature Pinscher',\n",
       "       'Boston Terrier', 'Bruss Griffon/Chihuahua Shorthair',\n",
       "       'Catahoula/Australian Cattle Dog', 'Great Pyrenees Mix',\n",
       "       'Dogo Argentino/Chinese Sharpei', 'Labrador Retriever/Beagle',\n",
       "       'Catahoula/Chow Chow', 'Dachshund/Manchester Terrier',\n",
       "       'Labrador Retriever/German Shepherd', 'Standard Schnauzer Mix',\n",
       "       'Pekingese Mix', 'Mastiff Mix', 'Chesa Bay Retr Mix',\n",
       "       'Whippet/Shetland Sheepdog', 'Golden Retriever/Whippet',\n",
       "       'Cocker Spaniel/Standard Poodle', 'Pit Bull/Chinese Sharpei',\n",
       "       'Brittany Mix', 'Labrador Retriever/Pointer', 'Shih Tzu/Havanese',\n",
       "       'Miniature Schnauzer Mix', 'Great Pyrenees/Siberian Husky',\n",
       "       'Doberman Pinsch/Border Collie', 'Shetland Sheepdog Mix', 'Akita',\n",
       "       'Cairn Terrier', 'Chihuahua Shorthair/Dachshund Wirehair',\n",
       "       'Kuvasz/Labrador Retriever', 'Labrador Retriever/Chinese Sharpei',\n",
       "       'Dachshund Wirehair', 'Anatol Shepherd Mix', 'Basenji Mix',\n",
       "       'Labrador Retriever/Border Terrier', 'Labrador Retriever/Chow Chow',\n",
       "       'Border Terrier Mix', 'West Highland Mix',\n",
       "       'Cocker Spaniel/Labrador Retriever', 'Shih Tzu/Miniature Poodle',\n",
       "       'Pekingese/Miniature Poodle', 'Dachshund Longhair Mix',\n",
       "       'Black Mouth Cur/American Staffordshire Terrier',\n",
       "       'Australian Cattle Dog', 'Chihuahua Longhair Mix',\n",
       "       'Rottweiler/Labrador Retriever', 'Dachshund/Rat Terrier',\n",
       "       'American Pit Bull Terrier Mix',\n",
       "       'Chihuahua Shorthair/Wire Hair Fox Terrier', 'Podengo Pequeno Mix',\n",
       "       'Dalmatian/Australian Cattle Dog', 'Beagle/Chihuahua Shorthair',\n",
       "       'English Coonhound Mix', 'Pit Bull/Australian Cattle Dog',\n",
       "       'Chinese Sharpei Mix', 'Pomeranian/Jack Russell Terrier',\n",
       "       'Rat Terrier/Chihuahua Shorthair', 'Bull Terrier Mix',\n",
       "       'St. Bernard Smooth Coat Mix', 'Labrador Retriever/Anatol Shepherd',\n",
       "       'Chinese Sharpei', 'Beagle', 'Anatol Shepherd',\n",
       "       'Great Dane/German Shepherd', 'Great Pyrenees/Standard Poodle',\n",
       "       'Lhasa Apso/Shih Tzu', 'German Shorthair Pointer Mix',\n",
       "       'Irish Setter/Pit Bull', 'Pointer/Blue Lacy', 'Chihuahua Longhair',\n",
       "       'Bull Terrier/Boxer', 'Pointer/Labrador Retriever', 'Rottweiler',\n",
       "       'Patterdale Terr Mix', 'Maltese/Miniature Poodle',\n",
       "       'Pembroke Welsh Corgi/Brittany', 'Golden Retriever/Great Pyrenees',\n",
       "       'Soft Coated Wheaten Terrier Mix', 'Chihuahua Longhair/Pomeranian',\n",
       "       'Pug/Chihuahua Shorthair', 'Dachshund Wirehair/Rat Terrier',\n",
       "       'Boston Terrier/Dachshund', 'Chihuahua Shorthair/Toy Fox Terrier',\n",
       "       'Pomeranian', 'Pit Bull/Labrador Retriever',\n",
       "       'Chow Chow/German Shepherd', 'Bearded Collie Mix',\n",
       "       'Canaan Dog/Pit Bull', 'Beauceron Mix', 'Pekingese', 'Pug',\n",
       "       'Redbone Hound Mix', 'Australian Cattle Dog/Catahoula',\n",
       "       'Tibetan Spaniel Mix', 'Italian Greyhound', 'Pit Bull/Boxer',\n",
       "       'Shih Tzu/Australian Shepherd', 'English Springer Spaniel/Beagle',\n",
       "       'Collie Rough Mix', 'Pointer',\n",
       "       'Boxer/American Staffordshire Terrier',\n",
       "       'Australian Cattle Dog/Dalmatian', 'Harrier/Catahoula',\n",
       "       'Bullmastiff Mix', 'Yorkshire Terrier/Maltese',\n",
       "       'Chow Chow/Basset Hound', 'Chihuahua Shorthair/Basset Hound',\n",
       "       'Shih Tzu/Pekingese', 'Pbgv Mix',\n",
       "       'Australian Shepherd/Labrador Retriever',\n",
       "       'Chow Chow/English Cocker Spaniel', 'Toy Fox Terrier Mix',\n",
       "       'Wire Hair Fox Terrier Mix', 'Boxer/Labrador Retriever',\n",
       "       'Boxer/Staffordshire', 'Australian Shepherd/Border Collie',\n",
       "       'Labrador Retriever/Rottweiler', 'Beagle/German Shepherd',\n",
       "       'Leonberger Mix', 'Great Pyrenees/Labrador Retriever',\n",
       "       'Shih Tzu/Miniature Schnauzer',\n",
       "       'Chihuahua Shorthair/Cardigan Welsh Corgi',\n",
       "       'American Staffordshire Terrier',\n",
       "       'Chihuahua Shorthair/Jack Russell Terrier',\n",
       "       'Miniature Schnauzer/Queensland Heeler',\n",
       "       'German Shepherd/Rottweiler', 'Presa Canario Mix',\n",
       "       'Australian Cattle Dog/Pembroke Welsh Corgi',\n",
       "       'German Shepherd/Boxer', 'Manchester Terrier/Chihuahua Shorthair',\n",
       "       'Alaskan Husky/German Shepherd',\n",
       "       'Labrador Retriever/Queensland Heeler', 'Dachshund/Pit Bull',\n",
       "       'Bichon Frise', 'Black Mouth Cur/Boxer',\n",
       "       'Chinese Sharpei/Border Collie', 'Staffordshire/Beagle',\n",
       "       'Border Collie', 'Australian Cattle Dog/Boxer',\n",
       "       'German Shepherd/Border Collie',\n",
       "       'Labrador Retriever/Pembroke Welsh Corgi', 'Italian Greyhound Mix',\n",
       "       'Lhasa Apso/Miniature Poodle', 'Neapolitan Mastiff Mix',\n",
       "       'Weimaraner Mix', 'Catahoula/Black Mouth Cur',\n",
       "       'Cairn Terrier/Yorkshire Terrier', 'Rottweiler/Chow Chow',\n",
       "       'Nova Scotia Duck Tolling Retriever/Golden Retriever',\n",
       "       'Pit Bull/Basset Hound', 'Belgian Malinois Mix',\n",
       "       'Australian Cattle Dog/Pit Bull',\n",
       "       'American Pit Bull Terrier/Catahoula',\n",
       "       'French Bulldog/Chihuahua Shorthair', 'Newfoundland Mix',\n",
       "       'Pointer/Border Collie', 'Miniature Poodle/Cocker Spaniel',\n",
       "       'Rhod Ridgeback', 'Cocker Spaniel/Golden Retriever',\n",
       "       'Tibetan Terrier/Lhasa Apso',\n",
       "       'Dachshund Wirehair/Chihuahua Shorthair', 'Black/Tan Hound Mix',\n",
       "       'Black Mouth Cur/Labrador Retriever', 'Finnish Spitz Mix',\n",
       "       'Labrador Retriever/Australian Cattle Dog',\n",
       "       'Alaskan Husky/Australian Shepherd',\n",
       "       'Chihuahua Shorthair/Miniature Pinscher',\n",
       "       'Labrador Retriever/Siberian Husky', 'Chihuahua Shorthair/Beagle',\n",
       "       'Entlebucher Mix', 'Golden Retriever/Chow Chow',\n",
       "       'Plott Hound/Labrador Retriever', 'Chow Chow/Pit Bull',\n",
       "       'Anatol Shepherd/Redbone Hound', 'Border Collie/Queensland Heeler',\n",
       "       'Boxer/Redbone Hound', 'Basset Hound', 'Border Collie/Boxer',\n",
       "       'Queensland Heeler/Pit Bull', 'German Shepherd/Pit Bull',\n",
       "       'Standard Poodle', 'Collie Smooth/Golden Retriever',\n",
       "       'Cairn Terrier Mix',\n",
       "       'American Staffordshire Terrier/Labrador Retriever',\n",
       "       'Wire Hair Fox Terrier', 'Miniature Poodle/Pomeranian',\n",
       "       'Border Collie/Whippet', 'Shiba Inu Mix',\n",
       "       'Pembroke Welsh Corgi Mix', 'Anatol Shepherd/Australian Cattle Dog',\n",
       "       'Chihuahua Shorthair/Shih Tzu', 'Pug/Border Terrier',\n",
       "       'Dogue De Bordeaux Mix', 'Flat Coat Retriever/Papillon',\n",
       "       'Basenji/Jack Russell Terrier',\n",
       "       'Airedale Terrier/Labrador Retriever',\n",
       "       'Scottish Terrier/Basset Hound', 'Miniature Poodle',\n",
       "       'Chinese Crested/Papillon', 'Akita Mix', 'Harrier',\n",
       "       'St. Bernard Smooth Coat', 'Pointer/Bull Terrier',\n",
       "       'Chihuahua Shorthair/Lhasa Apso', 'Great Dane Mix',\n",
       "       'Rottweiler/Beagle', 'Staffordshire', 'Australian Kelpie/Blue Lacy',\n",
       "       'Doberman Pinsch', 'Jindo Mix', 'Shih Tzu/Norfolk Terrier',\n",
       "       'Beagle/Dachshund', 'Miniature Poodle/Havanese',\n",
       "       'Australian Cattle Dog/Beagle',\n",
       "       'Chihuahua Shorthair/Shetland Sheepdog',\n",
       "       'Alaskan Malamute/Border Collie', 'Australian Kelpie',\n",
       "       'German Shepherd/Alaskan Husky', 'Blue Lacy/Australian Kelpie',\n",
       "       'English Bulldog Mix', 'American Bulldog/Pointer',\n",
       "       'Black Mouth Cur', 'Siberian Husky/Australian Cattle Dog',\n",
       "       'Cardigan Welsh Corgi/Australian Cattle Dog', 'Dutch Shepherd Mix',\n",
       "       'Black/Tan Hound/Black Mouth Cur', 'Boxer/Black Mouth Cur',\n",
       "       'Dachshund/Basset Hound', 'Schnauzer Giant Mix', 'Airedale Terrier',\n",
       "       'Chihuahua Shorthair/Pug', 'Black Mouth Cur/Australian Cattle Dog',\n",
       "       'Australian Shepherd/Nova Scotia Duck Tolling Retriever',\n",
       "       'Dachshund/Belgian Malinois',\n",
       "       'English Springer Spaniel/Cardigan Welsh Corgi',\n",
       "       'Pit Bull/Dalmatian', 'Dachshund Wirehair/Border Terrier',\n",
       "       'Bichon Frise Mix', 'Chow Chow', 'Cane Corso/Mastiff',\n",
       "       'Silky Terrier Mix', 'Bull Terrier/Pit Bull',\n",
       "       'Chihuahua Shorthair/Boston Terrier', 'Maltese/Yorkshire Terrier',\n",
       "       'Australian Cattle Dog/German Shepherd',\n",
       "       'Chihuahua Shorthair/Pekingese', 'Pit Bull/Chihuahua Shorthair',\n",
       "       'Plott Hound', 'Toy Poodle Mix', 'Boxer/Catahoula',\n",
       "       'Labrador Retriever/Greyhound',\n",
       "       'Carolina Dog/Australian Cattle Dog', 'German Shepherd/Mastiff',\n",
       "       'Jack Russell Terrier', 'Labrador Retriever/Catahoula',\n",
       "       'Rat Terrier/Beagle', 'Yorkshire Terrier/Chihuahua Longhair',\n",
       "       'Schipperke/Chihuahua Shorthair', 'Pug/Beagle',\n",
       "       'Yorkshire Terrier/Rat Terrier', 'Pekingese/Chihuahua Shorthair',\n",
       "       'Pointer/American Pit Bull Terrier',\n",
       "       'Cavalier Span/Jack Russell Terrier',\n",
       "       'Labrador Retriever/Golden Retriever',\n",
       "       'Cardigan Welsh Corgi/Miniature Pinscher',\n",
       "       'Siberian Husky/Labrador Retriever', 'Dachshund/Pug',\n",
       "       'Havanese Mix', 'Border Collie/German Shepherd',\n",
       "       'Miniature Schnauzer/Yorkshire Terrier', 'Rottweiler/Pit Bull',\n",
       "       'Jack Russell Terrier/Pit Bull', 'Whippet/Beagle',\n",
       "       'St. Bernard Rough Coat/Standard Schnauzer',\n",
       "       'Chihuahua Shorthair/Border Terrier',\n",
       "       'Labrador Retriever/Collie Rough', 'American Eskimo',\n",
       "       'German Shepherd/Chinese Sharpei', 'Catahoula/Beagle',\n",
       "       'Labrador Retriever/Chesa Bay Retr',\n",
       "       'Treeing Walker Coonhound/Labrador Retriever',\n",
       "       'Chinese Sharpei/Great Dane', 'Beagle/Standard Poodle',\n",
       "       'Chow Chow/Labrador Retriever', 'Canaan Dog/Redbone Hound',\n",
       "       'Pit Bull/English Bulldog', 'Field Spaniel Mix',\n",
       "       'Plott Hound/Blue Lacy', 'Jack Russell Terrier/Cairn Terrier',\n",
       "       'Feist Mix', 'Labrador Retriever/American Pit Bull Terrier',\n",
       "       'Chihuahua Shorthair/Cocker Spaniel', 'Great Pyrenees/Pointer',\n",
       "       'Toy Poodle', 'Chinese Sharpei/Labrador Retriever',\n",
       "       'Australian Kelpie/Pit Bull', 'Keeshond Mix',\n",
       "       'Shetland Sheepdog/Dachshund Longhair', 'Akita/Siberian Husky',\n",
       "       'Australian Shepherd/Boxer', 'American Bulldog/Great Pyrenees',\n",
       "       'St. Bernard Rough Coat/Labrador Retriever',\n",
       "       'Labrador Retriever/Staffordshire',\n",
       "       'Australian Cattle Dog/American Foxhound', 'Cavalier Span Mix',\n",
       "       'Jack Russell Terrier/Papillon', 'Boxer/Great Dane',\n",
       "       'Soft Coated Wheaten Terrier/Yorkshire Terrier', 'Saluki',\n",
       "       'Bulldog Mix', 'Pointer/Australian Cattle Dog',\n",
       "       'German Pinscher/Whippet', 'Bulldog/Pit Bull',\n",
       "       'Mastiff/Chinese Sharpei', 'Treeing Cur Mix',\n",
       "       'Rat Terrier/Queensland Heeler', 'Beagle/Cavalier Span',\n",
       "       'Pharaoh Hound Mix', 'Brittany/Chihuahua Shorthair',\n",
       "       'Australian Kelpie/American Pit Bull Terrier', 'Maltese',\n",
       "       'Boxer/Jack Russell Terrier',\n",
       "       'Yorkshire Terrier/Dachshund Wirehair', 'Cairn Terrier/Shih Tzu',\n",
       "       'Boxer/Boston Terrier', 'Boston Terrier/Pit Bull',\n",
       "       'Labrador Retriever/Black/Tan Hound', 'Border Collie/Catahoula',\n",
       "       'Standard Poodle Mix', 'Mastiff/Rottweiler',\n",
       "       'Norfolk Terrier/Yorkshire Terrier',\n",
       "       'Labrador Retriever/Rhod Ridgeback',\n",
       "       'Australian Cattle Dog/Pointer',\n",
       "       'Border Terrier/Labrador Retriever',\n",
       "       'Anatol Shepherd/Australian Shepherd',\n",
       "       'Manchester Terrier/Dachshund', 'Golden Retriever',\n",
       "       'Boxer/American Bulldog', 'Lhasa Apso/Cocker Spaniel',\n",
       "       'Pekingese/Lhasa Apso', 'Border Collie/Basenji',\n",
       "       'Chihuahua Longhair/Papillon', 'Border Collie/Plott Hound',\n",
       "       'Australian Cattle Dog/Golden Retriever',\n",
       "       'Chow Chow/Golden Retriever', 'Dachshund/Miniature Poodle',\n",
       "       'Boxer/American Pit Bull Terrier',\n",
       "       'Carolina Dog/Labrador Retriever',\n",
       "       'Golden Retriever/Labrador Retriever',\n",
       "       'Australian Cattle Dog/Plott Hound', 'Boerboel Mix',\n",
       "       'Pekingese/Pug', 'American Eskimo Mix',\n",
       "       'Labrador Retriever/Spanish Water Dog', 'Beagle/Pit Bull',\n",
       "       'Bernese Mountain Dog Mix', 'Papillon Mix',\n",
       "       'Australian Cattle Dog/Cardigan Welsh Corgi',\n",
       "       'Chinese Crested/Chihuahua Longhair', 'English Bulldog',\n",
       "       'Glen Of Imaal/Ibizan Hound', 'Anatol Shepherd/Labrador Retriever',\n",
       "       'Scottish Terrier Mix', 'Dachshund Longhair/Cocker Spaniel',\n",
       "       'German Pinscher Mix', 'Shetland Sheepdog/Basenji',\n",
       "       'Anatol Shepherd/Great Pyrenees', 'Dachshund Longhair',\n",
       "       'Samoyed Mix', 'Labrador Retriever/Great Pyrenees',\n",
       "       'Labrador Retriever/Flat Coat Retriever',\n",
       "       'Belgian Tervuren/German Shepherd', 'Standard Schnauzer',\n",
       "       'Labrador Retriever/Plott Hound', 'Picardy Sheepdog Mix',\n",
       "       'American Bulldog/Pit Bull', 'Alaskan Husky Mix',\n",
       "       'Labrador Retriever/Newfoundland', 'Glen Of Imaal Mix',\n",
       "       'Shih Tzu/Cocker Spaniel', 'Great Pyrenees/Pit Bull',\n",
       "       'English Springer Spaniel Mix',\n",
       "       'Cardigan Welsh Corgi/Australian Shepherd',\n",
       "       'Basset Hound/Australian Cattle Dog', 'Pug/Pekingese',\n",
       "       'Skye Terrier Mix', 'Chihuahua Longhair/Pekingese',\n",
       "       'German Shorthair Pointer', 'Jack Russell Terrier/Rat Terrier',\n",
       "       'Boston Terrier/Beagle', 'Bull Terrier',\n",
       "       'Shetland Sheepdog/Chihuahua Longhair', 'Pointer/Harrier',\n",
       "       'Newfoundland/Labrador Retriever', 'Bull Terrier Miniature Mix',\n",
       "       'Akita/Labrador Retriever',\n",
       "       'Dachshund Longhair/Cardigan Welsh Corgi',\n",
       "       'Manchester Terrier/Beagle', 'Chihuahua Longhair/Pug',\n",
       "       'Black/Tan Hound/Labrador Retriever', 'Dalmatian',\n",
       "       'Spanish Mastiff Mix', 'Pit Bull/Mastiff',\n",
       "       'Cocker Spaniel/Dachshund', 'Chihuahua Longhair/Dachshund',\n",
       "       'Pit Bull/Pointer', 'Yorkshire Terrier/Miniature Schnauzer',\n",
       "       'Jack Russell Terrier/Chihuahua Shorthair',\n",
       "       'St. Bernard Rough Coat/Border Collie',\n",
       "       'Black/Tan Hound/German Shepherd',\n",
       "       'Chihuahua Shorthair/Manchester Terrier', 'Black Mouth Cur/Mastiff',\n",
       "       'Welsh Terrier Mix', 'Whippet/Australian Cattle Dog',\n",
       "       'Pit Bull/Bull Terrier', 'Chihuahua Longhair/Cardigan Welsh Corgi',\n",
       "       'Australian Shepherd/Rottweiler', 'Rottweiler/Basset Hound',\n",
       "       'Japanese Chin', 'Border Terrier/Chihuahua Longhair',\n",
       "       'Yorkshire Terrier/Border Terrier', 'Shih Tzu/Affenpinscher',\n",
       "       'Schipperke Mix', 'German Shepherd/Alaskan Malamute',\n",
       "       'Siberian Husky/Beagle', 'Great Dane/Labrador Retriever',\n",
       "       'Staffordshire/Labrador Retriever',\n",
       "       'Cocker Spaniel/Miniature Poodle', 'Belgian Tervuren Mix',\n",
       "       'Rhod Ridgeback/Labrador Retriever', 'English Bulldog/Pit Bull',\n",
       "       'Australian Cattle Dog/Staffordshire',\n",
       "       'Australian Kelpie/Chinese Sharpei', 'Treeing Walker Coonhound Mix',\n",
       "       'Basset Hound/Dachshund', 'Catahoula/Whippet', 'Irish Terrier Mix',\n",
       "       'Chihuahua Shorthair/Pembroke Welsh Corgi', 'Cardigan Welsh Corgi',\n",
       "       'Bluetick Hound', 'Rat Terrier/Jack Russell Terrier',\n",
       "       'Australian Cattle Dog/Jack Russell Terrier',\n",
       "       'Irish Wolfhound/Australian Shepherd',\n",
       "       'Collie Smooth/Labrador Retriever', 'Miniature Schnauzer/Shih Tzu',\n",
       "       'Maltese/Dachshund', 'Irish Wolfhound/Great Pyrenees',\n",
       "       'Australian Cattle Dog/Chow Chow',\n",
       "       'Border Terrier/Chihuahua Shorthair', 'Pharaoh Hound',\n",
       "       'Chihuahua Longhair/Cairn Terrier',\n",
       "       'Miniature Poodle/Yorkshire Terrier',\n",
       "       'Dachshund/Labrador Retriever', 'West Highland', 'Blue Lacy',\n",
       "       'Rat Terrier/Dachshund', 'Dachshund/Cardigan Welsh Corgi',\n",
       "       'German Shepherd/Siberian Husky',\n",
       "       'American Staffordshire Terrier/American Bulldog',\n",
       "       'Labrador Retriever/Harrier', 'Maltese/Shih Tzu',\n",
       "       'Australian Shepherd/Chow Chow', 'Collie Rough/Chinese Sharpei',\n",
       "       'Greater Swiss Mountain Dog Mix',\n",
       "       'Australian Cattle Dog/Bull Terrier', 'Shetland Sheepdog/Brittany',\n",
       "       'Chihuahua Shorthair/Pomeranian',\n",
       "       'Australian Cattle Dog/Border Collie',\n",
       "       'Chihuahua Shorthair/Australian Cattle Dog', 'Bernese Mountain Dog',\n",
       "       'Pomeranian/Chihuahua Shorthair', 'Newfoundland/Great Pyrenees',\n",
       "       'Chow Chow/Chinese Sharpei', 'Saluki Mix',\n",
       "       'Cocker Spaniel/Toy Poodle', 'Great Pyrenees/Australian Shepherd',\n",
       "       'Blue Lacy/Pit Bull', 'Cardigan Welsh Corgi/Cocker Spaniel',\n",
       "       'Welsh Springer Spaniel Mix', 'Japanese Chin Mix',\n",
       "       'English Cocker Spaniel Mix',\n",
       "       'Miniature Poodle/Chihuahua Shorthair', 'Catahoula/Chinese Sharpei',\n",
       "       'American Bulldog/American Staffordshire Terrier',\n",
       "       'Golden Retriever/German Shepherd', 'Boxer/Beagle',\n",
       "       'Pit Bull/Plott Hound', 'Border Collie/Akita',\n",
       "       'Boxer/Miniature Poodle', 'Catahoula', 'Dachshund/Beagle',\n",
       "       'Rat Terrier', 'Vizsla/Boxer', 'Miniature Poodle/Maltese'], dtype=object)"
      ]
     },
     "execution_count": 62,
     "metadata": {},
     "output_type": "execute_result"
    }
   ],
   "source": [
    "train_dogs.Breed.unique()"
   ]
  },
  {
   "cell_type": "markdown",
   "metadata": {},
   "source": [
    "That is a lot of breeds..."
   ]
  },
  {
   "cell_type": "code",
   "execution_count": 63,
   "metadata": {
    "collapsed": false
   },
   "outputs": [
    {
     "data": {
      "text/plain": [
       "626"
      ]
     },
     "execution_count": 63,
     "metadata": {},
     "output_type": "execute_result"
    }
   ],
   "source": [
    "len(train_dogs.Breed.unique())"
   ]
  },
  {
   "cell_type": "code",
   "execution_count": 64,
   "metadata": {
    "collapsed": false
   },
   "outputs": [],
   "source": [
    "# This seems like it could be important, so let's try grouping them together.  We could do this manually, or...\n",
    "\n",
    "from sklearn.feature_extraction.text import CountVectorizer, TfidfTransformer\n",
    "count_vect = CountVectorizer()"
   ]
  },
  {
   "cell_type": "markdown",
   "metadata": {
    "collapsed": true
   },
   "source": [
    "### Document tokenization"
   ]
  },
  {
   "cell_type": "code",
   "execution_count": 67,
   "metadata": {
    "collapsed": true
   },
   "outputs": [],
   "source": [
    "def split_into_lemmas(message):\n",
    "    # transform texts into tokens and preprocess\n",
    "    words = TextBlob(message.replace(\"/\", \" \").lower()).words\n",
    "    # for each word, take its \"base form\" = lemma \n",
    "    return [word.lemma for word in words]"
   ]
  },
  {
   "cell_type": "code",
   "execution_count": 66,
   "metadata": {
    "collapsed": false
   },
   "outputs": [
    {
     "data": {
      "text/plain": [
       "2                           [pit, bull, mix]\n",
       "5     [cairn, terrier, chihuahua, shorthair]\n",
       "12                          [pit, bull, mix]\n",
       "20                 [queensland, heeler, mix]\n",
       "31                [labrador, retriever, mix]\n",
       "Name: Breed, dtype: object"
      ]
     },
     "execution_count": 66,
     "metadata": {},
     "output_type": "execute_result"
    }
   ],
   "source": [
    "train_dogs.Breed.head().apply(split_into_lemmas)"
   ]
  },
  {
   "cell_type": "markdown",
   "metadata": {},
   "source": [
    "Now we create a bag of words transformer based on the full texts in the Breed feature."
   ]
  },
  {
   "cell_type": "code",
   "execution_count": 68,
   "metadata": {
    "collapsed": false
   },
   "outputs": [
    {
     "data": {
      "text/plain": [
       "202"
      ]
     },
     "execution_count": 68,
     "metadata": {},
     "output_type": "execute_result"
    }
   ],
   "source": [
    "bow_transformer = CountVectorizer(analyzer=split_into_lemmas).fit(train_dogs.Breed)\n",
    "len(bow_transformer.vocabulary_)"
   ]
  },
  {
   "cell_type": "markdown",
   "metadata": {},
   "source": [
    "That's a bit more manageable.  Let's try out our transformer."
   ]
  },
  {
   "cell_type": "code",
   "execution_count": 69,
   "metadata": {
    "collapsed": false
   },
   "outputs": [
    {
     "data": {
      "text/plain": [
       "'alaskan'"
      ]
     },
     "execution_count": 69,
     "metadata": {},
     "output_type": "execute_result"
    }
   ],
   "source": [
    "bow_transformer.get_feature_names()[3]"
   ]
  },
  {
   "cell_type": "markdown",
   "metadata": {},
   "source": [
    "So let's take a look at what our matrix looks like.  A key element to the BoW model is that it's a sparse matrix. Each value only references the tokens that comprise it. The rest are (silently) assumed to be 0."
   ]
  },
  {
   "cell_type": "code",
   "execution_count": 70,
   "metadata": {
    "collapsed": false
   },
   "outputs": [
    {
     "name": "stdout",
     "output_type": "stream",
     "text": [
      "sparse matrix shape: (3950, 202)\n",
      "number of non-zeros: 11899\n",
      "sparsity: 1.49%\n"
     ]
    }
   ],
   "source": [
    "breed_bow = bow_transformer.transform(train_dogs.Breed)\n",
    "print( 'sparse matrix shape:', breed_bow.shape)\n",
    "print( 'number of non-zeros:', breed_bow.nnz)\n",
    "print ('sparsity: %.2f%%' % (100.0 * breed_bow.nnz / (breed_bow.shape[0] * breed_bow.shape[1])))"
   ]
  },
  {
   "cell_type": "markdown",
   "metadata": {},
   "source": [
    "Now we can take a document and convert it into its counts."
   ]
  },
  {
   "cell_type": "code",
   "execution_count": 71,
   "metadata": {
    "collapsed": false
   },
   "outputs": [
    {
     "name": "stdout",
     "output_type": "stream",
     "text": [
      "  (0, 33)\t1\n",
      "  (0, 43)\t1\n",
      "  (0, 166)\t1\n",
      "  (0, 183)\t1\n"
     ]
    }
   ],
   "source": [
    "print(breed_bow[1])"
   ]
  },
  {
   "cell_type": "markdown",
   "metadata": {},
   "source": [
    "So now we have our Bag of Words. We'll add it into our dataframe."
   ]
  },
  {
   "cell_type": "code",
   "execution_count": null,
   "metadata": {
    "collapsed": true
   },
   "outputs": [],
   "source": []
  },
  {
   "cell_type": "code",
   "execution_count": null,
   "metadata": {
    "collapsed": false
   },
   "outputs": [],
   "source": []
  },
  {
   "cell_type": "markdown",
   "metadata": {},
   "source": [
    "Next we need to set up a Term-frequency, inverse document frequency transformer. This is a statistical way of determining which words are most important out of a corpus.\n",
    "\n",
    "You can learn more about feature extraction here: http://scikit-learn.org/stable/modules/feature_extraction.html"
   ]
  },
  {
   "cell_type": "code",
   "execution_count": 72,
   "metadata": {
    "collapsed": false
   },
   "outputs": [],
   "source": [
    "# First, we fit the transformer to our BoW\n",
    "\n",
    "tfidf_transformer = TfidfTransformer().fit(breed_bow)"
   ]
  },
  {
   "cell_type": "code",
   "execution_count": 73,
   "metadata": {
    "collapsed": false
   },
   "outputs": [
    {
     "name": "stdout",
     "output_type": "stream",
     "text": [
      "  (0, 166)\t0.677076995403\n",
      "  (0, 114)\t0.321458580066\n",
      "  (0, 43)\t0.661990274549\n"
     ]
    }
   ],
   "source": [
    "# Then we transform it.\n",
    "\n",
    "breed_tfidf = tfidf_transformer.transform(breed_bow)\n",
    "\n",
    "for e in breed_tfidf[5]:\n",
    "    print(e)"
   ]
  },
  {
   "cell_type": "markdown",
   "metadata": {},
   "source": [
    "From here, we can cluster the breed data using several options."
   ]
  },
  {
   "cell_type": "markdown",
   "metadata": {},
   "source": [
    "## KMeans Clustering"
   ]
  },
  {
   "cell_type": "code",
   "execution_count": 82,
   "metadata": {
    "collapsed": false
   },
   "outputs": [],
   "source": [
    "# Select number of clusters for KMeans clustering\n",
    "n_clusters = 4"
   ]
  },
  {
   "cell_type": "code",
   "execution_count": 75,
   "metadata": {
    "collapsed": false
   },
   "outputs": [],
   "source": [
    "# Import and set up our classifier\n",
    "\n",
    "from sklearn.cluster import KMeans\n",
    "\n",
    "km = KMeans(n_clusters=n_clusters, init='k-means++', n_init=1, verbose=1)"
   ]
  },
  {
   "cell_type": "code",
   "execution_count": 76,
   "metadata": {
    "collapsed": false
   },
   "outputs": [
    {
     "name": "stdout",
     "output_type": "stream",
     "text": [
      "Initialization complete\n",
      "Iteration  0, inertia 3931.245\n",
      "Iteration  1, inertia 2650.294\n",
      "Iteration  2, inertia 2581.437\n",
      "Iteration  3, inertia 2543.717\n",
      "Iteration  4, inertia 2542.594\n",
      "Iteration  5, inertia 2540.037\n",
      "Iteration  6, inertia 2540.032\n",
      "Converged at iteration 6\n"
     ]
    }
   ],
   "source": [
    "# Fit the KM classifier on our TFIDF\n",
    "\n",
    "km_breeds = km.fit_predict(breed_tfidf)"
   ]
  },
  {
   "cell_type": "markdown",
   "metadata": {},
   "source": [
    "KMeans stops when it stops making progress on it's clustering.\n",
    "\n",
    "Now we have a working machine learning classifier on which we can predict our feature."
   ]
  },
  {
   "cell_type": "code",
   "execution_count": 77,
   "metadata": {
    "collapsed": false
   },
   "outputs": [
    {
     "data": {
      "text/plain": [
       "array([4], dtype=int32)"
      ]
     },
     "execution_count": 77,
     "metadata": {},
     "output_type": "execute_result"
    }
   ],
   "source": [
    "km.predict(breed_tfidf[4])"
   ]
  },
  {
   "cell_type": "code",
   "execution_count": 78,
   "metadata": {
    "collapsed": false
   },
   "outputs": [],
   "source": [
    "# Visualizing the K-Means clusters via TSNE\n",
    "# t-distributed Stochastic Neighbor Embedding.\n",
    "\n",
    "from sklearn.manifold import TSNE"
   ]
  },
  {
   "cell_type": "markdown",
   "metadata": {
    "collapsed": false
   },
   "source": [
    "http://scikit-learn.org/stable/modules/generated/sklearn.manifold.TSNE.html"
   ]
  },
  {
   "cell_type": "code",
   "execution_count": 79,
   "metadata": {
    "collapsed": false
   },
   "outputs": [],
   "source": [
    "# First we use the TruncatedSVD to perform linear dimensionality reduction (truncated singular value decomposition (SVD)).\n",
    "\n",
    "from sklearn.decomposition import TruncatedSVD\n",
    "\n",
    "X_reduced = TruncatedSVD(n_components=50, random_state=0).fit_transform(breed_tfidf)"
   ]
  },
  {
   "cell_type": "code",
   "execution_count": 80,
   "metadata": {
    "collapsed": false
   },
   "outputs": [
    {
     "name": "stdout",
     "output_type": "stream",
     "text": [
      "[t-SNE] Computing pairwise distances...\n",
      "[t-SNE] Computing 121 nearest neighbors...\n",
      "[t-SNE] Computed conditional probabilities for sample 1000 / 3950\n",
      "[t-SNE] Computed conditional probabilities for sample 2000 / 3950\n",
      "[t-SNE] Computed conditional probabilities for sample 3000 / 3950\n",
      "[t-SNE] Computed conditional probabilities for sample 3950 / 3950\n",
      "[t-SNE] Mean sigma: 0.000000\n",
      "[t-SNE] Iteration 25: error = 1.2105993, gradient norm = 0.0122084\n",
      "[t-SNE] Iteration 50: error = 1.0931351, gradient norm = 0.0099281\n",
      "[t-SNE] Iteration 75: error = 0.6947969, gradient norm = 0.0070825\n",
      "[t-SNE] Iteration 100: error = 0.5945524, gradient norm = 0.0090919\n",
      "[t-SNE] Error after 100 iterations with early exaggeration: 0.594552\n",
      "[t-SNE] Iteration 125: error = 0.4638849, gradient norm = 0.0089685\n",
      "[t-SNE] Iteration 150: error = 0.4285705, gradient norm = 0.0066671\n",
      "[t-SNE] Iteration 175: error = 0.4228847, gradient norm = 0.0059922\n",
      "[t-SNE] Iteration 200: error = 0.4202387, gradient norm = 0.0066932\n",
      "[t-SNE] Iteration 225: error = 0.4302043, gradient norm = 0.0049200\n",
      "[t-SNE] Iteration 250: error = 0.4180843, gradient norm = 0.0058820\n",
      "[t-SNE] Iteration 275: error = 0.4294958, gradient norm = 0.0051483\n",
      "[t-SNE] Iteration 300: error = 0.4285212, gradient norm = 0.0068592\n",
      "[t-SNE] Iteration 300: did not make any progress during the last 30 episodes. Finished.\n",
      "[t-SNE] Error after 300 iterations: 0.428521\n"
     ]
    }
   ],
   "source": [
    "X_embedded = TSNE(n_components=2, perplexity=40, verbose=2).fit_transform(X_reduced)\n"
   ]
  },
  {
   "cell_type": "code",
   "execution_count": 83,
   "metadata": {
    "collapsed": false
   },
   "outputs": [
    {
     "data": {
      "text/plain": [
       "<matplotlib.collections.PathCollection at 0x10a4dea20>"
      ]
     },
     "execution_count": 83,
     "metadata": {},
     "output_type": "execute_result"
    },
    {
     "data": {
      "image/png": "[encoded data removed]",
      "text/plain": [
       "<matplotlib.figure.Figure at 0x10efe6e10>"
      ]
     },
     "metadata": {},
     "output_type": "display_data"
    }
   ],
   "source": [
    "fig = plt.figure(figsize=(10, 10))\n",
    "ax = plt.axes(frameon=False)\n",
    "plt.setp(ax, xticks=(), yticks=())\n",
    "plt.subplots_adjust(left=0.0, bottom=0.0, right=1.0, top=0.9,\n",
    "                wspace=0.0, hspace=0.0)\n",
    "plt.scatter(X_embedded[:, 0], X_embedded[:, 1],\n",
    "            c=km.labels_, marker=\"x\")"
   ]
  },
  {
   "cell_type": "markdown",
   "metadata": {
    "collapsed": true
   },
   "source": [
    "From the plot, we can see there are three strong clusters and several weak clusters. We set up our KMeans classifier with 5, which seems to be about right, so we'll stick with this and add it to our dataframe."
   ]
  },
  {
   "cell_type": "code",
   "execution_count": 84,
   "metadata": {
    "collapsed": true
   },
   "outputs": [],
   "source": [
    "train_dogs['BreedKMeans'] = km_breeds"
   ]
  },
  {
   "cell_type": "code",
   "execution_count": 85,
   "metadata": {
    "collapsed": false
   },
   "outputs": [
    {
     "data": {
      "text/html": [
       "<div>\n",
       "<table border=\"1\" class=\"dataframe\">\n",
       "  <thead>\n",
       "    <tr style=\"text-align: right;\">\n",
       "      <th></th>\n",
       "      <th>AnimalID</th>\n",
       "      <th>Name</th>\n",
       "      <th>DateTime</th>\n",
       "      <th>OutcomeType</th>\n",
       "      <th>OutcomeSubtype</th>\n",
       "      <th>AnimalType</th>\n",
       "      <th>SexuponOutcome</th>\n",
       "      <th>AgeuponOutcome</th>\n",
       "      <th>Breed</th>\n",
       "      <th>Color</th>\n",
       "      <th>NameLength</th>\n",
       "      <th>BreedKMeans</th>\n",
       "    </tr>\n",
       "  </thead>\n",
       "  <tbody>\n",
       "    <tr>\n",
       "      <th>2</th>\n",
       "      <td>A686464</td>\n",
       "      <td>Pearce</td>\n",
       "      <td>2015-01-31 12:28:00</td>\n",
       "      <td>Adoption</td>\n",
       "      <td>Foster</td>\n",
       "      <td>Dog</td>\n",
       "      <td>0</td>\n",
       "      <td>2</td>\n",
       "      <td>Pit Bull Mix</td>\n",
       "      <td>0</td>\n",
       "      <td>6</td>\n",
       "      <td>0</td>\n",
       "    </tr>\n",
       "    <tr>\n",
       "      <th>5</th>\n",
       "      <td>A677334</td>\n",
       "      <td>Elsa</td>\n",
       "      <td>2014-04-25 13:04:00</td>\n",
       "      <td>Transfer</td>\n",
       "      <td>Partner</td>\n",
       "      <td>Dog</td>\n",
       "      <td>1</td>\n",
       "      <td>0</td>\n",
       "      <td>Cairn Terrier/Chihuahua Shorthair</td>\n",
       "      <td>1</td>\n",
       "      <td>4</td>\n",
       "      <td>1</td>\n",
       "    </tr>\n",
       "    <tr>\n",
       "      <th>12</th>\n",
       "      <td>A684601</td>\n",
       "      <td>Rocket</td>\n",
       "      <td>2016-02-03 11:27:00</td>\n",
       "      <td>Adoption</td>\n",
       "      <td>Foster</td>\n",
       "      <td>Dog</td>\n",
       "      <td>0</td>\n",
       "      <td>2</td>\n",
       "      <td>Pit Bull Mix</td>\n",
       "      <td>2</td>\n",
       "      <td>6</td>\n",
       "      <td>0</td>\n",
       "    </tr>\n",
       "    <tr>\n",
       "      <th>20</th>\n",
       "      <td>A670658</td>\n",
       "      <td>Anders</td>\n",
       "      <td>2014-01-19 15:03:00</td>\n",
       "      <td>Transfer</td>\n",
       "      <td>Partner</td>\n",
       "      <td>Dog</td>\n",
       "      <td>2</td>\n",
       "      <td>0</td>\n",
       "      <td>Queensland Heeler Mix</td>\n",
       "      <td>1</td>\n",
       "      <td>6</td>\n",
       "      <td>0</td>\n",
       "    </tr>\n",
       "    <tr>\n",
       "      <th>31</th>\n",
       "      <td>A707341</td>\n",
       "      <td>Murphy</td>\n",
       "      <td>2015-07-15 15:25:00</td>\n",
       "      <td>Transfer</td>\n",
       "      <td>Partner</td>\n",
       "      <td>Dog</td>\n",
       "      <td>2</td>\n",
       "      <td>0</td>\n",
       "      <td>Labrador Retriever Mix</td>\n",
       "      <td>1</td>\n",
       "      <td>6</td>\n",
       "      <td>4</td>\n",
       "    </tr>\n",
       "  </tbody>\n",
       "</table>\n",
       "</div>"
      ],
      "text/plain": [
       "   AnimalID    Name             DateTime OutcomeType OutcomeSubtype  \\\n",
       "2   A686464  Pearce  2015-01-31 12:28:00    Adoption         Foster   \n",
       "5   A677334    Elsa  2014-04-25 13:04:00    Transfer        Partner   \n",
       "12  A684601  Rocket  2016-02-03 11:27:00    Adoption         Foster   \n",
       "20  A670658  Anders  2014-01-19 15:03:00    Transfer        Partner   \n",
       "31  A707341  Murphy  2015-07-15 15:25:00    Transfer        Partner   \n",
       "\n",
       "   AnimalType  SexuponOutcome  AgeuponOutcome  \\\n",
       "2         Dog               0               2   \n",
       "5         Dog               1               0   \n",
       "12        Dog               0               2   \n",
       "20        Dog               2               0   \n",
       "31        Dog               2               0   \n",
       "\n",
       "                                Breed  Color  NameLength  BreedKMeans  \n",
       "2                        Pit Bull Mix      0           6            0  \n",
       "5   Cairn Terrier/Chihuahua Shorthair      1           4            1  \n",
       "12                       Pit Bull Mix      2           6            0  \n",
       "20              Queensland Heeler Mix      1           6            0  \n",
       "31             Labrador Retriever Mix      1           6            4  "
      ]
     },
     "execution_count": 85,
     "metadata": {},
     "output_type": "execute_result"
    }
   ],
   "source": [
    "train_dogs.head()"
   ]
  },
  {
   "cell_type": "code",
   "execution_count": 86,
   "metadata": {
    "collapsed": false
   },
   "outputs": [
    {
     "data": {
      "text/plain": [
       "Index(['AnimalID', 'Name', 'DateTime', 'OutcomeType', 'OutcomeSubtype',\n",
       "       'AnimalType', 'SexuponOutcome', 'AgeuponOutcome', 'Breed', 'Color',\n",
       "       'NameLength', 'BreedKMeans'],\n",
       "      dtype='object')"
      ]
     },
     "execution_count": 86,
     "metadata": {},
     "output_type": "execute_result"
    }
   ],
   "source": [
    "train_dogs.columns"
   ]
  },
  {
   "cell_type": "code",
   "execution_count": null,
   "metadata": {
    "collapsed": false
   },
   "outputs": [],
   "source": []
  },
  {
   "cell_type": "code",
   "execution_count": 91,
   "metadata": {
    "collapsed": false
   },
   "outputs": [
    {
     "data": {
      "text/plain": [
       "OutcomeType        object\n",
       "SexuponOutcome    float64\n",
       "AgeuponOutcome      int64\n",
       "Color               int64\n",
       "NameLength          int64\n",
       "BreedKMeans         int32\n",
       "dtype: object"
      ]
     },
     "execution_count": 91,
     "metadata": {},
     "output_type": "execute_result"
    }
   ],
   "source": [
    "# Work out a test_train_split to see how we do\n",
    "X = train_dogs.drop(['AnimalID', 'Name', 'DateTime', 'AnimalType',\n",
    "                     'OutcomeSubtype', 'Breed'], axis=1)\n",
    "X.dtypes"
   ]
  },
  {
   "cell_type": "code",
   "execution_count": 92,
   "metadata": {
    "collapsed": false
   },
   "outputs": [
    {
     "data": {
      "text/plain": [
       "Index(['OutcomeType', 'SexuponOutcome', 'AgeuponOutcome', 'Color',\n",
       "       'NameLength', 'BreedKMeans'],\n",
       "      dtype='object')"
      ]
     },
     "execution_count": 92,
     "metadata": {},
     "output_type": "execute_result"
    }
   ],
   "source": [
    "X.columns"
   ]
  },
  {
   "cell_type": "code",
   "execution_count": 93,
   "metadata": {
    "collapsed": false
   },
   "outputs": [
    {
     "data": {
      "text/html": [
       "<div>\n",
       "<table border=\"1\" class=\"dataframe\">\n",
       "  <thead>\n",
       "    <tr style=\"text-align: right;\">\n",
       "      <th></th>\n",
       "      <th>OutcomeType</th>\n",
       "      <th>SexuponOutcome</th>\n",
       "      <th>AgeuponOutcome</th>\n",
       "      <th>Color</th>\n",
       "      <th>NameLength</th>\n",
       "      <th>BreedKMeans</th>\n",
       "    </tr>\n",
       "  </thead>\n",
       "  <tbody>\n",
       "    <tr>\n",
       "      <th>2</th>\n",
       "      <td>Adoption</td>\n",
       "      <td>0</td>\n",
       "      <td>2</td>\n",
       "      <td>0</td>\n",
       "      <td>6</td>\n",
       "      <td>0</td>\n",
       "    </tr>\n",
       "  </tbody>\n",
       "</table>\n",
       "</div>"
      ],
      "text/plain": [
       "  OutcomeType  SexuponOutcome  AgeuponOutcome  Color  NameLength  BreedKMeans\n",
       "2    Adoption               0               2      0           6            0"
      ]
     },
     "execution_count": 93,
     "metadata": {},
     "output_type": "execute_result"
    }
   ],
   "source": [
    "X.head(1)"
   ]
  },
  {
   "cell_type": "code",
   "execution_count": 135,
   "metadata": {
    "collapsed": false
   },
   "outputs": [],
   "source": [
    "X.to_csv(os.path.join(data_dir, \"prepared_dogs_df.csv\"))"
   ]
  },
  {
   "cell_type": "markdown",
   "metadata": {
    "collapsed": true
   },
   "source": [
    "### Frome here, go to the Random Forest Classifier to try out your machine learning model."
   ]
  }
 ],
 "metadata": {
  "kernelspec": {
   "display_name": "Python 3",
   "language": "python",
   "name": "python3"
  },
  "language_info": {
   "codemirror_mode": {
    "name": "ipython",
    "version": 3
   },
   "file_extension": ".py",
   "mimetype": "text/x-python",
   "name": "python",
   "nbconvert_exporter": "python",
   "pygments_lexer": "ipython3",
   "version": "3.4.2"
  }
 },
 "nbformat": 4,
 "nbformat_minor": 0
}
